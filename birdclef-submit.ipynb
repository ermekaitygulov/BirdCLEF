{
 "cells": [
  {
   "cell_type": "code",
   "execution_count": 1,
   "id": "7f1c31c5",
   "metadata": {
    "_cell_guid": "b1076dfc-b9ad-4769-8c92-a6c4dae69d19",
    "_uuid": "8f2839f25d086af736a60e9eeb907d3b93b6e0e5",
    "execution": {
     "iopub.execute_input": "2022-05-24T16:55:49.063465Z",
     "iopub.status.busy": "2022-05-24T16:55:49.062327Z",
     "iopub.status.idle": "2022-05-24T16:55:57.258810Z",
     "shell.execute_reply": "2022-05-24T16:55:57.257957Z",
     "shell.execute_reply.started": "2022-05-24T16:51:26.020889Z"
    },
    "papermill": {
     "duration": 8.26344,
     "end_time": "2022-05-24T16:55:57.259003",
     "exception": false,
     "start_time": "2022-05-24T16:55:48.995563",
     "status": "completed"
    },
    "tags": []
   },
   "outputs": [],
   "source": [
    "import sys\n",
    "sys.path.append('../input/timm-pytorch-image-models/pytorch-image-models-master')\n",
    "sys.path.append('../input/birdclefmodels/')\n",
    "\n",
    "import numpy as np # linear algebra\n",
    "import pandas as pd # data processing, CSV file I/O (e.g. pd.read_csv)\n",
    "import librosa\n",
    "\n",
    "from matplotlib import pyplot as plt\n",
    "import json\n",
    "import random\n",
    "from tqdm import tqdm\n",
    "import os\n",
    "import yaml\n",
    "\n",
    "import albumentations as A\n",
    "from albumentations.pytorch import ToTensorV2\n",
    "\n",
    "import torch\n",
    "from torch import nn\n",
    "import torchaudio as ta\n",
    "import timm\n",
    "from torch.utils.data import Dataset, DataLoader\n",
    "\n",
    "import neural_network"
   ]
  },
  {
   "cell_type": "code",
   "execution_count": 2,
   "id": "7b375896",
   "metadata": {
    "execution": {
     "iopub.execute_input": "2022-05-24T16:55:57.322838Z",
     "iopub.status.busy": "2022-05-24T16:55:57.321751Z",
     "iopub.status.idle": "2022-05-24T16:55:57.502290Z",
     "shell.execute_reply": "2022-05-24T16:55:57.501388Z",
     "shell.execute_reply.started": "2022-05-24T16:51:32.608173Z"
    },
    "papermill": {
     "duration": 0.21064,
     "end_time": "2022-05-24T16:55:57.502440",
     "exception": false,
     "start_time": "2022-05-24T16:55:57.291800",
     "status": "completed"
    },
    "tags": []
   },
   "outputs": [],
   "source": [
    "data_root = '/kaggle/input/birdclef-2022'\n",
    "train_meta = pd.read_csv('../input/birdclef-data-with-wav-durations/train_metadata_extended.csv')\n",
    "ebird_taxonomy = pd.read_csv(os.path.join(data_root, 'eBird_Taxonomy_v2021.csv'))"
   ]
  },
  {
   "cell_type": "code",
   "execution_count": 3,
   "id": "079c37b1",
   "metadata": {
    "execution": {
     "iopub.execute_input": "2022-05-24T16:55:57.567418Z",
     "iopub.status.busy": "2022-05-24T16:55:57.566304Z",
     "iopub.status.idle": "2022-05-24T16:55:57.651765Z",
     "shell.execute_reply": "2022-05-24T16:55:57.651189Z",
     "shell.execute_reply.started": "2022-05-24T16:51:32.795408Z"
    },
    "papermill": {
     "duration": 0.122028,
     "end_time": "2022-05-24T16:55:57.651972",
     "exception": false,
     "start_time": "2022-05-24T16:55:57.529944",
     "status": "completed"
    },
    "tags": []
   },
   "outputs": [],
   "source": [
    "train_meta.loc[:, 'secondary_labels'] = train_meta.secondary_labels.apply(eval)\n",
    "train_meta['target_raw'] = train_meta.secondary_labels + train_meta.primary_label.apply(lambda x: [x])"
   ]
  },
  {
   "cell_type": "code",
   "execution_count": 4,
   "id": "a99cd567",
   "metadata": {
    "execution": {
     "iopub.execute_input": "2022-05-24T16:55:58.255155Z",
     "iopub.status.busy": "2022-05-24T16:55:58.250267Z",
     "iopub.status.idle": "2022-05-24T16:55:58.690183Z",
     "shell.execute_reply": "2022-05-24T16:55:58.689614Z",
     "shell.execute_reply.started": "2022-05-24T16:51:32.887362Z"
    },
    "papermill": {
     "duration": 1.011132,
     "end_time": "2022-05-24T16:55:58.690436",
     "exception": false,
     "start_time": "2022-05-24T16:55:57.679304",
     "status": "completed"
    },
    "tags": []
   },
   "outputs": [],
   "source": [
    "all_species = sorted(set(train_meta.target_raw.sum()))\n",
    "species2id = {s: i for i, s in enumerate(all_species)}\n",
    "id2species = {i: s for i, s in enumerate(all_species)}\n",
    "\n",
    "train_meta['target'] = train_meta.target_raw.apply(lambda species: [int(s in species) for s in all_species])"
   ]
  },
  {
   "cell_type": "code",
   "execution_count": 5,
   "id": "f33419ca",
   "metadata": {
    "execution": {
     "iopub.execute_input": "2022-05-24T16:55:58.752573Z",
     "iopub.status.busy": "2022-05-24T16:55:58.751409Z",
     "iopub.status.idle": "2022-05-24T16:55:58.754643Z",
     "shell.execute_reply": "2022-05-24T16:55:58.754110Z",
     "shell.execute_reply.started": "2022-05-24T16:51:33.642755Z"
    },
    "papermill": {
     "duration": 0.036334,
     "end_time": "2022-05-24T16:55:58.754781",
     "exception": false,
     "start_time": "2022-05-24T16:55:58.718447",
     "status": "completed"
    },
    "tags": []
   },
   "outputs": [],
   "source": [
    "def load_wav(fname, offset, duration):\n",
    "#     fname = 'afrsil1/XC125458.ogg'\n",
    "    fpath = os.path.join(data_root, 'train_audio', fname)\n",
    "    wav, sr = librosa.load(fpath, sr=None, duration=duration)\n",
    "    assert sr <= 32000, sr\n",
    "    return wav, sr"
   ]
  },
  {
   "cell_type": "markdown",
   "id": "ede7288f",
   "metadata": {
    "papermill": {
     "duration": 0.02785,
     "end_time": "2022-05-24T16:55:58.809766",
     "exception": false,
     "start_time": "2022-05-24T16:55:58.781916",
     "status": "completed"
    },
    "tags": []
   },
   "source": [
    "### No call"
   ]
  },
  {
   "cell_type": "code",
   "execution_count": 6,
   "id": "005cd76a",
   "metadata": {
    "execution": {
     "iopub.execute_input": "2022-05-24T16:55:58.883967Z",
     "iopub.status.busy": "2022-05-24T16:55:58.882772Z",
     "iopub.status.idle": "2022-05-24T16:55:58.904060Z",
     "shell.execute_reply": "2022-05-24T16:55:58.903502Z",
     "shell.execute_reply.started": "2022-05-24T16:51:33.650834Z"
    },
    "papermill": {
     "duration": 0.067887,
     "end_time": "2022-05-24T16:55:58.904197",
     "exception": false,
     "start_time": "2022-05-24T16:55:58.836310",
     "status": "completed"
    },
    "tags": []
   },
   "outputs": [],
   "source": [
    "class MelSpecComputer:\n",
    "    def __init__(self, sr, n_mels, fmin, fmax, **kwargs):\n",
    "        self.sr = sr\n",
    "        self.n_mels = n_mels\n",
    "        self.fmin = fmin\n",
    "        self.fmax = fmax\n",
    "        kwargs[\"n_fft\"] = kwargs.get(\"n_fft\", self.sr//10)\n",
    "        kwargs[\"hop_length\"] = kwargs.get(\"hop_length\", self.sr//(10*4))\n",
    "        self.kwargs = kwargs\n",
    "\n",
    "    def __call__(self, y):\n",
    "\n",
    "        melspec = librosa.feature.melspectrogram(\n",
    "            y=y, sr=self.sr, n_mels=self.n_mels, fmin=self.fmin, fmax=self.fmax, **self.kwargs,\n",
    "        )\n",
    "\n",
    "        melspec = librosa.power_to_db(melspec).astype(np.float32)\n",
    "        return melspec\n",
    "    \n",
    "    \n",
    "def mono_to_color(X, eps=1e-6, mean=None, std=None):\n",
    "    mean = mean or X.mean()\n",
    "    std = std or X.std()\n",
    "    X = (X - mean) / (std + eps)\n",
    "    \n",
    "    _min, _max = X.min(), X.max()\n",
    "\n",
    "    if (_max - _min) > eps:\n",
    "        V = np.clip(X, _min, _max)\n",
    "        V = 255 * (V - _min) / (_max - _min)\n",
    "        V = V.astype(np.uint8)\n",
    "    else:\n",
    "        V = np.zeros_like(X, dtype=np.uint8)\n",
    "\n",
    "    return V\n",
    "\n",
    "def crop_or_pad(y, length):\n",
    "    if len(y) < length:\n",
    "        y = np.concatenate([y, np.zeros(length - len(y))])        \n",
    "    elif len(y) > length:\n",
    "        y = y[:length]\n",
    "    return y\n",
    "\n",
    "\n",
    "class NoCallDataset(Dataset):\n",
    "    def __init__(self, test_folder):\n",
    "        super().__init__()\n",
    "        self.test_folder = test_folder\n",
    "        self.fnames = [f for f in os.listdir(test_folder) if f.endswith('.ogg')]\n",
    "        self.mel_spectrogram = MelSpecComputer(\n",
    "            sr=32000,\n",
    "            n_mels=128,\n",
    "            fmin=0,\n",
    "            fmax=16000\n",
    "        )\n",
    "        self.augmentations = A.Compose([\n",
    "            A.Resize(128, 281),\n",
    "            A.Normalize(\n",
    "                mean=[0.485, 0.456, 0.406],\n",
    "                std=[0.229, 0.224, 0.225],\n",
    "            ),\n",
    "            ToTensorV2(),\n",
    "        ])\n",
    "        \n",
    "    def audio2image(self, wav):\n",
    "        melspec = self.mel_spectrogram(wav) \n",
    "        image = mono_to_color(melspec)\n",
    "        image = np.stack((image,)*3, -1)\n",
    "        image = self.augmentations(image=image)['image']\n",
    "        return image\n",
    "        \n",
    "    def __len__(self):\n",
    "        return len(self.fnames)\n",
    "    \n",
    "    def __getitem__(self, idx):\n",
    "        fpath = os.path.join(self.test_folder, self.fnames[idx])\n",
    "        wav, sr = load_wav(fpath, 0, None)\n",
    "        wav = wav[:sr * 60]\n",
    "        spectrograms = []\n",
    "        crop_size = 5 * sr\n",
    "        model_crop_size = 10 * sr\n",
    "        for left in range(0, 60, 5):\n",
    "            left = left * sr\n",
    "            right = left + crop_size\n",
    "            left = max(left - crop_size, 0)\n",
    "            crop = wav[left:right]\n",
    "#             print(crop.shape)\n",
    "            crop = crop_or_pad(crop, model_crop_size)\n",
    "            spectrograms.append(self.audio2image(crop))\n",
    "        spectrograms = torch.stack(spectrograms) \n",
    "        return spectrograms\n",
    "    \n",
    "    \n",
    "class CustomResNext(nn.Module):\n",
    "    def __init__(self, model_name='resnext50_32x4d'):\n",
    "        super().__init__()\n",
    "        self.model = timm.create_model(model_name, pretrained=False)\n",
    "        n_features = self.model.fc.in_features\n",
    "        self.model.fc = nn.Linear(n_features, 2)\n",
    "\n",
    "    def forward(self, x):\n",
    "        x = self.model(x)\n",
    "        return x\n",
    "    \n"
   ]
  },
  {
   "cell_type": "code",
   "execution_count": 7,
   "id": "2361643f",
   "metadata": {
    "execution": {
     "iopub.execute_input": "2022-05-24T16:55:59.136389Z",
     "iopub.status.busy": "2022-05-24T16:55:59.135587Z",
     "iopub.status.idle": "2022-05-24T16:56:05.317290Z",
     "shell.execute_reply": "2022-05-24T16:56:05.316672Z",
     "shell.execute_reply.started": "2022-05-24T16:51:33.681182Z"
    },
    "papermill": {
     "duration": 6.386268,
     "end_time": "2022-05-24T16:56:05.317435",
     "exception": false,
     "start_time": "2022-05-24T16:55:58.931167",
     "status": "completed"
    },
    "tags": []
   },
   "outputs": [],
   "source": [
    "device = torch.device('cuda' if torch.cuda.is_available() else 'cpu')\n",
    "\n",
    "nocall_model = CustomResNext()\n",
    "nocall_model.to(device)\n",
    "\n",
    "state_dict = torch.load('../input/nocall-classifier/resnext50_32x4d_best.pth', map_location=device)\n",
    "nocall_model.load_state_dict(state_dict['model'])\n",
    "\n",
    "nocall_dataset = NoCallDataset(os.path.join(data_root, 'test_soundscapes'))\n",
    "nocall_dataloader = DataLoader(\n",
    "    nocall_dataset,\n",
    "    batch_size=1,\n",
    "    shuffle=False,\n",
    "    num_workers=2,\n",
    "    drop_last=False,   \n",
    ")"
   ]
  },
  {
   "cell_type": "code",
   "execution_count": 8,
   "id": "51a4d20c",
   "metadata": {
    "execution": {
     "iopub.execute_input": "2022-05-24T16:56:05.381580Z",
     "iopub.status.busy": "2022-05-24T16:56:05.380970Z",
     "iopub.status.idle": "2022-05-24T16:56:13.068512Z",
     "shell.execute_reply": "2022-05-24T16:56:13.067681Z",
     "shell.execute_reply.started": "2022-05-24T16:51:38.710476Z"
    },
    "papermill": {
     "duration": 7.723369,
     "end_time": "2022-05-24T16:56:13.068666",
     "exception": false,
     "start_time": "2022-05-24T16:56:05.345297",
     "status": "completed"
    },
    "tags": []
   },
   "outputs": [
    {
     "name": "stderr",
     "output_type": "stream",
     "text": [
      "1it [00:07,  7.61s/it]\n"
     ]
    }
   ],
   "source": [
    "nocall_list = []\n",
    "part_count = 12\n",
    "nocall_model.eval()\n",
    "\n",
    "with torch.no_grad():\n",
    "    for i, batch in tqdm(enumerate(nocall_dataloader)):\n",
    "        batch = batch[0]\n",
    "        pred = nocall_model(batch.to(device))\n",
    "        pred = torch.softmax(pred, dim=1)\n",
    "        pred = pred.cpu().numpy()[:, 0] < 0.9\n",
    "        \n",
    "        for j, chunk_pred in enumerate(pred):\n",
    "            fname = nocall_dataset.fnames[i]\n",
    "            prefix = fname.split('.')[0]\n",
    "            \n",
    "            nocall_list.append({\n",
    "                'fname': fname,\n",
    "                'r_sec': 5 * (j + 1),\n",
    "                'iscall': chunk_pred\n",
    "            })\n",
    "nocall_pd = pd.DataFrame(nocall_list)"
   ]
  },
  {
   "cell_type": "markdown",
   "id": "1c97cc94",
   "metadata": {
    "papermill": {
     "duration": 0.028624,
     "end_time": "2022-05-24T16:56:13.126730",
     "exception": false,
     "start_time": "2022-05-24T16:56:13.098106",
     "status": "completed"
    },
    "tags": []
   },
   "source": [
    "### Model load"
   ]
  },
  {
   "cell_type": "code",
   "execution_count": 9,
   "id": "f4c0c628",
   "metadata": {
    "execution": {
     "iopub.execute_input": "2022-05-24T16:56:13.186276Z",
     "iopub.status.busy": "2022-05-24T16:56:13.185216Z",
     "iopub.status.idle": "2022-05-24T16:56:13.196111Z",
     "shell.execute_reply": "2022-05-24T16:56:13.195573Z",
     "shell.execute_reply.started": "2022-05-24T16:51:45.444159Z"
    },
    "papermill": {
     "duration": 0.041988,
     "end_time": "2022-05-24T16:56:13.196289",
     "exception": false,
     "start_time": "2022-05-24T16:56:13.154301",
     "status": "completed"
    },
    "tags": []
   },
   "outputs": [],
   "source": [
    "device = torch.device('cuda' if torch.cuda.is_available() else 'cpu')\n",
    "\n",
    "def init_model(config_fname, model_fname, model_root):\n",
    "    config_path = os.path.join(model_root, config_fname)\n",
    "    model_path = os.path.join(model_root, model_fname)\n",
    "    \n",
    "    with open(config_path) as fin:\n",
    "        config = yaml.safe_load(fin)\n",
    "\n",
    "    model_config = config['model']\n",
    "    if 'backbone_config' in model_config['params']:\n",
    "        model_config['params']['backbone_config']['pretrained'] = False\n",
    "    else:\n",
    "        model_config['params']['backbone_config'] = {'pretrained': False}\n",
    "    if 'model_name' in model_config['params']['backbone_config']:\n",
    "        model_config['params']['backbone_config'].pop('model_name')\n",
    "        \n",
    "    data_config = config['data']\n",
    "    model_class = NN_CATALOG[model_config['name']]\n",
    "\n",
    "    model = model_class(len(all_species), int(data_config['crop_len'] // data_config['test_wav_len']),\n",
    "                        **model_config['params'])\n",
    "    model.to(device)\n",
    "\n",
    "    state_dict = torch.load(model_path, map_location=device)\n",
    "    model.load_state_dict(state_dict)\n",
    "    return model\n"
   ]
  },
  {
   "cell_type": "code",
   "execution_count": 10,
   "id": "c40e7290",
   "metadata": {
    "execution": {
     "iopub.execute_input": "2022-05-24T16:56:13.260111Z",
     "iopub.status.busy": "2022-05-24T16:56:13.259144Z",
     "iopub.status.idle": "2022-05-24T16:56:15.409840Z",
     "shell.execute_reply": "2022-05-24T16:56:15.410414Z",
     "shell.execute_reply.started": "2022-05-24T16:51:45.464998Z"
    },
    "papermill": {
     "duration": 2.185645,
     "end_time": "2022-05-24T16:56:15.410600",
     "exception": false,
     "start_time": "2022-05-24T16:56:13.224955",
     "status": "completed"
    },
    "tags": []
   },
   "outputs": [],
   "source": [
    "from neural_network import NN_CATALOG\n",
    "\n",
    "\n",
    "ckpt_root = '../input/birdclefsubmit'\n",
    "baseline_path = ('baseline/baseline_config.yaml', 'baseline/final-model.pt')\n",
    "all_data_path = [\n",
    "    ('all_data_train/baseline_config.yaml', f'all_data_train/final-model.pt'),\n",
    "    ('all_data_train/baseline_config.yaml', f'all_data_train/main_stage-4-model.pt'),\n",
    "]\n",
    "att_focal_path = [('att_focal/baseline_config.yaml', f'att_focal/main_stage-{i}-model.pt') for i in range(8, 11)]\n",
    "path_list = [\n",
    "    baseline_path,\n",
    "    *all_data_path,\n",
    "#     *att_focal_path,\n",
    "]\n",
    "\n",
    "models = [init_model(*p, ckpt_root) for p in path_list]\n",
    "weights = None\n"
   ]
  },
  {
   "cell_type": "code",
   "execution_count": 11,
   "id": "6763b007",
   "metadata": {
    "execution": {
     "iopub.execute_input": "2022-05-24T16:56:15.476457Z",
     "iopub.status.busy": "2022-05-24T16:56:15.475572Z",
     "iopub.status.idle": "2022-05-24T16:56:15.479150Z",
     "shell.execute_reply": "2022-05-24T16:56:15.478541Z",
     "shell.execute_reply.started": "2022-05-24T16:51:47.840750Z"
    },
    "papermill": {
     "duration": 0.039403,
     "end_time": "2022-05-24T16:56:15.479350",
     "exception": false,
     "start_time": "2022-05-24T16:56:15.439947",
     "status": "completed"
    },
    "tags": []
   },
   "outputs": [],
   "source": [
    "class Blending(nn.Module):\n",
    "    def __init__(self, models, weights):\n",
    "        super().__init__()\n",
    "        for m in models:\n",
    "            m.eval()\n",
    "        self.models = models\n",
    "        self.weights = weights or [1 / len(models) for _ in models]\n",
    "        \n",
    "    def forward(self, wav_tensor):\n",
    "        pred = [m(wav_tensor)['logits'] for m in self.models]\n",
    "        pred = sum(p * w for p, w in zip(pred, self.weights))\n",
    "        return pred"
   ]
  },
  {
   "cell_type": "code",
   "execution_count": 12,
   "id": "d705c18f",
   "metadata": {
    "execution": {
     "iopub.execute_input": "2022-05-24T16:56:15.542771Z",
     "iopub.status.busy": "2022-05-24T16:56:15.542085Z",
     "iopub.status.idle": "2022-05-24T16:56:15.546914Z",
     "shell.execute_reply": "2022-05-24T16:56:15.546349Z",
     "shell.execute_reply.started": "2022-05-24T16:51:47.849859Z"
    },
    "papermill": {
     "duration": 0.040356,
     "end_time": "2022-05-24T16:56:15.547056",
     "exception": false,
     "start_time": "2022-05-24T16:56:15.506700",
     "status": "completed"
    },
    "tags": []
   },
   "outputs": [],
   "source": [
    "model = Blending(models, weights)"
   ]
  },
  {
   "cell_type": "markdown",
   "id": "940cd689",
   "metadata": {
    "papermill": {
     "duration": 0.02865,
     "end_time": "2022-05-24T16:56:15.603949",
     "exception": false,
     "start_time": "2022-05-24T16:56:15.575299",
     "status": "completed"
    },
    "tags": []
   },
   "source": [
    "### Torch Dataset"
   ]
  },
  {
   "cell_type": "code",
   "execution_count": 13,
   "id": "d8d29aff",
   "metadata": {
    "execution": {
     "iopub.execute_input": "2022-05-24T16:56:15.664985Z",
     "iopub.status.busy": "2022-05-24T16:56:15.664102Z",
     "iopub.status.idle": "2022-05-24T16:56:15.670508Z",
     "shell.execute_reply": "2022-05-24T16:56:15.670042Z",
     "shell.execute_reply.started": "2022-05-24T16:51:47.860810Z"
    },
    "papermill": {
     "duration": 0.038578,
     "end_time": "2022-05-24T16:56:15.670678",
     "exception": false,
     "start_time": "2022-05-24T16:56:15.632100",
     "status": "completed"
    },
    "tags": []
   },
   "outputs": [],
   "source": [
    "with open(os.path.join(data_root, 'scored_birds.json')) as fin:\n",
    "    test_birds = json.load(fin)"
   ]
  },
  {
   "cell_type": "code",
   "execution_count": 14,
   "id": "0c23872a",
   "metadata": {
    "execution": {
     "iopub.execute_input": "2022-05-24T16:56:15.738818Z",
     "iopub.status.busy": "2022-05-24T16:56:15.737716Z",
     "iopub.status.idle": "2022-05-24T16:56:15.741057Z",
     "shell.execute_reply": "2022-05-24T16:56:15.740395Z",
     "shell.execute_reply.started": "2022-05-24T16:51:47.874754Z"
    },
    "papermill": {
     "duration": 0.041995,
     "end_time": "2022-05-24T16:56:15.741196",
     "exception": false,
     "start_time": "2022-05-24T16:56:15.699201",
     "status": "completed"
    },
    "tags": []
   },
   "outputs": [],
   "source": [
    "class Compose:\n",
    "    def __init__(self, transforms: list):\n",
    "        self.transforms = transforms\n",
    "\n",
    "    def __call__(self, y: np.ndarray, sr):\n",
    "        for trns in self.transforms:\n",
    "            y = trns(y, sr)\n",
    "        return y\n",
    "    \n",
    "    \n",
    "class AudioTransform:\n",
    "    def __init__(self, always_apply=False, p=0.5):\n",
    "        self.always_apply = always_apply\n",
    "        self.p = p\n",
    "\n",
    "    def __call__(self, y: np.ndarray, sr):\n",
    "        if self.always_apply:\n",
    "            return self.apply(y, sr=sr)\n",
    "        else:\n",
    "            if np.random.rand() < self.p:\n",
    "                return self.apply(y, sr=sr)\n",
    "            else:\n",
    "                return y\n",
    "\n",
    "    def apply(self, y: np.ndarray, **params):\n",
    "        raise NotImplementedError\n",
    "        \n",
    "        \n",
    "class Normalize(AudioTransform):\n",
    "    def __init__(self, always_apply=False, p=1):\n",
    "        super().__init__(always_apply, p)\n",
    "\n",
    "    def apply(self, y: np.ndarray, **params):\n",
    "        max_vol = np.abs(y).max()\n",
    "        y_vol = y / max_vol\n",
    "        assert not np.isnan(y_vol).any(), f'{max_vol}'\n",
    "        return y_vol"
   ]
  },
  {
   "cell_type": "code",
   "execution_count": 15,
   "id": "090a789b",
   "metadata": {
    "execution": {
     "iopub.execute_input": "2022-05-24T16:56:15.809555Z",
     "iopub.status.busy": "2022-05-24T16:56:15.807849Z",
     "iopub.status.idle": "2022-05-24T16:56:15.812646Z",
     "shell.execute_reply": "2022-05-24T16:56:15.812108Z",
     "shell.execute_reply.started": "2022-05-24T16:51:47.885714Z"
    },
    "papermill": {
     "duration": 0.042399,
     "end_time": "2022-05-24T16:56:15.812800",
     "exception": false,
     "start_time": "2022-05-24T16:56:15.770401",
     "status": "completed"
    },
    "tags": []
   },
   "outputs": [],
   "source": [
    "class TestDataset(Dataset):\n",
    "    def __init__(self, test_folder, augmentations=None):\n",
    "        super().__init__()\n",
    "        self.test_folder = test_folder\n",
    "        self.fnames = [f for f in os.listdir(test_folder) if f.endswith('.ogg')]\n",
    "        self.augmentations = augmentations\n",
    "        \n",
    "    def __len__(self):\n",
    "        return len(self.fnames)\n",
    "    \n",
    "    def __getitem__(self, idx):\n",
    "        fpath = os.path.join(self.test_folder, self.fnames[idx])\n",
    "        wav, sr = load_wav(fpath, 0, None)\n",
    "        if self.augmentations:\n",
    "            wav = self.augmentations(wav, None)\n",
    "        wav = torch.tensor(wav)\n",
    "        assert (13 * 5 * sr) > len(wav) \n",
    "        wav = wav[:len(wav) // 12 * 12].reshape((12, len(wav) // 12))\n",
    "        return wav"
   ]
  },
  {
   "cell_type": "code",
   "execution_count": 16,
   "id": "ede297a0",
   "metadata": {
    "execution": {
     "iopub.execute_input": "2022-05-24T16:56:15.876124Z",
     "iopub.status.busy": "2022-05-24T16:56:15.875097Z",
     "iopub.status.idle": "2022-05-24T16:56:15.879453Z",
     "shell.execute_reply": "2022-05-24T16:56:15.878878Z",
     "shell.execute_reply.started": "2022-05-24T16:51:47.896169Z"
    },
    "papermill": {
     "duration": 0.037826,
     "end_time": "2022-05-24T16:56:15.879609",
     "exception": false,
     "start_time": "2022-05-24T16:56:15.841783",
     "status": "completed"
    },
    "tags": []
   },
   "outputs": [],
   "source": [
    "test_dataset = TestDataset(\n",
    "    os.path.join(data_root, 'test_soundscapes'),\n",
    "    Compose([Normalize(p=1)])\n",
    ")\n",
    "test_dataloader = DataLoader(\n",
    "    test_dataset,\n",
    "    batch_size=1,\n",
    "    shuffle=False,\n",
    "    num_workers=2,\n",
    "    drop_last=False,   \n",
    ")"
   ]
  },
  {
   "cell_type": "code",
   "execution_count": 17,
   "id": "94d71f44",
   "metadata": {
    "execution": {
     "iopub.execute_input": "2022-05-24T16:56:15.944166Z",
     "iopub.status.busy": "2022-05-24T16:56:15.943080Z",
     "iopub.status.idle": "2022-05-24T16:56:15.945482Z",
     "shell.execute_reply": "2022-05-24T16:56:15.946134Z",
     "shell.execute_reply.started": "2022-05-24T16:51:47.905694Z"
    },
    "papermill": {
     "duration": 0.037648,
     "end_time": "2022-05-24T16:56:15.946279",
     "exception": false,
     "start_time": "2022-05-24T16:56:15.908631",
     "status": "completed"
    },
    "tags": []
   },
   "outputs": [],
   "source": [
    "def find_topk(pred_proba, max_birds=5):\n",
    "    pred_proba = pred_proba[:, [species2id[b] for b in test_birds]]\n",
    "    mean_proba = pred_proba.mean(axis=0)\n",
    "    topk_birds = [i for i, _ in sorted(enumerate(mean_proba),\n",
    "                                       key=lambda x: x[1],\n",
    "                                       reverse=True)][:max_birds]\n",
    "    return topk_birds"
   ]
  },
  {
   "cell_type": "code",
   "execution_count": 18,
   "id": "97f5978d",
   "metadata": {
    "execution": {
     "iopub.execute_input": "2022-05-24T16:56:16.006143Z",
     "iopub.status.busy": "2022-05-24T16:56:16.005138Z",
     "iopub.status.idle": "2022-05-24T16:56:16.024567Z",
     "shell.execute_reply": "2022-05-24T16:56:16.025133Z",
     "shell.execute_reply.started": "2022-05-24T16:54:20.770608Z"
    },
    "papermill": {
     "duration": 0.050659,
     "end_time": "2022-05-24T16:56:16.025291",
     "exception": false,
     "start_time": "2022-05-24T16:56:15.974632",
     "status": "completed"
    },
    "tags": []
   },
   "outputs": [
    {
     "data": {
      "text/plain": [
       "{'akiapo': 0.09,\n",
       " 'aniani': 0.025,\n",
       " 'apapan': 0.05,\n",
       " 'barpet': 0.02,\n",
       " 'crehon': 0.01,\n",
       " 'elepai': 0.08499999999999999,\n",
       " 'ercfra': 0.055,\n",
       " 'hawama': 0.04,\n",
       " 'hawcre': 0.01,\n",
       " 'hawgoo': 0.13,\n",
       " 'hawhaw': 0.015,\n",
       " 'hawpet1': 0.01,\n",
       " 'houfin': 0.07500000000000001,\n",
       " 'iiwi': 0.16999999999999998,\n",
       " 'jabwar': 0.030000000000000002,\n",
       " 'maupar': 0.01,\n",
       " 'omao': 0.16,\n",
       " 'puaioh': 0.01,\n",
       " 'skylar': 0.085,\n",
       " 'warwhe1': 0.04,\n",
       " 'yefcan': 0.030000000000000002}"
      ]
     },
     "execution_count": 18,
     "metadata": {},
     "output_type": "execute_result"
    }
   ],
   "source": [
    "treshold_dict = [\n",
    "    # all_data model\n",
    "    {\n",
    "        'akiapo': 0.08,\n",
    "        'aniani': 0.03,\n",
    "        'apapan': 0.07,\n",
    "        'barpet': 0.01,\n",
    "        'crehon': 0.01,\n",
    "        'elepai': 0.09,\n",
    "        'ercfra': 0.09,\n",
    "        'hawama': 0.06,\n",
    "        'hawcre': 0.01,\n",
    "        'hawgoo': 0.25,\n",
    "        'hawhaw': 0.02,\n",
    "        'hawpet1': 0.01,\n",
    "        'houfin': 0.1,\n",
    "        'iiwi': 0.09,\n",
    "        'jabwar': 0.05,\n",
    "        'maupar': 0.01,\n",
    "        'omao': 0.07,\n",
    "        'puaioh': 0.01,\n",
    "        'skylar': 0.1,\n",
    "        'warwhe1': 0.07,\n",
    "        'yefcan': 0.05\n",
    "    },\n",
    "    # baseline\n",
    "    {\n",
    "        'akiapo': 0.1,\n",
    "        'aniani': 0.02,\n",
    "        'apapan': 0.03,\n",
    "        'barpet': 0.03,\n",
    "        'crehon': 0.01,\n",
    "        'elepai': 0.08,\n",
    "        'ercfra': 0.02,\n",
    "        'hawama': 0.02,\n",
    "        'hawcre': 0.01,\n",
    "        'hawgoo': 0.01,\n",
    "        'hawhaw': 0.01,\n",
    "        'hawpet1': 0.01,\n",
    "        'houfin': 0.05,\n",
    "        'iiwi': 0.25,\n",
    "        'jabwar': 0.01,\n",
    "        'maupar': 0.01,\n",
    "        'omao': 0.25,\n",
    "        'puaioh': 0.01,\n",
    "        'skylar': 0.07,\n",
    "        'warwhe1': 0.01,\n",
    "        'yefcan': 0.01\n",
    "    }\n",
    "]\n",
    "treshold_dict = {key: np.mean([t[key] for t in treshold_dict]) for key, _ in treshold_dict[0].items()}\n",
    "treshold_dict"
   ]
  },
  {
   "cell_type": "code",
   "execution_count": 19,
   "id": "88a61db7",
   "metadata": {
    "execution": {
     "iopub.execute_input": "2022-05-24T16:56:16.085572Z",
     "iopub.status.busy": "2022-05-24T16:56:16.084458Z",
     "iopub.status.idle": "2022-05-24T16:56:16.986412Z",
     "shell.execute_reply": "2022-05-24T16:56:16.985869Z",
     "shell.execute_reply.started": "2022-05-24T16:54:23.285543Z"
    },
    "papermill": {
     "duration": 0.933213,
     "end_time": "2022-05-24T16:56:16.986561",
     "exception": false,
     "start_time": "2022-05-24T16:56:16.053348",
     "status": "completed"
    },
    "tags": []
   },
   "outputs": [
    {
     "name": "stderr",
     "output_type": "stream",
     "text": [
      "1it [00:00,  1.22it/s]\n"
     ]
    }
   ],
   "source": [
    "pred_list = []\n",
    "treshold = 0.1\n",
    "with torch.no_grad():\n",
    "    for i, batch in tqdm(enumerate(test_dataloader)):\n",
    "        batch_size, part_count, part_size = batch.shape\n",
    "        batch = batch.reshape(batch_size * part_count, part_size)\n",
    "        pred = model(batch.to(device))\n",
    "        pred = pred.cpu().numpy()\n",
    "#         topk_birds = find_topk(pred_proba, max_birds=10)\n",
    "        \n",
    "        for j, chunk_pred in enumerate(pred):\n",
    "            inbatch_number = j // part_count\n",
    "            chunk_number = j % part_count + 1\n",
    "            f_idx = i * batch_size + inbatch_number\n",
    "            fname = test_dataset.fnames[f_idx]\n",
    "            prefix = fname.split('.')[0]\n",
    "            sufix = f'{5 * chunk_number}'\n",
    "            nocall = nocall_pd[(nocall_pd.fname == fname) & (nocall_pd.r_sec == 5 * chunk_number)]['iscall'].values[0]\n",
    "            \n",
    "            pred_list.extend([{\n",
    "                'row_id': '_'.join([prefix, b, sufix]),\n",
    "                'target': (chunk_pred[species2id[b]] > treshold_dict[b]) and nocall # if species2id[b] in topk_birds else False\n",
    "            } for b in test_birds])\n",
    "pred_pd = pd.DataFrame(pred_list)"
   ]
  },
  {
   "cell_type": "code",
   "execution_count": 20,
   "id": "7fc9d451",
   "metadata": {
    "execution": {
     "iopub.execute_input": "2022-05-24T16:56:17.054792Z",
     "iopub.status.busy": "2022-05-24T16:56:17.053783Z",
     "iopub.status.idle": "2022-05-24T16:56:17.073002Z",
     "shell.execute_reply": "2022-05-24T16:56:17.073663Z",
     "shell.execute_reply.started": "2022-05-24T16:54:24.893939Z"
    },
    "papermill": {
     "duration": 0.055449,
     "end_time": "2022-05-24T16:56:17.073817",
     "exception": false,
     "start_time": "2022-05-24T16:56:17.018368",
     "status": "completed"
    },
    "tags": []
   },
   "outputs": [
    {
     "data": {
      "text/html": [
       "<div>\n",
       "<style scoped>\n",
       "    .dataframe tbody tr th:only-of-type {\n",
       "        vertical-align: middle;\n",
       "    }\n",
       "\n",
       "    .dataframe tbody tr th {\n",
       "        vertical-align: top;\n",
       "    }\n",
       "\n",
       "    .dataframe thead th {\n",
       "        text-align: right;\n",
       "    }\n",
       "</style>\n",
       "<table border=\"1\" class=\"dataframe\">\n",
       "  <thead>\n",
       "    <tr style=\"text-align: right;\">\n",
       "      <th></th>\n",
       "      <th>row_id</th>\n",
       "      <th>target</th>\n",
       "    </tr>\n",
       "  </thead>\n",
       "  <tbody>\n",
       "    <tr>\n",
       "      <th>0</th>\n",
       "      <td>soundscape_453028782_akiapo_5</td>\n",
       "      <td>False</td>\n",
       "    </tr>\n",
       "    <tr>\n",
       "      <th>1</th>\n",
       "      <td>soundscape_453028782_aniani_5</td>\n",
       "      <td>False</td>\n",
       "    </tr>\n",
       "    <tr>\n",
       "      <th>2</th>\n",
       "      <td>soundscape_453028782_apapan_5</td>\n",
       "      <td>False</td>\n",
       "    </tr>\n",
       "    <tr>\n",
       "      <th>3</th>\n",
       "      <td>soundscape_453028782_barpet_5</td>\n",
       "      <td>False</td>\n",
       "    </tr>\n",
       "    <tr>\n",
       "      <th>4</th>\n",
       "      <td>soundscape_453028782_crehon_5</td>\n",
       "      <td>False</td>\n",
       "    </tr>\n",
       "    <tr>\n",
       "      <th>...</th>\n",
       "      <td>...</td>\n",
       "      <td>...</td>\n",
       "    </tr>\n",
       "    <tr>\n",
       "      <th>247</th>\n",
       "      <td>soundscape_453028782_omao_60</td>\n",
       "      <td>False</td>\n",
       "    </tr>\n",
       "    <tr>\n",
       "      <th>248</th>\n",
       "      <td>soundscape_453028782_puaioh_60</td>\n",
       "      <td>False</td>\n",
       "    </tr>\n",
       "    <tr>\n",
       "      <th>249</th>\n",
       "      <td>soundscape_453028782_skylar_60</td>\n",
       "      <td>False</td>\n",
       "    </tr>\n",
       "    <tr>\n",
       "      <th>250</th>\n",
       "      <td>soundscape_453028782_warwhe1_60</td>\n",
       "      <td>False</td>\n",
       "    </tr>\n",
       "    <tr>\n",
       "      <th>251</th>\n",
       "      <td>soundscape_453028782_yefcan_60</td>\n",
       "      <td>False</td>\n",
       "    </tr>\n",
       "  </tbody>\n",
       "</table>\n",
       "<p>252 rows × 2 columns</p>\n",
       "</div>"
      ],
      "text/plain": [
       "                              row_id  target\n",
       "0      soundscape_453028782_akiapo_5   False\n",
       "1      soundscape_453028782_aniani_5   False\n",
       "2      soundscape_453028782_apapan_5   False\n",
       "3      soundscape_453028782_barpet_5   False\n",
       "4      soundscape_453028782_crehon_5   False\n",
       "..                               ...     ...\n",
       "247     soundscape_453028782_omao_60   False\n",
       "248   soundscape_453028782_puaioh_60   False\n",
       "249   soundscape_453028782_skylar_60   False\n",
       "250  soundscape_453028782_warwhe1_60   False\n",
       "251   soundscape_453028782_yefcan_60   False\n",
       "\n",
       "[252 rows x 2 columns]"
      ]
     },
     "execution_count": 20,
     "metadata": {},
     "output_type": "execute_result"
    }
   ],
   "source": [
    "pred_pd.to_csv(\"submission.csv\", index=False)\n",
    "pred_pd"
   ]
  },
  {
   "cell_type": "code",
   "execution_count": 21,
   "id": "b905e513",
   "metadata": {
    "execution": {
     "iopub.execute_input": "2022-05-24T16:56:17.147812Z",
     "iopub.status.busy": "2022-05-24T16:56:17.146861Z",
     "iopub.status.idle": "2022-05-24T16:56:17.150926Z",
     "shell.execute_reply": "2022-05-24T16:56:17.151467Z",
     "shell.execute_reply.started": "2022-05-24T16:54:25.993592Z"
    },
    "papermill": {
     "duration": 0.046937,
     "end_time": "2022-05-24T16:56:17.151604",
     "exception": false,
     "start_time": "2022-05-24T16:56:17.104667",
     "status": "completed"
    },
    "tags": []
   },
   "outputs": [
    {
     "data": {
      "text/html": [
       "<div>\n",
       "<style scoped>\n",
       "    .dataframe tbody tr th:only-of-type {\n",
       "        vertical-align: middle;\n",
       "    }\n",
       "\n",
       "    .dataframe tbody tr th {\n",
       "        vertical-align: top;\n",
       "    }\n",
       "\n",
       "    .dataframe thead th {\n",
       "        text-align: right;\n",
       "    }\n",
       "</style>\n",
       "<table border=\"1\" class=\"dataframe\">\n",
       "  <thead>\n",
       "    <tr style=\"text-align: right;\">\n",
       "      <th></th>\n",
       "      <th>row_id</th>\n",
       "      <th>target</th>\n",
       "    </tr>\n",
       "  </thead>\n",
       "  <tbody>\n",
       "    <tr>\n",
       "      <th>22</th>\n",
       "      <td>soundscape_453028782_aniani_10</td>\n",
       "      <td>True</td>\n",
       "    </tr>\n",
       "    <tr>\n",
       "      <th>32</th>\n",
       "      <td>soundscape_453028782_hawpet1_10</td>\n",
       "      <td>True</td>\n",
       "    </tr>\n",
       "    <tr>\n",
       "      <th>35</th>\n",
       "      <td>soundscape_453028782_jabwar_10</td>\n",
       "      <td>True</td>\n",
       "    </tr>\n",
       "    <tr>\n",
       "      <th>38</th>\n",
       "      <td>soundscape_453028782_puaioh_10</td>\n",
       "      <td>True</td>\n",
       "    </tr>\n",
       "    <tr>\n",
       "      <th>40</th>\n",
       "      <td>soundscape_453028782_warwhe1_10</td>\n",
       "      <td>True</td>\n",
       "    </tr>\n",
       "    <tr>\n",
       "      <th>50</th>\n",
       "      <td>soundscape_453028782_hawcre_15</td>\n",
       "      <td>True</td>\n",
       "    </tr>\n",
       "    <tr>\n",
       "      <th>53</th>\n",
       "      <td>soundscape_453028782_hawpet1_15</td>\n",
       "      <td>True</td>\n",
       "    </tr>\n",
       "    <tr>\n",
       "      <th>56</th>\n",
       "      <td>soundscape_453028782_jabwar_15</td>\n",
       "      <td>True</td>\n",
       "    </tr>\n",
       "    <tr>\n",
       "      <th>59</th>\n",
       "      <td>soundscape_453028782_puaioh_15</td>\n",
       "      <td>True</td>\n",
       "    </tr>\n",
       "    <tr>\n",
       "      <th>61</th>\n",
       "      <td>soundscape_453028782_warwhe1_15</td>\n",
       "      <td>True</td>\n",
       "    </tr>\n",
       "    <tr>\n",
       "      <th>74</th>\n",
       "      <td>soundscape_453028782_hawpet1_20</td>\n",
       "      <td>True</td>\n",
       "    </tr>\n",
       "    <tr>\n",
       "      <th>77</th>\n",
       "      <td>soundscape_453028782_jabwar_20</td>\n",
       "      <td>True</td>\n",
       "    </tr>\n",
       "    <tr>\n",
       "      <th>95</th>\n",
       "      <td>soundscape_453028782_hawpet1_25</td>\n",
       "      <td>True</td>\n",
       "    </tr>\n",
       "    <tr>\n",
       "      <th>98</th>\n",
       "      <td>soundscape_453028782_jabwar_25</td>\n",
       "      <td>True</td>\n",
       "    </tr>\n",
       "    <tr>\n",
       "      <th>101</th>\n",
       "      <td>soundscape_453028782_puaioh_25</td>\n",
       "      <td>True</td>\n",
       "    </tr>\n",
       "    <tr>\n",
       "      <th>137</th>\n",
       "      <td>soundscape_453028782_hawpet1_35</td>\n",
       "      <td>True</td>\n",
       "    </tr>\n",
       "    <tr>\n",
       "      <th>148</th>\n",
       "      <td>soundscape_453028782_aniani_40</td>\n",
       "      <td>True</td>\n",
       "    </tr>\n",
       "    <tr>\n",
       "      <th>150</th>\n",
       "      <td>soundscape_453028782_barpet_40</td>\n",
       "      <td>True</td>\n",
       "    </tr>\n",
       "    <tr>\n",
       "      <th>158</th>\n",
       "      <td>soundscape_453028782_hawpet1_40</td>\n",
       "      <td>True</td>\n",
       "    </tr>\n",
       "    <tr>\n",
       "      <th>161</th>\n",
       "      <td>soundscape_453028782_jabwar_40</td>\n",
       "      <td>True</td>\n",
       "    </tr>\n",
       "    <tr>\n",
       "      <th>164</th>\n",
       "      <td>soundscape_453028782_puaioh_40</td>\n",
       "      <td>True</td>\n",
       "    </tr>\n",
       "    <tr>\n",
       "      <th>169</th>\n",
       "      <td>soundscape_453028782_aniani_45</td>\n",
       "      <td>True</td>\n",
       "    </tr>\n",
       "    <tr>\n",
       "      <th>179</th>\n",
       "      <td>soundscape_453028782_hawpet1_45</td>\n",
       "      <td>True</td>\n",
       "    </tr>\n",
       "    <tr>\n",
       "      <th>182</th>\n",
       "      <td>soundscape_453028782_jabwar_45</td>\n",
       "      <td>True</td>\n",
       "    </tr>\n",
       "    <tr>\n",
       "      <th>185</th>\n",
       "      <td>soundscape_453028782_puaioh_45</td>\n",
       "      <td>True</td>\n",
       "    </tr>\n",
       "    <tr>\n",
       "      <th>200</th>\n",
       "      <td>soundscape_453028782_hawpet1_50</td>\n",
       "      <td>True</td>\n",
       "    </tr>\n",
       "    <tr>\n",
       "      <th>203</th>\n",
       "      <td>soundscape_453028782_jabwar_50</td>\n",
       "      <td>True</td>\n",
       "    </tr>\n",
       "  </tbody>\n",
       "</table>\n",
       "</div>"
      ],
      "text/plain": [
       "                              row_id  target\n",
       "22    soundscape_453028782_aniani_10    True\n",
       "32   soundscape_453028782_hawpet1_10    True\n",
       "35    soundscape_453028782_jabwar_10    True\n",
       "38    soundscape_453028782_puaioh_10    True\n",
       "40   soundscape_453028782_warwhe1_10    True\n",
       "50    soundscape_453028782_hawcre_15    True\n",
       "53   soundscape_453028782_hawpet1_15    True\n",
       "56    soundscape_453028782_jabwar_15    True\n",
       "59    soundscape_453028782_puaioh_15    True\n",
       "61   soundscape_453028782_warwhe1_15    True\n",
       "74   soundscape_453028782_hawpet1_20    True\n",
       "77    soundscape_453028782_jabwar_20    True\n",
       "95   soundscape_453028782_hawpet1_25    True\n",
       "98    soundscape_453028782_jabwar_25    True\n",
       "101   soundscape_453028782_puaioh_25    True\n",
       "137  soundscape_453028782_hawpet1_35    True\n",
       "148   soundscape_453028782_aniani_40    True\n",
       "150   soundscape_453028782_barpet_40    True\n",
       "158  soundscape_453028782_hawpet1_40    True\n",
       "161   soundscape_453028782_jabwar_40    True\n",
       "164   soundscape_453028782_puaioh_40    True\n",
       "169   soundscape_453028782_aniani_45    True\n",
       "179  soundscape_453028782_hawpet1_45    True\n",
       "182   soundscape_453028782_jabwar_45    True\n",
       "185   soundscape_453028782_puaioh_45    True\n",
       "200  soundscape_453028782_hawpet1_50    True\n",
       "203   soundscape_453028782_jabwar_50    True"
      ]
     },
     "execution_count": 21,
     "metadata": {},
     "output_type": "execute_result"
    }
   ],
   "source": [
    "pred_pd[pred_pd.target]"
   ]
  },
  {
   "cell_type": "code",
   "execution_count": null,
   "id": "9731e595",
   "metadata": {
    "papermill": {
     "duration": 0.031899,
     "end_time": "2022-05-24T16:56:17.215209",
     "exception": false,
     "start_time": "2022-05-24T16:56:17.183310",
     "status": "completed"
    },
    "tags": []
   },
   "outputs": [],
   "source": []
  }
 ],
 "metadata": {
  "kernelspec": {
   "display_name": "Python 3",
   "language": "python",
   "name": "python3"
  },
  "language_info": {
   "codemirror_mode": {
    "name": "ipython",
    "version": 3
   },
   "file_extension": ".py",
   "mimetype": "text/x-python",
   "name": "python",
   "nbconvert_exporter": "python",
   "pygments_lexer": "ipython3",
   "version": "3.7.12"
  },
  "papermill": {
   "default_parameters": {},
   "duration": 40.678458,
   "end_time": "2022-05-24T16:56:19.700947",
   "environment_variables": {},
   "exception": null,
   "input_path": "__notebook__.ipynb",
   "output_path": "__notebook__.ipynb",
   "parameters": {},
   "start_time": "2022-05-24T16:55:39.022489",
   "version": "2.3.3"
  }
 },
 "nbformat": 4,
 "nbformat_minor": 5
}
