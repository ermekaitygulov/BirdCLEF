{
 "cells": [
  {
   "cell_type": "code",
   "execution_count": 1,
   "id": "be5fd2b5",
   "metadata": {
    "_cell_guid": "b1076dfc-b9ad-4769-8c92-a6c4dae69d19",
    "_uuid": "8f2839f25d086af736a60e9eeb907d3b93b6e0e5",
    "execution": {
     "iopub.execute_input": "2022-05-23T21:11:37.600336Z",
     "iopub.status.busy": "2022-05-23T21:11:37.598842Z",
     "iopub.status.idle": "2022-05-23T21:11:44.610342Z",
     "shell.execute_reply": "2022-05-23T21:11:44.609727Z",
     "shell.execute_reply.started": "2022-05-23T21:04:04.026053Z"
    },
    "papermill": {
     "duration": 7.038034,
     "end_time": "2022-05-23T21:11:44.610503",
     "exception": false,
     "start_time": "2022-05-23T21:11:37.572469",
     "status": "completed"
    },
    "tags": []
   },
   "outputs": [],
   "source": [
    "import sys\n",
    "sys.path.append('../input/timm-pytorch-image-models/pytorch-image-models-master')\n",
    "sys.path.append('../input/birdclefmodels/')\n",
    "\n",
    "import numpy as np # linear algebra\n",
    "import pandas as pd # data processing, CSV file I/O (e.g. pd.read_csv)\n",
    "import librosa\n",
    "\n",
    "from matplotlib import pyplot as plt\n",
    "import json\n",
    "import random\n",
    "from tqdm import tqdm\n",
    "import os\n",
    "import yaml\n",
    "\n",
    "import albumentations as A\n",
    "from albumentations.pytorch import ToTensorV2\n",
    "\n",
    "import torch\n",
    "from torch import nn\n",
    "import torchaudio as ta\n",
    "import timm\n",
    "from torch.utils.data import Dataset, DataLoader\n",
    "\n",
    "import neural_network"
   ]
  },
  {
   "cell_type": "code",
   "execution_count": 2,
   "id": "e1bbebda",
   "metadata": {
    "execution": {
     "iopub.execute_input": "2022-05-23T21:11:44.660416Z",
     "iopub.status.busy": "2022-05-23T21:11:44.659854Z",
     "iopub.status.idle": "2022-05-23T21:11:44.813494Z",
     "shell.execute_reply": "2022-05-23T21:11:44.812910Z",
     "shell.execute_reply.started": "2022-05-23T21:04:10.541303Z"
    },
    "papermill": {
     "duration": 0.17936,
     "end_time": "2022-05-23T21:11:44.813679",
     "exception": false,
     "start_time": "2022-05-23T21:11:44.634319",
     "status": "completed"
    },
    "tags": []
   },
   "outputs": [],
   "source": [
    "data_root = '/kaggle/input/birdclef-2022'\n",
    "train_meta = pd.read_csv('../input/birdclef-data-with-wav-durations/train_metadata_extended.csv')\n",
    "ebird_taxonomy = pd.read_csv(os.path.join(data_root, 'eBird_Taxonomy_v2021.csv'))"
   ]
  },
  {
   "cell_type": "code",
   "execution_count": 3,
   "id": "da39d91a",
   "metadata": {
    "execution": {
     "iopub.execute_input": "2022-05-23T21:11:44.899425Z",
     "iopub.status.busy": "2022-05-23T21:11:44.894325Z",
     "iopub.status.idle": "2022-05-23T21:11:44.937594Z",
     "shell.execute_reply": "2022-05-23T21:11:44.937124Z",
     "shell.execute_reply.started": "2022-05-23T21:04:11.362960Z"
    },
    "papermill": {
     "duration": 0.103065,
     "end_time": "2022-05-23T21:11:44.937722",
     "exception": false,
     "start_time": "2022-05-23T21:11:44.834657",
     "status": "completed"
    },
    "tags": []
   },
   "outputs": [],
   "source": [
    "train_meta.loc[:, 'secondary_labels'] = train_meta.secondary_labels.apply(eval)\n",
    "train_meta['target_raw'] = train_meta.secondary_labels + train_meta.primary_label.apply(lambda x: [x])"
   ]
  },
  {
   "cell_type": "code",
   "execution_count": 4,
   "id": "d1065452",
   "metadata": {
    "execution": {
     "iopub.execute_input": "2022-05-23T21:11:44.981878Z",
     "iopub.status.busy": "2022-05-23T21:11:44.981079Z",
     "iopub.status.idle": "2022-05-23T21:11:45.734239Z",
     "shell.execute_reply": "2022-05-23T21:11:45.734683Z",
     "shell.execute_reply.started": "2022-05-23T21:04:11.701717Z"
    },
    "papermill": {
     "duration": 0.776509,
     "end_time": "2022-05-23T21:11:45.734845",
     "exception": false,
     "start_time": "2022-05-23T21:11:44.958336",
     "status": "completed"
    },
    "tags": []
   },
   "outputs": [],
   "source": [
    "all_species = sorted(set(train_meta.target_raw.sum()))\n",
    "species2id = {s: i for i, s in enumerate(all_species)}\n",
    "id2species = {i: s for i, s in enumerate(all_species)}\n",
    "\n",
    "train_meta['target'] = train_meta.target_raw.apply(lambda species: [int(s in species) for s in all_species])"
   ]
  },
  {
   "cell_type": "code",
   "execution_count": 5,
   "id": "f9fa507b",
   "metadata": {
    "execution": {
     "iopub.execute_input": "2022-05-23T21:11:45.781633Z",
     "iopub.status.busy": "2022-05-23T21:11:45.780816Z",
     "iopub.status.idle": "2022-05-23T21:11:45.782583Z",
     "shell.execute_reply": "2022-05-23T21:11:45.782992Z",
     "shell.execute_reply.started": "2022-05-23T21:04:12.450438Z"
    },
    "papermill": {
     "duration": 0.027411,
     "end_time": "2022-05-23T21:11:45.783107",
     "exception": false,
     "start_time": "2022-05-23T21:11:45.755696",
     "status": "completed"
    },
    "tags": []
   },
   "outputs": [],
   "source": [
    "def load_wav(fname, offset, duration):\n",
    "#     fname = 'afrsil1/XC125458.ogg'\n",
    "    fpath = os.path.join(data_root, 'train_audio', fname)\n",
    "    wav, sr = librosa.load(fpath, sr=None, duration=duration)\n",
    "    assert sr <= 32000, sr\n",
    "    return wav, sr"
   ]
  },
  {
   "cell_type": "markdown",
   "id": "de334c81",
   "metadata": {
    "papermill": {
     "duration": 0.02012,
     "end_time": "2022-05-23T21:11:45.823537",
     "exception": false,
     "start_time": "2022-05-23T21:11:45.803417",
     "status": "completed"
    },
    "tags": []
   },
   "source": [
    "### No call"
   ]
  },
  {
   "cell_type": "code",
   "execution_count": 6,
   "id": "7d264d6d",
   "metadata": {
    "execution": {
     "iopub.execute_input": "2022-05-23T21:11:45.892319Z",
     "iopub.status.busy": "2022-05-23T21:11:45.891527Z",
     "iopub.status.idle": "2022-05-23T21:11:45.893580Z",
     "shell.execute_reply": "2022-05-23T21:11:45.893957Z",
     "shell.execute_reply.started": "2022-05-23T21:04:12.923749Z"
    },
    "papermill": {
     "duration": 0.050276,
     "end_time": "2022-05-23T21:11:45.894086",
     "exception": false,
     "start_time": "2022-05-23T21:11:45.843810",
     "status": "completed"
    },
    "tags": []
   },
   "outputs": [],
   "source": [
    "class MelSpecComputer:\n",
    "    def __init__(self, sr, n_mels, fmin, fmax, **kwargs):\n",
    "        self.sr = sr\n",
    "        self.n_mels = n_mels\n",
    "        self.fmin = fmin\n",
    "        self.fmax = fmax\n",
    "        kwargs[\"n_fft\"] = kwargs.get(\"n_fft\", self.sr//10)\n",
    "        kwargs[\"hop_length\"] = kwargs.get(\"hop_length\", self.sr//(10*4))\n",
    "        self.kwargs = kwargs\n",
    "\n",
    "    def __call__(self, y):\n",
    "\n",
    "        melspec = librosa.feature.melspectrogram(\n",
    "            y=y, sr=self.sr, n_mels=self.n_mels, fmin=self.fmin, fmax=self.fmax, **self.kwargs,\n",
    "        )\n",
    "\n",
    "        melspec = librosa.power_to_db(melspec).astype(np.float32)\n",
    "        return melspec\n",
    "    \n",
    "    \n",
    "def mono_to_color(X, eps=1e-6, mean=None, std=None):\n",
    "    mean = mean or X.mean()\n",
    "    std = std or X.std()\n",
    "    X = (X - mean) / (std + eps)\n",
    "    \n",
    "    _min, _max = X.min(), X.max()\n",
    "\n",
    "    if (_max - _min) > eps:\n",
    "        V = np.clip(X, _min, _max)\n",
    "        V = 255 * (V - _min) / (_max - _min)\n",
    "        V = V.astype(np.uint8)\n",
    "    else:\n",
    "        V = np.zeros_like(X, dtype=np.uint8)\n",
    "\n",
    "    return V\n",
    "\n",
    "def crop_or_pad(y, length):\n",
    "    if len(y) < length:\n",
    "        y = np.concatenate([y, np.zeros(length - len(y))])        \n",
    "    elif len(y) > length:\n",
    "        y = y[:length]\n",
    "    return y\n",
    "\n",
    "\n",
    "class NoCallDataset(Dataset):\n",
    "    def __init__(self, test_folder):\n",
    "        super().__init__()\n",
    "        self.test_folder = test_folder\n",
    "        self.fnames = [f for f in os.listdir(test_folder) if f.endswith('.ogg')]\n",
    "        self.mel_spectrogram = MelSpecComputer(\n",
    "            sr=32000,\n",
    "            n_mels=128,\n",
    "            fmin=0,\n",
    "            fmax=16000\n",
    "        )\n",
    "        self.augmentations = A.Compose([\n",
    "            A.Resize(128, 281),\n",
    "            A.Normalize(\n",
    "                mean=[0.485, 0.456, 0.406],\n",
    "                std=[0.229, 0.224, 0.225],\n",
    "            ),\n",
    "            ToTensorV2(),\n",
    "        ])\n",
    "        \n",
    "    def audio2image(self, wav):\n",
    "        melspec = self.mel_spectrogram(wav) \n",
    "        image = mono_to_color(melspec)\n",
    "        image = np.stack((image,)*3, -1)\n",
    "        image = self.augmentations(image=image)['image']\n",
    "        return image\n",
    "        \n",
    "    def __len__(self):\n",
    "        return len(self.fnames)\n",
    "    \n",
    "    def __getitem__(self, idx):\n",
    "        fpath = os.path.join(self.test_folder, self.fnames[idx])\n",
    "        wav, sr = load_wav(fpath, 0, None)\n",
    "        wav = wav[:sr * 60]\n",
    "        spectrograms = []\n",
    "        crop_size = 5 * sr\n",
    "        model_crop_size = 10 * sr\n",
    "        for left in range(0, 60, 5):\n",
    "            left = left * sr\n",
    "            right = left + crop_size\n",
    "            left = max(left - crop_size, 0)\n",
    "            crop = wav[left:right]\n",
    "#             print(crop.shape)\n",
    "            crop = crop_or_pad(crop, model_crop_size)\n",
    "            spectrograms.append(self.audio2image(crop))\n",
    "        spectrograms = torch.stack(spectrograms) \n",
    "        return spectrograms\n",
    "    \n",
    "    \n",
    "class CustomResNext(nn.Module):\n",
    "    def __init__(self, model_name='resnext50_32x4d'):\n",
    "        super().__init__()\n",
    "        self.model = timm.create_model(model_name, pretrained=False)\n",
    "        n_features = self.model.fc.in_features\n",
    "        self.model.fc = nn.Linear(n_features, 2)\n",
    "\n",
    "    def forward(self, x):\n",
    "        x = self.model(x)\n",
    "        return x\n",
    "    \n"
   ]
  },
  {
   "cell_type": "code",
   "execution_count": 7,
   "id": "e2607525",
   "metadata": {
    "execution": {
     "iopub.execute_input": "2022-05-23T21:11:46.002129Z",
     "iopub.status.busy": "2022-05-23T21:11:45.998108Z",
     "iopub.status.idle": "2022-05-23T21:11:51.325102Z",
     "shell.execute_reply": "2022-05-23T21:11:51.325695Z",
     "shell.execute_reply.started": "2022-05-23T21:04:13.294220Z"
    },
    "papermill": {
     "duration": 5.41152,
     "end_time": "2022-05-23T21:11:51.325854",
     "exception": false,
     "start_time": "2022-05-23T21:11:45.914334",
     "status": "completed"
    },
    "tags": []
   },
   "outputs": [],
   "source": [
    "device = torch.device('cuda' if torch.cuda.is_available() else 'cpu')\n",
    "\n",
    "nocall_model = CustomResNext()\n",
    "nocall_model.to(device)\n",
    "\n",
    "state_dict = torch.load('../input/nocall-classifier/resnext50_32x4d_best.pth', map_location=device)\n",
    "nocall_model.load_state_dict(state_dict['model'])\n",
    "\n",
    "nocall_dataset = NoCallDataset(os.path.join(data_root, 'test_soundscapes'))\n",
    "nocall_dataloader = DataLoader(\n",
    "    nocall_dataset,\n",
    "    batch_size=1,\n",
    "    shuffle=False,\n",
    "    num_workers=2,\n",
    "    drop_last=False,   \n",
    ")"
   ]
  },
  {
   "cell_type": "code",
   "execution_count": 8,
   "id": "2e6e9954",
   "metadata": {
    "execution": {
     "iopub.execute_input": "2022-05-23T21:11:51.375080Z",
     "iopub.status.busy": "2022-05-23T21:11:51.374468Z",
     "iopub.status.idle": "2022-05-23T21:11:58.223102Z",
     "shell.execute_reply": "2022-05-23T21:11:58.223708Z",
     "shell.execute_reply.started": "2022-05-23T21:04:19.029278Z"
    },
    "papermill": {
     "duration": 6.877333,
     "end_time": "2022-05-23T21:11:58.223907",
     "exception": false,
     "start_time": "2022-05-23T21:11:51.346574",
     "status": "completed"
    },
    "tags": []
   },
   "outputs": [
    {
     "name": "stderr",
     "output_type": "stream",
     "text": [
      "1it [00:06,  6.79s/it]\n"
     ]
    }
   ],
   "source": [
    "nocall_list = []\n",
    "part_count = 12\n",
    "nocall_model.eval()\n",
    "\n",
    "with torch.no_grad():\n",
    "    for i, batch in tqdm(enumerate(nocall_dataloader)):\n",
    "        batch = batch[0]\n",
    "        pred = nocall_model(batch.to(device))\n",
    "        pred = torch.softmax(pred, dim=1)\n",
    "        pred = pred.cpu().numpy()[:, 0] < 0.9\n",
    "        \n",
    "        for j, chunk_pred in enumerate(pred):\n",
    "            fname = nocall_dataset.fnames[i]\n",
    "            prefix = fname.split('.')[0]\n",
    "            \n",
    "            nocall_list.append({\n",
    "                'fname': fname,\n",
    "                'r_sec': 5 * (j + 1),\n",
    "                'iscall': chunk_pred\n",
    "            })\n",
    "nocall_pd = pd.DataFrame(nocall_list)"
   ]
  },
  {
   "cell_type": "markdown",
   "id": "16f40dac",
   "metadata": {
    "papermill": {
     "duration": 0.023211,
     "end_time": "2022-05-23T21:11:58.270532",
     "exception": false,
     "start_time": "2022-05-23T21:11:58.247321",
     "status": "completed"
    },
    "tags": []
   },
   "source": [
    "### Model load"
   ]
  },
  {
   "cell_type": "code",
   "execution_count": 9,
   "id": "19305890",
   "metadata": {
    "execution": {
     "iopub.execute_input": "2022-05-23T21:11:58.323919Z",
     "iopub.status.busy": "2022-05-23T21:11:58.323137Z",
     "iopub.status.idle": "2022-05-23T21:11:58.325615Z",
     "shell.execute_reply": "2022-05-23T21:11:58.325182Z",
     "shell.execute_reply.started": "2022-05-23T21:04:25.500474Z"
    },
    "papermill": {
     "duration": 0.033112,
     "end_time": "2022-05-23T21:11:58.325730",
     "exception": false,
     "start_time": "2022-05-23T21:11:58.292618",
     "status": "completed"
    },
    "tags": []
   },
   "outputs": [],
   "source": [
    "device = torch.device('cuda' if torch.cuda.is_available() else 'cpu')\n",
    "\n",
    "def init_model(config_fname, model_fname, model_root):\n",
    "    config_path = os.path.join(model_root, config_fname)\n",
    "    model_path = os.path.join(model_root, model_fname)\n",
    "    \n",
    "    with open(config_path) as fin:\n",
    "        config = yaml.safe_load(fin)\n",
    "\n",
    "    model_config = config['model']\n",
    "    if 'backbone_config' in model_config['params']:\n",
    "        model_config['params']['backbone_config']['pretrained'] = False\n",
    "    else:\n",
    "        model_config['params']['backbone_config'] = {'pretrained': False}\n",
    "    if 'model_name' in model_config['params']['backbone_config']:\n",
    "        model_config['params']['backbone_config'].pop('model_name')\n",
    "        \n",
    "    data_config = config['data']\n",
    "    model_class = NN_CATALOG[model_config['name']]\n",
    "\n",
    "    model = model_class(len(all_species), int(data_config['crop_len'] // data_config['test_wav_len']),\n",
    "                        **model_config['params'])\n",
    "    model.to(device)\n",
    "\n",
    "    state_dict = torch.load(model_path, map_location=device)\n",
    "    model.load_state_dict(state_dict)\n",
    "    return model\n"
   ]
  },
  {
   "cell_type": "code",
   "execution_count": 10,
   "id": "e7866432",
   "metadata": {
    "execution": {
     "iopub.execute_input": "2022-05-23T21:11:58.374898Z",
     "iopub.status.busy": "2022-05-23T21:11:58.374397Z",
     "iopub.status.idle": "2022-05-23T21:12:00.922345Z",
     "shell.execute_reply": "2022-05-23T21:12:00.923009Z",
     "shell.execute_reply.started": "2022-05-23T21:04:25.512220Z"
    },
    "papermill": {
     "duration": 2.575825,
     "end_time": "2022-05-23T21:12:00.923254",
     "exception": false,
     "start_time": "2022-05-23T21:11:58.347429",
     "status": "completed"
    },
    "tags": []
   },
   "outputs": [],
   "source": [
    "from neural_network import NN_CATALOG\n",
    "\n",
    "\n",
    "ckpt_root = '../input/birdclefsubmit'\n",
    "baseline_path = ('baseline/baseline_config.yaml', 'baseline/final-model.pt')\n",
    "eff_crop_path = [('eff_crop_cv/baseline_config.yaml', f'eff_crop_cv/{i}-fold-model.pt') for i in range(5)]\n",
    "all_data_path = [\n",
    "    ('all_data_train/baseline_config.yaml', f'all_data_train/final-model.pt'),\n",
    "    ('all_data_train/baseline_config.yaml', f'all_data_train/main_stage-4-model.pt'),\n",
    "]\n",
    "baseline_maxpool_path = ('baseline_maxpool/baseline_config.yaml', 'baseline_maxpool/final-model.pt')\n",
    "path_list = [\n",
    "#     *eff_crop_path,\n",
    "    baseline_path,\n",
    "    *all_data_path,\n",
    "#     baseline_maxpool_path\n",
    "]\n",
    "\n",
    "models = [init_model(*p, ckpt_root) for p in path_list]\n",
    "weights = None\n"
   ]
  },
  {
   "cell_type": "code",
   "execution_count": 11,
   "id": "7150fda9",
   "metadata": {
    "execution": {
     "iopub.execute_input": "2022-05-23T21:12:01.051022Z",
     "iopub.status.busy": "2022-05-23T21:12:01.049914Z",
     "iopub.status.idle": "2022-05-23T21:12:01.053789Z",
     "shell.execute_reply": "2022-05-23T21:12:01.054806Z",
     "shell.execute_reply.started": "2022-05-23T21:04:27.790895Z"
    },
    "papermill": {
     "duration": 0.057571,
     "end_time": "2022-05-23T21:12:01.055003",
     "exception": false,
     "start_time": "2022-05-23T21:12:00.997432",
     "status": "completed"
    },
    "tags": []
   },
   "outputs": [],
   "source": [
    "class Blending(nn.Module):\n",
    "    def __init__(self, models, weights):\n",
    "        super().__init__()\n",
    "        for m in models:\n",
    "            m.eval()\n",
    "        self.models = models\n",
    "        self.weights = weights or [1 / len(models) for _ in models]\n",
    "        \n",
    "    def forward(self, wav_tensor):\n",
    "        pred = [m(wav_tensor)['logits'] for m in self.models]\n",
    "        pred = sum(p * w for p, w in zip(pred, self.weights))\n",
    "        return pred"
   ]
  },
  {
   "cell_type": "code",
   "execution_count": 12,
   "id": "51ba5766",
   "metadata": {
    "execution": {
     "iopub.execute_input": "2022-05-23T21:12:01.140454Z",
     "iopub.status.busy": "2022-05-23T21:12:01.139653Z",
     "iopub.status.idle": "2022-05-23T21:12:01.143566Z",
     "shell.execute_reply": "2022-05-23T21:12:01.144347Z",
     "shell.execute_reply.started": "2022-05-23T21:04:27.799540Z"
    },
    "papermill": {
     "duration": 0.051086,
     "end_time": "2022-05-23T21:12:01.144527",
     "exception": false,
     "start_time": "2022-05-23T21:12:01.093441",
     "status": "completed"
    },
    "tags": []
   },
   "outputs": [],
   "source": [
    "model = Blending(models, weights)"
   ]
  },
  {
   "cell_type": "markdown",
   "id": "e511c15b",
   "metadata": {
    "papermill": {
     "duration": 0.037937,
     "end_time": "2022-05-23T21:12:01.222035",
     "exception": false,
     "start_time": "2022-05-23T21:12:01.184098",
     "status": "completed"
    },
    "tags": []
   },
   "source": [
    "### Torch Dataset"
   ]
  },
  {
   "cell_type": "code",
   "execution_count": 13,
   "id": "51cf17e4",
   "metadata": {
    "execution": {
     "iopub.execute_input": "2022-05-23T21:12:01.284393Z",
     "iopub.status.busy": "2022-05-23T21:12:01.283704Z",
     "iopub.status.idle": "2022-05-23T21:12:01.289308Z",
     "shell.execute_reply": "2022-05-23T21:12:01.288852Z",
     "shell.execute_reply.started": "2022-05-23T21:04:31.522450Z"
    },
    "papermill": {
     "duration": 0.033289,
     "end_time": "2022-05-23T21:12:01.289424",
     "exception": false,
     "start_time": "2022-05-23T21:12:01.256135",
     "status": "completed"
    },
    "tags": []
   },
   "outputs": [],
   "source": [
    "with open(os.path.join(data_root, 'scored_birds.json')) as fin:\n",
    "    test_birds = json.load(fin)"
   ]
  },
  {
   "cell_type": "code",
   "execution_count": 14,
   "id": "22c4f633",
   "metadata": {
    "execution": {
     "iopub.execute_input": "2022-05-23T21:12:01.346239Z",
     "iopub.status.busy": "2022-05-23T21:12:01.345598Z",
     "iopub.status.idle": "2022-05-23T21:12:01.348042Z",
     "shell.execute_reply": "2022-05-23T21:12:01.348466Z",
     "shell.execute_reply.started": "2022-05-23T21:04:33.482463Z"
    },
    "papermill": {
     "duration": 0.035678,
     "end_time": "2022-05-23T21:12:01.348600",
     "exception": false,
     "start_time": "2022-05-23T21:12:01.312922",
     "status": "completed"
    },
    "tags": []
   },
   "outputs": [],
   "source": [
    "class Compose:\n",
    "    def __init__(self, transforms: list):\n",
    "        self.transforms = transforms\n",
    "\n",
    "    def __call__(self, y: np.ndarray, sr):\n",
    "        for trns in self.transforms:\n",
    "            y = trns(y, sr)\n",
    "        return y\n",
    "    \n",
    "    \n",
    "class AudioTransform:\n",
    "    def __init__(self, always_apply=False, p=0.5):\n",
    "        self.always_apply = always_apply\n",
    "        self.p = p\n",
    "\n",
    "    def __call__(self, y: np.ndarray, sr):\n",
    "        if self.always_apply:\n",
    "            return self.apply(y, sr=sr)\n",
    "        else:\n",
    "            if np.random.rand() < self.p:\n",
    "                return self.apply(y, sr=sr)\n",
    "            else:\n",
    "                return y\n",
    "\n",
    "    def apply(self, y: np.ndarray, **params):\n",
    "        raise NotImplementedError\n",
    "        \n",
    "        \n",
    "class Normalize(AudioTransform):\n",
    "    def __init__(self, always_apply=False, p=1):\n",
    "        super().__init__(always_apply, p)\n",
    "\n",
    "    def apply(self, y: np.ndarray, **params):\n",
    "        max_vol = np.abs(y).max()\n",
    "        y_vol = y / max_vol\n",
    "        assert not np.isnan(y_vol).any(), f'{max_vol}'\n",
    "        return y_vol"
   ]
  },
  {
   "cell_type": "code",
   "execution_count": 15,
   "id": "a46e9dc4",
   "metadata": {
    "execution": {
     "iopub.execute_input": "2022-05-23T21:12:01.403359Z",
     "iopub.status.busy": "2022-05-23T21:12:01.401900Z",
     "iopub.status.idle": "2022-05-23T21:12:01.403955Z",
     "shell.execute_reply": "2022-05-23T21:12:01.404375Z",
     "shell.execute_reply.started": "2022-05-23T21:04:35.170738Z"
    },
    "papermill": {
     "duration": 0.032381,
     "end_time": "2022-05-23T21:12:01.404493",
     "exception": false,
     "start_time": "2022-05-23T21:12:01.372112",
     "status": "completed"
    },
    "tags": []
   },
   "outputs": [],
   "source": [
    "class TestDataset(Dataset):\n",
    "    def __init__(self, test_folder, augmentations=None):\n",
    "        super().__init__()\n",
    "        self.test_folder = test_folder\n",
    "        self.fnames = [f for f in os.listdir(test_folder) if f.endswith('.ogg')]\n",
    "        self.augmentations = augmentations\n",
    "        \n",
    "    def __len__(self):\n",
    "        return len(self.fnames)\n",
    "    \n",
    "    def __getitem__(self, idx):\n",
    "        fpath = os.path.join(self.test_folder, self.fnames[idx])\n",
    "        wav, sr = load_wav(fpath, 0, None)\n",
    "        if self.augmentations:\n",
    "            wav = self.augmentations(wav, None)\n",
    "        wav = torch.tensor(wav)\n",
    "        assert (13 * 5 * sr) > len(wav) \n",
    "        wav = wav[:len(wav) // 12 * 12].reshape((12, len(wav) // 12))\n",
    "        return wav"
   ]
  },
  {
   "cell_type": "code",
   "execution_count": 16,
   "id": "1b68d23b",
   "metadata": {
    "execution": {
     "iopub.execute_input": "2022-05-23T21:12:01.454056Z",
     "iopub.status.busy": "2022-05-23T21:12:01.453321Z",
     "iopub.status.idle": "2022-05-23T21:12:01.456599Z",
     "shell.execute_reply": "2022-05-23T21:12:01.456115Z",
     "shell.execute_reply.started": "2022-05-23T21:04:36.627349Z"
    },
    "papermill": {
     "duration": 0.030203,
     "end_time": "2022-05-23T21:12:01.456712",
     "exception": false,
     "start_time": "2022-05-23T21:12:01.426509",
     "status": "completed"
    },
    "tags": []
   },
   "outputs": [],
   "source": [
    "test_dataset = TestDataset(\n",
    "    os.path.join(data_root, 'test_soundscapes'),\n",
    "    Compose([Normalize(p=1)])\n",
    ")\n",
    "test_dataloader = DataLoader(\n",
    "    test_dataset,\n",
    "    batch_size=1,\n",
    "    shuffle=False,\n",
    "    num_workers=2,\n",
    "    drop_last=False,   \n",
    ")"
   ]
  },
  {
   "cell_type": "code",
   "execution_count": 17,
   "id": "70a688b8",
   "metadata": {
    "execution": {
     "iopub.execute_input": "2022-05-23T21:12:01.506583Z",
     "iopub.status.busy": "2022-05-23T21:12:01.505883Z",
     "iopub.status.idle": "2022-05-23T21:12:01.508654Z",
     "shell.execute_reply": "2022-05-23T21:12:01.508134Z",
     "shell.execute_reply.started": "2022-05-23T21:04:36.950901Z"
    },
    "papermill": {
     "duration": 0.029864,
     "end_time": "2022-05-23T21:12:01.508760",
     "exception": false,
     "start_time": "2022-05-23T21:12:01.478896",
     "status": "completed"
    },
    "tags": []
   },
   "outputs": [],
   "source": [
    "def find_topk(pred_proba, max_birds=5):\n",
    "    pred_proba = pred_proba[:, [species2id[b] for b in test_birds]]\n",
    "    mean_proba = pred_proba.mean(axis=0)\n",
    "    topk_birds = [i for i, _ in sorted(enumerate(mean_proba),\n",
    "                                       key=lambda x: x[1],\n",
    "                                       reverse=True)][:max_birds]\n",
    "    return topk_birds"
   ]
  },
  {
   "cell_type": "code",
   "execution_count": 18,
   "id": "0414b715",
   "metadata": {
    "execution": {
     "iopub.execute_input": "2022-05-23T21:12:01.565536Z",
     "iopub.status.busy": "2022-05-23T21:12:01.564867Z",
     "iopub.status.idle": "2022-05-23T21:12:01.571002Z",
     "shell.execute_reply": "2022-05-23T21:12:01.571445Z",
     "shell.execute_reply.started": "2022-05-23T21:10:13.030044Z"
    },
    "papermill": {
     "duration": 0.040883,
     "end_time": "2022-05-23T21:12:01.571572",
     "exception": false,
     "start_time": "2022-05-23T21:12:01.530689",
     "status": "completed"
    },
    "tags": []
   },
   "outputs": [
    {
     "data": {
      "text/plain": [
       "{'akiapo': 0.09,\n",
       " 'aniani': 0.025,\n",
       " 'apapan': 0.05,\n",
       " 'barpet': 0.02,\n",
       " 'crehon': 0.05,\n",
       " 'elepai': 0.08499999999999999,\n",
       " 'ercfra': 0.055,\n",
       " 'hawama': 0.04,\n",
       " 'hawcre': 0.05,\n",
       " 'hawgoo': 0.13,\n",
       " 'hawhaw': 0.015,\n",
       " 'hawpet1': 0.05,\n",
       " 'houfin': 0.07500000000000001,\n",
       " 'iiwi': 0.16999999999999998,\n",
       " 'jabwar': 0.030000000000000002,\n",
       " 'maupar': 0.05,\n",
       " 'omao': 0.16,\n",
       " 'puaioh': 0.05,\n",
       " 'skylar': 0.085,\n",
       " 'warwhe1': 0.04,\n",
       " 'yefcan': 0.030000000000000002}"
      ]
     },
     "execution_count": 18,
     "metadata": {},
     "output_type": "execute_result"
    }
   ],
   "source": [
    "treshold_dict = [\n",
    "    # all_data model\n",
    "    {\n",
    "        'akiapo': 0.08,\n",
    "        'aniani': 0.03,\n",
    "        'apapan': 0.07,\n",
    "        'barpet': 0.01,\n",
    "        'crehon': 0.05,\n",
    "        'elepai': 0.09,\n",
    "        'ercfra': 0.09,\n",
    "        'hawama': 0.06,\n",
    "        'hawcre': 0.05,\n",
    "        'hawgoo': 0.25,\n",
    "        'hawhaw': 0.02,\n",
    "        'hawpet1': 0.05,\n",
    "        'houfin': 0.1,\n",
    "        'iiwi': 0.09,\n",
    "        'jabwar': 0.05,\n",
    "        'maupar': 0.05,\n",
    "        'omao': 0.07,\n",
    "        'puaioh': 0.05,\n",
    "        'skylar': 0.1,\n",
    "        'warwhe1': 0.07,\n",
    "        'yefcan': 0.05\n",
    "    },\n",
    "    # baseline\n",
    "    {\n",
    "        'akiapo': 0.1,\n",
    "        'aniani': 0.02,\n",
    "        'apapan': 0.03,\n",
    "        'barpet': 0.03,\n",
    "        'crehon': 0.05,\n",
    "        'elepai': 0.08,\n",
    "        'ercfra': 0.02,\n",
    "        'hawama': 0.02,\n",
    "        'hawcre': 0.05,\n",
    "        'hawgoo': 0.01,\n",
    "        'hawhaw': 0.01,\n",
    "        'hawpet1': 0.05,\n",
    "        'houfin': 0.05,\n",
    "        'iiwi': 0.25,\n",
    "        'jabwar': 0.01,\n",
    "        'maupar': 0.05,\n",
    "        'omao': 0.25,\n",
    "        'puaioh': 0.05,\n",
    "        'skylar': 0.07,\n",
    "        'warwhe1': 0.01,\n",
    "        'yefcan': 0.01\n",
    "    }\n",
    "]\n",
    "treshold_dict = {key: np.mean([t[key] for t in treshold_dict]) for key, _ in treshold_dict[0].items()}\n",
    "treshold_dict"
   ]
  },
  {
   "cell_type": "code",
   "execution_count": 19,
   "id": "89d383cf",
   "metadata": {
    "execution": {
     "iopub.execute_input": "2022-05-23T21:12:01.626536Z",
     "iopub.status.busy": "2022-05-23T21:12:01.625177Z",
     "iopub.status.idle": "2022-05-23T21:12:02.370010Z",
     "shell.execute_reply": "2022-05-23T21:12:02.370617Z",
     "shell.execute_reply.started": "2022-05-23T21:10:31.968551Z"
    },
    "papermill": {
     "duration": 0.776926,
     "end_time": "2022-05-23T21:12:02.370836",
     "exception": false,
     "start_time": "2022-05-23T21:12:01.593910",
     "status": "completed"
    },
    "tags": []
   },
   "outputs": [
    {
     "name": "stderr",
     "output_type": "stream",
     "text": [
      "1it [00:00,  1.47it/s]\n"
     ]
    }
   ],
   "source": [
    "pred_list = []\n",
    "treshold = 0.1\n",
    "with torch.no_grad():\n",
    "    for i, batch in tqdm(enumerate(test_dataloader)):\n",
    "        batch_size, part_count, part_size = batch.shape\n",
    "        batch = batch.reshape(batch_size * part_count, part_size)\n",
    "        pred = model(batch.to(device))\n",
    "        pred = pred.cpu().numpy()\n",
    "#         topk_birds = find_topk(pred_proba, max_birds=10)\n",
    "        \n",
    "        for j, chunk_pred in enumerate(pred):\n",
    "            inbatch_number = j // part_count\n",
    "            chunk_number = j % part_count + 1\n",
    "            f_idx = i * batch_size + inbatch_number\n",
    "            fname = test_dataset.fnames[f_idx]\n",
    "            prefix = fname.split('.')[0]\n",
    "            sufix = f'{5 * chunk_number}'\n",
    "            nocall = nocall_pd[(nocall_pd.fname == fname) & (nocall_pd.r_sec == 5 * chunk_number)]['iscall'].values[0]\n",
    "            \n",
    "            pred_list.extend([{\n",
    "                'row_id': '_'.join([prefix, b, sufix]),\n",
    "                'target': (chunk_pred[species2id[b]] > treshold_dict[b]) and nocall # if species2id[b] in topk_birds else False\n",
    "            } for b in test_birds])\n",
    "pred_pd = pd.DataFrame(pred_list)"
   ]
  },
  {
   "cell_type": "code",
   "execution_count": 20,
   "id": "016edd83",
   "metadata": {
    "execution": {
     "iopub.execute_input": "2022-05-23T21:12:02.427830Z",
     "iopub.status.busy": "2022-05-23T21:12:02.427227Z",
     "iopub.status.idle": "2022-05-23T21:12:02.444844Z",
     "shell.execute_reply": "2022-05-23T21:12:02.444348Z",
     "shell.execute_reply.started": "2022-05-23T21:10:34.463288Z"
    },
    "papermill": {
     "duration": 0.047193,
     "end_time": "2022-05-23T21:12:02.444963",
     "exception": false,
     "start_time": "2022-05-23T21:12:02.397770",
     "status": "completed"
    },
    "tags": []
   },
   "outputs": [
    {
     "data": {
      "text/html": [
       "<div>\n",
       "<style scoped>\n",
       "    .dataframe tbody tr th:only-of-type {\n",
       "        vertical-align: middle;\n",
       "    }\n",
       "\n",
       "    .dataframe tbody tr th {\n",
       "        vertical-align: top;\n",
       "    }\n",
       "\n",
       "    .dataframe thead th {\n",
       "        text-align: right;\n",
       "    }\n",
       "</style>\n",
       "<table border=\"1\" class=\"dataframe\">\n",
       "  <thead>\n",
       "    <tr style=\"text-align: right;\">\n",
       "      <th></th>\n",
       "      <th>row_id</th>\n",
       "      <th>target</th>\n",
       "    </tr>\n",
       "  </thead>\n",
       "  <tbody>\n",
       "    <tr>\n",
       "      <th>0</th>\n",
       "      <td>soundscape_453028782_akiapo_5</td>\n",
       "      <td>False</td>\n",
       "    </tr>\n",
       "    <tr>\n",
       "      <th>1</th>\n",
       "      <td>soundscape_453028782_aniani_5</td>\n",
       "      <td>False</td>\n",
       "    </tr>\n",
       "    <tr>\n",
       "      <th>2</th>\n",
       "      <td>soundscape_453028782_apapan_5</td>\n",
       "      <td>False</td>\n",
       "    </tr>\n",
       "    <tr>\n",
       "      <th>3</th>\n",
       "      <td>soundscape_453028782_barpet_5</td>\n",
       "      <td>False</td>\n",
       "    </tr>\n",
       "    <tr>\n",
       "      <th>4</th>\n",
       "      <td>soundscape_453028782_crehon_5</td>\n",
       "      <td>False</td>\n",
       "    </tr>\n",
       "    <tr>\n",
       "      <th>...</th>\n",
       "      <td>...</td>\n",
       "      <td>...</td>\n",
       "    </tr>\n",
       "    <tr>\n",
       "      <th>247</th>\n",
       "      <td>soundscape_453028782_omao_60</td>\n",
       "      <td>False</td>\n",
       "    </tr>\n",
       "    <tr>\n",
       "      <th>248</th>\n",
       "      <td>soundscape_453028782_puaioh_60</td>\n",
       "      <td>False</td>\n",
       "    </tr>\n",
       "    <tr>\n",
       "      <th>249</th>\n",
       "      <td>soundscape_453028782_skylar_60</td>\n",
       "      <td>False</td>\n",
       "    </tr>\n",
       "    <tr>\n",
       "      <th>250</th>\n",
       "      <td>soundscape_453028782_warwhe1_60</td>\n",
       "      <td>False</td>\n",
       "    </tr>\n",
       "    <tr>\n",
       "      <th>251</th>\n",
       "      <td>soundscape_453028782_yefcan_60</td>\n",
       "      <td>False</td>\n",
       "    </tr>\n",
       "  </tbody>\n",
       "</table>\n",
       "<p>252 rows × 2 columns</p>\n",
       "</div>"
      ],
      "text/plain": [
       "                              row_id  target\n",
       "0      soundscape_453028782_akiapo_5   False\n",
       "1      soundscape_453028782_aniani_5   False\n",
       "2      soundscape_453028782_apapan_5   False\n",
       "3      soundscape_453028782_barpet_5   False\n",
       "4      soundscape_453028782_crehon_5   False\n",
       "..                               ...     ...\n",
       "247     soundscape_453028782_omao_60   False\n",
       "248   soundscape_453028782_puaioh_60   False\n",
       "249   soundscape_453028782_skylar_60   False\n",
       "250  soundscape_453028782_warwhe1_60   False\n",
       "251   soundscape_453028782_yefcan_60   False\n",
       "\n",
       "[252 rows x 2 columns]"
      ]
     },
     "execution_count": 20,
     "metadata": {},
     "output_type": "execute_result"
    }
   ],
   "source": [
    "pred_pd.to_csv(\"submission.csv\", index=False)\n",
    "pred_pd"
   ]
  },
  {
   "cell_type": "code",
   "execution_count": 21,
   "id": "b8049e2d",
   "metadata": {
    "execution": {
     "iopub.execute_input": "2022-05-23T21:12:02.505480Z",
     "iopub.status.busy": "2022-05-23T21:12:02.504798Z",
     "iopub.status.idle": "2022-05-23T21:12:02.508755Z",
     "shell.execute_reply": "2022-05-23T21:12:02.509130Z",
     "shell.execute_reply.started": "2022-05-23T21:10:35.353307Z"
    },
    "papermill": {
     "duration": 0.03842,
     "end_time": "2022-05-23T21:12:02.509294",
     "exception": false,
     "start_time": "2022-05-23T21:12:02.470874",
     "status": "completed"
    },
    "tags": []
   },
   "outputs": [
    {
     "data": {
      "text/html": [
       "<div>\n",
       "<style scoped>\n",
       "    .dataframe tbody tr th:only-of-type {\n",
       "        vertical-align: middle;\n",
       "    }\n",
       "\n",
       "    .dataframe tbody tr th {\n",
       "        vertical-align: top;\n",
       "    }\n",
       "\n",
       "    .dataframe thead th {\n",
       "        text-align: right;\n",
       "    }\n",
       "</style>\n",
       "<table border=\"1\" class=\"dataframe\">\n",
       "  <thead>\n",
       "    <tr style=\"text-align: right;\">\n",
       "      <th></th>\n",
       "      <th>row_id</th>\n",
       "      <th>target</th>\n",
       "    </tr>\n",
       "  </thead>\n",
       "  <tbody>\n",
       "    <tr>\n",
       "      <th>22</th>\n",
       "      <td>soundscape_453028782_aniani_10</td>\n",
       "      <td>True</td>\n",
       "    </tr>\n",
       "    <tr>\n",
       "      <th>35</th>\n",
       "      <td>soundscape_453028782_jabwar_10</td>\n",
       "      <td>True</td>\n",
       "    </tr>\n",
       "    <tr>\n",
       "      <th>40</th>\n",
       "      <td>soundscape_453028782_warwhe1_10</td>\n",
       "      <td>True</td>\n",
       "    </tr>\n",
       "    <tr>\n",
       "      <th>56</th>\n",
       "      <td>soundscape_453028782_jabwar_15</td>\n",
       "      <td>True</td>\n",
       "    </tr>\n",
       "    <tr>\n",
       "      <th>61</th>\n",
       "      <td>soundscape_453028782_warwhe1_15</td>\n",
       "      <td>True</td>\n",
       "    </tr>\n",
       "    <tr>\n",
       "      <th>77</th>\n",
       "      <td>soundscape_453028782_jabwar_20</td>\n",
       "      <td>True</td>\n",
       "    </tr>\n",
       "    <tr>\n",
       "      <th>98</th>\n",
       "      <td>soundscape_453028782_jabwar_25</td>\n",
       "      <td>True</td>\n",
       "    </tr>\n",
       "    <tr>\n",
       "      <th>148</th>\n",
       "      <td>soundscape_453028782_aniani_40</td>\n",
       "      <td>True</td>\n",
       "    </tr>\n",
       "    <tr>\n",
       "      <th>150</th>\n",
       "      <td>soundscape_453028782_barpet_40</td>\n",
       "      <td>True</td>\n",
       "    </tr>\n",
       "    <tr>\n",
       "      <th>161</th>\n",
       "      <td>soundscape_453028782_jabwar_40</td>\n",
       "      <td>True</td>\n",
       "    </tr>\n",
       "    <tr>\n",
       "      <th>169</th>\n",
       "      <td>soundscape_453028782_aniani_45</td>\n",
       "      <td>True</td>\n",
       "    </tr>\n",
       "    <tr>\n",
       "      <th>179</th>\n",
       "      <td>soundscape_453028782_hawpet1_45</td>\n",
       "      <td>True</td>\n",
       "    </tr>\n",
       "    <tr>\n",
       "      <th>182</th>\n",
       "      <td>soundscape_453028782_jabwar_45</td>\n",
       "      <td>True</td>\n",
       "    </tr>\n",
       "    <tr>\n",
       "      <th>203</th>\n",
       "      <td>soundscape_453028782_jabwar_50</td>\n",
       "      <td>True</td>\n",
       "    </tr>\n",
       "  </tbody>\n",
       "</table>\n",
       "</div>"
      ],
      "text/plain": [
       "                              row_id  target\n",
       "22    soundscape_453028782_aniani_10    True\n",
       "35    soundscape_453028782_jabwar_10    True\n",
       "40   soundscape_453028782_warwhe1_10    True\n",
       "56    soundscape_453028782_jabwar_15    True\n",
       "61   soundscape_453028782_warwhe1_15    True\n",
       "77    soundscape_453028782_jabwar_20    True\n",
       "98    soundscape_453028782_jabwar_25    True\n",
       "148   soundscape_453028782_aniani_40    True\n",
       "150   soundscape_453028782_barpet_40    True\n",
       "161   soundscape_453028782_jabwar_40    True\n",
       "169   soundscape_453028782_aniani_45    True\n",
       "179  soundscape_453028782_hawpet1_45    True\n",
       "182   soundscape_453028782_jabwar_45    True\n",
       "203   soundscape_453028782_jabwar_50    True"
      ]
     },
     "execution_count": 21,
     "metadata": {},
     "output_type": "execute_result"
    }
   ],
   "source": [
    "pred_pd[pred_pd.target]"
   ]
  },
  {
   "cell_type": "code",
   "execution_count": null,
   "id": "72f26faa",
   "metadata": {
    "papermill": {
     "duration": 0.026267,
     "end_time": "2022-05-23T21:12:02.561723",
     "exception": false,
     "start_time": "2022-05-23T21:12:02.535456",
     "status": "completed"
    },
    "tags": []
   },
   "outputs": [],
   "source": []
  }
 ],
 "metadata": {
  "kernelspec": {
   "display_name": "Python 3",
   "language": "python",
   "name": "python3"
  },
  "language_info": {
   "codemirror_mode": {
    "name": "ipython",
    "version": 3
   },
   "file_extension": ".py",
   "mimetype": "text/x-python",
   "name": "python",
   "nbconvert_exporter": "python",
   "pygments_lexer": "ipython3",
   "version": "3.7.12"
  },
  "papermill": {
   "default_parameters": {},
   "duration": 35.067679,
   "end_time": "2022-05-23T21:12:04.300502",
   "environment_variables": {},
   "exception": null,
   "input_path": "__notebook__.ipynb",
   "output_path": "__notebook__.ipynb",
   "parameters": {},
   "start_time": "2022-05-23T21:11:29.232823",
   "version": "2.3.3"
  }
 },
 "nbformat": 4,
 "nbformat_minor": 5
}
