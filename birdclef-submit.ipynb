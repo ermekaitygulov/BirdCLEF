{
 "cells": [
  {
   "cell_type": "code",
   "execution_count": 1,
   "id": "dddf27da",
   "metadata": {
    "_cell_guid": "b1076dfc-b9ad-4769-8c92-a6c4dae69d19",
    "_uuid": "8f2839f25d086af736a60e9eeb907d3b93b6e0e5",
    "execution": {
     "iopub.execute_input": "2022-05-01T16:37:07.697528Z",
     "iopub.status.busy": "2022-05-01T16:37:07.696019Z",
     "iopub.status.idle": "2022-05-01T16:37:12.706924Z",
     "shell.execute_reply": "2022-05-01T16:37:12.705933Z",
     "shell.execute_reply.started": "2022-05-01T16:22:39.983396Z"
    },
    "papermill": {
     "duration": 5.031916,
     "end_time": "2022-05-01T16:37:12.707081",
     "exception": false,
     "start_time": "2022-05-01T16:37:07.675165",
     "status": "completed"
    },
    "tags": []
   },
   "outputs": [],
   "source": [
    "# This Python 3 environment comes with many helpful analytics libraries installed\n",
    "# It is defined by the kaggle/python Docker image: https://github.com/kaggle/docker-python\n",
    "# For example, here's several helpful packages to load\n",
    "import sys\n",
    "sys.path.append('../input/timm-pytorch-image-models/pytorch-image-models-master')\n",
    "\n",
    "import numpy as np # linear algebra\n",
    "import pandas as pd # data processing, CSV file I/O (e.g. pd.read_csv)\n",
    "from matplotlib import pyplot as plt\n",
    "import json\n",
    "import random\n",
    "\n",
    "import librosa\n",
    "\n",
    "import torch\n",
    "import torchaudio as ta\n",
    "import timm\n",
    "\n",
    "from tqdm import tqdm\n",
    "\n",
    "# Input data files are available in the read-only \"../input/\" directory\n",
    "# For example, running this (by clicking run or pressing Shift+Enter) will list all files under the input directory\n",
    "\n",
    "import os\n",
    "# for dirname, _, filenames in os.walk('/kaggle/input'):\n",
    "#     for filename in filenames:\n",
    "#         print(os.path.join(dirname, filename))\n",
    "\n",
    "# You can write up to 20GB to the current directory (/kaggle/working/) that gets preserved as output when you create a version using \"Save & Run All\" \n",
    "# You can also write temporary files to /kaggle/temp/, but they won't be saved outside of the current session"
   ]
  },
  {
   "cell_type": "code",
   "execution_count": 2,
   "id": "dd7e87b5",
   "metadata": {
    "execution": {
     "iopub.execute_input": "2022-05-01T16:37:12.744529Z",
     "iopub.status.busy": "2022-05-01T16:37:12.743920Z",
     "iopub.status.idle": "2022-05-01T16:37:13.053765Z",
     "shell.execute_reply": "2022-05-01T16:37:13.052800Z",
     "shell.execute_reply.started": "2022-05-01T16:24:43.519587Z"
    },
    "papermill": {
     "duration": 0.330314,
     "end_time": "2022-05-01T16:37:13.053933",
     "exception": false,
     "start_time": "2022-05-01T16:37:12.723619",
     "status": "completed"
    },
    "tags": []
   },
   "outputs": [],
   "source": [
    "data_root = '/kaggle/input/birdclef-2022'\n",
    "train_meta = pd.read_csv('../input/birdclef-data-with-wav-durations/train_metadata_extended.csv')\n",
    "ebird_taxonomy = pd.read_csv(os.path.join(data_root, 'eBird_Taxonomy_v2021.csv'))"
   ]
  },
  {
   "cell_type": "code",
   "execution_count": 3,
   "id": "743edf4f",
   "metadata": {
    "execution": {
     "iopub.execute_input": "2022-05-01T16:37:13.126311Z",
     "iopub.status.busy": "2022-05-01T16:37:13.116028Z",
     "iopub.status.idle": "2022-05-01T16:37:13.164667Z",
     "shell.execute_reply": "2022-05-01T16:37:13.163898Z",
     "shell.execute_reply.started": "2022-05-01T16:24:45.739521Z"
    },
    "papermill": {
     "duration": 0.093646,
     "end_time": "2022-05-01T16:37:13.164782",
     "exception": false,
     "start_time": "2022-05-01T16:37:13.071136",
     "status": "completed"
    },
    "tags": []
   },
   "outputs": [],
   "source": [
    "train_meta.loc[:, 'secondary_labels'] = train_meta.secondary_labels.apply(eval)\n",
    "train_meta['target_raw'] = train_meta.secondary_labels + train_meta.primary_label.apply(lambda x: [x])"
   ]
  },
  {
   "cell_type": "code",
   "execution_count": 4,
   "id": "01caebf1",
   "metadata": {
    "execution": {
     "iopub.execute_input": "2022-05-01T16:37:13.598089Z",
     "iopub.status.busy": "2022-05-01T16:37:13.588348Z",
     "iopub.status.idle": "2022-05-01T16:37:13.951477Z",
     "shell.execute_reply": "2022-05-01T16:37:13.951911Z",
     "shell.execute_reply.started": "2022-05-01T16:24:46.131613Z"
    },
    "papermill": {
     "duration": 0.771536,
     "end_time": "2022-05-01T16:37:13.952086",
     "exception": false,
     "start_time": "2022-05-01T16:37:13.180550",
     "status": "completed"
    },
    "tags": []
   },
   "outputs": [],
   "source": [
    "all_species = sorted(set(train_meta.target_raw.sum()))\n",
    "species2id = {s: i for i, s in enumerate(all_species)}\n",
    "id2species = {i: s for i, s in enumerate(all_species)}\n",
    "\n",
    "train_meta['target'] = train_meta.target_raw.apply(lambda species: [int(s in species) for s in all_species])"
   ]
  },
  {
   "cell_type": "code",
   "execution_count": 5,
   "id": "d4c5e74f",
   "metadata": {
    "execution": {
     "iopub.execute_input": "2022-05-01T16:37:13.988720Z",
     "iopub.status.busy": "2022-05-01T16:37:13.987204Z",
     "iopub.status.idle": "2022-05-01T16:37:13.990574Z",
     "shell.execute_reply": "2022-05-01T16:37:13.990984Z",
     "shell.execute_reply.started": "2022-05-01T16:24:47.273730Z"
    },
    "papermill": {
     "duration": 0.023161,
     "end_time": "2022-05-01T16:37:13.991109",
     "exception": false,
     "start_time": "2022-05-01T16:37:13.967948",
     "status": "completed"
    },
    "tags": []
   },
   "outputs": [],
   "source": [
    "def load_wav(fname, offset, duration):\n",
    "#     fname = 'afrsil1/XC125458.ogg'\n",
    "    fpath = os.path.join(data_root, 'train_audio', fname)\n",
    "    wav, sr = librosa.load(fpath, sr=None, duration=duration)\n",
    "    assert sr <= 32000, sr\n",
    "    return wav, sr"
   ]
  },
  {
   "cell_type": "markdown",
   "id": "7c50efd0",
   "metadata": {
    "papermill": {
     "duration": 0.015385,
     "end_time": "2022-05-01T16:37:14.021994",
     "exception": false,
     "start_time": "2022-05-01T16:37:14.006609",
     "status": "completed"
    },
    "tags": []
   },
   "source": [
    "### Torch Dataset"
   ]
  },
  {
   "cell_type": "code",
   "execution_count": 6,
   "id": "c4ff3ad7",
   "metadata": {
    "execution": {
     "iopub.execute_input": "2022-05-01T16:37:14.058822Z",
     "iopub.status.busy": "2022-05-01T16:37:14.057243Z",
     "iopub.status.idle": "2022-05-01T16:37:14.059420Z",
     "shell.execute_reply": "2022-05-01T16:37:14.059823Z",
     "shell.execute_reply.started": "2022-05-01T16:24:48.723617Z"
    },
    "papermill": {
     "duration": 0.022322,
     "end_time": "2022-05-01T16:37:14.059940",
     "exception": false,
     "start_time": "2022-05-01T16:37:14.037618",
     "status": "completed"
    },
    "tags": []
   },
   "outputs": [],
   "source": [
    "TEST_SIZE = 5 \n",
    "CONFIG = {\n",
    "    'crop_len': 30,\n",
    "    'sample_rate': 32000,    \n",
    "}\n"
   ]
  },
  {
   "cell_type": "code",
   "execution_count": 7,
   "id": "bdaa149e",
   "metadata": {
    "execution": {
     "iopub.execute_input": "2022-05-01T16:37:14.099701Z",
     "iopub.status.busy": "2022-05-01T16:37:14.099150Z",
     "iopub.status.idle": "2022-05-01T16:37:14.102705Z",
     "shell.execute_reply": "2022-05-01T16:37:14.102278Z",
     "shell.execute_reply.started": "2022-05-01T16:24:49.193918Z"
    },
    "papermill": {
     "duration": 0.027443,
     "end_time": "2022-05-01T16:37:14.102814",
     "exception": false,
     "start_time": "2022-05-01T16:37:14.075371",
     "status": "completed"
    },
    "tags": []
   },
   "outputs": [],
   "source": [
    "from torch.utils.data import Dataset, DataLoader\n",
    "\n",
    "class BirdDataset(Dataset):\n",
    "    def __init__(self, df):\n",
    "        super().__init__()\n",
    "        self.df = df\n",
    "        \n",
    "    def __getitem__(self, idx):\n",
    "        duration = CONFIG['crop_len']\n",
    "        sample_rate = CONFIG['sample_rate']\n",
    "        \n",
    "        fname = self.df.iloc[idx]['filename']\n",
    "        wav_len = train_meta.iloc[0]['duration']\n",
    "        \n",
    "        max_offset = max(0, wav_len - duration)\n",
    "        random_offset = random.randint(0, max_offset)\n",
    "                \n",
    "        wav, sr = load_wav(fname, random_offset, duration)\n",
    "        to_pad = duration * sample_rate - wav.shape[0]\n",
    "        if to_pad > 0:\n",
    "            wav = np.pad(wav, (0, to_pad))\n",
    "            \n",
    "        target = self.df.iloc[idx]['target']\n",
    "        \n",
    "        # TODO: add weighting\n",
    "            \n",
    "        wav = torch.tensor(wav)\n",
    "        target = torch.tensor(target, dtype=float)\n",
    "        return {\n",
    "            'wav': wav,\n",
    "            'target': target,\n",
    "        }\n",
    "\n",
    "    def __len__(self):\n",
    "        return len(self.df)"
   ]
  },
  {
   "cell_type": "markdown",
   "id": "a2d6809d",
   "metadata": {
    "execution": {
     "iopub.execute_input": "2022-04-21T09:17:01.036366Z",
     "iopub.status.busy": "2022-04-21T09:17:01.036048Z",
     "iopub.status.idle": "2022-04-21T09:17:01.05202Z",
     "shell.execute_reply": "2022-04-21T09:17:01.050779Z",
     "shell.execute_reply.started": "2022-04-21T09:17:01.036334Z"
    },
    "papermill": {
     "duration": 0.015227,
     "end_time": "2022-05-01T16:37:14.133398",
     "exception": false,
     "start_time": "2022-05-01T16:37:14.118171",
     "status": "completed"
    },
    "tags": []
   },
   "source": [
    "### Model"
   ]
  },
  {
   "cell_type": "code",
   "execution_count": 8,
   "id": "752d16b6",
   "metadata": {
    "execution": {
     "iopub.execute_input": "2022-05-01T16:37:14.175087Z",
     "iopub.status.busy": "2022-05-01T16:37:14.173545Z",
     "iopub.status.idle": "2022-05-01T16:37:14.175692Z",
     "shell.execute_reply": "2022-05-01T16:37:14.176095Z",
     "shell.execute_reply.started": "2022-05-01T16:24:50.959994Z"
    },
    "papermill": {
     "duration": 0.027431,
     "end_time": "2022-05-01T16:37:14.176209",
     "exception": false,
     "start_time": "2022-05-01T16:37:14.148778",
     "status": "completed"
    },
    "tags": []
   },
   "outputs": [],
   "source": [
    "from torch.distributions import Beta\n",
    "\n",
    "\n",
    "class Mixup(torch.nn.Module):\n",
    "    def __init__(self, mix_beta=1):\n",
    "\n",
    "        super(Mixup, self).__init__()\n",
    "        self.beta_distribution = Beta(mix_beta, mix_beta)\n",
    "\n",
    "    def forward(self, X, Y, weight=None):\n",
    "\n",
    "        bs = X.shape[0]\n",
    "        n_dims = len(X.shape)\n",
    "        perm = torch.randperm(bs)\n",
    "        coeffs = self.beta_distribution.rsample(torch.Size((bs,))).to(X.device)\n",
    "\n",
    "        if n_dims == 2:\n",
    "            X = coeffs.view(-1, 1) * X + (1 - coeffs.view(-1, 1)) * X[perm]\n",
    "        elif n_dims == 3:\n",
    "            X = coeffs.view(-1, 1, 1) * X + (1 - coeffs.view(-1, 1, 1)) * X[perm]\n",
    "        else:\n",
    "            X = coeffs.view(-1, 1, 1, 1) * X + (1 - coeffs.view(-1, 1, 1, 1)) * X[perm]\n",
    "\n",
    "        Y = coeffs.view(-1, 1) * Y + (1 - coeffs.view(-1, 1)) * Y[perm]\n",
    "\n",
    "        if weight is None:\n",
    "            return X, Y\n",
    "        else:\n",
    "            weight = coeffs.view(-1) * weight + (1 - coeffs.view(-1)) * weight[perm]\n",
    "            return X, Y, weight"
   ]
  },
  {
   "cell_type": "code",
   "execution_count": 9,
   "id": "7fcfe0e6",
   "metadata": {
    "execution": {
     "iopub.execute_input": "2022-05-01T16:37:14.227315Z",
     "iopub.status.busy": "2022-05-01T16:37:14.225805Z",
     "iopub.status.idle": "2022-05-01T16:37:14.227910Z",
     "shell.execute_reply": "2022-05-01T16:37:14.228324Z",
     "shell.execute_reply.started": "2022-05-01T16:24:51.663055Z"
    },
    "papermill": {
     "duration": 0.036833,
     "end_time": "2022-05-01T16:37:14.228463",
     "exception": false,
     "start_time": "2022-05-01T16:37:14.191630",
     "status": "completed"
    },
    "tags": []
   },
   "outputs": [],
   "source": [
    "class Net(torch.nn.Module):\n",
    "    def __init__(self, backbone_path=None):\n",
    "        super().__init__()\n",
    "        self.audio2image = self._init_audio2image()\n",
    "        self.backbone = self._init_backbone()\n",
    "        self.load_backbone(backbone_path)\n",
    "        self.head = self._init_head(self.backbone.feature_info[-1]['num_chs'])      \n",
    "        self.loss = torch.nn.BCEWithLogitsLoss()\n",
    "        self.mixup = Mixup()\n",
    "        \n",
    "    def forward(self, wav_tensor, y=None):\n",
    "        if self.training:\n",
    "            wav_tensor = self.batch_crop(wav_tensor)\n",
    "            \n",
    "        spectrogram = self.audio2image(wav_tensor)\n",
    "        spectrogram = spectrogram.permute(0, 2, 1)\n",
    "        spectrogram = spectrogram[:, None, :, :]\n",
    "        \n",
    "        if self.training:\n",
    "            spectrogram = spectrogram.permute(0, 2, 1, 3)\n",
    "            spectrogram = self.batch_uncrop(spectrogram)\n",
    "            \n",
    "            spectrogram, y = self.mixup(spectrogram, y)\n",
    "            \n",
    "            spectrogram = self.batch_crop(spectrogram)\n",
    "            spectrogram = spectrogram.permute(0, 2, 1, 3)\n",
    "                \n",
    "        x = self.backbone(spectrogram)\n",
    "        if self.training:\n",
    "            x = x.permute(0, 2, 1, 3)\n",
    "            x = self.batch_uncrop(x)\n",
    "            x = x.permute(0, 2, 1, 3)\n",
    "                \n",
    "        logits = self.head(x)\n",
    "        \n",
    "        if y is not None:\n",
    "            loss = self.loss(logits, y)\n",
    "        else:\n",
    "            loss = None\n",
    "\n",
    "        return {'loss': loss, 'logits': logits.sigmoid()}\n",
    "    \n",
    "    def batch_crop(self, tensor):\n",
    "        factor = int(CONFIG['crop_len'] // TEST_SIZE)\n",
    "        b, t = tensor.shape[:2]\n",
    "        tensor = tensor.reshape(b * factor, t // factor, *tensor.shape[2:])\n",
    "        return tensor\n",
    "    \n",
    "    def batch_uncrop(self, tensor):\n",
    "        factor = int(CONFIG['crop_len'] // TEST_SIZE)\n",
    "        b, t = tensor.shape[:2]\n",
    "        tensor = tensor.reshape(b // factor, t * factor, *tensor.shape[2:])\n",
    "        return tensor\n",
    "    \n",
    "    @staticmethod\n",
    "    def _init_audio2image():\n",
    "        mel = ta.transforms.MelSpectrogram(\n",
    "            sample_rate=32000,\n",
    "            n_fft=2048,\n",
    "            win_length=2048,\n",
    "            hop_length=512,\n",
    "            f_min=16,\n",
    "            f_max=16386,\n",
    "            pad=0,\n",
    "            n_mels=256,\n",
    "            power=2,\n",
    "            normalized=False,\n",
    "        )\n",
    "        db_scale = ta.transforms.AmplitudeToDB(top_db=80.0)\n",
    "        audio2image = torch.nn.Sequential(mel, db_scale)\n",
    "        return audio2image\n",
    "    \n",
    "    @staticmethod\n",
    "    def _init_backbone():\n",
    "        backbone = \"resnet18\"\n",
    "        pretrained = False\n",
    "        pretrained_weights = None\n",
    "        train = True\n",
    "        val = False\n",
    "        in_chans = 1\n",
    "\n",
    "        backbone = timm.create_model(\n",
    "            backbone,\n",
    "            pretrained=pretrained,\n",
    "            num_classes=0,\n",
    "            global_pool=\"\",\n",
    "            in_chans=in_chans,\n",
    "        )\n",
    "        return backbone\n",
    "    \n",
    "    @staticmethod\n",
    "    def _init_head(num_chs):\n",
    "        head = torch.nn.Sequential(\n",
    "            torch.nn.AdaptiveAvgPool2d(output_size=1),\n",
    "            torch.nn.Flatten(),\n",
    "            torch.nn.Linear(num_chs, len(all_species))\n",
    "        )\n",
    "        return head\n",
    "    \n",
    "    def load_backbone(self, weights_path=None):\n",
    "        if weights_path:\n",
    "            state_dict=torch.load(weights_path)\n",
    "            conv1_weight = state_dict['conv1.weight']\n",
    "            state_dict['conv1.weight'] = conv1_weight.sum(dim=1, keepdim=True)\n",
    "            state_dict.pop('fc.bias')\n",
    "            state_dict.pop('fc.weight')\n",
    "            self.backbone.load_state_dict(state_dict)\n",
    "        "
   ]
  },
  {
   "cell_type": "markdown",
   "id": "d95d03ed",
   "metadata": {
    "papermill": {
     "duration": 0.015286,
     "end_time": "2022-05-01T16:37:14.259111",
     "exception": false,
     "start_time": "2022-05-01T16:37:14.243825",
     "status": "completed"
    },
    "tags": []
   },
   "source": [
    "### Model load"
   ]
  },
  {
   "cell_type": "code",
   "execution_count": 10,
   "id": "b343411b",
   "metadata": {
    "execution": {
     "iopub.execute_input": "2022-05-01T16:37:14.355225Z",
     "iopub.status.busy": "2022-05-01T16:37:14.354679Z",
     "iopub.status.idle": "2022-05-01T16:37:17.831947Z",
     "shell.execute_reply": "2022-05-01T16:37:17.831290Z",
     "shell.execute_reply.started": "2022-05-01T16:24:59.580510Z"
    },
    "papermill": {
     "duration": 3.557546,
     "end_time": "2022-05-01T16:37:17.832091",
     "exception": false,
     "start_time": "2022-05-01T16:37:14.274545",
     "status": "completed"
    },
    "tags": []
   },
   "outputs": [],
   "source": [
    "model_path = '../input/birdclefsubmit/7_model.pt'\n",
    "device = torch.device('cuda' if torch.cuda.is_available() else 'cpu')\n",
    "\n",
    "model = torch.load(model_path, map_location=device)\n",
    "# model.load_state_dict(state_dict)\n",
    "# model.to(device)"
   ]
  },
  {
   "cell_type": "markdown",
   "id": "391720e2",
   "metadata": {
    "papermill": {
     "duration": 0.016311,
     "end_time": "2022-05-01T16:37:17.866025",
     "exception": false,
     "start_time": "2022-05-01T16:37:17.849714",
     "status": "completed"
    },
    "tags": []
   },
   "source": [
    "### Submit"
   ]
  },
  {
   "cell_type": "code",
   "execution_count": 11,
   "id": "3d683045",
   "metadata": {
    "execution": {
     "iopub.execute_input": "2022-05-01T16:37:17.901006Z",
     "iopub.status.busy": "2022-05-01T16:37:17.900487Z",
     "iopub.status.idle": "2022-05-01T16:37:17.906955Z",
     "shell.execute_reply": "2022-05-01T16:37:17.906561Z",
     "shell.execute_reply.started": "2022-05-01T16:25:05.660311Z"
    },
    "papermill": {
     "duration": 0.02557,
     "end_time": "2022-05-01T16:37:17.907069",
     "exception": false,
     "start_time": "2022-05-01T16:37:17.881499",
     "status": "completed"
    },
    "tags": []
   },
   "outputs": [],
   "source": [
    "with open(os.path.join(data_root, 'scored_birds.json')) as fin:\n",
    "    test_birds = json.load(fin)"
   ]
  },
  {
   "cell_type": "code",
   "execution_count": 12,
   "id": "db0d3615",
   "metadata": {
    "execution": {
     "iopub.execute_input": "2022-05-01T16:37:17.945476Z",
     "iopub.status.busy": "2022-05-01T16:37:17.944631Z",
     "iopub.status.idle": "2022-05-01T16:37:17.946329Z",
     "shell.execute_reply": "2022-05-01T16:37:17.946770Z",
     "shell.execute_reply.started": "2022-05-01T16:25:08.059818Z"
    },
    "papermill": {
     "duration": 0.024389,
     "end_time": "2022-05-01T16:37:17.946880",
     "exception": false,
     "start_time": "2022-05-01T16:37:17.922491",
     "status": "completed"
    },
    "tags": []
   },
   "outputs": [],
   "source": [
    "class TestDataset(Dataset):\n",
    "    def __init__(self, test_folder):\n",
    "        super().__init__()\n",
    "        self.test_folder = test_folder\n",
    "        self.fnames = [f for f in os.listdir(test_folder) if f.endswith('.ogg')]\n",
    "        \n",
    "    def __len__(self):\n",
    "        return len(self.fnames)\n",
    "    \n",
    "    def __getitem__(self, idx):\n",
    "        fpath = os.path.join(self.test_folder, self.fnames[idx])\n",
    "        wav, sr = load_wav(fpath, 0, None)\n",
    "        wav = torch.tensor(wav)\n",
    "        assert (13 * 5 * sr) > len(wav) \n",
    "        wav = wav[:len(wav) // 12 * 12].reshape((12, len(wav) // 12))\n",
    "        return wav"
   ]
  },
  {
   "cell_type": "code",
   "execution_count": 13,
   "id": "9f0bab62",
   "metadata": {
    "execution": {
     "iopub.execute_input": "2022-05-01T16:37:17.981823Z",
     "iopub.status.busy": "2022-05-01T16:37:17.979526Z",
     "iopub.status.idle": "2022-05-01T16:37:17.986713Z",
     "shell.execute_reply": "2022-05-01T16:37:17.986256Z",
     "shell.execute_reply.started": "2022-05-01T16:25:10.211530Z"
    },
    "papermill": {
     "duration": 0.024565,
     "end_time": "2022-05-01T16:37:17.986816",
     "exception": false,
     "start_time": "2022-05-01T16:37:17.962251",
     "status": "completed"
    },
    "tags": []
   },
   "outputs": [],
   "source": [
    "test_dataset = TestDataset(os.path.join(data_root, 'test_soundscapes'))\n",
    "test_dataloader = DataLoader(\n",
    "    test_dataset,\n",
    "    batch_size=1,\n",
    "    shuffle=False,\n",
    "    num_workers=2,\n",
    "    drop_last=False,   \n",
    ")"
   ]
  },
  {
   "cell_type": "code",
   "execution_count": 14,
   "id": "6984899f",
   "metadata": {
    "execution": {
     "iopub.execute_input": "2022-05-01T16:37:18.029292Z",
     "iopub.status.busy": "2022-05-01T16:37:18.028732Z",
     "iopub.status.idle": "2022-05-01T16:37:24.208862Z",
     "shell.execute_reply": "2022-05-01T16:37:24.209438Z",
     "shell.execute_reply.started": "2022-05-01T16:25:11.347611Z"
    },
    "papermill": {
     "duration": 6.206656,
     "end_time": "2022-05-01T16:37:24.209642",
     "exception": false,
     "start_time": "2022-05-01T16:37:18.002986",
     "status": "completed"
    },
    "tags": []
   },
   "outputs": [
    {
     "name": "stderr",
     "output_type": "stream",
     "text": [
      "1it [00:06,  6.12s/it]\n"
     ]
    }
   ],
   "source": [
    "pred_list = []\n",
    "treshold = 0.1\n",
    "model.eval()\n",
    "with torch.no_grad():\n",
    "    for i, batch in tqdm(enumerate(test_dataloader)):\n",
    "        batch_size, part_count, part_size = batch.shape\n",
    "        batch = batch.reshape(batch_size * part_count, part_size)\n",
    "        pred = model(batch.to(device))['logits']\n",
    "        pred = pred.cpu().numpy()\n",
    "        pred = pred > treshold\n",
    "        \n",
    "        for j, chunk_pred in enumerate(pred):\n",
    "            inbatch_number = j // part_count\n",
    "            chunk_number = j % part_count + 1\n",
    "            f_idx = i * batch_size + inbatch_number\n",
    "            fname = test_dataset.fnames[f_idx]\n",
    "            prefix = fname.split('.')[0]\n",
    "            sufix = f'{5 * chunk_number}'\n",
    "            \n",
    "            pred_list.extend([{\n",
    "                'row_id': '_'.join([prefix, b, sufix]),\n",
    "                'target': chunk_pred[species2id[b]]\n",
    "            } for b in test_birds])\n",
    "pred_pd = pd.DataFrame(pred_list)"
   ]
  },
  {
   "cell_type": "code",
   "execution_count": 15,
   "id": "c4f88bde",
   "metadata": {
    "execution": {
     "iopub.execute_input": "2022-05-01T16:37:24.249571Z",
     "iopub.status.busy": "2022-05-01T16:37:24.248853Z",
     "iopub.status.idle": "2022-05-01T16:37:24.267615Z",
     "shell.execute_reply": "2022-05-01T16:37:24.268063Z",
     "shell.execute_reply.started": "2022-05-01T16:25:14.673861Z"
    },
    "papermill": {
     "duration": 0.040398,
     "end_time": "2022-05-01T16:37:24.268193",
     "exception": false,
     "start_time": "2022-05-01T16:37:24.227795",
     "status": "completed"
    },
    "tags": []
   },
   "outputs": [
    {
     "data": {
      "text/html": [
       "<div>\n",
       "<style scoped>\n",
       "    .dataframe tbody tr th:only-of-type {\n",
       "        vertical-align: middle;\n",
       "    }\n",
       "\n",
       "    .dataframe tbody tr th {\n",
       "        vertical-align: top;\n",
       "    }\n",
       "\n",
       "    .dataframe thead th {\n",
       "        text-align: right;\n",
       "    }\n",
       "</style>\n",
       "<table border=\"1\" class=\"dataframe\">\n",
       "  <thead>\n",
       "    <tr style=\"text-align: right;\">\n",
       "      <th></th>\n",
       "      <th>row_id</th>\n",
       "      <th>target</th>\n",
       "    </tr>\n",
       "  </thead>\n",
       "  <tbody>\n",
       "    <tr>\n",
       "      <th>0</th>\n",
       "      <td>soundscape_453028782_akiapo_5</td>\n",
       "      <td>False</td>\n",
       "    </tr>\n",
       "    <tr>\n",
       "      <th>1</th>\n",
       "      <td>soundscape_453028782_aniani_5</td>\n",
       "      <td>False</td>\n",
       "    </tr>\n",
       "    <tr>\n",
       "      <th>2</th>\n",
       "      <td>soundscape_453028782_apapan_5</td>\n",
       "      <td>False</td>\n",
       "    </tr>\n",
       "    <tr>\n",
       "      <th>3</th>\n",
       "      <td>soundscape_453028782_barpet_5</td>\n",
       "      <td>False</td>\n",
       "    </tr>\n",
       "    <tr>\n",
       "      <th>4</th>\n",
       "      <td>soundscape_453028782_crehon_5</td>\n",
       "      <td>False</td>\n",
       "    </tr>\n",
       "    <tr>\n",
       "      <th>...</th>\n",
       "      <td>...</td>\n",
       "      <td>...</td>\n",
       "    </tr>\n",
       "    <tr>\n",
       "      <th>247</th>\n",
       "      <td>soundscape_453028782_omao_60</td>\n",
       "      <td>False</td>\n",
       "    </tr>\n",
       "    <tr>\n",
       "      <th>248</th>\n",
       "      <td>soundscape_453028782_puaioh_60</td>\n",
       "      <td>False</td>\n",
       "    </tr>\n",
       "    <tr>\n",
       "      <th>249</th>\n",
       "      <td>soundscape_453028782_skylar_60</td>\n",
       "      <td>False</td>\n",
       "    </tr>\n",
       "    <tr>\n",
       "      <th>250</th>\n",
       "      <td>soundscape_453028782_warwhe1_60</td>\n",
       "      <td>False</td>\n",
       "    </tr>\n",
       "    <tr>\n",
       "      <th>251</th>\n",
       "      <td>soundscape_453028782_yefcan_60</td>\n",
       "      <td>False</td>\n",
       "    </tr>\n",
       "  </tbody>\n",
       "</table>\n",
       "<p>252 rows × 2 columns</p>\n",
       "</div>"
      ],
      "text/plain": [
       "                              row_id  target\n",
       "0      soundscape_453028782_akiapo_5   False\n",
       "1      soundscape_453028782_aniani_5   False\n",
       "2      soundscape_453028782_apapan_5   False\n",
       "3      soundscape_453028782_barpet_5   False\n",
       "4      soundscape_453028782_crehon_5   False\n",
       "..                               ...     ...\n",
       "247     soundscape_453028782_omao_60   False\n",
       "248   soundscape_453028782_puaioh_60   False\n",
       "249   soundscape_453028782_skylar_60   False\n",
       "250  soundscape_453028782_warwhe1_60   False\n",
       "251   soundscape_453028782_yefcan_60   False\n",
       "\n",
       "[252 rows x 2 columns]"
      ]
     },
     "execution_count": 15,
     "metadata": {},
     "output_type": "execute_result"
    }
   ],
   "source": [
    "pred_pd.to_csv(\"submission.csv\", index=False)\n",
    "pred_pd"
   ]
  }
 ],
 "metadata": {
  "kernelspec": {
   "display_name": "Python 3",
   "language": "python",
   "name": "python3"
  },
  "language_info": {
   "codemirror_mode": {
    "name": "ipython",
    "version": 3
   },
   "file_extension": ".py",
   "mimetype": "text/x-python",
   "name": "python",
   "nbconvert_exporter": "python",
   "pygments_lexer": "ipython3",
   "version": "3.7.12"
  },
  "papermill": {
   "default_parameters": {},
   "duration": 27.300683,
   "end_time": "2022-05-01T16:37:26.617057",
   "environment_variables": {},
   "exception": null,
   "input_path": "__notebook__.ipynb",
   "output_path": "__notebook__.ipynb",
   "parameters": {},
   "start_time": "2022-05-01T16:36:59.316374",
   "version": "2.3.3"
  }
 },
 "nbformat": 4,
 "nbformat_minor": 5
}
