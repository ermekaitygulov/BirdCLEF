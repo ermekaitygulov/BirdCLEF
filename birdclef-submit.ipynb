{
 "cells": [
  {
   "cell_type": "code",
   "execution_count": 1,
   "id": "27bb210e",
   "metadata": {
    "_cell_guid": "b1076dfc-b9ad-4769-8c92-a6c4dae69d19",
    "_uuid": "8f2839f25d086af736a60e9eeb907d3b93b6e0e5",
    "execution": {
     "iopub.execute_input": "2022-05-21T16:22:54.033472Z",
     "iopub.status.busy": "2022-05-21T16:22:54.027927Z",
     "iopub.status.idle": "2022-05-21T16:23:01.316046Z",
     "shell.execute_reply": "2022-05-21T16:23:01.316605Z",
     "shell.execute_reply.started": "2022-05-21T15:49:52.631789Z"
    },
    "papermill": {
     "duration": 7.323024,
     "end_time": "2022-05-21T16:23:01.316942",
     "exception": false,
     "start_time": "2022-05-21T16:22:53.993918",
     "status": "completed"
    },
    "tags": []
   },
   "outputs": [],
   "source": [
    "import sys\n",
    "sys.path.append('../input/timm-pytorch-image-models/pytorch-image-models-master')\n",
    "sys.path.append('../input/birdclefmodels/')\n",
    "\n",
    "import numpy as np # linear algebra\n",
    "import pandas as pd # data processing, CSV file I/O (e.g. pd.read_csv)\n",
    "import librosa\n",
    "\n",
    "from matplotlib import pyplot as plt\n",
    "import json\n",
    "import random\n",
    "from tqdm import tqdm\n",
    "import os\n",
    "import yaml\n",
    "\n",
    "import albumentations as A\n",
    "from albumentations.pytorch import ToTensorV2\n",
    "\n",
    "import torch\n",
    "from torch import nn\n",
    "import torchaudio as ta\n",
    "import timm\n",
    "from torch.utils.data import Dataset, DataLoader\n",
    "\n",
    "import neural_network"
   ]
  },
  {
   "cell_type": "code",
   "execution_count": 2,
   "id": "64fc712b",
   "metadata": {
    "execution": {
     "iopub.execute_input": "2022-05-21T16:23:01.382676Z",
     "iopub.status.busy": "2022-05-21T16:23:01.379401Z",
     "iopub.status.idle": "2022-05-21T16:23:01.560733Z",
     "shell.execute_reply": "2022-05-21T16:23:01.561329Z",
     "shell.execute_reply.started": "2022-05-21T15:50:20.614550Z"
    },
    "papermill": {
     "duration": 0.212168,
     "end_time": "2022-05-21T16:23:01.561534",
     "exception": false,
     "start_time": "2022-05-21T16:23:01.349366",
     "status": "completed"
    },
    "tags": []
   },
   "outputs": [],
   "source": [
    "data_root = '/kaggle/input/birdclef-2022'\n",
    "train_meta = pd.read_csv('../input/birdclef-data-with-wav-durations/train_metadata_extended.csv')\n",
    "ebird_taxonomy = pd.read_csv(os.path.join(data_root, 'eBird_Taxonomy_v2021.csv'))"
   ]
  },
  {
   "cell_type": "code",
   "execution_count": 3,
   "id": "45a452b6",
   "metadata": {
    "execution": {
     "iopub.execute_input": "2022-05-21T16:23:01.647341Z",
     "iopub.status.busy": "2022-05-21T16:23:01.642044Z",
     "iopub.status.idle": "2022-05-21T16:23:01.711168Z",
     "shell.execute_reply": "2022-05-21T16:23:01.710120Z",
     "shell.execute_reply.started": "2022-05-21T15:50:21.570666Z"
    },
    "papermill": {
     "duration": 0.122228,
     "end_time": "2022-05-21T16:23:01.711309",
     "exception": false,
     "start_time": "2022-05-21T16:23:01.589081",
     "status": "completed"
    },
    "tags": []
   },
   "outputs": [],
   "source": [
    "train_meta.loc[:, 'secondary_labels'] = train_meta.secondary_labels.apply(eval)\n",
    "train_meta['target_raw'] = train_meta.secondary_labels + train_meta.primary_label.apply(lambda x: [x])"
   ]
  },
  {
   "cell_type": "code",
   "execution_count": 4,
   "id": "e2fcb8d2",
   "metadata": {
    "execution": {
     "iopub.execute_input": "2022-05-21T16:23:02.281758Z",
     "iopub.status.busy": "2022-05-21T16:23:02.273923Z",
     "iopub.status.idle": "2022-05-21T16:23:02.754015Z",
     "shell.execute_reply": "2022-05-21T16:23:02.753209Z",
     "shell.execute_reply.started": "2022-05-21T15:50:23.732276Z"
    },
    "papermill": {
     "duration": 1.01679,
     "end_time": "2022-05-21T16:23:02.754252",
     "exception": false,
     "start_time": "2022-05-21T16:23:01.737462",
     "status": "completed"
    },
    "tags": []
   },
   "outputs": [],
   "source": [
    "all_species = sorted(set(train_meta.target_raw.sum()))\n",
    "species2id = {s: i for i, s in enumerate(all_species)}\n",
    "id2species = {i: s for i, s in enumerate(all_species)}\n",
    "\n",
    "train_meta['target'] = train_meta.target_raw.apply(lambda species: [int(s in species) for s in all_species])"
   ]
  },
  {
   "cell_type": "code",
   "execution_count": 5,
   "id": "de9d9ea5",
   "metadata": {
    "execution": {
     "iopub.execute_input": "2022-05-21T16:23:02.818808Z",
     "iopub.status.busy": "2022-05-21T16:23:02.817636Z",
     "iopub.status.idle": "2022-05-21T16:23:02.820058Z",
     "shell.execute_reply": "2022-05-21T16:23:02.820687Z",
     "shell.execute_reply.started": "2022-05-21T15:50:24.604054Z"
    },
    "papermill": {
     "duration": 0.036381,
     "end_time": "2022-05-21T16:23:02.820853",
     "exception": false,
     "start_time": "2022-05-21T16:23:02.784472",
     "status": "completed"
    },
    "tags": []
   },
   "outputs": [],
   "source": [
    "def load_wav(fname, offset, duration):\n",
    "#     fname = 'afrsil1/XC125458.ogg'\n",
    "    fpath = os.path.join(data_root, 'train_audio', fname)\n",
    "    wav, sr = librosa.load(fpath, sr=None, duration=duration)\n",
    "    assert sr <= 32000, sr\n",
    "    return wav, sr"
   ]
  },
  {
   "cell_type": "markdown",
   "id": "390f6385",
   "metadata": {
    "papermill": {
     "duration": 0.026642,
     "end_time": "2022-05-21T16:23:02.873756",
     "exception": false,
     "start_time": "2022-05-21T16:23:02.847114",
     "status": "completed"
    },
    "tags": []
   },
   "source": [
    "### No call"
   ]
  },
  {
   "cell_type": "code",
   "execution_count": 6,
   "id": "a427d935",
   "metadata": {
    "execution": {
     "iopub.execute_input": "2022-05-21T16:23:02.959083Z",
     "iopub.status.busy": "2022-05-21T16:23:02.948420Z",
     "iopub.status.idle": "2022-05-21T16:23:02.969321Z",
     "shell.execute_reply": "2022-05-21T16:23:02.968337Z",
     "shell.execute_reply.started": "2022-05-21T16:15:48.185222Z"
    },
    "papermill": {
     "duration": 0.068605,
     "end_time": "2022-05-21T16:23:02.969484",
     "exception": false,
     "start_time": "2022-05-21T16:23:02.900879",
     "status": "completed"
    },
    "tags": []
   },
   "outputs": [],
   "source": [
    "class MelSpecComputer:\n",
    "    def __init__(self, sr, n_mels, fmin, fmax, **kwargs):\n",
    "        self.sr = sr\n",
    "        self.n_mels = n_mels\n",
    "        self.fmin = fmin\n",
    "        self.fmax = fmax\n",
    "        kwargs[\"n_fft\"] = kwargs.get(\"n_fft\", self.sr//10)\n",
    "        kwargs[\"hop_length\"] = kwargs.get(\"hop_length\", self.sr//(10*4))\n",
    "        self.kwargs = kwargs\n",
    "\n",
    "    def __call__(self, y):\n",
    "\n",
    "        melspec = librosa.feature.melspectrogram(\n",
    "            y=y, sr=self.sr, n_mels=self.n_mels, fmin=self.fmin, fmax=self.fmax, **self.kwargs,\n",
    "        )\n",
    "\n",
    "        melspec = librosa.power_to_db(melspec).astype(np.float32)\n",
    "        return melspec\n",
    "    \n",
    "    \n",
    "def mono_to_color(X, eps=1e-6, mean=None, std=None):\n",
    "    mean = mean or X.mean()\n",
    "    std = std or X.std()\n",
    "    X = (X - mean) / (std + eps)\n",
    "    \n",
    "    _min, _max = X.min(), X.max()\n",
    "\n",
    "    if (_max - _min) > eps:\n",
    "        V = np.clip(X, _min, _max)\n",
    "        V = 255 * (V - _min) / (_max - _min)\n",
    "        V = V.astype(np.uint8)\n",
    "    else:\n",
    "        V = np.zeros_like(X, dtype=np.uint8)\n",
    "\n",
    "    return V\n",
    "\n",
    "def crop_or_pad(y, length):\n",
    "    if len(y) < length:\n",
    "        y = np.concatenate([y, np.zeros(length - len(y))])        \n",
    "    elif len(y) > length:\n",
    "        y = y[:length]\n",
    "    return y\n",
    "\n",
    "\n",
    "class NoCallDataset(Dataset):\n",
    "    def __init__(self, test_folder):\n",
    "        super().__init__()\n",
    "        self.test_folder = test_folder\n",
    "        self.fnames = [f for f in os.listdir(test_folder) if f.endswith('.ogg')]\n",
    "        self.mel_spectrogram = MelSpecComputer(\n",
    "            sr=32000,\n",
    "            n_mels=128,\n",
    "            fmin=0,\n",
    "            fmax=16000\n",
    "        )\n",
    "        self.augmentations = A.Compose([\n",
    "            A.Resize(128, 281),\n",
    "            A.Normalize(\n",
    "                mean=[0.485, 0.456, 0.406],\n",
    "                std=[0.229, 0.224, 0.225],\n",
    "            ),\n",
    "            ToTensorV2(),\n",
    "        ])\n",
    "        \n",
    "    def audio2image(self, wav):\n",
    "        melspec = self.mel_spectrogram(wav) \n",
    "        image = mono_to_color(melspec)\n",
    "        image = np.stack((image,)*3, -1)\n",
    "        image = self.augmentations(image=image)['image']\n",
    "        return image\n",
    "        \n",
    "    def __len__(self):\n",
    "        return len(self.fnames)\n",
    "    \n",
    "    def __getitem__(self, idx):\n",
    "        fpath = os.path.join(self.test_folder, self.fnames[idx])\n",
    "        wav, sr = load_wav(fpath, 0, None)\n",
    "        wav = wav[:sr * 60]\n",
    "        spectrograms = []\n",
    "        crop_size = 5 * sr\n",
    "        model_crop_size = 10 * sr\n",
    "        for left in range(0, 60, 5):\n",
    "            left = left * sr\n",
    "            right = left + crop_size\n",
    "            crop = wav[left:right]\n",
    "            crop = crop_or_pad(crop, model_crop_size)\n",
    "            spectrograms.append(self.audio2image(crop))\n",
    "        spectrograms = torch.stack(spectrograms) \n",
    "        return spectrograms\n",
    "    \n",
    "    \n",
    "class CustomResNext(nn.Module):\n",
    "    def __init__(self, model_name='resnext50_32x4d'):\n",
    "        super().__init__()\n",
    "        self.model = timm.create_model(model_name, pretrained=False)\n",
    "        n_features = self.model.fc.in_features\n",
    "        self.model.fc = nn.Linear(n_features, 2)\n",
    "\n",
    "    def forward(self, x):\n",
    "        x = self.model(x)\n",
    "        return x\n",
    "    \n"
   ]
  },
  {
   "cell_type": "code",
   "execution_count": 7,
   "id": "fc35875c",
   "metadata": {
    "execution": {
     "iopub.execute_input": "2022-05-21T16:23:03.099611Z",
     "iopub.status.busy": "2022-05-21T16:23:03.093332Z",
     "iopub.status.idle": "2022-05-21T16:23:08.921739Z",
     "shell.execute_reply": "2022-05-21T16:23:08.920672Z",
     "shell.execute_reply.started": "2022-05-21T16:16:00.162991Z"
    },
    "papermill": {
     "duration": 5.924934,
     "end_time": "2022-05-21T16:23:08.921904",
     "exception": false,
     "start_time": "2022-05-21T16:23:02.996970",
     "status": "completed"
    },
    "tags": []
   },
   "outputs": [],
   "source": [
    "device = torch.device('cuda' if torch.cuda.is_available() else 'cpu')\n",
    "\n",
    "nocall_model = CustomResNext()\n",
    "nocall_model.to(device)\n",
    "\n",
    "state_dict = torch.load('../input/nocall-classifier/resnext50_32x4d_best.pth', map_location=device)\n",
    "nocall_model.load_state_dict(state_dict['model'])\n",
    "\n",
    "nocall_dataset = NoCallDataset(os.path.join(data_root, 'test_soundscapes'))\n",
    "nocall_dataloader = DataLoader(\n",
    "    nocall_dataset,\n",
    "    batch_size=1,\n",
    "    shuffle=False,\n",
    "    num_workers=2,\n",
    "    drop_last=False,   \n",
    ")"
   ]
  },
  {
   "cell_type": "code",
   "execution_count": 8,
   "id": "2b6d8d0f",
   "metadata": {
    "execution": {
     "iopub.execute_input": "2022-05-21T16:23:08.987731Z",
     "iopub.status.busy": "2022-05-21T16:23:08.987054Z",
     "iopub.status.idle": "2022-05-21T16:23:16.468676Z",
     "shell.execute_reply": "2022-05-21T16:23:16.469673Z",
     "shell.execute_reply.started": "2022-05-21T16:16:08.199540Z"
    },
    "papermill": {
     "duration": 7.519038,
     "end_time": "2022-05-21T16:23:16.470001",
     "exception": false,
     "start_time": "2022-05-21T16:23:08.950963",
     "status": "completed"
    },
    "tags": []
   },
   "outputs": [
    {
     "name": "stderr",
     "output_type": "stream",
     "text": [
      "1it [00:07,  7.39s/it]\n"
     ]
    }
   ],
   "source": [
    "nocall_list = []\n",
    "part_count = 12\n",
    "\n",
    "with torch.no_grad():\n",
    "    for i, batch in tqdm(enumerate(nocall_dataloader)):\n",
    "        batch = batch[0]\n",
    "        pred = nocall_model(batch.to(device))\n",
    "        pred = torch.softmax(pred, dim=1)\n",
    "        pred = pred.cpu().numpy()[:, 0] < 0.9\n",
    "        \n",
    "        for j, chunk_pred in enumerate(pred):\n",
    "            fname = nocall_dataset.fnames[i]\n",
    "            prefix = fname.split('.')[0]\n",
    "            \n",
    "            nocall_list.append({\n",
    "                'fname': fname,\n",
    "                'r_sec': 5 * (j + 1),\n",
    "                'iscall': chunk_pred\n",
    "            })\n",
    "nocall_pd = pd.DataFrame(nocall_list)"
   ]
  },
  {
   "cell_type": "markdown",
   "id": "fbb09829",
   "metadata": {
    "papermill": {
     "duration": 0.060664,
     "end_time": "2022-05-21T16:23:16.599779",
     "exception": false,
     "start_time": "2022-05-21T16:23:16.539115",
     "status": "completed"
    },
    "tags": []
   },
   "source": [
    "### Model load"
   ]
  },
  {
   "cell_type": "code",
   "execution_count": 9,
   "id": "8e655300",
   "metadata": {
    "execution": {
     "iopub.execute_input": "2022-05-21T16:23:16.738913Z",
     "iopub.status.busy": "2022-05-21T16:23:16.737944Z",
     "iopub.status.idle": "2022-05-21T16:23:16.747683Z",
     "shell.execute_reply": "2022-05-21T16:23:16.749004Z",
     "shell.execute_reply.started": "2022-05-21T16:18:48.674192Z"
    },
    "papermill": {
     "duration": 0.073061,
     "end_time": "2022-05-21T16:23:16.749307",
     "exception": false,
     "start_time": "2022-05-21T16:23:16.676246",
     "status": "completed"
    },
    "tags": []
   },
   "outputs": [],
   "source": [
    "device = torch.device('cuda' if torch.cuda.is_available() else 'cpu')\n",
    "\n",
    "def init_model(config_fname, model_fname, model_root):\n",
    "    config_path = os.path.join(model_root, config_fname)\n",
    "    model_path = os.path.join(model_root, model_fname)\n",
    "    \n",
    "    with open(config_path) as fin:\n",
    "        config = yaml.safe_load(fin)\n",
    "\n",
    "    model_config = config['model']\n",
    "    if 'backbone_config' in model_config['params']:\n",
    "        model_config['params']['backbone_config']['pretrained'] = False\n",
    "    else:\n",
    "        model_config['params']['backbone_config'] = {'pretrained': False}\n",
    "    if 'model_name' in model_config['params']['backbone_config']:\n",
    "        model_config['params']['backbone_config'].pop('model_name')\n",
    "        \n",
    "    data_config = config['data']\n",
    "    model_class = NN_CATALOG[model_config['name']]\n",
    "\n",
    "    model = model_class(len(all_species), int(data_config['crop_len'] // data_config['test_wav_len']),\n",
    "                        **model_config['params'])\n",
    "    model.to(device)\n",
    "\n",
    "    state_dict = torch.load(model_path, map_location=device)\n",
    "    model.load_state_dict(state_dict)\n",
    "    return model\n"
   ]
  },
  {
   "cell_type": "code",
   "execution_count": 10,
   "id": "eb450869",
   "metadata": {
    "execution": {
     "iopub.execute_input": "2022-05-21T16:23:16.855969Z",
     "iopub.status.busy": "2022-05-21T16:23:16.854960Z",
     "iopub.status.idle": "2022-05-21T16:23:19.566651Z",
     "shell.execute_reply": "2022-05-21T16:23:19.566065Z",
     "shell.execute_reply.started": "2022-05-21T16:18:57.279388Z"
    },
    "papermill": {
     "duration": 2.768647,
     "end_time": "2022-05-21T16:23:19.566864",
     "exception": false,
     "start_time": "2022-05-21T16:23:16.798217",
     "status": "completed"
    },
    "tags": []
   },
   "outputs": [],
   "source": [
    "from neural_network import NN_CATALOG\n",
    "\n",
    "\n",
    "ckpt_root = '../input/birdclefsubmit'\n",
    "eff_path = ('eff/baseline_config.yaml', 'eff/final-model.pt')\n",
    "baseline_path = ('baseline/baseline_config.yaml', 'baseline/final-model.pt')\n",
    "eff_bt_path = [('eff_crop/baseline_config.yaml', f'eff_crop/main_stage-{i}-model.pt') for i in range(9, 11)]\n",
    "path_list = [\n",
    "    eff_path,\n",
    "    baseline_path,\n",
    "    *eff_bt_path,\n",
    "]\n",
    "\n",
    "models = [init_model(*p, ckpt_root) for p in path_list]\n",
    "weights = None\n"
   ]
  },
  {
   "cell_type": "code",
   "execution_count": 11,
   "id": "d1de295d",
   "metadata": {
    "execution": {
     "iopub.execute_input": "2022-05-21T16:23:19.633773Z",
     "iopub.status.busy": "2022-05-21T16:23:19.631475Z",
     "iopub.status.idle": "2022-05-21T16:23:19.634555Z",
     "shell.execute_reply": "2022-05-21T16:23:19.635074Z",
     "shell.execute_reply.started": "2022-05-21T16:19:04.706501Z"
    },
    "papermill": {
     "duration": 0.03999,
     "end_time": "2022-05-21T16:23:19.635219",
     "exception": false,
     "start_time": "2022-05-21T16:23:19.595229",
     "status": "completed"
    },
    "tags": []
   },
   "outputs": [],
   "source": [
    "class Blending(nn.Module):\n",
    "    def __init__(self, models, weights):\n",
    "        super().__init__()\n",
    "        for m in models:\n",
    "            m.eval()\n",
    "        self.models = models\n",
    "        self.weights = weights or [1 / len(models) for _ in models]\n",
    "        \n",
    "    def forward(self, wav_tensor):\n",
    "        pred = [m(wav_tensor)['logits'] for m in self.models]\n",
    "        pred = sum(p * w for p, w in zip(pred, self.weights))\n",
    "        return pred"
   ]
  },
  {
   "cell_type": "code",
   "execution_count": 12,
   "id": "b4e58c28",
   "metadata": {
    "execution": {
     "iopub.execute_input": "2022-05-21T16:23:19.702091Z",
     "iopub.status.busy": "2022-05-21T16:23:19.701069Z",
     "iopub.status.idle": "2022-05-21T16:23:19.703784Z",
     "shell.execute_reply": "2022-05-21T16:23:19.704366Z",
     "shell.execute_reply.started": "2022-05-21T16:19:05.099113Z"
    },
    "papermill": {
     "duration": 0.040497,
     "end_time": "2022-05-21T16:23:19.704560",
     "exception": false,
     "start_time": "2022-05-21T16:23:19.664063",
     "status": "completed"
    },
    "tags": []
   },
   "outputs": [],
   "source": [
    "model = Blending(models, weights)"
   ]
  },
  {
   "cell_type": "markdown",
   "id": "448703ad",
   "metadata": {
    "papermill": {
     "duration": 0.028851,
     "end_time": "2022-05-21T16:23:19.762589",
     "exception": false,
     "start_time": "2022-05-21T16:23:19.733738",
     "status": "completed"
    },
    "tags": []
   },
   "source": [
    "### Torch Dataset"
   ]
  },
  {
   "cell_type": "code",
   "execution_count": 13,
   "id": "423753a8",
   "metadata": {
    "execution": {
     "iopub.execute_input": "2022-05-21T16:23:19.825503Z",
     "iopub.status.busy": "2022-05-21T16:23:19.824683Z",
     "iopub.status.idle": "2022-05-21T16:23:19.833301Z",
     "shell.execute_reply": "2022-05-21T16:23:19.832679Z",
     "shell.execute_reply.started": "2022-05-21T16:19:09.081332Z"
    },
    "papermill": {
     "duration": 0.041745,
     "end_time": "2022-05-21T16:23:19.833448",
     "exception": false,
     "start_time": "2022-05-21T16:23:19.791703",
     "status": "completed"
    },
    "tags": []
   },
   "outputs": [],
   "source": [
    "with open(os.path.join(data_root, 'scored_birds.json')) as fin:\n",
    "    test_birds = json.load(fin)"
   ]
  },
  {
   "cell_type": "code",
   "execution_count": 14,
   "id": "d24e96de",
   "metadata": {
    "execution": {
     "iopub.execute_input": "2022-05-21T16:23:19.902961Z",
     "iopub.status.busy": "2022-05-21T16:23:19.894542Z",
     "iopub.status.idle": "2022-05-21T16:23:19.905878Z",
     "shell.execute_reply": "2022-05-21T16:23:19.905270Z",
     "shell.execute_reply.started": "2022-05-21T16:19:11.428665Z"
    },
    "papermill": {
     "duration": 0.043676,
     "end_time": "2022-05-21T16:23:19.906025",
     "exception": false,
     "start_time": "2022-05-21T16:23:19.862349",
     "status": "completed"
    },
    "tags": []
   },
   "outputs": [],
   "source": [
    "class Compose:\n",
    "    def __init__(self, transforms: list):\n",
    "        self.transforms = transforms\n",
    "\n",
    "    def __call__(self, y: np.ndarray, sr):\n",
    "        for trns in self.transforms:\n",
    "            y = trns(y, sr)\n",
    "        return y\n",
    "    \n",
    "    \n",
    "class AudioTransform:\n",
    "    def __init__(self, always_apply=False, p=0.5):\n",
    "        self.always_apply = always_apply\n",
    "        self.p = p\n",
    "\n",
    "    def __call__(self, y: np.ndarray, sr):\n",
    "        if self.always_apply:\n",
    "            return self.apply(y, sr=sr)\n",
    "        else:\n",
    "            if np.random.rand() < self.p:\n",
    "                return self.apply(y, sr=sr)\n",
    "            else:\n",
    "                return y\n",
    "\n",
    "    def apply(self, y: np.ndarray, **params):\n",
    "        raise NotImplementedError\n",
    "        \n",
    "        \n",
    "class Normalize(AudioTransform):\n",
    "    def __init__(self, always_apply=False, p=1):\n",
    "        super().__init__(always_apply, p)\n",
    "\n",
    "    def apply(self, y: np.ndarray, **params):\n",
    "        max_vol = np.abs(y).max()\n",
    "        y_vol = y / max_vol\n",
    "        assert not np.isnan(y_vol).any(), f'{max_vol}'\n",
    "        return y_vol"
   ]
  },
  {
   "cell_type": "code",
   "execution_count": 15,
   "id": "e1b929b3",
   "metadata": {
    "execution": {
     "iopub.execute_input": "2022-05-21T16:23:19.974190Z",
     "iopub.status.busy": "2022-05-21T16:23:19.973315Z",
     "iopub.status.idle": "2022-05-21T16:23:19.977412Z",
     "shell.execute_reply": "2022-05-21T16:23:19.976862Z",
     "shell.execute_reply.started": "2022-05-21T16:19:16.691983Z"
    },
    "papermill": {
     "duration": 0.041887,
     "end_time": "2022-05-21T16:23:19.977568",
     "exception": false,
     "start_time": "2022-05-21T16:23:19.935681",
     "status": "completed"
    },
    "tags": []
   },
   "outputs": [],
   "source": [
    "class TestDataset(Dataset):\n",
    "    def __init__(self, test_folder, augmentations=None):\n",
    "        super().__init__()\n",
    "        self.test_folder = test_folder\n",
    "        self.fnames = [f for f in os.listdir(test_folder) if f.endswith('.ogg')]\n",
    "        self.augmentations = augmentations\n",
    "        \n",
    "    def __len__(self):\n",
    "        return len(self.fnames)\n",
    "    \n",
    "    def __getitem__(self, idx):\n",
    "        fpath = os.path.join(self.test_folder, self.fnames[idx])\n",
    "        wav, sr = load_wav(fpath, 0, None)\n",
    "        if self.augmentations:\n",
    "            wav = self.augmentations(wav, None)\n",
    "        wav = torch.tensor(wav)\n",
    "        assert (13 * 5 * sr) > len(wav) \n",
    "        wav = wav[:len(wav) // 12 * 12].reshape((12, len(wav) // 12))\n",
    "        return wav"
   ]
  },
  {
   "cell_type": "code",
   "execution_count": 16,
   "id": "168eca13",
   "metadata": {
    "execution": {
     "iopub.execute_input": "2022-05-21T16:23:20.040664Z",
     "iopub.status.busy": "2022-05-21T16:23:20.039935Z",
     "iopub.status.idle": "2022-05-21T16:23:20.045327Z",
     "shell.execute_reply": "2022-05-21T16:23:20.044722Z",
     "shell.execute_reply.started": "2022-05-21T16:19:16.714722Z"
    },
    "papermill": {
     "duration": 0.038861,
     "end_time": "2022-05-21T16:23:20.045529",
     "exception": false,
     "start_time": "2022-05-21T16:23:20.006668",
     "status": "completed"
    },
    "tags": []
   },
   "outputs": [],
   "source": [
    "test_dataset = TestDataset(\n",
    "    os.path.join(data_root, 'test_soundscapes'),\n",
    "    Compose([Normalize(p=1)])\n",
    ")\n",
    "test_dataloader = DataLoader(\n",
    "    test_dataset,\n",
    "    batch_size=1,\n",
    "    shuffle=False,\n",
    "    num_workers=2,\n",
    "    drop_last=False,   \n",
    ")"
   ]
  },
  {
   "cell_type": "code",
   "execution_count": 17,
   "id": "840b8bd9",
   "metadata": {
    "execution": {
     "iopub.execute_input": "2022-05-21T16:23:20.110238Z",
     "iopub.status.busy": "2022-05-21T16:23:20.107908Z",
     "iopub.status.idle": "2022-05-21T16:23:20.111131Z",
     "shell.execute_reply": "2022-05-21T16:23:20.111751Z",
     "shell.execute_reply.started": "2022-05-21T16:19:16.729213Z"
    },
    "papermill": {
     "duration": 0.037735,
     "end_time": "2022-05-21T16:23:20.111900",
     "exception": false,
     "start_time": "2022-05-21T16:23:20.074165",
     "status": "completed"
    },
    "tags": []
   },
   "outputs": [],
   "source": [
    "def find_topk(pred_proba, max_birds=5):\n",
    "    pred_proba = pred_proba[:, [species2id[b] for b in test_birds]]\n",
    "    mean_proba = pred_proba.mean(axis=0)\n",
    "    topk_birds = [i for i, _ in sorted(enumerate(mean_proba),\n",
    "                                       key=lambda x: x[1],\n",
    "                                       reverse=True)][:max_birds]\n",
    "    return topk_birds"
   ]
  },
  {
   "cell_type": "code",
   "execution_count": 18,
   "id": "1e05dec0",
   "metadata": {
    "execution": {
     "iopub.execute_input": "2022-05-21T16:23:20.176850Z",
     "iopub.status.busy": "2022-05-21T16:23:20.175687Z",
     "iopub.status.idle": "2022-05-21T16:23:20.178082Z",
     "shell.execute_reply": "2022-05-21T16:23:20.178729Z",
     "shell.execute_reply.started": "2022-05-21T16:19:16.743015Z"
    },
    "papermill": {
     "duration": 0.038262,
     "end_time": "2022-05-21T16:23:20.178869",
     "exception": false,
     "start_time": "2022-05-21T16:23:20.140607",
     "status": "completed"
    },
    "tags": []
   },
   "outputs": [],
   "source": [
    "treshold_dict = {'akiapo': 0.05,\n",
    " 'aniani': 0.05,\n",
    " 'apapan': 0.05,\n",
    " 'barpet': 0.05,\n",
    " 'crehon': 0.05,\n",
    " 'elepai': 0.05,\n",
    " 'ercfra': 0.05,\n",
    " 'hawama': 0.05,\n",
    " 'hawcre': 0.05,\n",
    " 'hawgoo': 0.15,\n",
    " 'hawhaw': 0.05,\n",
    " 'hawpet1': 0.05,\n",
    " 'houfin': 0.15,\n",
    " 'iiwi': 0.15,\n",
    " 'jabwar': 0.05,\n",
    " 'maupar': 0.05,\n",
    " 'omao': 0.05,\n",
    " 'puaioh': 0.05,\n",
    " 'skylar': 0.1,\n",
    " 'warwhe1': 0.05,\n",
    " 'yefcan': 0.15}"
   ]
  },
  {
   "cell_type": "code",
   "execution_count": 19,
   "id": "d8a11638",
   "metadata": {
    "execution": {
     "iopub.execute_input": "2022-05-21T16:23:20.244945Z",
     "iopub.status.busy": "2022-05-21T16:23:20.243927Z",
     "iopub.status.idle": "2022-05-21T16:23:20.259867Z",
     "shell.execute_reply": "2022-05-21T16:23:20.259153Z",
     "shell.execute_reply.started": "2022-05-21T16:19:35.487083Z"
    },
    "papermill": {
     "duration": 0.052629,
     "end_time": "2022-05-21T16:23:20.260033",
     "exception": false,
     "start_time": "2022-05-21T16:23:20.207404",
     "status": "completed"
    },
    "tags": []
   },
   "outputs": [
    {
     "data": {
      "text/html": [
       "<div>\n",
       "<style scoped>\n",
       "    .dataframe tbody tr th:only-of-type {\n",
       "        vertical-align: middle;\n",
       "    }\n",
       "\n",
       "    .dataframe tbody tr th {\n",
       "        vertical-align: top;\n",
       "    }\n",
       "\n",
       "    .dataframe thead th {\n",
       "        text-align: right;\n",
       "    }\n",
       "</style>\n",
       "<table border=\"1\" class=\"dataframe\">\n",
       "  <thead>\n",
       "    <tr style=\"text-align: right;\">\n",
       "      <th></th>\n",
       "      <th>fname</th>\n",
       "      <th>r_sec</th>\n",
       "      <th>iscall</th>\n",
       "    </tr>\n",
       "  </thead>\n",
       "  <tbody>\n",
       "    <tr>\n",
       "      <th>0</th>\n",
       "      <td>soundscape_453028782.ogg</td>\n",
       "      <td>5</td>\n",
       "      <td>False</td>\n",
       "    </tr>\n",
       "    <tr>\n",
       "      <th>1</th>\n",
       "      <td>soundscape_453028782.ogg</td>\n",
       "      <td>10</td>\n",
       "      <td>False</td>\n",
       "    </tr>\n",
       "    <tr>\n",
       "      <th>2</th>\n",
       "      <td>soundscape_453028782.ogg</td>\n",
       "      <td>15</td>\n",
       "      <td>False</td>\n",
       "    </tr>\n",
       "    <tr>\n",
       "      <th>3</th>\n",
       "      <td>soundscape_453028782.ogg</td>\n",
       "      <td>20</td>\n",
       "      <td>False</td>\n",
       "    </tr>\n",
       "    <tr>\n",
       "      <th>4</th>\n",
       "      <td>soundscape_453028782.ogg</td>\n",
       "      <td>25</td>\n",
       "      <td>False</td>\n",
       "    </tr>\n",
       "    <tr>\n",
       "      <th>5</th>\n",
       "      <td>soundscape_453028782.ogg</td>\n",
       "      <td>30</td>\n",
       "      <td>True</td>\n",
       "    </tr>\n",
       "    <tr>\n",
       "      <th>6</th>\n",
       "      <td>soundscape_453028782.ogg</td>\n",
       "      <td>35</td>\n",
       "      <td>True</td>\n",
       "    </tr>\n",
       "    <tr>\n",
       "      <th>7</th>\n",
       "      <td>soundscape_453028782.ogg</td>\n",
       "      <td>40</td>\n",
       "      <td>False</td>\n",
       "    </tr>\n",
       "    <tr>\n",
       "      <th>8</th>\n",
       "      <td>soundscape_453028782.ogg</td>\n",
       "      <td>45</td>\n",
       "      <td>True</td>\n",
       "    </tr>\n",
       "    <tr>\n",
       "      <th>9</th>\n",
       "      <td>soundscape_453028782.ogg</td>\n",
       "      <td>50</td>\n",
       "      <td>False</td>\n",
       "    </tr>\n",
       "    <tr>\n",
       "      <th>10</th>\n",
       "      <td>soundscape_453028782.ogg</td>\n",
       "      <td>55</td>\n",
       "      <td>False</td>\n",
       "    </tr>\n",
       "    <tr>\n",
       "      <th>11</th>\n",
       "      <td>soundscape_453028782.ogg</td>\n",
       "      <td>60</td>\n",
       "      <td>False</td>\n",
       "    </tr>\n",
       "  </tbody>\n",
       "</table>\n",
       "</div>"
      ],
      "text/plain": [
       "                       fname  r_sec  iscall\n",
       "0   soundscape_453028782.ogg      5   False\n",
       "1   soundscape_453028782.ogg     10   False\n",
       "2   soundscape_453028782.ogg     15   False\n",
       "3   soundscape_453028782.ogg     20   False\n",
       "4   soundscape_453028782.ogg     25   False\n",
       "5   soundscape_453028782.ogg     30    True\n",
       "6   soundscape_453028782.ogg     35    True\n",
       "7   soundscape_453028782.ogg     40   False\n",
       "8   soundscape_453028782.ogg     45    True\n",
       "9   soundscape_453028782.ogg     50   False\n",
       "10  soundscape_453028782.ogg     55   False\n",
       "11  soundscape_453028782.ogg     60   False"
      ]
     },
     "execution_count": 19,
     "metadata": {},
     "output_type": "execute_result"
    }
   ],
   "source": [
    "nocall_pd"
   ]
  },
  {
   "cell_type": "code",
   "execution_count": 20,
   "id": "6bba3868",
   "metadata": {
    "execution": {
     "iopub.execute_input": "2022-05-21T16:23:20.331408Z",
     "iopub.status.busy": "2022-05-21T16:23:20.323716Z",
     "iopub.status.idle": "2022-05-21T16:23:21.121954Z",
     "shell.execute_reply": "2022-05-21T16:23:21.122457Z",
     "shell.execute_reply.started": "2022-05-21T16:21:36.245311Z"
    },
    "papermill": {
     "duration": 0.832259,
     "end_time": "2022-05-21T16:23:21.122726",
     "exception": false,
     "start_time": "2022-05-21T16:23:20.290467",
     "status": "completed"
    },
    "tags": []
   },
   "outputs": [
    {
     "name": "stderr",
     "output_type": "stream",
     "text": [
      "1it [00:00,  1.41it/s]\n"
     ]
    }
   ],
   "source": [
    "pred_list = []\n",
    "treshold = 0.1\n",
    "with torch.no_grad():\n",
    "    for i, batch in tqdm(enumerate(test_dataloader)):\n",
    "        batch_size, part_count, part_size = batch.shape\n",
    "        batch = batch.reshape(batch_size * part_count, part_size)\n",
    "        pred = model(batch.to(device))\n",
    "        pred = pred.cpu().numpy()\n",
    "#         topk_birds = find_topk(pred_proba, max_birds=10)\n",
    "        \n",
    "        for j, chunk_pred in enumerate(pred):\n",
    "            inbatch_number = j // part_count\n",
    "            chunk_number = j % part_count + 1\n",
    "            f_idx = i * batch_size + inbatch_number\n",
    "            fname = test_dataset.fnames[f_idx]\n",
    "            prefix = fname.split('.')[0]\n",
    "            sufix = f'{5 * chunk_number}'\n",
    "            nocall = nocall_pd[(nocall_pd.fname == fname) & (nocall_pd.r_sec == 5 * chunk_number)]['iscall'].values[0]\n",
    "            \n",
    "            pred_list.extend([{\n",
    "                'row_id': '_'.join([prefix, b, sufix]),\n",
    "                'target': (chunk_pred[species2id[b]] > treshold_dict[b]) and nocall # if species2id[b] in topk_birds else False\n",
    "            } for b in test_birds])\n",
    "pred_pd = pd.DataFrame(pred_list)"
   ]
  },
  {
   "cell_type": "code",
   "execution_count": 21,
   "id": "dcfd161e",
   "metadata": {
    "execution": {
     "iopub.execute_input": "2022-05-21T16:23:21.191158Z",
     "iopub.status.busy": "2022-05-21T16:23:21.190496Z",
     "iopub.status.idle": "2022-05-21T16:23:21.207156Z",
     "shell.execute_reply": "2022-05-21T16:23:21.207677Z",
     "shell.execute_reply.started": "2022-05-21T16:22:01.425401Z"
    },
    "papermill": {
     "duration": 0.05346,
     "end_time": "2022-05-21T16:23:21.207841",
     "exception": false,
     "start_time": "2022-05-21T16:23:21.154381",
     "status": "completed"
    },
    "tags": []
   },
   "outputs": [
    {
     "data": {
      "text/html": [
       "<div>\n",
       "<style scoped>\n",
       "    .dataframe tbody tr th:only-of-type {\n",
       "        vertical-align: middle;\n",
       "    }\n",
       "\n",
       "    .dataframe tbody tr th {\n",
       "        vertical-align: top;\n",
       "    }\n",
       "\n",
       "    .dataframe thead th {\n",
       "        text-align: right;\n",
       "    }\n",
       "</style>\n",
       "<table border=\"1\" class=\"dataframe\">\n",
       "  <thead>\n",
       "    <tr style=\"text-align: right;\">\n",
       "      <th></th>\n",
       "      <th>row_id</th>\n",
       "      <th>target</th>\n",
       "    </tr>\n",
       "  </thead>\n",
       "  <tbody>\n",
       "    <tr>\n",
       "      <th>0</th>\n",
       "      <td>soundscape_453028782_akiapo_5</td>\n",
       "      <td>False</td>\n",
       "    </tr>\n",
       "    <tr>\n",
       "      <th>1</th>\n",
       "      <td>soundscape_453028782_aniani_5</td>\n",
       "      <td>False</td>\n",
       "    </tr>\n",
       "    <tr>\n",
       "      <th>2</th>\n",
       "      <td>soundscape_453028782_apapan_5</td>\n",
       "      <td>False</td>\n",
       "    </tr>\n",
       "    <tr>\n",
       "      <th>3</th>\n",
       "      <td>soundscape_453028782_barpet_5</td>\n",
       "      <td>False</td>\n",
       "    </tr>\n",
       "    <tr>\n",
       "      <th>4</th>\n",
       "      <td>soundscape_453028782_crehon_5</td>\n",
       "      <td>False</td>\n",
       "    </tr>\n",
       "    <tr>\n",
       "      <th>...</th>\n",
       "      <td>...</td>\n",
       "      <td>...</td>\n",
       "    </tr>\n",
       "    <tr>\n",
       "      <th>247</th>\n",
       "      <td>soundscape_453028782_omao_60</td>\n",
       "      <td>False</td>\n",
       "    </tr>\n",
       "    <tr>\n",
       "      <th>248</th>\n",
       "      <td>soundscape_453028782_puaioh_60</td>\n",
       "      <td>False</td>\n",
       "    </tr>\n",
       "    <tr>\n",
       "      <th>249</th>\n",
       "      <td>soundscape_453028782_skylar_60</td>\n",
       "      <td>False</td>\n",
       "    </tr>\n",
       "    <tr>\n",
       "      <th>250</th>\n",
       "      <td>soundscape_453028782_warwhe1_60</td>\n",
       "      <td>False</td>\n",
       "    </tr>\n",
       "    <tr>\n",
       "      <th>251</th>\n",
       "      <td>soundscape_453028782_yefcan_60</td>\n",
       "      <td>False</td>\n",
       "    </tr>\n",
       "  </tbody>\n",
       "</table>\n",
       "<p>252 rows × 2 columns</p>\n",
       "</div>"
      ],
      "text/plain": [
       "                              row_id  target\n",
       "0      soundscape_453028782_akiapo_5   False\n",
       "1      soundscape_453028782_aniani_5   False\n",
       "2      soundscape_453028782_apapan_5   False\n",
       "3      soundscape_453028782_barpet_5   False\n",
       "4      soundscape_453028782_crehon_5   False\n",
       "..                               ...     ...\n",
       "247     soundscape_453028782_omao_60   False\n",
       "248   soundscape_453028782_puaioh_60   False\n",
       "249   soundscape_453028782_skylar_60   False\n",
       "250  soundscape_453028782_warwhe1_60   False\n",
       "251   soundscape_453028782_yefcan_60   False\n",
       "\n",
       "[252 rows x 2 columns]"
      ]
     },
     "execution_count": 21,
     "metadata": {},
     "output_type": "execute_result"
    }
   ],
   "source": [
    "pred_pd.to_csv(\"submission.csv\", index=False)\n",
    "pred_pd"
   ]
  },
  {
   "cell_type": "code",
   "execution_count": null,
   "id": "1b998265",
   "metadata": {
    "papermill": {
     "duration": 0.032071,
     "end_time": "2022-05-21T16:23:21.272086",
     "exception": false,
     "start_time": "2022-05-21T16:23:21.240015",
     "status": "completed"
    },
    "tags": []
   },
   "outputs": [],
   "source": []
  }
 ],
 "metadata": {
  "kernelspec": {
   "display_name": "Python 3",
   "language": "python",
   "name": "python3"
  },
  "language_info": {
   "codemirror_mode": {
    "name": "ipython",
    "version": 3
   },
   "file_extension": ".py",
   "mimetype": "text/x-python",
   "name": "python",
   "nbconvert_exporter": "python",
   "pygments_lexer": "ipython3",
   "version": "3.7.12"
  },
  "papermill": {
   "default_parameters": {},
   "duration": 39.593583,
   "end_time": "2022-05-21T16:23:23.967466",
   "environment_variables": {},
   "exception": null,
   "input_path": "__notebook__.ipynb",
   "output_path": "__notebook__.ipynb",
   "parameters": {},
   "start_time": "2022-05-21T16:22:44.373883",
   "version": "2.3.3"
  }
 },
 "nbformat": 4,
 "nbformat_minor": 5
}
