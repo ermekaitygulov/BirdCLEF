{
 "cells": [
  {
   "cell_type": "code",
   "execution_count": 1,
   "id": "a303b290",
   "metadata": {
    "_cell_guid": "b1076dfc-b9ad-4769-8c92-a6c4dae69d19",
    "_uuid": "8f2839f25d086af736a60e9eeb907d3b93b6e0e5",
    "execution": {
     "iopub.execute_input": "2022-05-16T08:20:13.549338Z",
     "iopub.status.busy": "2022-05-16T08:20:13.547814Z",
     "iopub.status.idle": "2022-05-16T08:20:19.174006Z",
     "shell.execute_reply": "2022-05-16T08:20:19.173352Z",
     "shell.execute_reply.started": "2022-05-16T08:06:31.859886Z"
    },
    "papermill": {
     "duration": 5.648837,
     "end_time": "2022-05-16T08:20:19.174149",
     "exception": false,
     "start_time": "2022-05-16T08:20:13.525312",
     "status": "completed"
    },
    "tags": []
   },
   "outputs": [],
   "source": [
    "import sys\n",
    "sys.path.append('../input/timm-pytorch-image-models/pytorch-image-models-master')\n",
    "sys.path.append('../input/birdclefmodels/')\n",
    "\n",
    "import numpy as np # linear algebra\n",
    "import pandas as pd # data processing, CSV file I/O (e.g. pd.read_csv)\n",
    "import librosa\n",
    "\n",
    "from matplotlib import pyplot as plt\n",
    "import json\n",
    "import random\n",
    "from tqdm import tqdm\n",
    "import os\n",
    "import yaml\n",
    "\n",
    "import torch\n",
    "import torchaudio as ta\n",
    "import timm\n",
    "from torch.utils.data import Dataset, DataLoader\n",
    "\n",
    "import neural_network"
   ]
  },
  {
   "cell_type": "code",
   "execution_count": 2,
   "id": "dd3c2013",
   "metadata": {
    "execution": {
     "iopub.execute_input": "2022-05-16T08:20:19.368137Z",
     "iopub.status.busy": "2022-05-16T08:20:19.212825Z",
     "iopub.status.idle": "2022-05-16T08:20:19.519312Z",
     "shell.execute_reply": "2022-05-16T08:20:19.518422Z",
     "shell.execute_reply.started": "2022-05-16T08:06:52.542759Z"
    },
    "papermill": {
     "duration": 0.326053,
     "end_time": "2022-05-16T08:20:19.519465",
     "exception": false,
     "start_time": "2022-05-16T08:20:19.193412",
     "status": "completed"
    },
    "tags": []
   },
   "outputs": [],
   "source": [
    "data_root = '/kaggle/input/birdclef-2022'\n",
    "train_meta = pd.read_csv('../input/birdclef-data-with-wav-durations/train_metadata_extended.csv')\n",
    "ebird_taxonomy = pd.read_csv(os.path.join(data_root, 'eBird_Taxonomy_v2021.csv'))"
   ]
  },
  {
   "cell_type": "code",
   "execution_count": 3,
   "id": "e5a46e6e",
   "metadata": {
    "execution": {
     "iopub.execute_input": "2022-05-16T08:20:19.583016Z",
     "iopub.status.busy": "2022-05-16T08:20:19.582209Z",
     "iopub.status.idle": "2022-05-16T08:20:19.634250Z",
     "shell.execute_reply": "2022-05-16T08:20:19.633805Z",
     "shell.execute_reply.started": "2022-05-16T08:06:53.195687Z"
    },
    "papermill": {
     "duration": 0.097485,
     "end_time": "2022-05-16T08:20:19.634379",
     "exception": false,
     "start_time": "2022-05-16T08:20:19.536894",
     "status": "completed"
    },
    "tags": []
   },
   "outputs": [],
   "source": [
    "train_meta.loc[:, 'secondary_labels'] = train_meta.secondary_labels.apply(eval)\n",
    "train_meta['target_raw'] = train_meta.secondary_labels + train_meta.primary_label.apply(lambda x: [x])"
   ]
  },
  {
   "cell_type": "code",
   "execution_count": 4,
   "id": "8517ff5e",
   "metadata": {
    "execution": {
     "iopub.execute_input": "2022-05-16T08:20:20.062571Z",
     "iopub.status.busy": "2022-05-16T08:20:20.061778Z",
     "iopub.status.idle": "2022-05-16T08:20:20.433376Z",
     "shell.execute_reply": "2022-05-16T08:20:20.432865Z",
     "shell.execute_reply.started": "2022-05-16T08:06:55.025355Z"
    },
    "papermill": {
     "duration": 0.782145,
     "end_time": "2022-05-16T08:20:20.433498",
     "exception": false,
     "start_time": "2022-05-16T08:20:19.651353",
     "status": "completed"
    },
    "tags": []
   },
   "outputs": [],
   "source": [
    "all_species = sorted(set(train_meta.target_raw.sum()))\n",
    "species2id = {s: i for i, s in enumerate(all_species)}\n",
    "id2species = {i: s for i, s in enumerate(all_species)}\n",
    "\n",
    "train_meta['target'] = train_meta.target_raw.apply(lambda species: [int(s in species) for s in all_species])"
   ]
  },
  {
   "cell_type": "code",
   "execution_count": 5,
   "id": "62486ba4",
   "metadata": {
    "execution": {
     "iopub.execute_input": "2022-05-16T08:20:20.474424Z",
     "iopub.status.busy": "2022-05-16T08:20:20.472827Z",
     "iopub.status.idle": "2022-05-16T08:20:20.475052Z",
     "shell.execute_reply": "2022-05-16T08:20:20.475460Z",
     "shell.execute_reply.started": "2022-05-16T08:06:56.030632Z"
    },
    "papermill": {
     "duration": 0.0246,
     "end_time": "2022-05-16T08:20:20.475582",
     "exception": false,
     "start_time": "2022-05-16T08:20:20.450982",
     "status": "completed"
    },
    "tags": []
   },
   "outputs": [],
   "source": [
    "def load_wav(fname, offset, duration):\n",
    "#     fname = 'afrsil1/XC125458.ogg'\n",
    "    fpath = os.path.join(data_root, 'train_audio', fname)\n",
    "    wav, sr = librosa.load(fpath, sr=None, duration=duration)\n",
    "    assert sr <= 32000, sr\n",
    "    return wav, sr"
   ]
  },
  {
   "cell_type": "markdown",
   "id": "ad3df61e",
   "metadata": {
    "papermill": {
     "duration": 0.017556,
     "end_time": "2022-05-16T08:20:20.510673",
     "exception": false,
     "start_time": "2022-05-16T08:20:20.493117",
     "status": "completed"
    },
    "tags": []
   },
   "source": [
    "### Torch Dataset"
   ]
  },
  {
   "cell_type": "code",
   "execution_count": 6,
   "id": "350364c2",
   "metadata": {
    "execution": {
     "iopub.execute_input": "2022-05-16T08:20:20.550521Z",
     "iopub.status.busy": "2022-05-16T08:20:20.548600Z",
     "iopub.status.idle": "2022-05-16T08:20:20.551153Z",
     "shell.execute_reply": "2022-05-16T08:20:20.551546Z",
     "shell.execute_reply.started": "2022-05-16T08:06:57.711400Z"
    },
    "papermill": {
     "duration": 0.02357,
     "end_time": "2022-05-16T08:20:20.551662",
     "exception": false,
     "start_time": "2022-05-16T08:20:20.528092",
     "status": "completed"
    },
    "tags": []
   },
   "outputs": [],
   "source": [
    "TEST_SIZE = 5 \n",
    "CONFIG = {\n",
    "    'crop_len': 30,\n",
    "    'sample_rate': 32000,    \n",
    "}\n"
   ]
  },
  {
   "cell_type": "markdown",
   "id": "82e9c221",
   "metadata": {
    "execution": {
     "iopub.execute_input": "2022-04-21T09:17:01.036366Z",
     "iopub.status.busy": "2022-04-21T09:17:01.036048Z",
     "iopub.status.idle": "2022-04-21T09:17:01.05202Z",
     "shell.execute_reply": "2022-04-21T09:17:01.050779Z",
     "shell.execute_reply.started": "2022-04-21T09:17:01.036334Z"
    },
    "papermill": {
     "duration": 0.016649,
     "end_time": "2022-05-16T08:20:20.585443",
     "exception": false,
     "start_time": "2022-05-16T08:20:20.568794",
     "status": "completed"
    },
    "tags": []
   },
   "source": [
    "### Model"
   ]
  },
  {
   "cell_type": "code",
   "execution_count": 7,
   "id": "704a235b",
   "metadata": {
    "execution": {
     "iopub.execute_input": "2022-05-16T08:20:20.628815Z",
     "iopub.status.busy": "2022-05-16T08:20:20.627244Z",
     "iopub.status.idle": "2022-05-16T08:20:20.629396Z",
     "shell.execute_reply": "2022-05-16T08:20:20.629853Z",
     "shell.execute_reply.started": "2022-05-16T08:06:59.383175Z"
    },
    "papermill": {
     "duration": 0.027693,
     "end_time": "2022-05-16T08:20:20.630044",
     "exception": false,
     "start_time": "2022-05-16T08:20:20.602351",
     "status": "completed"
    },
    "tags": []
   },
   "outputs": [],
   "source": [
    "# from torch.distributions import Beta\n",
    "# from torch import nn\n",
    "\n",
    "\n",
    "# class Net(torch.nn.Module):\n",
    "#     def __init__(self, backbone_path=None):\n",
    "#         super().__init__()\n",
    "#         self.audio2image = self._init_audio2image()\n",
    "#         self.backbone = self._init_backbone()\n",
    "#         self.load_backbone(backbone_path)\n",
    "#         self.head = self._init_head(self.backbone.feature_info[-1]['num_chs'])      \n",
    "#         self.loss = torch.nn.BCEWithLogitsLoss()\n",
    "#         self.mixup = Mixup()\n",
    "        \n",
    "#     def forward(self, wav_tensor, y=None):\n",
    "#         # wav_tensor: b, t\n",
    "#         if self.training:\n",
    "#             wav_tensor = self.batch_crop(wav_tensor) # b, t\n",
    "            \n",
    "#         spectrogram = self.audio2image(wav_tensor) # b, m, t\n",
    "#         spectrogram = spectrogram.permute(0, 2, 1) # b, t, m\n",
    "#         spectrogram = spectrogram[:, None, :, :] # b, c, t, m\n",
    "        \n",
    "#         if self.training:\n",
    "#             spectrogram = spectrogram.permute(0, 2, 1, 3) # b, t, c, m\n",
    "#             spectrogram = self.batch_uncrop(spectrogram)\n",
    "            \n",
    "#             spectrogram, y = self.mixup(spectrogram, y)\n",
    "            \n",
    "#             spectrogram = self.batch_crop(spectrogram)\n",
    "#             spectrogram = spectrogram.permute(0, 2, 1, 3) # b, c, t, m\n",
    "                \n",
    "#         x = self.backbone(spectrogram) # b, c, t, m\n",
    "#         if self.training:\n",
    "#             x = x.permute(0, 2, 1, 3) # b, t, c, m\n",
    "#             x = self.batch_uncrop(x)\n",
    "#             x = x.permute(0, 2, 1, 3) # b, c, t, m\n",
    "        \n",
    "#         # average mel axis\n",
    "#         x = torch.mean(x, axis=-1)\n",
    "                \n",
    "#         logits = self.head(x) # b, n_out\n",
    "        \n",
    "#         if y is not None:\n",
    "#             loss = self.loss(logits, y)\n",
    "#         else:\n",
    "#             loss = None\n",
    "\n",
    "#         return {'loss': loss, 'logits': logits.sigmoid()}\n",
    "    \n",
    "#     def batch_crop(self, tensor):\n",
    "#         factor = int(CONFIG['crop_len'] // TEST_SIZE)\n",
    "#         b, t = tensor.shape[:2]\n",
    "#         tensor = tensor.reshape(b * factor, t // factor, *tensor.shape[2:])\n",
    "#         return tensor\n",
    "    \n",
    "#     def batch_uncrop(self, tensor):\n",
    "#         factor = int(CONFIG['crop_len'] // TEST_SIZE)\n",
    "#         b, t = tensor.shape[:2]\n",
    "#         tensor = tensor.reshape(b // factor, t * factor, *tensor.shape[2:])\n",
    "#         return tensor\n",
    "    \n",
    "#     @staticmethod\n",
    "#     def _init_audio2image():\n",
    "#         mel = ta.transforms.MelSpectrogram(\n",
    "#             sample_rate=32000,\n",
    "#             n_fft=2048,\n",
    "#             win_length=2048,\n",
    "#             hop_length=512,\n",
    "#             f_min=16,\n",
    "#             f_max=16386,\n",
    "#             pad=0,\n",
    "#             n_mels=256,\n",
    "#             power=2,\n",
    "#             normalized=False,\n",
    "#         )\n",
    "#         db_scale = ta.transforms.AmplitudeToDB(top_db=80.0)\n",
    "#         audio2image = torch.nn.Sequential(mel, db_scale)\n",
    "#         return audio2image\n",
    "    \n",
    "#     @staticmethod\n",
    "#     def _init_backbone():\n",
    "#         backbone = \"resnet18\"\n",
    "#         pretrained = False\n",
    "#         pretrained_weights = None\n",
    "#         train = True\n",
    "#         val = False\n",
    "#         in_chans = 1\n",
    "\n",
    "#         backbone = timm.create_model(\n",
    "#             backbone,\n",
    "#             pretrained=pretrained,\n",
    "#             num_classes=0,\n",
    "#             global_pool=\"\",\n",
    "#             in_chans=in_chans,\n",
    "#         )\n",
    "#         return backbone\n",
    "    \n",
    "#     @staticmethod\n",
    "#     def _init_head(num_chs):\n",
    "#         head = Attention(num_chs, len(all_species), activation='linear')\n",
    "#         return head\n",
    "    \n",
    "#     def load_backbone(self, weights_path=None):\n",
    "#         if weights_path:\n",
    "#             state_dict=torch.load(weights_path)\n",
    "#             conv1_weight = state_dict['conv1.weight']\n",
    "#             state_dict['conv1.weight'] = conv1_weight.sum(dim=1, keepdim=True)\n",
    "#             state_dict.pop('fc.bias')\n",
    "#             state_dict.pop('fc.weight')\n",
    "#             self.backbone.load_state_dict(state_dict)\n",
    "\n",
    "\n",
    "# class Mixup(nn.Module):\n",
    "#     def __init__(self, mix_beta=1):\n",
    "#         super(Mixup, self).__init__()\n",
    "#         self.beta_distribution = Beta(mix_beta, mix_beta)\n",
    "\n",
    "#     def forward(self, X, Y, sample_weight=None):\n",
    "\n",
    "#         bs = X.shape[0]\n",
    "#         n_dims = len(X.shape)\n",
    "#         perm = torch.randperm(bs)\n",
    "#         mixup_weight = self.beta_distribution.rsample(torch.Size((bs,))).to(X.device)\n",
    "\n",
    "#         if n_dims == 2:\n",
    "#             X = mixup_weight.view(-1, 1) * X + (1 - mixup_weight.view(-1, 1)) * X[perm]\n",
    "#         elif n_dims == 3:\n",
    "#             X = mixup_weight.view(-1, 1, 1) * X + (1 - mixup_weight.view(-1, 1, 1)) * X[perm]\n",
    "#         else:\n",
    "#             X = mixup_weight.view(-1, 1, 1, 1) * X + (1 - mixup_weight.view(-1, 1, 1, 1)) * X[perm]\n",
    "\n",
    "#         Y = mixup_weight.view(-1, 1) * Y + (1 - mixup_weight.view(-1, 1)) * Y[perm]\n",
    "\n",
    "#         if sample_weight is None:\n",
    "#             return X, Y\n",
    "#         else:\n",
    "#             sample_weight = mixup_weight.view(-1) * sample_weight + (1 - mixup_weight.view(-1)) * sample_weight[perm]\n",
    "#             return X, Y, sample_weight\n",
    "\n",
    "        \n",
    "# class Attention(nn.Module):\n",
    "#     def __init__(self, in_channels, out_channels, activation='linear'):\n",
    "#         super().__init__()\n",
    "#         self.activation = activation\n",
    "#         self.attn = nn.Conv1d(in_channels, out_channels, kernel_size=1)\n",
    "#         self.cla = nn.Conv1d(in_channels, out_channels, kernel_size=1)\n",
    "        \n",
    "#     def forward(self, x):\n",
    "#         # x: b, c, t\n",
    "#         attn = torch.softmax(torch.tanh(self.attn(x)), dim=-1) # b, c, t\n",
    "#         x = self.cla(x) # b, c, t\n",
    "#         x = torch.sum(x * attn, dim=-1) #b, c\n",
    "#         return x"
   ]
  },
  {
   "cell_type": "markdown",
   "id": "2aaf5bd0",
   "metadata": {
    "papermill": {
     "duration": 0.016698,
     "end_time": "2022-05-16T08:20:20.664067",
     "exception": false,
     "start_time": "2022-05-16T08:20:20.647369",
     "status": "completed"
    },
    "tags": []
   },
   "source": [
    "### Model load"
   ]
  },
  {
   "cell_type": "code",
   "execution_count": 8,
   "id": "6f87b29b",
   "metadata": {
    "execution": {
     "iopub.execute_input": "2022-05-16T08:20:20.759684Z",
     "iopub.status.busy": "2022-05-16T08:20:20.759144Z",
     "iopub.status.idle": "2022-05-16T08:20:24.890460Z",
     "shell.execute_reply": "2022-05-16T08:20:24.890033Z",
     "shell.execute_reply.started": "2022-05-16T08:07:01.183251Z"
    },
    "papermill": {
     "duration": 4.209419,
     "end_time": "2022-05-16T08:20:24.890581",
     "exception": false,
     "start_time": "2022-05-16T08:20:20.681162",
     "status": "completed"
    },
    "tags": []
   },
   "outputs": [
    {
     "data": {
      "text/plain": [
       "<All keys matched successfully>"
      ]
     },
     "execution_count": 8,
     "metadata": {},
     "output_type": "execute_result"
    }
   ],
   "source": [
    "from neural_network import NN_CATALOG\n",
    "\n",
    "config_path = '../input/birdclefsubmit/baseline_config.yaml'\n",
    "model_path = '../input/birdclefsubmit/final-model.pt'\n",
    "device = torch.device('cuda' if torch.cuda.is_available() else 'cpu')\n",
    "\n",
    "with open(config_path) as fin:\n",
    "    config = yaml.safe_load(fin)\n",
    "\n",
    "model_config = config['model']\n",
    "model_config['params']['backbone_config']['pretrained'] = False\n",
    "data_config = config['data']\n",
    "model_class = NN_CATALOG[model_config['name']]\n",
    "\n",
    "model = model_class(len(all_species), int(data_config['crop_len'] // data_config['test_wav_len']),\n",
    "                    **model_config['params'])\n",
    "model.to(device)\n",
    "\n",
    "state_dict = torch.load(model_path, map_location=device)\n",
    "model.load_state_dict(state_dict)\n"
   ]
  },
  {
   "cell_type": "code",
   "execution_count": 9,
   "id": "1ca5fa85",
   "metadata": {
    "execution": {
     "iopub.execute_input": "2022-05-16T08:20:24.929925Z",
     "iopub.status.busy": "2022-05-16T08:20:24.929374Z",
     "iopub.status.idle": "2022-05-16T08:20:24.933066Z",
     "shell.execute_reply": "2022-05-16T08:20:24.932629Z",
     "shell.execute_reply.started": "2022-05-16T08:07:09.563398Z"
    },
    "papermill": {
     "duration": 0.024522,
     "end_time": "2022-05-16T08:20:24.933178",
     "exception": false,
     "start_time": "2022-05-16T08:20:24.908656",
     "status": "completed"
    },
    "tags": []
   },
   "outputs": [],
   "source": [
    "\n",
    "\n",
    "\n",
    "# state_dict = torch.load(model_path, map_location=device)\n",
    "# model = Net(len(all_species), int(CONFIG['crop_len'] // TEST_SIZE),\n",
    "#             backbone_config=dict(model_name='resnet18', pretrained=False))\n",
    "# model.load_state_dict(state_dict)\n",
    "# model.to(device)"
   ]
  },
  {
   "cell_type": "markdown",
   "id": "13747cd1",
   "metadata": {
    "papermill": {
     "duration": 0.017303,
     "end_time": "2022-05-16T08:20:24.971480",
     "exception": false,
     "start_time": "2022-05-16T08:20:24.954177",
     "status": "completed"
    },
    "tags": []
   },
   "source": [
    "### Submit"
   ]
  },
  {
   "cell_type": "code",
   "execution_count": 10,
   "id": "be48b61a",
   "metadata": {
    "execution": {
     "iopub.execute_input": "2022-05-16T08:20:25.010227Z",
     "iopub.status.busy": "2022-05-16T08:20:25.009691Z",
     "iopub.status.idle": "2022-05-16T08:20:25.015886Z",
     "shell.execute_reply": "2022-05-16T08:20:25.015459Z",
     "shell.execute_reply.started": "2022-05-16T08:07:12.053345Z"
    },
    "papermill": {
     "duration": 0.026973,
     "end_time": "2022-05-16T08:20:25.015992",
     "exception": false,
     "start_time": "2022-05-16T08:20:24.989019",
     "status": "completed"
    },
    "tags": []
   },
   "outputs": [],
   "source": [
    "with open(os.path.join(data_root, 'scored_birds.json')) as fin:\n",
    "    test_birds = json.load(fin)"
   ]
  },
  {
   "cell_type": "code",
   "execution_count": 11,
   "id": "6cd70de2",
   "metadata": {
    "execution": {
     "iopub.execute_input": "2022-05-16T08:20:25.060611Z",
     "iopub.status.busy": "2022-05-16T08:20:25.059887Z",
     "iopub.status.idle": "2022-05-16T08:20:25.062199Z",
     "shell.execute_reply": "2022-05-16T08:20:25.061795Z",
     "shell.execute_reply.started": "2022-05-16T08:07:14.253424Z"
    },
    "papermill": {
     "duration": 0.029193,
     "end_time": "2022-05-16T08:20:25.062300",
     "exception": false,
     "start_time": "2022-05-16T08:20:25.033107",
     "status": "completed"
    },
    "tags": []
   },
   "outputs": [],
   "source": [
    "class Compose:\n",
    "    def __init__(self, transforms: list):\n",
    "        self.transforms = transforms\n",
    "\n",
    "    def __call__(self, y: np.ndarray, sr):\n",
    "        for trns in self.transforms:\n",
    "            y = trns(y, sr)\n",
    "        return y\n",
    "    \n",
    "    \n",
    "class AudioTransform:\n",
    "    def __init__(self, always_apply=False, p=0.5):\n",
    "        self.always_apply = always_apply\n",
    "        self.p = p\n",
    "\n",
    "    def __call__(self, y: np.ndarray, sr):\n",
    "        if self.always_apply:\n",
    "            return self.apply(y, sr=sr)\n",
    "        else:\n",
    "            if np.random.rand() < self.p:\n",
    "                return self.apply(y, sr=sr)\n",
    "            else:\n",
    "                return y\n",
    "\n",
    "    def apply(self, y: np.ndarray, **params):\n",
    "        raise NotImplementedError\n",
    "        \n",
    "        \n",
    "class Normalize(AudioTransform):\n",
    "    def __init__(self, always_apply=False, p=1):\n",
    "        super().__init__(always_apply, p)\n",
    "\n",
    "    def apply(self, y: np.ndarray, **params):\n",
    "        max_vol = np.abs(y).max()\n",
    "        y_vol = y / max_vol\n",
    "        assert not np.isnan(y_vol).any(), f'{max_vol}'\n",
    "        return y_vol"
   ]
  },
  {
   "cell_type": "code",
   "execution_count": 12,
   "id": "6c32b60e",
   "metadata": {
    "execution": {
     "iopub.execute_input": "2022-05-16T08:20:25.105195Z",
     "iopub.status.busy": "2022-05-16T08:20:25.104428Z",
     "iopub.status.idle": "2022-05-16T08:20:25.106308Z",
     "shell.execute_reply": "2022-05-16T08:20:25.106679Z",
     "shell.execute_reply.started": "2022-05-16T08:07:16.820566Z"
    },
    "papermill": {
     "duration": 0.026802,
     "end_time": "2022-05-16T08:20:25.106811",
     "exception": false,
     "start_time": "2022-05-16T08:20:25.080009",
     "status": "completed"
    },
    "tags": []
   },
   "outputs": [],
   "source": [
    "class TestDataset(Dataset):\n",
    "    def __init__(self, test_folder, augmentations=None):\n",
    "        super().__init__()\n",
    "        self.test_folder = test_folder\n",
    "        self.fnames = [f for f in os.listdir(test_folder) if f.endswith('.ogg')]\n",
    "        self.augmentations = augmentations\n",
    "        \n",
    "    def __len__(self):\n",
    "        return len(self.fnames)\n",
    "    \n",
    "    def __getitem__(self, idx):\n",
    "        fpath = os.path.join(self.test_folder, self.fnames[idx])\n",
    "        wav, sr = load_wav(fpath, 0, None)\n",
    "        if self.augmentations:\n",
    "            wav = self.augmentations(wav, None)\n",
    "        wav = torch.tensor(wav)\n",
    "        assert (13 * 5 * sr) > len(wav) \n",
    "        wav = wav[:len(wav) // 12 * 12].reshape((12, len(wav) // 12))\n",
    "        return wav"
   ]
  },
  {
   "cell_type": "code",
   "execution_count": 13,
   "id": "e555b6bc",
   "metadata": {
    "execution": {
     "iopub.execute_input": "2022-05-16T08:20:25.145671Z",
     "iopub.status.busy": "2022-05-16T08:20:25.145145Z",
     "iopub.status.idle": "2022-05-16T08:20:25.150799Z",
     "shell.execute_reply": "2022-05-16T08:20:25.150339Z",
     "shell.execute_reply.started": "2022-05-16T08:07:19.807875Z"
    },
    "papermill": {
     "duration": 0.026731,
     "end_time": "2022-05-16T08:20:25.150907",
     "exception": false,
     "start_time": "2022-05-16T08:20:25.124176",
     "status": "completed"
    },
    "tags": []
   },
   "outputs": [],
   "source": [
    "test_dataset = TestDataset(\n",
    "    os.path.join(data_root, 'test_soundscapes'),\n",
    "    Compose([Normalize(p=1)])\n",
    ")\n",
    "test_dataloader = DataLoader(\n",
    "    test_dataset,\n",
    "    batch_size=1,\n",
    "    shuffle=False,\n",
    "    num_workers=2,\n",
    "    drop_last=False,   \n",
    ")"
   ]
  },
  {
   "cell_type": "code",
   "execution_count": 14,
   "id": "9bc0c19b",
   "metadata": {
    "execution": {
     "iopub.execute_input": "2022-05-16T08:20:25.190635Z",
     "iopub.status.busy": "2022-05-16T08:20:25.189852Z",
     "iopub.status.idle": "2022-05-16T08:20:25.192248Z",
     "shell.execute_reply": "2022-05-16T08:20:25.191824Z",
     "shell.execute_reply.started": "2022-05-16T08:12:57.451681Z"
    },
    "papermill": {
     "duration": 0.024262,
     "end_time": "2022-05-16T08:20:25.192345",
     "exception": false,
     "start_time": "2022-05-16T08:20:25.168083",
     "status": "completed"
    },
    "tags": []
   },
   "outputs": [],
   "source": [
    "def find_topk(pred_proba, max_birds=5):\n",
    "    pred_proba = pred_proba[:, [species2id[b] for b in test_birds]]\n",
    "    mean_proba = pred_proba.mean(axis=0)\n",
    "    topk_birds = [i for i, _ in sorted(enumerate(mean_proba),\n",
    "                                       key=lambda x: x[1],\n",
    "                                       reverse=True)][:max_birds]\n",
    "    return topk_birds"
   ]
  },
  {
   "cell_type": "code",
   "execution_count": 15,
   "id": "4eeb07bc",
   "metadata": {
    "execution": {
     "iopub.execute_input": "2022-05-16T08:20:25.235243Z",
     "iopub.status.busy": "2022-05-16T08:20:25.234022Z",
     "iopub.status.idle": "2022-05-16T08:20:31.786147Z",
     "shell.execute_reply": "2022-05-16T08:20:31.786573Z",
     "shell.execute_reply.started": "2022-05-16T08:17:14.561218Z"
    },
    "papermill": {
     "duration": 6.577283,
     "end_time": "2022-05-16T08:20:31.786717",
     "exception": false,
     "start_time": "2022-05-16T08:20:25.209434",
     "status": "completed"
    },
    "tags": []
   },
   "outputs": [
    {
     "name": "stderr",
     "output_type": "stream",
     "text": [
      "1it [00:06,  6.49s/it]\n"
     ]
    }
   ],
   "source": [
    "pred_list = []\n",
    "treshold = 0.05\n",
    "model.eval()\n",
    "with torch.no_grad():\n",
    "    for i, batch in tqdm(enumerate(test_dataloader)):\n",
    "        batch_size, part_count, part_size = batch.shape\n",
    "        batch = batch.reshape(batch_size * part_count, part_size)\n",
    "        pred = model(batch.to(device))['logits']\n",
    "        pred = pred.cpu().numpy()\n",
    "        pred_proba = pred\n",
    "        pred = pred > treshold\n",
    "        topk_birds = find_topk(pred_proba, max_birds=5)\n",
    "        \n",
    "        for j, chunk_pred in enumerate(pred):\n",
    "            inbatch_number = j // part_count\n",
    "            chunk_number = j % part_count + 1\n",
    "            f_idx = i * batch_size + inbatch_number\n",
    "            fname = test_dataset.fnames[f_idx]\n",
    "            prefix = fname.split('.')[0]\n",
    "            sufix = f'{5 * chunk_number}'\n",
    "            \n",
    "            pred_list.extend([{\n",
    "                'row_id': '_'.join([prefix, b, sufix]),\n",
    "                'target': chunk_pred[species2id[b]] if species2id[b] in topk_birds else False\n",
    "            } for b in test_birds])\n",
    "pred_pd = pd.DataFrame(pred_list)"
   ]
  },
  {
   "cell_type": "code",
   "execution_count": 16,
   "id": "8901f099",
   "metadata": {
    "execution": {
     "iopub.execute_input": "2022-05-16T08:20:31.828403Z",
     "iopub.status.busy": "2022-05-16T08:20:31.827620Z",
     "iopub.status.idle": "2022-05-16T08:20:31.845250Z",
     "shell.execute_reply": "2022-05-16T08:20:31.845696Z",
     "shell.execute_reply.started": "2022-05-16T08:18:30.877741Z"
    },
    "papermill": {
     "duration": 0.039888,
     "end_time": "2022-05-16T08:20:31.845855",
     "exception": false,
     "start_time": "2022-05-16T08:20:31.805967",
     "status": "completed"
    },
    "tags": []
   },
   "outputs": [
    {
     "data": {
      "text/html": [
       "<div>\n",
       "<style scoped>\n",
       "    .dataframe tbody tr th:only-of-type {\n",
       "        vertical-align: middle;\n",
       "    }\n",
       "\n",
       "    .dataframe tbody tr th {\n",
       "        vertical-align: top;\n",
       "    }\n",
       "\n",
       "    .dataframe thead th {\n",
       "        text-align: right;\n",
       "    }\n",
       "</style>\n",
       "<table border=\"1\" class=\"dataframe\">\n",
       "  <thead>\n",
       "    <tr style=\"text-align: right;\">\n",
       "      <th></th>\n",
       "      <th>row_id</th>\n",
       "      <th>target</th>\n",
       "    </tr>\n",
       "  </thead>\n",
       "  <tbody>\n",
       "    <tr>\n",
       "      <th>0</th>\n",
       "      <td>soundscape_453028782_akiapo_5</td>\n",
       "      <td>False</td>\n",
       "    </tr>\n",
       "    <tr>\n",
       "      <th>1</th>\n",
       "      <td>soundscape_453028782_aniani_5</td>\n",
       "      <td>False</td>\n",
       "    </tr>\n",
       "    <tr>\n",
       "      <th>2</th>\n",
       "      <td>soundscape_453028782_apapan_5</td>\n",
       "      <td>False</td>\n",
       "    </tr>\n",
       "    <tr>\n",
       "      <th>3</th>\n",
       "      <td>soundscape_453028782_barpet_5</td>\n",
       "      <td>False</td>\n",
       "    </tr>\n",
       "    <tr>\n",
       "      <th>4</th>\n",
       "      <td>soundscape_453028782_crehon_5</td>\n",
       "      <td>False</td>\n",
       "    </tr>\n",
       "    <tr>\n",
       "      <th>...</th>\n",
       "      <td>...</td>\n",
       "      <td>...</td>\n",
       "    </tr>\n",
       "    <tr>\n",
       "      <th>247</th>\n",
       "      <td>soundscape_453028782_omao_60</td>\n",
       "      <td>False</td>\n",
       "    </tr>\n",
       "    <tr>\n",
       "      <th>248</th>\n",
       "      <td>soundscape_453028782_puaioh_60</td>\n",
       "      <td>False</td>\n",
       "    </tr>\n",
       "    <tr>\n",
       "      <th>249</th>\n",
       "      <td>soundscape_453028782_skylar_60</td>\n",
       "      <td>False</td>\n",
       "    </tr>\n",
       "    <tr>\n",
       "      <th>250</th>\n",
       "      <td>soundscape_453028782_warwhe1_60</td>\n",
       "      <td>False</td>\n",
       "    </tr>\n",
       "    <tr>\n",
       "      <th>251</th>\n",
       "      <td>soundscape_453028782_yefcan_60</td>\n",
       "      <td>False</td>\n",
       "    </tr>\n",
       "  </tbody>\n",
       "</table>\n",
       "<p>252 rows × 2 columns</p>\n",
       "</div>"
      ],
      "text/plain": [
       "                              row_id  target\n",
       "0      soundscape_453028782_akiapo_5   False\n",
       "1      soundscape_453028782_aniani_5   False\n",
       "2      soundscape_453028782_apapan_5   False\n",
       "3      soundscape_453028782_barpet_5   False\n",
       "4      soundscape_453028782_crehon_5   False\n",
       "..                               ...     ...\n",
       "247     soundscape_453028782_omao_60   False\n",
       "248   soundscape_453028782_puaioh_60   False\n",
       "249   soundscape_453028782_skylar_60   False\n",
       "250  soundscape_453028782_warwhe1_60   False\n",
       "251   soundscape_453028782_yefcan_60   False\n",
       "\n",
       "[252 rows x 2 columns]"
      ]
     },
     "execution_count": 16,
     "metadata": {},
     "output_type": "execute_result"
    }
   ],
   "source": [
    "pred_pd.to_csv(\"submission.csv\", index=False)\n",
    "pred_pd"
   ]
  },
  {
   "cell_type": "code",
   "execution_count": null,
   "id": "68140bf1",
   "metadata": {
    "papermill": {
     "duration": 0.018806,
     "end_time": "2022-05-16T08:20:31.883804",
     "exception": false,
     "start_time": "2022-05-16T08:20:31.864998",
     "status": "completed"
    },
    "tags": []
   },
   "outputs": [],
   "source": []
  }
 ],
 "metadata": {
  "kernelspec": {
   "display_name": "Python 3",
   "language": "python",
   "name": "python3"
  },
  "language_info": {
   "codemirror_mode": {
    "name": "ipython",
    "version": 3
   },
   "file_extension": ".py",
   "mimetype": "text/x-python",
   "name": "python",
   "nbconvert_exporter": "python",
   "pygments_lexer": "ipython3",
   "version": "3.7.12"
  },
  "papermill": {
   "default_parameters": {},
   "duration": 28.007753,
   "end_time": "2022-05-16T08:20:33.413895",
   "environment_variables": {},
   "exception": null,
   "input_path": "__notebook__.ipynb",
   "output_path": "__notebook__.ipynb",
   "parameters": {},
   "start_time": "2022-05-16T08:20:05.406142",
   "version": "2.3.3"
  }
 },
 "nbformat": 4,
 "nbformat_minor": 5
}
