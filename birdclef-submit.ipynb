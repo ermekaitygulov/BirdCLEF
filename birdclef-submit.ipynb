{
 "cells": [
  {
   "cell_type": "code",
   "execution_count": 1,
   "id": "494517a6",
   "metadata": {
    "_cell_guid": "b1076dfc-b9ad-4769-8c92-a6c4dae69d19",
    "_uuid": "8f2839f25d086af736a60e9eeb907d3b93b6e0e5",
    "execution": {
     "iopub.execute_input": "2022-05-18T21:52:30.589753Z",
     "iopub.status.busy": "2022-05-18T21:52:30.588274Z",
     "iopub.status.idle": "2022-05-18T21:52:36.628206Z",
     "shell.execute_reply": "2022-05-18T21:52:36.627215Z",
     "shell.execute_reply.started": "2022-05-18T21:47:28.592435Z"
    },
    "papermill": {
     "duration": 6.063453,
     "end_time": "2022-05-18T21:52:36.628358",
     "exception": false,
     "start_time": "2022-05-18T21:52:30.564905",
     "status": "completed"
    },
    "tags": []
   },
   "outputs": [],
   "source": [
    "import sys\n",
    "sys.path.append('../input/timm-pytorch-image-models/pytorch-image-models-master')\n",
    "sys.path.append('../input/birdclefmodels/')\n",
    "\n",
    "import numpy as np # linear algebra\n",
    "import pandas as pd # data processing, CSV file I/O (e.g. pd.read_csv)\n",
    "import librosa\n",
    "\n",
    "from matplotlib import pyplot as plt\n",
    "import json\n",
    "import random\n",
    "from tqdm import tqdm\n",
    "import os\n",
    "import yaml\n",
    "\n",
    "import torch\n",
    "from torch import nn\n",
    "import torchaudio as ta\n",
    "import timm\n",
    "from torch.utils.data import Dataset, DataLoader\n",
    "\n",
    "import neural_network"
   ]
  },
  {
   "cell_type": "code",
   "execution_count": 2,
   "id": "ab1212d1",
   "metadata": {
    "execution": {
     "iopub.execute_input": "2022-05-18T21:52:36.838773Z",
     "iopub.status.busy": "2022-05-18T21:52:36.838091Z",
     "iopub.status.idle": "2022-05-18T21:52:37.002980Z",
     "shell.execute_reply": "2022-05-18T21:52:37.002502Z",
     "shell.execute_reply.started": "2022-05-18T21:47:33.855062Z"
    },
    "papermill": {
     "duration": 0.356512,
     "end_time": "2022-05-18T21:52:37.003136",
     "exception": false,
     "start_time": "2022-05-18T21:52:36.646624",
     "status": "completed"
    },
    "tags": []
   },
   "outputs": [],
   "source": [
    "data_root = '/kaggle/input/birdclef-2022'\n",
    "train_meta = pd.read_csv('../input/birdclef-data-with-wav-durations/train_metadata_extended.csv')\n",
    "ebird_taxonomy = pd.read_csv(os.path.join(data_root, 'eBird_Taxonomy_v2021.csv'))"
   ]
  },
  {
   "cell_type": "code",
   "execution_count": 3,
   "id": "3b94200d",
   "metadata": {
    "execution": {
     "iopub.execute_input": "2022-05-18T21:52:37.074504Z",
     "iopub.status.busy": "2022-05-18T21:52:37.070283Z",
     "iopub.status.idle": "2022-05-18T21:52:37.128395Z",
     "shell.execute_reply": "2022-05-18T21:52:37.127824Z",
     "shell.execute_reply.started": "2022-05-18T21:47:34.204821Z"
    },
    "papermill": {
     "duration": 0.106876,
     "end_time": "2022-05-18T21:52:37.128546",
     "exception": false,
     "start_time": "2022-05-18T21:52:37.021670",
     "status": "completed"
    },
    "tags": []
   },
   "outputs": [],
   "source": [
    "train_meta.loc[:, 'secondary_labels'] = train_meta.secondary_labels.apply(eval)\n",
    "train_meta['target_raw'] = train_meta.secondary_labels + train_meta.primary_label.apply(lambda x: [x])"
   ]
  },
  {
   "cell_type": "code",
   "execution_count": 4,
   "id": "ac2c6943",
   "metadata": {
    "execution": {
     "iopub.execute_input": "2022-05-18T21:52:37.601823Z",
     "iopub.status.busy": "2022-05-18T21:52:37.596757Z",
     "iopub.status.idle": "2022-05-18T21:52:37.962326Z",
     "shell.execute_reply": "2022-05-18T21:52:37.961797Z",
     "shell.execute_reply.started": "2022-05-18T21:47:34.346167Z"
    },
    "papermill": {
     "duration": 0.815167,
     "end_time": "2022-05-18T21:52:37.962469",
     "exception": false,
     "start_time": "2022-05-18T21:52:37.147302",
     "status": "completed"
    },
    "tags": []
   },
   "outputs": [],
   "source": [
    "all_species = sorted(set(train_meta.target_raw.sum()))\n",
    "species2id = {s: i for i, s in enumerate(all_species)}\n",
    "id2species = {i: s for i, s in enumerate(all_species)}\n",
    "\n",
    "train_meta['target'] = train_meta.target_raw.apply(lambda species: [int(s in species) for s in all_species])"
   ]
  },
  {
   "cell_type": "code",
   "execution_count": 5,
   "id": "3dfb3acc",
   "metadata": {
    "execution": {
     "iopub.execute_input": "2022-05-18T21:52:38.005575Z",
     "iopub.status.busy": "2022-05-18T21:52:38.004626Z",
     "iopub.status.idle": "2022-05-18T21:52:38.006611Z",
     "shell.execute_reply": "2022-05-18T21:52:38.007129Z",
     "shell.execute_reply.started": "2022-05-18T21:47:35.140014Z"
    },
    "papermill": {
     "duration": 0.026249,
     "end_time": "2022-05-18T21:52:38.007281",
     "exception": false,
     "start_time": "2022-05-18T21:52:37.981032",
     "status": "completed"
    },
    "tags": []
   },
   "outputs": [],
   "source": [
    "def load_wav(fname, offset, duration):\n",
    "#     fname = 'afrsil1/XC125458.ogg'\n",
    "    fpath = os.path.join(data_root, 'train_audio', fname)\n",
    "    wav, sr = librosa.load(fpath, sr=None, duration=duration)\n",
    "    assert sr <= 32000, sr\n",
    "    return wav, sr"
   ]
  },
  {
   "cell_type": "markdown",
   "id": "50bc69c2",
   "metadata": {
    "papermill": {
     "duration": 0.018669,
     "end_time": "2022-05-18T21:52:38.045049",
     "exception": false,
     "start_time": "2022-05-18T21:52:38.026380",
     "status": "completed"
    },
    "tags": []
   },
   "source": [
    "### Model load"
   ]
  },
  {
   "cell_type": "code",
   "execution_count": 6,
   "id": "acaa9e97",
   "metadata": {
    "execution": {
     "iopub.execute_input": "2022-05-18T21:52:38.151657Z",
     "iopub.status.busy": "2022-05-18T21:52:38.150928Z",
     "iopub.status.idle": "2022-05-18T21:52:38.154257Z",
     "shell.execute_reply": "2022-05-18T21:52:38.153772Z",
     "shell.execute_reply.started": "2022-05-18T21:47:35.149271Z"
    },
    "papermill": {
     "duration": 0.091758,
     "end_time": "2022-05-18T21:52:38.154387",
     "exception": false,
     "start_time": "2022-05-18T21:52:38.062629",
     "status": "completed"
    },
    "tags": []
   },
   "outputs": [],
   "source": [
    "device = torch.device('cuda' if torch.cuda.is_available() else 'cpu')\n",
    "\n",
    "def init_model(config_fname, model_fname, model_root):\n",
    "    config_path = os.path.join(model_root, config_fname)\n",
    "    model_path = os.path.join(model_root, model_fname)\n",
    "    \n",
    "    with open(config_path) as fin:\n",
    "        config = yaml.safe_load(fin)\n",
    "\n",
    "    model_config = config['model']\n",
    "    if 'backbone_config' in model_config['params']:\n",
    "        model_config['params']['backbone_config']['pretrained'] = False\n",
    "    else:\n",
    "        model_config['params']['backbone_config'] = {'pretrained': False}\n",
    "    if 'model_name' in model_config['params']['backbone_config']:\n",
    "        model_config['params']['backbone_config'].pop('model_name')\n",
    "        \n",
    "    data_config = config['data']\n",
    "    model_class = NN_CATALOG[model_config['name']]\n",
    "\n",
    "    model = model_class(len(all_species), int(data_config['crop_len'] // data_config['test_wav_len']),\n",
    "                        **model_config['params'])\n",
    "    model.to(device)\n",
    "\n",
    "    state_dict = torch.load(model_path, map_location=device)\n",
    "    model.load_state_dict(state_dict)\n",
    "    return model\n"
   ]
  },
  {
   "cell_type": "code",
   "execution_count": 7,
   "id": "1a2167cc",
   "metadata": {
    "execution": {
     "iopub.execute_input": "2022-05-18T21:52:38.194572Z",
     "iopub.status.busy": "2022-05-18T21:52:38.193878Z",
     "iopub.status.idle": "2022-05-18T21:52:43.154485Z",
     "shell.execute_reply": "2022-05-18T21:52:43.153974Z",
     "shell.execute_reply.started": "2022-05-18T21:49:18.285929Z"
    },
    "papermill": {
     "duration": 4.982695,
     "end_time": "2022-05-18T21:52:43.154624",
     "exception": false,
     "start_time": "2022-05-18T21:52:38.171929",
     "status": "completed"
    },
    "tags": []
   },
   "outputs": [],
   "source": [
    "from neural_network import NN_CATALOG\n",
    "\n",
    "\n",
    "ckpt_root = '../input/birdclefsubmit'\n",
    "eff_path = ('eff/baseline_config.yaml', 'eff/final-model.pt')\n",
    "baseline_path = ('baseline/baseline_config.yaml', 'baseline/final-model.pt')\n",
    "eff_bt_path = [('eff_crop/baseline_config.yaml', f'eff_crop/main_stage-{i}-model.pt') for i in range(8, 11)]\n",
    "\n",
    "models = [init_model(*p, ckpt_root) for p in [eff_path, baseline_path]]\n",
    "weights = None\n"
   ]
  },
  {
   "cell_type": "code",
   "execution_count": 8,
   "id": "e9b58b21",
   "metadata": {
    "execution": {
     "iopub.execute_input": "2022-05-18T21:52:43.197199Z",
     "iopub.status.busy": "2022-05-18T21:52:43.196453Z",
     "iopub.status.idle": "2022-05-18T21:52:43.198608Z",
     "shell.execute_reply": "2022-05-18T21:52:43.198978Z",
     "shell.execute_reply.started": "2022-05-18T21:50:20.104916Z"
    },
    "papermill": {
     "duration": 0.027136,
     "end_time": "2022-05-18T21:52:43.199126",
     "exception": false,
     "start_time": "2022-05-18T21:52:43.171990",
     "status": "completed"
    },
    "tags": []
   },
   "outputs": [],
   "source": [
    "class Blending(nn.Module):\n",
    "    def __init__(self, models, weights):\n",
    "        super().__init__()\n",
    "        for m in models:\n",
    "            m.eval()\n",
    "        self.models = models\n",
    "        self.weights = weights or [1 / len(models) for _ in models]\n",
    "        \n",
    "    def forward(self, wav_tensor):\n",
    "        pred = [m(wav_tensor)['logits'] for m in self.models]\n",
    "        pred = sum(p * w for p, w in zip(pred, self.weights))\n",
    "        return pred"
   ]
  },
  {
   "cell_type": "code",
   "execution_count": 9,
   "id": "84ac4942",
   "metadata": {
    "execution": {
     "iopub.execute_input": "2022-05-18T21:52:43.239130Z",
     "iopub.status.busy": "2022-05-18T21:52:43.238284Z",
     "iopub.status.idle": "2022-05-18T21:52:43.241027Z",
     "shell.execute_reply": "2022-05-18T21:52:43.240603Z",
     "shell.execute_reply.started": "2022-05-18T21:50:24.656408Z"
    },
    "papermill": {
     "duration": 0.024911,
     "end_time": "2022-05-18T21:52:43.241145",
     "exception": false,
     "start_time": "2022-05-18T21:52:43.216234",
     "status": "completed"
    },
    "tags": []
   },
   "outputs": [],
   "source": [
    "model = Blending(models, weights)"
   ]
  },
  {
   "cell_type": "markdown",
   "id": "fff08011",
   "metadata": {
    "papermill": {
     "duration": 0.016496,
     "end_time": "2022-05-18T21:52:43.274118",
     "exception": false,
     "start_time": "2022-05-18T21:52:43.257622",
     "status": "completed"
    },
    "tags": []
   },
   "source": [
    "### Torch Dataset"
   ]
  },
  {
   "cell_type": "code",
   "execution_count": 10,
   "id": "4f4a124c",
   "metadata": {
    "execution": {
     "iopub.execute_input": "2022-05-18T21:52:43.313250Z",
     "iopub.status.busy": "2022-05-18T21:52:43.312589Z",
     "iopub.status.idle": "2022-05-18T21:52:43.318196Z",
     "shell.execute_reply": "2022-05-18T21:52:43.317721Z",
     "shell.execute_reply.started": "2022-05-18T21:50:30.543120Z"
    },
    "papermill": {
     "duration": 0.027097,
     "end_time": "2022-05-18T21:52:43.318317",
     "exception": false,
     "start_time": "2022-05-18T21:52:43.291220",
     "status": "completed"
    },
    "tags": []
   },
   "outputs": [],
   "source": [
    "with open(os.path.join(data_root, 'scored_birds.json')) as fin:\n",
    "    test_birds = json.load(fin)"
   ]
  },
  {
   "cell_type": "code",
   "execution_count": 11,
   "id": "40f0d699",
   "metadata": {
    "execution": {
     "iopub.execute_input": "2022-05-18T21:52:43.366238Z",
     "iopub.status.busy": "2022-05-18T21:52:43.364596Z",
     "iopub.status.idle": "2022-05-18T21:52:43.366827Z",
     "shell.execute_reply": "2022-05-18T21:52:43.367303Z",
     "shell.execute_reply.started": "2022-05-18T21:50:33.039168Z"
    },
    "papermill": {
     "duration": 0.030409,
     "end_time": "2022-05-18T21:52:43.367439",
     "exception": false,
     "start_time": "2022-05-18T21:52:43.337030",
     "status": "completed"
    },
    "tags": []
   },
   "outputs": [],
   "source": [
    "class Compose:\n",
    "    def __init__(self, transforms: list):\n",
    "        self.transforms = transforms\n",
    "\n",
    "    def __call__(self, y: np.ndarray, sr):\n",
    "        for trns in self.transforms:\n",
    "            y = trns(y, sr)\n",
    "        return y\n",
    "    \n",
    "    \n",
    "class AudioTransform:\n",
    "    def __init__(self, always_apply=False, p=0.5):\n",
    "        self.always_apply = always_apply\n",
    "        self.p = p\n",
    "\n",
    "    def __call__(self, y: np.ndarray, sr):\n",
    "        if self.always_apply:\n",
    "            return self.apply(y, sr=sr)\n",
    "        else:\n",
    "            if np.random.rand() < self.p:\n",
    "                return self.apply(y, sr=sr)\n",
    "            else:\n",
    "                return y\n",
    "\n",
    "    def apply(self, y: np.ndarray, **params):\n",
    "        raise NotImplementedError\n",
    "        \n",
    "        \n",
    "class Normalize(AudioTransform):\n",
    "    def __init__(self, always_apply=False, p=1):\n",
    "        super().__init__(always_apply, p)\n",
    "\n",
    "    def apply(self, y: np.ndarray, **params):\n",
    "        max_vol = np.abs(y).max()\n",
    "        y_vol = y / max_vol\n",
    "        assert not np.isnan(y_vol).any(), f'{max_vol}'\n",
    "        return y_vol"
   ]
  },
  {
   "cell_type": "code",
   "execution_count": 12,
   "id": "84ad514f",
   "metadata": {
    "execution": {
     "iopub.execute_input": "2022-05-18T21:52:43.410374Z",
     "iopub.status.busy": "2022-05-18T21:52:43.408841Z",
     "iopub.status.idle": "2022-05-18T21:52:43.411009Z",
     "shell.execute_reply": "2022-05-18T21:52:43.411449Z",
     "shell.execute_reply.started": "2022-05-18T21:50:34.926311Z"
    },
    "papermill": {
     "duration": 0.027109,
     "end_time": "2022-05-18T21:52:43.411579",
     "exception": false,
     "start_time": "2022-05-18T21:52:43.384470",
     "status": "completed"
    },
    "tags": []
   },
   "outputs": [],
   "source": [
    "class TestDataset(Dataset):\n",
    "    def __init__(self, test_folder, augmentations=None):\n",
    "        super().__init__()\n",
    "        self.test_folder = test_folder\n",
    "        self.fnames = [f for f in os.listdir(test_folder) if f.endswith('.ogg')]\n",
    "        self.augmentations = augmentations\n",
    "        \n",
    "    def __len__(self):\n",
    "        return len(self.fnames)\n",
    "    \n",
    "    def __getitem__(self, idx):\n",
    "        fpath = os.path.join(self.test_folder, self.fnames[idx])\n",
    "        wav, sr = load_wav(fpath, 0, None)\n",
    "        if self.augmentations:\n",
    "            wav = self.augmentations(wav, None)\n",
    "        wav = torch.tensor(wav)\n",
    "        assert (13 * 5 * sr) > len(wav) \n",
    "        wav = wav[:len(wav) // 12 * 12].reshape((12, len(wav) // 12))\n",
    "        return wav"
   ]
  },
  {
   "cell_type": "code",
   "execution_count": 13,
   "id": "8d47d0ff",
   "metadata": {
    "execution": {
     "iopub.execute_input": "2022-05-18T21:52:43.451114Z",
     "iopub.status.busy": "2022-05-18T21:52:43.450490Z",
     "iopub.status.idle": "2022-05-18T21:52:43.456022Z",
     "shell.execute_reply": "2022-05-18T21:52:43.455591Z",
     "shell.execute_reply.started": "2022-05-18T21:50:36.912960Z"
    },
    "papermill": {
     "duration": 0.027156,
     "end_time": "2022-05-18T21:52:43.456176",
     "exception": false,
     "start_time": "2022-05-18T21:52:43.429020",
     "status": "completed"
    },
    "tags": []
   },
   "outputs": [],
   "source": [
    "test_dataset = TestDataset(\n",
    "    os.path.join(data_root, 'test_soundscapes'),\n",
    "    Compose([Normalize(p=1)])\n",
    ")\n",
    "test_dataloader = DataLoader(\n",
    "    test_dataset,\n",
    "    batch_size=1,\n",
    "    shuffle=False,\n",
    "    num_workers=2,\n",
    "    drop_last=False,   \n",
    ")"
   ]
  },
  {
   "cell_type": "code",
   "execution_count": 14,
   "id": "b1f36597",
   "metadata": {
    "execution": {
     "iopub.execute_input": "2022-05-18T21:52:43.496407Z",
     "iopub.status.busy": "2022-05-18T21:52:43.495796Z",
     "iopub.status.idle": "2022-05-18T21:52:43.499246Z",
     "shell.execute_reply": "2022-05-18T21:52:43.498742Z",
     "shell.execute_reply.started": "2022-05-18T21:50:37.214425Z"
    },
    "papermill": {
     "duration": 0.026235,
     "end_time": "2022-05-18T21:52:43.499387",
     "exception": false,
     "start_time": "2022-05-18T21:52:43.473152",
     "status": "completed"
    },
    "tags": []
   },
   "outputs": [],
   "source": [
    "def find_topk(pred_proba, max_birds=5):\n",
    "    pred_proba = pred_proba[:, [species2id[b] for b in test_birds]]\n",
    "    mean_proba = pred_proba.mean(axis=0)\n",
    "    topk_birds = [i for i, _ in sorted(enumerate(mean_proba),\n",
    "                                       key=lambda x: x[1],\n",
    "                                       reverse=True)][:max_birds]\n",
    "    return topk_birds"
   ]
  },
  {
   "cell_type": "code",
   "execution_count": 15,
   "id": "cbc171fd",
   "metadata": {
    "execution": {
     "iopub.execute_input": "2022-05-18T21:52:43.541335Z",
     "iopub.status.busy": "2022-05-18T21:52:43.539651Z",
     "iopub.status.idle": "2022-05-18T21:52:43.541886Z",
     "shell.execute_reply": "2022-05-18T21:52:43.542327Z",
     "shell.execute_reply.started": "2022-05-18T21:50:50.574249Z"
    },
    "papermill": {
     "duration": 0.026117,
     "end_time": "2022-05-18T21:52:43.542498",
     "exception": false,
     "start_time": "2022-05-18T21:52:43.516381",
     "status": "completed"
    },
    "tags": []
   },
   "outputs": [],
   "source": [
    "treshold_dict = {'akiapo': 0.05,\n",
    " 'aniani': 0.05,\n",
    " 'apapan': 0.05,\n",
    " 'barpet': 0.05,\n",
    " 'crehon': 0.05,\n",
    " 'elepai': 0.05,\n",
    " 'ercfra': 0.05,\n",
    " 'hawama': 0.05,\n",
    " 'hawcre': 0.05,\n",
    " 'hawgoo': 0.15,\n",
    " 'hawhaw': 0.05,\n",
    " 'hawpet1': 0.05,\n",
    " 'houfin': 0.15,\n",
    " 'iiwi': 0.15,\n",
    " 'jabwar': 0.05,\n",
    " 'maupar': 0.05,\n",
    " 'omao': 0.05,\n",
    " 'puaioh': 0.05,\n",
    " 'skylar': 0.1,\n",
    " 'warwhe1': 0.05,\n",
    " 'yefcan': 0.15}"
   ]
  },
  {
   "cell_type": "code",
   "execution_count": 16,
   "id": "141f47a4",
   "metadata": {
    "execution": {
     "iopub.execute_input": "2022-05-18T21:52:43.585243Z",
     "iopub.status.busy": "2022-05-18T21:52:43.581041Z",
     "iopub.status.idle": "2022-05-18T21:52:50.322164Z",
     "shell.execute_reply": "2022-05-18T21:52:50.322705Z",
     "shell.execute_reply.started": "2022-05-18T21:50:55.175949Z"
    },
    "papermill": {
     "duration": 6.763183,
     "end_time": "2022-05-18T21:52:50.322869",
     "exception": false,
     "start_time": "2022-05-18T21:52:43.559686",
     "status": "completed"
    },
    "tags": []
   },
   "outputs": [
    {
     "name": "stderr",
     "output_type": "stream",
     "text": [
      "1it [00:06,  6.67s/it]\n"
     ]
    }
   ],
   "source": [
    "pred_list = []\n",
    "treshold = 0.1\n",
    "with torch.no_grad():\n",
    "    for i, batch in tqdm(enumerate(test_dataloader)):\n",
    "        batch_size, part_count, part_size = batch.shape\n",
    "        batch = batch.reshape(batch_size * part_count, part_size)\n",
    "        pred = model(batch.to(device))\n",
    "        pred = pred.cpu().numpy()\n",
    "#         topk_birds = find_topk(pred_proba, max_birds=10)\n",
    "        \n",
    "        for j, chunk_pred in enumerate(pred):\n",
    "            inbatch_number = j // part_count\n",
    "            chunk_number = j % part_count + 1\n",
    "            f_idx = i * batch_size + inbatch_number\n",
    "            fname = test_dataset.fnames[f_idx]\n",
    "            prefix = fname.split('.')[0]\n",
    "            sufix = f'{5 * chunk_number}'\n",
    "            \n",
    "            pred_list.extend([{\n",
    "                'row_id': '_'.join([prefix, b, sufix]),\n",
    "                'target': chunk_pred[species2id[b]] > treshold_dict[b] # if species2id[b] in topk_birds else False\n",
    "            } for b in test_birds])\n",
    "pred_pd = pd.DataFrame(pred_list)"
   ]
  },
  {
   "cell_type": "code",
   "execution_count": 17,
   "id": "0d7e5233",
   "metadata": {
    "execution": {
     "iopub.execute_input": "2022-05-18T21:52:50.370637Z",
     "iopub.status.busy": "2022-05-18T21:52:50.369707Z",
     "iopub.status.idle": "2022-05-18T21:52:50.393645Z",
     "shell.execute_reply": "2022-05-18T21:52:50.394091Z",
     "shell.execute_reply.started": "2022-05-18T21:51:08.628350Z"
    },
    "papermill": {
     "duration": 0.049337,
     "end_time": "2022-05-18T21:52:50.394268",
     "exception": false,
     "start_time": "2022-05-18T21:52:50.344931",
     "status": "completed"
    },
    "tags": []
   },
   "outputs": [
    {
     "data": {
      "text/html": [
       "<div>\n",
       "<style scoped>\n",
       "    .dataframe tbody tr th:only-of-type {\n",
       "        vertical-align: middle;\n",
       "    }\n",
       "\n",
       "    .dataframe tbody tr th {\n",
       "        vertical-align: top;\n",
       "    }\n",
       "\n",
       "    .dataframe thead th {\n",
       "        text-align: right;\n",
       "    }\n",
       "</style>\n",
       "<table border=\"1\" class=\"dataframe\">\n",
       "  <thead>\n",
       "    <tr style=\"text-align: right;\">\n",
       "      <th></th>\n",
       "      <th>row_id</th>\n",
       "      <th>target</th>\n",
       "    </tr>\n",
       "  </thead>\n",
       "  <tbody>\n",
       "    <tr>\n",
       "      <th>0</th>\n",
       "      <td>soundscape_453028782_akiapo_5</td>\n",
       "      <td>False</td>\n",
       "    </tr>\n",
       "    <tr>\n",
       "      <th>1</th>\n",
       "      <td>soundscape_453028782_aniani_5</td>\n",
       "      <td>False</td>\n",
       "    </tr>\n",
       "    <tr>\n",
       "      <th>2</th>\n",
       "      <td>soundscape_453028782_apapan_5</td>\n",
       "      <td>True</td>\n",
       "    </tr>\n",
       "    <tr>\n",
       "      <th>3</th>\n",
       "      <td>soundscape_453028782_barpet_5</td>\n",
       "      <td>False</td>\n",
       "    </tr>\n",
       "    <tr>\n",
       "      <th>4</th>\n",
       "      <td>soundscape_453028782_crehon_5</td>\n",
       "      <td>False</td>\n",
       "    </tr>\n",
       "    <tr>\n",
       "      <th>...</th>\n",
       "      <td>...</td>\n",
       "      <td>...</td>\n",
       "    </tr>\n",
       "    <tr>\n",
       "      <th>247</th>\n",
       "      <td>soundscape_453028782_omao_60</td>\n",
       "      <td>False</td>\n",
       "    </tr>\n",
       "    <tr>\n",
       "      <th>248</th>\n",
       "      <td>soundscape_453028782_puaioh_60</td>\n",
       "      <td>False</td>\n",
       "    </tr>\n",
       "    <tr>\n",
       "      <th>249</th>\n",
       "      <td>soundscape_453028782_skylar_60</td>\n",
       "      <td>False</td>\n",
       "    </tr>\n",
       "    <tr>\n",
       "      <th>250</th>\n",
       "      <td>soundscape_453028782_warwhe1_60</td>\n",
       "      <td>False</td>\n",
       "    </tr>\n",
       "    <tr>\n",
       "      <th>251</th>\n",
       "      <td>soundscape_453028782_yefcan_60</td>\n",
       "      <td>False</td>\n",
       "    </tr>\n",
       "  </tbody>\n",
       "</table>\n",
       "<p>252 rows × 2 columns</p>\n",
       "</div>"
      ],
      "text/plain": [
       "                              row_id  target\n",
       "0      soundscape_453028782_akiapo_5   False\n",
       "1      soundscape_453028782_aniani_5   False\n",
       "2      soundscape_453028782_apapan_5    True\n",
       "3      soundscape_453028782_barpet_5   False\n",
       "4      soundscape_453028782_crehon_5   False\n",
       "..                               ...     ...\n",
       "247     soundscape_453028782_omao_60   False\n",
       "248   soundscape_453028782_puaioh_60   False\n",
       "249   soundscape_453028782_skylar_60   False\n",
       "250  soundscape_453028782_warwhe1_60   False\n",
       "251   soundscape_453028782_yefcan_60   False\n",
       "\n",
       "[252 rows x 2 columns]"
      ]
     },
     "execution_count": 17,
     "metadata": {},
     "output_type": "execute_result"
    }
   ],
   "source": [
    "pred_pd.to_csv(\"submission.csv\", index=False)\n",
    "pred_pd"
   ]
  },
  {
   "cell_type": "code",
   "execution_count": null,
   "id": "e48ee604",
   "metadata": {
    "papermill": {
     "duration": 0.018862,
     "end_time": "2022-05-18T21:52:50.432449",
     "exception": false,
     "start_time": "2022-05-18T21:52:50.413587",
     "status": "completed"
    },
    "tags": []
   },
   "outputs": [],
   "source": []
  }
 ],
 "metadata": {
  "kernelspec": {
   "display_name": "Python 3",
   "language": "python",
   "name": "python3"
  },
  "language_info": {
   "codemirror_mode": {
    "name": "ipython",
    "version": 3
   },
   "file_extension": ".py",
   "mimetype": "text/x-python",
   "name": "python",
   "nbconvert_exporter": "python",
   "pygments_lexer": "ipython3",
   "version": "3.7.12"
  },
  "papermill": {
   "default_parameters": {},
   "duration": 30.407932,
   "end_time": "2022-05-18T21:52:52.165330",
   "environment_variables": {},
   "exception": null,
   "input_path": "__notebook__.ipynb",
   "output_path": "__notebook__.ipynb",
   "parameters": {},
   "start_time": "2022-05-18T21:52:21.757398",
   "version": "2.3.3"
  }
 },
 "nbformat": 4,
 "nbformat_minor": 5
}
