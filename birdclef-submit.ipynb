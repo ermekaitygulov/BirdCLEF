{
 "cells": [
  {
   "cell_type": "code",
   "execution_count": 1,
   "id": "7c95137a",
   "metadata": {
    "_cell_guid": "b1076dfc-b9ad-4769-8c92-a6c4dae69d19",
    "_uuid": "8f2839f25d086af736a60e9eeb907d3b93b6e0e5",
    "execution": {
     "iopub.execute_input": "2022-05-11T08:01:31.123528Z",
     "iopub.status.busy": "2022-05-11T08:01:31.122724Z",
     "iopub.status.idle": "2022-05-11T08:01:36.846542Z",
     "shell.execute_reply": "2022-05-11T08:01:36.845982Z",
     "shell.execute_reply.started": "2022-05-11T07:58:15.087444Z"
    },
    "papermill": {
     "duration": 5.752369,
     "end_time": "2022-05-11T08:01:36.846721",
     "exception": false,
     "start_time": "2022-05-11T08:01:31.094352",
     "status": "completed"
    },
    "tags": []
   },
   "outputs": [],
   "source": [
    "# This Python 3 environment comes with many helpful analytics libraries installed\n",
    "# It is defined by the kaggle/python Docker image: https://github.com/kaggle/docker-python\n",
    "# For example, here's several helpful packages to load\n",
    "import sys\n",
    "sys.path.append('../input/timm-pytorch-image-models/pytorch-image-models-master')\n",
    "\n",
    "import numpy as np # linear algebra\n",
    "import pandas as pd # data processing, CSV file I/O (e.g. pd.read_csv)\n",
    "from matplotlib import pyplot as plt\n",
    "import json\n",
    "import random\n",
    "\n",
    "import librosa\n",
    "\n",
    "import torch\n",
    "import torchaudio as ta\n",
    "import timm\n",
    "\n",
    "from tqdm import tqdm\n",
    "\n",
    "# Input data files are available in the read-only \"../input/\" directory\n",
    "# For example, running this (by clicking run or pressing Shift+Enter) will list all files under the input directory\n",
    "\n",
    "import os\n",
    "# for dirname, _, filenames in os.walk('/kaggle/input'):\n",
    "#     for filename in filenames:\n",
    "#         print(os.path.join(dirname, filename))\n",
    "\n",
    "# You can write up to 20GB to the current directory (/kaggle/working/) that gets preserved as output when you create a version using \"Save & Run All\" \n",
    "# You can also write temporary files to /kaggle/temp/, but they won't be saved outside of the current session"
   ]
  },
  {
   "cell_type": "code",
   "execution_count": 2,
   "id": "b0b8756c",
   "metadata": {
    "execution": {
     "iopub.execute_input": "2022-05-11T08:01:36.883360Z",
     "iopub.status.busy": "2022-05-11T08:01:36.882548Z",
     "iopub.status.idle": "2022-05-11T08:01:37.207019Z",
     "shell.execute_reply": "2022-05-11T08:01:37.206499Z",
     "shell.execute_reply.started": "2022-05-11T07:58:15.821790Z"
    },
    "papermill": {
     "duration": 0.342997,
     "end_time": "2022-05-11T08:01:37.207158",
     "exception": false,
     "start_time": "2022-05-11T08:01:36.864161",
     "status": "completed"
    },
    "tags": []
   },
   "outputs": [],
   "source": [
    "data_root = '/kaggle/input/birdclef-2022'\n",
    "train_meta = pd.read_csv('../input/birdclef-data-with-wav-durations/train_metadata_extended.csv')\n",
    "ebird_taxonomy = pd.read_csv(os.path.join(data_root, 'eBird_Taxonomy_v2021.csv'))"
   ]
  },
  {
   "cell_type": "code",
   "execution_count": 3,
   "id": "faa37ba5",
   "metadata": {
    "execution": {
     "iopub.execute_input": "2022-05-11T08:01:37.257404Z",
     "iopub.status.busy": "2022-05-11T08:01:37.252384Z",
     "iopub.status.idle": "2022-05-11T08:01:37.317613Z",
     "shell.execute_reply": "2022-05-11T08:01:37.317100Z",
     "shell.execute_reply.started": "2022-05-11T07:58:17.889758Z"
    },
    "papermill": {
     "duration": 0.094782,
     "end_time": "2022-05-11T08:01:37.317779",
     "exception": false,
     "start_time": "2022-05-11T08:01:37.222997",
     "status": "completed"
    },
    "tags": []
   },
   "outputs": [],
   "source": [
    "train_meta.loc[:, 'secondary_labels'] = train_meta.secondary_labels.apply(eval)\n",
    "train_meta['target_raw'] = train_meta.secondary_labels + train_meta.primary_label.apply(lambda x: [x])"
   ]
  },
  {
   "cell_type": "code",
   "execution_count": 4,
   "id": "2e5f563d",
   "metadata": {
    "execution": {
     "iopub.execute_input": "2022-05-11T08:01:37.760184Z",
     "iopub.status.busy": "2022-05-11T08:01:37.749879Z",
     "iopub.status.idle": "2022-05-11T08:01:38.102487Z",
     "shell.execute_reply": "2022-05-11T08:01:38.101972Z",
     "shell.execute_reply.started": "2022-05-11T07:58:18.269145Z"
    },
    "papermill": {
     "duration": 0.769224,
     "end_time": "2022-05-11T08:01:38.102613",
     "exception": false,
     "start_time": "2022-05-11T08:01:37.333389",
     "status": "completed"
    },
    "tags": []
   },
   "outputs": [],
   "source": [
    "all_species = sorted(set(train_meta.target_raw.sum()))\n",
    "species2id = {s: i for i, s in enumerate(all_species)}\n",
    "id2species = {i: s for i, s in enumerate(all_species)}\n",
    "\n",
    "train_meta['target'] = train_meta.target_raw.apply(lambda species: [int(s in species) for s in all_species])"
   ]
  },
  {
   "cell_type": "code",
   "execution_count": 5,
   "id": "57603b13",
   "metadata": {
    "execution": {
     "iopub.execute_input": "2022-05-11T08:01:38.139722Z",
     "iopub.status.busy": "2022-05-11T08:01:38.138895Z",
     "iopub.status.idle": "2022-05-11T08:01:38.141024Z",
     "shell.execute_reply": "2022-05-11T08:01:38.141400Z",
     "shell.execute_reply.started": "2022-05-11T07:58:19.727312Z"
    },
    "papermill": {
     "duration": 0.022634,
     "end_time": "2022-05-11T08:01:38.141532",
     "exception": false,
     "start_time": "2022-05-11T08:01:38.118898",
     "status": "completed"
    },
    "tags": []
   },
   "outputs": [],
   "source": [
    "def load_wav(fname, offset, duration):\n",
    "#     fname = 'afrsil1/XC125458.ogg'\n",
    "    fpath = os.path.join(data_root, 'train_audio', fname)\n",
    "    wav, sr = librosa.load(fpath, sr=None, duration=duration)\n",
    "    assert sr <= 32000, sr\n",
    "    return wav, sr"
   ]
  },
  {
   "cell_type": "markdown",
   "id": "729011b1",
   "metadata": {
    "papermill": {
     "duration": 0.015516,
     "end_time": "2022-05-11T08:01:38.172448",
     "exception": false,
     "start_time": "2022-05-11T08:01:38.156932",
     "status": "completed"
    },
    "tags": []
   },
   "source": [
    "### Torch Dataset"
   ]
  },
  {
   "cell_type": "code",
   "execution_count": 6,
   "id": "38b36f5b",
   "metadata": {
    "execution": {
     "iopub.execute_input": "2022-05-11T08:01:38.207256Z",
     "iopub.status.busy": "2022-05-11T08:01:38.206532Z",
     "iopub.status.idle": "2022-05-11T08:01:38.208594Z",
     "shell.execute_reply": "2022-05-11T08:01:38.209036Z",
     "shell.execute_reply.started": "2022-05-11T07:58:20.431107Z"
    },
    "papermill": {
     "duration": 0.021353,
     "end_time": "2022-05-11T08:01:38.209159",
     "exception": false,
     "start_time": "2022-05-11T08:01:38.187806",
     "status": "completed"
    },
    "tags": []
   },
   "outputs": [],
   "source": [
    "TEST_SIZE = 5 \n",
    "CONFIG = {\n",
    "    'crop_len': 30,\n",
    "    'sample_rate': 32000,    \n",
    "}\n"
   ]
  },
  {
   "cell_type": "code",
   "execution_count": 7,
   "id": "56a02145",
   "metadata": {
    "execution": {
     "iopub.execute_input": "2022-05-11T08:01:38.248768Z",
     "iopub.status.busy": "2022-05-11T08:01:38.247973Z",
     "iopub.status.idle": "2022-05-11T08:01:38.249720Z",
     "shell.execute_reply": "2022-05-11T08:01:38.250148Z",
     "shell.execute_reply.started": "2022-05-11T07:58:21.472605Z"
    },
    "papermill": {
     "duration": 0.025938,
     "end_time": "2022-05-11T08:01:38.250262",
     "exception": false,
     "start_time": "2022-05-11T08:01:38.224324",
     "status": "completed"
    },
    "tags": []
   },
   "outputs": [],
   "source": [
    "from torch.utils.data import Dataset, DataLoader\n",
    "\n",
    "class BirdDataset(Dataset):\n",
    "    def __init__(self, df):\n",
    "        super().__init__()\n",
    "        self.df = df\n",
    "        \n",
    "    def __getitem__(self, idx):\n",
    "        duration = CONFIG['crop_len']\n",
    "        sample_rate = CONFIG['sample_rate']\n",
    "        \n",
    "        fname = self.df.iloc[idx]['filename']\n",
    "        wav_len = train_meta.iloc[0]['duration']\n",
    "        \n",
    "        max_offset = max(0, wav_len - duration)\n",
    "        random_offset = random.randint(0, max_offset)\n",
    "                \n",
    "        wav, sr = load_wav(fname, random_offset, duration)\n",
    "        to_pad = duration * sample_rate - wav.shape[0]\n",
    "        if to_pad > 0:\n",
    "            wav = np.pad(wav, (0, to_pad))\n",
    "            \n",
    "        target = self.df.iloc[idx]['target']\n",
    "        \n",
    "        # TODO: add weighting\n",
    "            \n",
    "        wav = torch.tensor(wav)\n",
    "        target = torch.tensor(target, dtype=float)\n",
    "        return {\n",
    "            'wav': wav,\n",
    "            'target': target,\n",
    "        }\n",
    "\n",
    "    def __len__(self):\n",
    "        return len(self.df)"
   ]
  },
  {
   "cell_type": "markdown",
   "id": "822078c6",
   "metadata": {
    "execution": {
     "iopub.execute_input": "2022-04-21T09:17:01.036366Z",
     "iopub.status.busy": "2022-04-21T09:17:01.036048Z",
     "iopub.status.idle": "2022-04-21T09:17:01.05202Z",
     "shell.execute_reply": "2022-04-21T09:17:01.050779Z",
     "shell.execute_reply.started": "2022-04-21T09:17:01.036334Z"
    },
    "papermill": {
     "duration": 0.015167,
     "end_time": "2022-05-11T08:01:38.280738",
     "exception": false,
     "start_time": "2022-05-11T08:01:38.265571",
     "status": "completed"
    },
    "tags": []
   },
   "source": [
    "### Model"
   ]
  },
  {
   "cell_type": "code",
   "execution_count": 8,
   "id": "a4fcbc56",
   "metadata": {
    "execution": {
     "iopub.execute_input": "2022-05-11T08:01:38.314597Z",
     "iopub.status.busy": "2022-05-11T08:01:38.313780Z",
     "iopub.status.idle": "2022-05-11T08:01:38.342262Z",
     "shell.execute_reply": "2022-05-11T08:01:38.341864Z",
     "shell.execute_reply.started": "2022-05-11T07:59:56.097313Z"
    },
    "papermill": {
     "duration": 0.046411,
     "end_time": "2022-05-11T08:01:38.342367",
     "exception": false,
     "start_time": "2022-05-11T08:01:38.295956",
     "status": "completed"
    },
    "tags": []
   },
   "outputs": [],
   "source": [
    "from torch.distributions import Beta\n",
    "from torch import nn\n",
    "\n",
    "\n",
    "class Net(torch.nn.Module):\n",
    "    def __init__(self, backbone_path=None):\n",
    "        super().__init__()\n",
    "        self.audio2image = self._init_audio2image()\n",
    "        self.backbone = self._init_backbone()\n",
    "        self.load_backbone(backbone_path)\n",
    "        self.head = self._init_head(self.backbone.feature_info[-1]['num_chs'])      \n",
    "        self.loss = torch.nn.BCEWithLogitsLoss()\n",
    "        self.mixup = Mixup()\n",
    "        \n",
    "    def forward(self, wav_tensor, y=None):\n",
    "        # wav_tensor: b, t\n",
    "        if self.training:\n",
    "            wav_tensor = self.batch_crop(wav_tensor) # b, t\n",
    "            \n",
    "        spectrogram = self.audio2image(wav_tensor) # b, m, t\n",
    "        spectrogram = spectrogram.permute(0, 2, 1) # b, t, m\n",
    "        spectrogram = spectrogram[:, None, :, :] # b, c, t, m\n",
    "        \n",
    "        if self.training:\n",
    "            spectrogram = spectrogram.permute(0, 2, 1, 3) # b, t, c, m\n",
    "            spectrogram = self.batch_uncrop(spectrogram)\n",
    "            \n",
    "            spectrogram, y = self.mixup(spectrogram, y)\n",
    "            \n",
    "            spectrogram = self.batch_crop(spectrogram)\n",
    "            spectrogram = spectrogram.permute(0, 2, 1, 3) # b, c, t, m\n",
    "                \n",
    "        x = self.backbone(spectrogram) # b, c, t, m\n",
    "        if self.training:\n",
    "            x = x.permute(0, 2, 1, 3) # b, t, c, m\n",
    "            x = self.batch_uncrop(x)\n",
    "            x = x.permute(0, 2, 1, 3) # b, c, t, m\n",
    "        \n",
    "        # average mel axis\n",
    "        x = torch.mean(x, axis=-1)\n",
    "                \n",
    "        logits = self.head(x) # b, n_out\n",
    "        \n",
    "        if y is not None:\n",
    "            loss = self.loss(logits, y)\n",
    "        else:\n",
    "            loss = None\n",
    "\n",
    "        return {'loss': loss, 'logits': logits.sigmoid()}\n",
    "    \n",
    "    def batch_crop(self, tensor):\n",
    "        factor = int(CONFIG['crop_len'] // TEST_SIZE)\n",
    "        b, t = tensor.shape[:2]\n",
    "        tensor = tensor.reshape(b * factor, t // factor, *tensor.shape[2:])\n",
    "        return tensor\n",
    "    \n",
    "    def batch_uncrop(self, tensor):\n",
    "        factor = int(CONFIG['crop_len'] // TEST_SIZE)\n",
    "        b, t = tensor.shape[:2]\n",
    "        tensor = tensor.reshape(b // factor, t * factor, *tensor.shape[2:])\n",
    "        return tensor\n",
    "    \n",
    "    @staticmethod\n",
    "    def _init_audio2image():\n",
    "        mel = ta.transforms.MelSpectrogram(\n",
    "            sample_rate=32000,\n",
    "            n_fft=2048,\n",
    "            win_length=2048,\n",
    "            hop_length=512,\n",
    "            f_min=16,\n",
    "            f_max=16386,\n",
    "            pad=0,\n",
    "            n_mels=256,\n",
    "            power=2,\n",
    "            normalized=False,\n",
    "        )\n",
    "        db_scale = ta.transforms.AmplitudeToDB(top_db=80.0)\n",
    "        audio2image = torch.nn.Sequential(mel, db_scale)\n",
    "        return audio2image\n",
    "    \n",
    "    @staticmethod\n",
    "    def _init_backbone():\n",
    "        backbone = \"resnet18\"\n",
    "        pretrained = False\n",
    "        pretrained_weights = None\n",
    "        train = True\n",
    "        val = False\n",
    "        in_chans = 1\n",
    "\n",
    "        backbone = timm.create_model(\n",
    "            backbone,\n",
    "            pretrained=pretrained,\n",
    "            num_classes=0,\n",
    "            global_pool=\"\",\n",
    "            in_chans=in_chans,\n",
    "        )\n",
    "        return backbone\n",
    "    \n",
    "    @staticmethod\n",
    "    def _init_head(num_chs):\n",
    "        head = Attention(num_chs, len(all_species), activation='linear')\n",
    "        return head\n",
    "    \n",
    "    def load_backbone(self, weights_path=None):\n",
    "        if weights_path:\n",
    "            state_dict=torch.load(weights_path)\n",
    "            conv1_weight = state_dict['conv1.weight']\n",
    "            state_dict['conv1.weight'] = conv1_weight.sum(dim=1, keepdim=True)\n",
    "            state_dict.pop('fc.bias')\n",
    "            state_dict.pop('fc.weight')\n",
    "            self.backbone.load_state_dict(state_dict)\n",
    "\n",
    "\n",
    "class Mixup(nn.Module):\n",
    "    def __init__(self, mix_beta=1):\n",
    "        super(Mixup, self).__init__()\n",
    "        self.beta_distribution = Beta(mix_beta, mix_beta)\n",
    "\n",
    "    def forward(self, X, Y, sample_weight=None):\n",
    "\n",
    "        bs = X.shape[0]\n",
    "        n_dims = len(X.shape)\n",
    "        perm = torch.randperm(bs)\n",
    "        mixup_weight = self.beta_distribution.rsample(torch.Size((bs,))).to(X.device)\n",
    "\n",
    "        if n_dims == 2:\n",
    "            X = mixup_weight.view(-1, 1) * X + (1 - mixup_weight.view(-1, 1)) * X[perm]\n",
    "        elif n_dims == 3:\n",
    "            X = mixup_weight.view(-1, 1, 1) * X + (1 - mixup_weight.view(-1, 1, 1)) * X[perm]\n",
    "        else:\n",
    "            X = mixup_weight.view(-1, 1, 1, 1) * X + (1 - mixup_weight.view(-1, 1, 1, 1)) * X[perm]\n",
    "\n",
    "        Y = mixup_weight.view(-1, 1) * Y + (1 - mixup_weight.view(-1, 1)) * Y[perm]\n",
    "\n",
    "        if sample_weight is None:\n",
    "            return X, Y\n",
    "        else:\n",
    "            sample_weight = mixup_weight.view(-1) * sample_weight + (1 - mixup_weight.view(-1)) * sample_weight[perm]\n",
    "            return X, Y, sample_weight\n",
    "\n",
    "        \n",
    "class Attention(nn.Module):\n",
    "    def __init__(self, in_channels, out_channels, activation='linear'):\n",
    "        super().__init__()\n",
    "        self.activation = activation\n",
    "        self.attn = nn.Conv1d(in_channels, out_channels, kernel_size=1)\n",
    "        self.cla = nn.Conv1d(in_channels, out_channels, kernel_size=1)\n",
    "        \n",
    "    def forward(self, x):\n",
    "        # x: b, c, t\n",
    "        attn = torch.softmax(torch.tanh(self.attn(x)), dim=-1) # b, c, t\n",
    "        x = self.cla(x) # b, c, t\n",
    "        x = torch.sum(x * attn, dim=-1) #b, c\n",
    "        return x"
   ]
  },
  {
   "cell_type": "markdown",
   "id": "7643d531",
   "metadata": {
    "papermill": {
     "duration": 0.01539,
     "end_time": "2022-05-11T08:01:38.372974",
     "exception": false,
     "start_time": "2022-05-11T08:01:38.357584",
     "status": "completed"
    },
    "tags": []
   },
   "source": [
    "### Model load"
   ]
  },
  {
   "cell_type": "code",
   "execution_count": 9,
   "id": "b1541598",
   "metadata": {
    "execution": {
     "iopub.execute_input": "2022-05-11T08:01:38.458138Z",
     "iopub.status.busy": "2022-05-11T08:01:38.457381Z",
     "iopub.status.idle": "2022-05-11T08:01:42.452125Z",
     "shell.execute_reply": "2022-05-11T08:01:42.451494Z",
     "shell.execute_reply.started": "2022-05-11T08:00:42.157452Z"
    },
    "papermill": {
     "duration": 4.063901,
     "end_time": "2022-05-11T08:01:42.452286",
     "exception": false,
     "start_time": "2022-05-11T08:01:38.388385",
     "status": "completed"
    },
    "tags": []
   },
   "outputs": [],
   "source": [
    "model_path = '../input/birdclefsubmit/9_model.pt'\n",
    "device = torch.device('cuda' if torch.cuda.is_available() else 'cpu')\n",
    "model = torch.load(model_path, map_location=device)\n",
    "\n",
    "# state_dict = torch.load(model_path, map_location=device)\n",
    "# model = Net(len(all_species), int(CONFIG['crop_len'] // TEST_SIZE),\n",
    "#             backbone_config=dict(model_name='resnet18', pretrained=False))\n",
    "# model.load_state_dict(state_dict)\n",
    "# model.to(device)"
   ]
  },
  {
   "cell_type": "markdown",
   "id": "860e4322",
   "metadata": {
    "papermill": {
     "duration": 0.020939,
     "end_time": "2022-05-11T08:01:42.492259",
     "exception": false,
     "start_time": "2022-05-11T08:01:42.471320",
     "status": "completed"
    },
    "tags": []
   },
   "source": [
    "### Submit"
   ]
  },
  {
   "cell_type": "code",
   "execution_count": 10,
   "id": "2f91bf37",
   "metadata": {
    "execution": {
     "iopub.execute_input": "2022-05-11T08:01:42.532418Z",
     "iopub.status.busy": "2022-05-11T08:01:42.531739Z",
     "iopub.status.idle": "2022-05-11T08:01:42.537453Z",
     "shell.execute_reply": "2022-05-11T08:01:42.536980Z",
     "shell.execute_reply.started": "2022-05-11T08:00:48.673134Z"
    },
    "papermill": {
     "duration": 0.027262,
     "end_time": "2022-05-11T08:01:42.537583",
     "exception": false,
     "start_time": "2022-05-11T08:01:42.510321",
     "status": "completed"
    },
    "tags": []
   },
   "outputs": [],
   "source": [
    "with open(os.path.join(data_root, 'scored_birds.json')) as fin:\n",
    "    test_birds = json.load(fin)"
   ]
  },
  {
   "cell_type": "code",
   "execution_count": 11,
   "id": "92629970",
   "metadata": {
    "execution": {
     "iopub.execute_input": "2022-05-11T08:01:42.582980Z",
     "iopub.status.busy": "2022-05-11T08:01:42.582016Z",
     "iopub.status.idle": "2022-05-11T08:01:42.584015Z",
     "shell.execute_reply": "2022-05-11T08:01:42.584499Z",
     "shell.execute_reply.started": "2022-05-11T08:00:50.203752Z"
    },
    "papermill": {
     "duration": 0.02871,
     "end_time": "2022-05-11T08:01:42.584653",
     "exception": false,
     "start_time": "2022-05-11T08:01:42.555943",
     "status": "completed"
    },
    "tags": []
   },
   "outputs": [],
   "source": [
    "class TestDataset(Dataset):\n",
    "    def __init__(self, test_folder):\n",
    "        super().__init__()\n",
    "        self.test_folder = test_folder\n",
    "        self.fnames = [f for f in os.listdir(test_folder) if f.endswith('.ogg')]\n",
    "        \n",
    "    def __len__(self):\n",
    "        return len(self.fnames)\n",
    "    \n",
    "    def __getitem__(self, idx):\n",
    "        fpath = os.path.join(self.test_folder, self.fnames[idx])\n",
    "        wav, sr = load_wav(fpath, 0, None)\n",
    "        wav = torch.tensor(wav)\n",
    "        assert (13 * 5 * sr) > len(wav) \n",
    "        wav = wav[:len(wav) // 12 * 12].reshape((12, len(wav) // 12))\n",
    "        return wav"
   ]
  },
  {
   "cell_type": "code",
   "execution_count": 12,
   "id": "d8f77fb1",
   "metadata": {
    "execution": {
     "iopub.execute_input": "2022-05-11T08:01:42.626150Z",
     "iopub.status.busy": "2022-05-11T08:01:42.625484Z",
     "iopub.status.idle": "2022-05-11T08:01:42.630539Z",
     "shell.execute_reply": "2022-05-11T08:01:42.630023Z",
     "shell.execute_reply.started": "2022-05-11T08:00:51.103224Z"
    },
    "papermill": {
     "duration": 0.028021,
     "end_time": "2022-05-11T08:01:42.630706",
     "exception": false,
     "start_time": "2022-05-11T08:01:42.602685",
     "status": "completed"
    },
    "tags": []
   },
   "outputs": [],
   "source": [
    "test_dataset = TestDataset(os.path.join(data_root, 'test_soundscapes'))\n",
    "test_dataloader = DataLoader(\n",
    "    test_dataset,\n",
    "    batch_size=1,\n",
    "    shuffle=False,\n",
    "    num_workers=2,\n",
    "    drop_last=False,   \n",
    ")"
   ]
  },
  {
   "cell_type": "code",
   "execution_count": 13,
   "id": "6650ca97",
   "metadata": {
    "execution": {
     "iopub.execute_input": "2022-05-11T08:01:42.679241Z",
     "iopub.status.busy": "2022-05-11T08:01:42.678587Z",
     "iopub.status.idle": "2022-05-11T08:01:49.309652Z",
     "shell.execute_reply": "2022-05-11T08:01:49.310284Z",
     "shell.execute_reply.started": "2022-05-11T08:00:51.571684Z"
    },
    "papermill": {
     "duration": 6.661722,
     "end_time": "2022-05-11T08:01:49.310483",
     "exception": false,
     "start_time": "2022-05-11T08:01:42.648761",
     "status": "completed"
    },
    "tags": []
   },
   "outputs": [
    {
     "name": "stderr",
     "output_type": "stream",
     "text": [
      "1it [00:06,  6.56s/it]\n"
     ]
    }
   ],
   "source": [
    "pred_list = []\n",
    "treshold = 0.1\n",
    "model.eval()\n",
    "with torch.no_grad():\n",
    "    for i, batch in tqdm(enumerate(test_dataloader)):\n",
    "        batch_size, part_count, part_size = batch.shape\n",
    "        batch = batch.reshape(batch_size * part_count, part_size)\n",
    "        pred = model(batch.to(device))['logits']\n",
    "        pred = pred.cpu().numpy()\n",
    "        pred = pred > treshold\n",
    "        \n",
    "        for j, chunk_pred in enumerate(pred):\n",
    "            inbatch_number = j // part_count\n",
    "            chunk_number = j % part_count + 1\n",
    "            f_idx = i * batch_size + inbatch_number\n",
    "            fname = test_dataset.fnames[f_idx]\n",
    "            prefix = fname.split('.')[0]\n",
    "            sufix = f'{5 * chunk_number}'\n",
    "            \n",
    "            pred_list.extend([{\n",
    "                'row_id': '_'.join([prefix, b, sufix]),\n",
    "                'target': chunk_pred[species2id[b]]\n",
    "            } for b in test_birds])\n",
    "pred_pd = pd.DataFrame(pred_list)"
   ]
  },
  {
   "cell_type": "code",
   "execution_count": 14,
   "id": "5844abc1",
   "metadata": {
    "execution": {
     "iopub.execute_input": "2022-05-11T08:01:49.350551Z",
     "iopub.status.busy": "2022-05-11T08:01:49.348495Z",
     "iopub.status.idle": "2022-05-11T08:01:49.368642Z",
     "shell.execute_reply": "2022-05-11T08:01:49.369090Z",
     "shell.execute_reply.started": "2022-05-11T08:00:58.102269Z"
    },
    "papermill": {
     "duration": 0.039938,
     "end_time": "2022-05-11T08:01:49.369238",
     "exception": false,
     "start_time": "2022-05-11T08:01:49.329300",
     "status": "completed"
    },
    "tags": []
   },
   "outputs": [
    {
     "data": {
      "text/html": [
       "<div>\n",
       "<style scoped>\n",
       "    .dataframe tbody tr th:only-of-type {\n",
       "        vertical-align: middle;\n",
       "    }\n",
       "\n",
       "    .dataframe tbody tr th {\n",
       "        vertical-align: top;\n",
       "    }\n",
       "\n",
       "    .dataframe thead th {\n",
       "        text-align: right;\n",
       "    }\n",
       "</style>\n",
       "<table border=\"1\" class=\"dataframe\">\n",
       "  <thead>\n",
       "    <tr style=\"text-align: right;\">\n",
       "      <th></th>\n",
       "      <th>row_id</th>\n",
       "      <th>target</th>\n",
       "    </tr>\n",
       "  </thead>\n",
       "  <tbody>\n",
       "    <tr>\n",
       "      <th>0</th>\n",
       "      <td>soundscape_453028782_akiapo_5</td>\n",
       "      <td>False</td>\n",
       "    </tr>\n",
       "    <tr>\n",
       "      <th>1</th>\n",
       "      <td>soundscape_453028782_aniani_5</td>\n",
       "      <td>False</td>\n",
       "    </tr>\n",
       "    <tr>\n",
       "      <th>2</th>\n",
       "      <td>soundscape_453028782_apapan_5</td>\n",
       "      <td>False</td>\n",
       "    </tr>\n",
       "    <tr>\n",
       "      <th>3</th>\n",
       "      <td>soundscape_453028782_barpet_5</td>\n",
       "      <td>False</td>\n",
       "    </tr>\n",
       "    <tr>\n",
       "      <th>4</th>\n",
       "      <td>soundscape_453028782_crehon_5</td>\n",
       "      <td>False</td>\n",
       "    </tr>\n",
       "    <tr>\n",
       "      <th>...</th>\n",
       "      <td>...</td>\n",
       "      <td>...</td>\n",
       "    </tr>\n",
       "    <tr>\n",
       "      <th>247</th>\n",
       "      <td>soundscape_453028782_omao_60</td>\n",
       "      <td>False</td>\n",
       "    </tr>\n",
       "    <tr>\n",
       "      <th>248</th>\n",
       "      <td>soundscape_453028782_puaioh_60</td>\n",
       "      <td>False</td>\n",
       "    </tr>\n",
       "    <tr>\n",
       "      <th>249</th>\n",
       "      <td>soundscape_453028782_skylar_60</td>\n",
       "      <td>False</td>\n",
       "    </tr>\n",
       "    <tr>\n",
       "      <th>250</th>\n",
       "      <td>soundscape_453028782_warwhe1_60</td>\n",
       "      <td>False</td>\n",
       "    </tr>\n",
       "    <tr>\n",
       "      <th>251</th>\n",
       "      <td>soundscape_453028782_yefcan_60</td>\n",
       "      <td>False</td>\n",
       "    </tr>\n",
       "  </tbody>\n",
       "</table>\n",
       "<p>252 rows × 2 columns</p>\n",
       "</div>"
      ],
      "text/plain": [
       "                              row_id  target\n",
       "0      soundscape_453028782_akiapo_5   False\n",
       "1      soundscape_453028782_aniani_5   False\n",
       "2      soundscape_453028782_apapan_5   False\n",
       "3      soundscape_453028782_barpet_5   False\n",
       "4      soundscape_453028782_crehon_5   False\n",
       "..                               ...     ...\n",
       "247     soundscape_453028782_omao_60   False\n",
       "248   soundscape_453028782_puaioh_60   False\n",
       "249   soundscape_453028782_skylar_60   False\n",
       "250  soundscape_453028782_warwhe1_60   False\n",
       "251   soundscape_453028782_yefcan_60   False\n",
       "\n",
       "[252 rows x 2 columns]"
      ]
     },
     "execution_count": 14,
     "metadata": {},
     "output_type": "execute_result"
    }
   ],
   "source": [
    "pred_pd.to_csv(\"submission.csv\", index=False)\n",
    "pred_pd"
   ]
  },
  {
   "cell_type": "code",
   "execution_count": null,
   "id": "62c5ef85",
   "metadata": {
    "papermill": {
     "duration": 0.017317,
     "end_time": "2022-05-11T08:01:49.403756",
     "exception": false,
     "start_time": "2022-05-11T08:01:49.386439",
     "status": "completed"
    },
    "tags": []
   },
   "outputs": [],
   "source": []
  }
 ],
 "metadata": {
  "kernelspec": {
   "display_name": "Python 3",
   "language": "python",
   "name": "python3"
  },
  "language_info": {
   "codemirror_mode": {
    "name": "ipython",
    "version": 3
   },
   "file_extension": ".py",
   "mimetype": "text/x-python",
   "name": "python",
   "nbconvert_exporter": "python",
   "pygments_lexer": "ipython3",
   "version": "3.7.12"
  },
  "papermill": {
   "default_parameters": {},
   "duration": 28.376901,
   "end_time": "2022-05-11T08:01:51.032416",
   "environment_variables": {},
   "exception": null,
   "input_path": "__notebook__.ipynb",
   "output_path": "__notebook__.ipynb",
   "parameters": {},
   "start_time": "2022-05-11T08:01:22.655515",
   "version": "2.3.3"
  }
 },
 "nbformat": 4,
 "nbformat_minor": 5
}
