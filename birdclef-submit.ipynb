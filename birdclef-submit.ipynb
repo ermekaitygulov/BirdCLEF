{
 "cells": [
  {
   "cell_type": "code",
   "execution_count": 1,
   "id": "7d0d1839",
   "metadata": {
    "_cell_guid": "b1076dfc-b9ad-4769-8c92-a6c4dae69d19",
    "_uuid": "8f2839f25d086af736a60e9eeb907d3b93b6e0e5",
    "execution": {
     "iopub.execute_input": "2022-05-18T18:17:13.764151Z",
     "iopub.status.busy": "2022-05-18T18:17:13.763329Z",
     "iopub.status.idle": "2022-05-18T18:17:19.446477Z",
     "shell.execute_reply": "2022-05-18T18:17:19.445426Z",
     "shell.execute_reply.started": "2022-05-18T18:07:12.140270Z"
    },
    "papermill": {
     "duration": 5.71182,
     "end_time": "2022-05-18T18:17:19.446659",
     "exception": false,
     "start_time": "2022-05-18T18:17:13.734839",
     "status": "completed"
    },
    "tags": []
   },
   "outputs": [],
   "source": [
    "import sys\n",
    "sys.path.append('../input/timm-pytorch-image-models/pytorch-image-models-master')\n",
    "sys.path.append('../input/birdclefmodels/')\n",
    "\n",
    "import numpy as np # linear algebra\n",
    "import pandas as pd # data processing, CSV file I/O (e.g. pd.read_csv)\n",
    "import librosa\n",
    "\n",
    "from matplotlib import pyplot as plt\n",
    "import json\n",
    "import random\n",
    "from tqdm import tqdm\n",
    "import os\n",
    "import yaml\n",
    "\n",
    "import torch\n",
    "from torch import nn\n",
    "import torchaudio as ta\n",
    "import timm\n",
    "from torch.utils.data import Dataset, DataLoader\n",
    "\n",
    "import neural_network"
   ]
  },
  {
   "cell_type": "code",
   "execution_count": 2,
   "id": "b5f19ff7",
   "metadata": {
    "execution": {
     "iopub.execute_input": "2022-05-18T18:17:19.647877Z",
     "iopub.status.busy": "2022-05-18T18:17:19.647231Z",
     "iopub.status.idle": "2022-05-18T18:17:19.816379Z",
     "shell.execute_reply": "2022-05-18T18:17:19.815911Z",
     "shell.execute_reply.started": "2022-05-18T18:07:18.665822Z"
    },
    "papermill": {
     "duration": 0.351943,
     "end_time": "2022-05-18T18:17:19.816798",
     "exception": false,
     "start_time": "2022-05-18T18:17:19.464855",
     "status": "completed"
    },
    "tags": []
   },
   "outputs": [],
   "source": [
    "data_root = '/kaggle/input/birdclef-2022'\n",
    "train_meta = pd.read_csv('../input/birdclef-data-with-wav-durations/train_metadata_extended.csv')\n",
    "ebird_taxonomy = pd.read_csv(os.path.join(data_root, 'eBird_Taxonomy_v2021.csv'))"
   ]
  },
  {
   "cell_type": "code",
   "execution_count": 3,
   "id": "e56a24d8",
   "metadata": {
    "execution": {
     "iopub.execute_input": "2022-05-18T18:17:19.923913Z",
     "iopub.status.busy": "2022-05-18T18:17:19.903722Z",
     "iopub.status.idle": "2022-05-18T18:17:19.926536Z",
     "shell.execute_reply": "2022-05-18T18:17:19.926076Z",
     "shell.execute_reply.started": "2022-05-18T18:07:18.932752Z"
    },
    "papermill": {
     "duration": 0.093159,
     "end_time": "2022-05-18T18:17:19.926665",
     "exception": false,
     "start_time": "2022-05-18T18:17:19.833506",
     "status": "completed"
    },
    "tags": []
   },
   "outputs": [],
   "source": [
    "train_meta.loc[:, 'secondary_labels'] = train_meta.secondary_labels.apply(eval)\n",
    "train_meta['target_raw'] = train_meta.secondary_labels + train_meta.primary_label.apply(lambda x: [x])"
   ]
  },
  {
   "cell_type": "code",
   "execution_count": 4,
   "id": "ccff9045",
   "metadata": {
    "execution": {
     "iopub.execute_input": "2022-05-18T18:17:20.383445Z",
     "iopub.status.busy": "2022-05-18T18:17:20.378345Z",
     "iopub.status.idle": "2022-05-18T18:17:20.714190Z",
     "shell.execute_reply": "2022-05-18T18:17:20.713754Z",
     "shell.execute_reply.started": "2022-05-18T18:07:20.521997Z"
    },
    "papermill": {
     "duration": 0.770232,
     "end_time": "2022-05-18T18:17:20.714314",
     "exception": false,
     "start_time": "2022-05-18T18:17:19.944082",
     "status": "completed"
    },
    "tags": []
   },
   "outputs": [],
   "source": [
    "all_species = sorted(set(train_meta.target_raw.sum()))\n",
    "species2id = {s: i for i, s in enumerate(all_species)}\n",
    "id2species = {i: s for i, s in enumerate(all_species)}\n",
    "\n",
    "train_meta['target'] = train_meta.target_raw.apply(lambda species: [int(s in species) for s in all_species])"
   ]
  },
  {
   "cell_type": "code",
   "execution_count": 5,
   "id": "f17cbb78",
   "metadata": {
    "execution": {
     "iopub.execute_input": "2022-05-18T18:17:20.752467Z",
     "iopub.status.busy": "2022-05-18T18:17:20.750888Z",
     "iopub.status.idle": "2022-05-18T18:17:20.753082Z",
     "shell.execute_reply": "2022-05-18T18:17:20.753486Z",
     "shell.execute_reply.started": "2022-05-18T18:07:21.308547Z"
    },
    "papermill": {
     "duration": 0.023076,
     "end_time": "2022-05-18T18:17:20.753609",
     "exception": false,
     "start_time": "2022-05-18T18:17:20.730533",
     "status": "completed"
    },
    "tags": []
   },
   "outputs": [],
   "source": [
    "def load_wav(fname, offset, duration):\n",
    "#     fname = 'afrsil1/XC125458.ogg'\n",
    "    fpath = os.path.join(data_root, 'train_audio', fname)\n",
    "    wav, sr = librosa.load(fpath, sr=None, duration=duration)\n",
    "    assert sr <= 32000, sr\n",
    "    return wav, sr"
   ]
  },
  {
   "cell_type": "markdown",
   "id": "5c1e0f75",
   "metadata": {
    "papermill": {
     "duration": 0.015549,
     "end_time": "2022-05-18T18:17:20.785066",
     "exception": false,
     "start_time": "2022-05-18T18:17:20.769517",
     "status": "completed"
    },
    "tags": []
   },
   "source": [
    "### Model load"
   ]
  },
  {
   "cell_type": "code",
   "execution_count": 6,
   "id": "28f5e250",
   "metadata": {
    "execution": {
     "iopub.execute_input": "2022-05-18T18:17:20.878944Z",
     "iopub.status.busy": "2022-05-18T18:17:20.878195Z",
     "iopub.status.idle": "2022-05-18T18:17:20.881825Z",
     "shell.execute_reply": "2022-05-18T18:17:20.881051Z",
     "shell.execute_reply.started": "2022-05-18T18:09:16.774184Z"
    },
    "papermill": {
     "duration": 0.08114,
     "end_time": "2022-05-18T18:17:20.881946",
     "exception": false,
     "start_time": "2022-05-18T18:17:20.800806",
     "status": "completed"
    },
    "tags": []
   },
   "outputs": [],
   "source": [
    "device = torch.device('cuda' if torch.cuda.is_available() else 'cpu')\n",
    "\n",
    "def init_model(config_fname, model_fname, model_root):\n",
    "    config_path = os.path.join(model_root, config_fname)\n",
    "    model_path = os.path.join(model_root, model_fname)\n",
    "    \n",
    "    with open(config_path) as fin:\n",
    "        config = yaml.safe_load(fin)\n",
    "\n",
    "    model_config = config['model']\n",
    "    if 'backbone_config' in model_config['params']:\n",
    "        model_config['params']['backbone_config']['pretrained'] = False\n",
    "    else:\n",
    "        model_config['params']['backbone_config'] = {'pretrained': False}\n",
    "    if 'model_name' in model_config['params']['backbone_config']:\n",
    "        model_config['params']['backbone_config'].pop('model_name')\n",
    "        \n",
    "    data_config = config['data']\n",
    "    model_class = NN_CATALOG[model_config['name']]\n",
    "\n",
    "    model = model_class(len(all_species), int(data_config['crop_len'] // data_config['test_wav_len']),\n",
    "                        **model_config['params'])\n",
    "    model.to(device)\n",
    "\n",
    "    state_dict = torch.load(model_path, map_location=device)\n",
    "    model.load_state_dict(state_dict)\n",
    "    return model\n"
   ]
  },
  {
   "cell_type": "code",
   "execution_count": 7,
   "id": "a4c665a3",
   "metadata": {
    "execution": {
     "iopub.execute_input": "2022-05-18T18:17:20.918425Z",
     "iopub.status.busy": "2022-05-18T18:17:20.917936Z",
     "iopub.status.idle": "2022-05-18T18:17:25.331926Z",
     "shell.execute_reply": "2022-05-18T18:17:25.331382Z",
     "shell.execute_reply.started": "2022-05-18T18:09:17.397050Z"
    },
    "papermill": {
     "duration": 4.434011,
     "end_time": "2022-05-18T18:17:25.332065",
     "exception": false,
     "start_time": "2022-05-18T18:17:20.898054",
     "status": "completed"
    },
    "tags": []
   },
   "outputs": [],
   "source": [
    "from neural_network import NN_CATALOG\n",
    "\n",
    "\n",
    "ckpt_root = '../input/birdclefsubmit'\n",
    "eff_path = ('eff/baseline_config.yaml', 'eff/final-model.pt')\n",
    "baseline_path = ('baseline/baseline_config.yaml', 'baseline/final-model.pt')\n",
    "\n",
    "models = [init_model(*p, ckpt_root) for p in [eff_path, baseline_path]]\n",
    "weights = None\n"
   ]
  },
  {
   "cell_type": "code",
   "execution_count": 8,
   "id": "00487751",
   "metadata": {
    "execution": {
     "iopub.execute_input": "2022-05-18T18:17:25.371733Z",
     "iopub.status.busy": "2022-05-18T18:17:25.368288Z",
     "iopub.status.idle": "2022-05-18T18:17:25.374030Z",
     "shell.execute_reply": "2022-05-18T18:17:25.373599Z",
     "shell.execute_reply.started": "2022-05-18T18:15:58.843343Z"
    },
    "papermill": {
     "duration": 0.025207,
     "end_time": "2022-05-18T18:17:25.374136",
     "exception": false,
     "start_time": "2022-05-18T18:17:25.348929",
     "status": "completed"
    },
    "tags": []
   },
   "outputs": [],
   "source": [
    "class Blending(nn.Module):\n",
    "    def __init__(self, models, weights):\n",
    "        super().__init__()\n",
    "        for m in models:\n",
    "            m.eval()\n",
    "        self.models = models\n",
    "        self.weights = weights or [1 / len(models) for _ in models]\n",
    "        \n",
    "    def forward(self, wav_tensor):\n",
    "        pred = [m(wav_tensor)['logits'] for m in self.models]\n",
    "        pred = sum(p * w for p, w in zip(pred, self.weights))\n",
    "        return pred"
   ]
  },
  {
   "cell_type": "code",
   "execution_count": 9,
   "id": "58b6d492",
   "metadata": {
    "execution": {
     "iopub.execute_input": "2022-05-18T18:17:25.412155Z",
     "iopub.status.busy": "2022-05-18T18:17:25.411349Z",
     "iopub.status.idle": "2022-05-18T18:17:25.413139Z",
     "shell.execute_reply": "2022-05-18T18:17:25.413580Z",
     "shell.execute_reply.started": "2022-05-18T18:15:59.420356Z"
    },
    "papermill": {
     "duration": 0.02346,
     "end_time": "2022-05-18T18:17:25.413715",
     "exception": false,
     "start_time": "2022-05-18T18:17:25.390255",
     "status": "completed"
    },
    "tags": []
   },
   "outputs": [],
   "source": [
    "model = Blending(models, weights)"
   ]
  },
  {
   "cell_type": "markdown",
   "id": "9c7899b0",
   "metadata": {
    "papermill": {
     "duration": 0.015823,
     "end_time": "2022-05-18T18:17:25.445601",
     "exception": false,
     "start_time": "2022-05-18T18:17:25.429778",
     "status": "completed"
    },
    "tags": []
   },
   "source": [
    "### Torch Dataset"
   ]
  },
  {
   "cell_type": "code",
   "execution_count": 10,
   "id": "a8f1a293",
   "metadata": {
    "execution": {
     "iopub.execute_input": "2022-05-18T18:17:25.481727Z",
     "iopub.status.busy": "2022-05-18T18:17:25.481026Z",
     "iopub.status.idle": "2022-05-18T18:17:25.487869Z",
     "shell.execute_reply": "2022-05-18T18:17:25.488233Z",
     "shell.execute_reply.started": "2022-05-18T18:10:08.593763Z"
    },
    "papermill": {
     "duration": 0.026922,
     "end_time": "2022-05-18T18:17:25.488361",
     "exception": false,
     "start_time": "2022-05-18T18:17:25.461439",
     "status": "completed"
    },
    "tags": []
   },
   "outputs": [],
   "source": [
    "with open(os.path.join(data_root, 'scored_birds.json')) as fin:\n",
    "    test_birds = json.load(fin)"
   ]
  },
  {
   "cell_type": "code",
   "execution_count": 11,
   "id": "f84243c3",
   "metadata": {
    "execution": {
     "iopub.execute_input": "2022-05-18T18:17:25.533271Z",
     "iopub.status.busy": "2022-05-18T18:17:25.531721Z",
     "iopub.status.idle": "2022-05-18T18:17:25.533875Z",
     "shell.execute_reply": "2022-05-18T18:17:25.534261Z",
     "shell.execute_reply.started": "2022-05-18T18:10:10.432803Z"
    },
    "papermill": {
     "duration": 0.028236,
     "end_time": "2022-05-18T18:17:25.534383",
     "exception": false,
     "start_time": "2022-05-18T18:17:25.506147",
     "status": "completed"
    },
    "tags": []
   },
   "outputs": [],
   "source": [
    "class Compose:\n",
    "    def __init__(self, transforms: list):\n",
    "        self.transforms = transforms\n",
    "\n",
    "    def __call__(self, y: np.ndarray, sr):\n",
    "        for trns in self.transforms:\n",
    "            y = trns(y, sr)\n",
    "        return y\n",
    "    \n",
    "    \n",
    "class AudioTransform:\n",
    "    def __init__(self, always_apply=False, p=0.5):\n",
    "        self.always_apply = always_apply\n",
    "        self.p = p\n",
    "\n",
    "    def __call__(self, y: np.ndarray, sr):\n",
    "        if self.always_apply:\n",
    "            return self.apply(y, sr=sr)\n",
    "        else:\n",
    "            if np.random.rand() < self.p:\n",
    "                return self.apply(y, sr=sr)\n",
    "            else:\n",
    "                return y\n",
    "\n",
    "    def apply(self, y: np.ndarray, **params):\n",
    "        raise NotImplementedError\n",
    "        \n",
    "        \n",
    "class Normalize(AudioTransform):\n",
    "    def __init__(self, always_apply=False, p=1):\n",
    "        super().__init__(always_apply, p)\n",
    "\n",
    "    def apply(self, y: np.ndarray, **params):\n",
    "        max_vol = np.abs(y).max()\n",
    "        y_vol = y / max_vol\n",
    "        assert not np.isnan(y_vol).any(), f'{max_vol}'\n",
    "        return y_vol"
   ]
  },
  {
   "cell_type": "code",
   "execution_count": 12,
   "id": "3f884260",
   "metadata": {
    "execution": {
     "iopub.execute_input": "2022-05-18T18:17:25.574315Z",
     "iopub.status.busy": "2022-05-18T18:17:25.573795Z",
     "iopub.status.idle": "2022-05-18T18:17:25.576109Z",
     "shell.execute_reply": "2022-05-18T18:17:25.576488Z",
     "shell.execute_reply.started": "2022-05-18T18:10:12.060174Z"
    },
    "papermill": {
     "duration": 0.02604,
     "end_time": "2022-05-18T18:17:25.576621",
     "exception": false,
     "start_time": "2022-05-18T18:17:25.550581",
     "status": "completed"
    },
    "tags": []
   },
   "outputs": [],
   "source": [
    "class TestDataset(Dataset):\n",
    "    def __init__(self, test_folder, augmentations=None):\n",
    "        super().__init__()\n",
    "        self.test_folder = test_folder\n",
    "        self.fnames = [f for f in os.listdir(test_folder) if f.endswith('.ogg')]\n",
    "        self.augmentations = augmentations\n",
    "        \n",
    "    def __len__(self):\n",
    "        return len(self.fnames)\n",
    "    \n",
    "    def __getitem__(self, idx):\n",
    "        fpath = os.path.join(self.test_folder, self.fnames[idx])\n",
    "        wav, sr = load_wav(fpath, 0, None)\n",
    "        if self.augmentations:\n",
    "            wav = self.augmentations(wav, None)\n",
    "        wav = torch.tensor(wav)\n",
    "        assert (13 * 5 * sr) > len(wav) \n",
    "        wav = wav[:len(wav) // 12 * 12].reshape((12, len(wav) // 12))\n",
    "        return wav"
   ]
  },
  {
   "cell_type": "code",
   "execution_count": 13,
   "id": "2411eabe",
   "metadata": {
    "execution": {
     "iopub.execute_input": "2022-05-18T18:17:25.613071Z",
     "iopub.status.busy": "2022-05-18T18:17:25.612561Z",
     "iopub.status.idle": "2022-05-18T18:17:25.617396Z",
     "shell.execute_reply": "2022-05-18T18:17:25.616981Z",
     "shell.execute_reply.started": "2022-05-18T18:13:16.231313Z"
    },
    "papermill": {
     "duration": 0.024822,
     "end_time": "2022-05-18T18:17:25.617532",
     "exception": false,
     "start_time": "2022-05-18T18:17:25.592710",
     "status": "completed"
    },
    "tags": []
   },
   "outputs": [],
   "source": [
    "test_dataset = TestDataset(\n",
    "    os.path.join(data_root, 'test_soundscapes'),\n",
    "    Compose([Normalize(p=1)])\n",
    ")\n",
    "test_dataloader = DataLoader(\n",
    "    test_dataset,\n",
    "    batch_size=1,\n",
    "    shuffle=False,\n",
    "    num_workers=2,\n",
    "    drop_last=False,   \n",
    ")"
   ]
  },
  {
   "cell_type": "code",
   "execution_count": 14,
   "id": "1cac9460",
   "metadata": {
    "execution": {
     "iopub.execute_input": "2022-05-18T18:17:25.654973Z",
     "iopub.status.busy": "2022-05-18T18:17:25.654130Z",
     "iopub.status.idle": "2022-05-18T18:17:25.657498Z",
     "shell.execute_reply": "2022-05-18T18:17:25.657058Z",
     "shell.execute_reply.started": "2022-05-18T18:13:17.386956Z"
    },
    "papermill": {
     "duration": 0.024033,
     "end_time": "2022-05-18T18:17:25.657609",
     "exception": false,
     "start_time": "2022-05-18T18:17:25.633576",
     "status": "completed"
    },
    "tags": []
   },
   "outputs": [],
   "source": [
    "def find_topk(pred_proba, max_birds=5):\n",
    "    pred_proba = pred_proba[:, [species2id[b] for b in test_birds]]\n",
    "    mean_proba = pred_proba.mean(axis=0)\n",
    "    topk_birds = [i for i, _ in sorted(enumerate(mean_proba),\n",
    "                                       key=lambda x: x[1],\n",
    "                                       reverse=True)][:max_birds]\n",
    "    return topk_birds"
   ]
  },
  {
   "cell_type": "code",
   "execution_count": 15,
   "id": "c8b6d31b",
   "metadata": {
    "execution": {
     "iopub.execute_input": "2022-05-18T18:17:25.695786Z",
     "iopub.status.busy": "2022-05-18T18:17:25.695016Z",
     "iopub.status.idle": "2022-05-18T18:17:25.697540Z",
     "shell.execute_reply": "2022-05-18T18:17:25.697038Z",
     "shell.execute_reply.started": "2022-05-18T18:14:05.284442Z"
    },
    "papermill": {
     "duration": 0.024,
     "end_time": "2022-05-18T18:17:25.697651",
     "exception": false,
     "start_time": "2022-05-18T18:17:25.673651",
     "status": "completed"
    },
    "tags": []
   },
   "outputs": [],
   "source": [
    "treshold_dict = {'akiapo': 0.1,\n",
    " 'aniani': 0.05,\n",
    " 'apapan': 0.05,\n",
    " 'barpet': 0.05,\n",
    " 'crehon': 0.05,\n",
    " 'elepai': 0.05,\n",
    " 'ercfra': 0.01,\n",
    " 'hawama': 0.05,\n",
    " 'hawcre': 0.05,\n",
    " 'hawgoo': 0.05,\n",
    " 'hawhaw': 0.01,\n",
    " 'hawpet1': 0.05,\n",
    " 'houfin': 0.1,\n",
    " 'iiwi': 0.2,\n",
    " 'jabwar': 0.05,\n",
    " 'maupar': 0.05,\n",
    " 'omao': 0.05,\n",
    " 'puaioh': 0.05,\n",
    " 'skylar': 0.1,\n",
    " 'warwhe1': 0.05,\n",
    " 'yefcan': 0.15}"
   ]
  },
  {
   "cell_type": "code",
   "execution_count": 16,
   "id": "8d147588",
   "metadata": {
    "execution": {
     "iopub.execute_input": "2022-05-18T18:17:25.737584Z",
     "iopub.status.busy": "2022-05-18T18:17:25.737047Z",
     "iopub.status.idle": "2022-05-18T18:17:32.469078Z",
     "shell.execute_reply": "2022-05-18T18:17:32.469480Z",
     "shell.execute_reply.started": "2022-05-18T18:16:08.138185Z"
    },
    "papermill": {
     "duration": 6.755937,
     "end_time": "2022-05-18T18:17:32.469641",
     "exception": false,
     "start_time": "2022-05-18T18:17:25.713704",
     "status": "completed"
    },
    "tags": []
   },
   "outputs": [
    {
     "name": "stderr",
     "output_type": "stream",
     "text": [
      "1it [00:06,  6.67s/it]\n"
     ]
    }
   ],
   "source": [
    "pred_list = []\n",
    "treshold = 0.1\n",
    "with torch.no_grad():\n",
    "    for i, batch in tqdm(enumerate(test_dataloader)):\n",
    "        batch_size, part_count, part_size = batch.shape\n",
    "        batch = batch.reshape(batch_size * part_count, part_size)\n",
    "        pred = model(batch.to(device))\n",
    "        pred = pred.cpu().numpy()\n",
    "#         topk_birds = find_topk(pred_proba, max_birds=10)\n",
    "        \n",
    "        for j, chunk_pred in enumerate(pred):\n",
    "            inbatch_number = j // part_count\n",
    "            chunk_number = j % part_count + 1\n",
    "            f_idx = i * batch_size + inbatch_number\n",
    "            fname = test_dataset.fnames[f_idx]\n",
    "            prefix = fname.split('.')[0]\n",
    "            sufix = f'{5 * chunk_number}'\n",
    "            \n",
    "            pred_list.extend([{\n",
    "                'row_id': '_'.join([prefix, b, sufix]),\n",
    "                'target': chunk_pred[species2id[b]] > treshold_dict[b] # if species2id[b] in topk_birds else False\n",
    "            } for b in test_birds])\n",
    "pred_pd = pd.DataFrame(pred_list)"
   ]
  },
  {
   "cell_type": "code",
   "execution_count": 17,
   "id": "76a647e4",
   "metadata": {
    "execution": {
     "iopub.execute_input": "2022-05-18T18:17:32.510345Z",
     "iopub.status.busy": "2022-05-18T18:17:32.509609Z",
     "iopub.status.idle": "2022-05-18T18:17:32.528494Z",
     "shell.execute_reply": "2022-05-18T18:17:32.528914Z",
     "shell.execute_reply.started": "2022-05-18T18:16:15.382068Z"
    },
    "papermill": {
     "duration": 0.041066,
     "end_time": "2022-05-18T18:17:32.529049",
     "exception": false,
     "start_time": "2022-05-18T18:17:32.487983",
     "status": "completed"
    },
    "tags": []
   },
   "outputs": [
    {
     "data": {
      "text/html": [
       "<div>\n",
       "<style scoped>\n",
       "    .dataframe tbody tr th:only-of-type {\n",
       "        vertical-align: middle;\n",
       "    }\n",
       "\n",
       "    .dataframe tbody tr th {\n",
       "        vertical-align: top;\n",
       "    }\n",
       "\n",
       "    .dataframe thead th {\n",
       "        text-align: right;\n",
       "    }\n",
       "</style>\n",
       "<table border=\"1\" class=\"dataframe\">\n",
       "  <thead>\n",
       "    <tr style=\"text-align: right;\">\n",
       "      <th></th>\n",
       "      <th>row_id</th>\n",
       "      <th>target</th>\n",
       "    </tr>\n",
       "  </thead>\n",
       "  <tbody>\n",
       "    <tr>\n",
       "      <th>0</th>\n",
       "      <td>soundscape_453028782_akiapo_5</td>\n",
       "      <td>False</td>\n",
       "    </tr>\n",
       "    <tr>\n",
       "      <th>1</th>\n",
       "      <td>soundscape_453028782_aniani_5</td>\n",
       "      <td>False</td>\n",
       "    </tr>\n",
       "    <tr>\n",
       "      <th>2</th>\n",
       "      <td>soundscape_453028782_apapan_5</td>\n",
       "      <td>True</td>\n",
       "    </tr>\n",
       "    <tr>\n",
       "      <th>3</th>\n",
       "      <td>soundscape_453028782_barpet_5</td>\n",
       "      <td>False</td>\n",
       "    </tr>\n",
       "    <tr>\n",
       "      <th>4</th>\n",
       "      <td>soundscape_453028782_crehon_5</td>\n",
       "      <td>False</td>\n",
       "    </tr>\n",
       "    <tr>\n",
       "      <th>...</th>\n",
       "      <td>...</td>\n",
       "      <td>...</td>\n",
       "    </tr>\n",
       "    <tr>\n",
       "      <th>247</th>\n",
       "      <td>soundscape_453028782_omao_60</td>\n",
       "      <td>False</td>\n",
       "    </tr>\n",
       "    <tr>\n",
       "      <th>248</th>\n",
       "      <td>soundscape_453028782_puaioh_60</td>\n",
       "      <td>False</td>\n",
       "    </tr>\n",
       "    <tr>\n",
       "      <th>249</th>\n",
       "      <td>soundscape_453028782_skylar_60</td>\n",
       "      <td>False</td>\n",
       "    </tr>\n",
       "    <tr>\n",
       "      <th>250</th>\n",
       "      <td>soundscape_453028782_warwhe1_60</td>\n",
       "      <td>False</td>\n",
       "    </tr>\n",
       "    <tr>\n",
       "      <th>251</th>\n",
       "      <td>soundscape_453028782_yefcan_60</td>\n",
       "      <td>False</td>\n",
       "    </tr>\n",
       "  </tbody>\n",
       "</table>\n",
       "<p>252 rows × 2 columns</p>\n",
       "</div>"
      ],
      "text/plain": [
       "                              row_id  target\n",
       "0      soundscape_453028782_akiapo_5   False\n",
       "1      soundscape_453028782_aniani_5   False\n",
       "2      soundscape_453028782_apapan_5    True\n",
       "3      soundscape_453028782_barpet_5   False\n",
       "4      soundscape_453028782_crehon_5   False\n",
       "..                               ...     ...\n",
       "247     soundscape_453028782_omao_60   False\n",
       "248   soundscape_453028782_puaioh_60   False\n",
       "249   soundscape_453028782_skylar_60   False\n",
       "250  soundscape_453028782_warwhe1_60   False\n",
       "251   soundscape_453028782_yefcan_60   False\n",
       "\n",
       "[252 rows x 2 columns]"
      ]
     },
     "execution_count": 17,
     "metadata": {},
     "output_type": "execute_result"
    }
   ],
   "source": [
    "pred_pd.to_csv(\"submission.csv\", index=False)\n",
    "pred_pd"
   ]
  }
 ],
 "metadata": {
  "kernelspec": {
   "display_name": "Python 3",
   "language": "python",
   "name": "python3"
  },
  "language_info": {
   "codemirror_mode": {
    "name": "ipython",
    "version": 3
   },
   "file_extension": ".py",
   "mimetype": "text/x-python",
   "name": "python",
   "nbconvert_exporter": "python",
   "pygments_lexer": "ipython3",
   "version": "3.7.12"
  },
  "papermill": {
   "default_parameters": {},
   "duration": 29.347085,
   "end_time": "2022-05-18T18:17:34.821528",
   "environment_variables": {},
   "exception": null,
   "input_path": "__notebook__.ipynb",
   "output_path": "__notebook__.ipynb",
   "parameters": {},
   "start_time": "2022-05-18T18:17:05.474443",
   "version": "2.3.3"
  }
 },
 "nbformat": 4,
 "nbformat_minor": 5
}
