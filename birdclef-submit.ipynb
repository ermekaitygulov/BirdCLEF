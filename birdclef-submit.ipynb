{
 "cells": [
  {
   "cell_type": "code",
   "execution_count": 1,
   "id": "2ccd8c39",
   "metadata": {
    "_cell_guid": "b1076dfc-b9ad-4769-8c92-a6c4dae69d19",
    "_uuid": "8f2839f25d086af736a60e9eeb907d3b93b6e0e5",
    "execution": {
     "iopub.execute_input": "2022-05-21T18:40:13.615705Z",
     "iopub.status.busy": "2022-05-21T18:40:13.614899Z",
     "iopub.status.idle": "2022-05-21T18:40:20.108249Z",
     "shell.execute_reply": "2022-05-21T18:40:20.107647Z",
     "shell.execute_reply.started": "2022-05-21T18:17:35.186700Z"
    },
    "papermill": {
     "duration": 6.527427,
     "end_time": "2022-05-21T18:40:20.108413",
     "exception": false,
     "start_time": "2022-05-21T18:40:13.580986",
     "status": "completed"
    },
    "tags": []
   },
   "outputs": [],
   "source": [
    "import sys\n",
    "sys.path.append('../input/timm-pytorch-image-models/pytorch-image-models-master')\n",
    "sys.path.append('../input/birdclefmodels/')\n",
    "\n",
    "import numpy as np # linear algebra\n",
    "import pandas as pd # data processing, CSV file I/O (e.g. pd.read_csv)\n",
    "import librosa\n",
    "\n",
    "from matplotlib import pyplot as plt\n",
    "import json\n",
    "import random\n",
    "from tqdm import tqdm\n",
    "import os\n",
    "import yaml\n",
    "\n",
    "import albumentations as A\n",
    "from albumentations.pytorch import ToTensorV2\n",
    "\n",
    "import torch\n",
    "from torch import nn\n",
    "import torchaudio as ta\n",
    "import timm\n",
    "from torch.utils.data import Dataset, DataLoader\n",
    "\n",
    "import neural_network"
   ]
  },
  {
   "cell_type": "code",
   "execution_count": 2,
   "id": "9d49eaf5",
   "metadata": {
    "execution": {
     "iopub.execute_input": "2022-05-21T18:40:20.157526Z",
     "iopub.status.busy": "2022-05-21T18:40:20.156858Z",
     "iopub.status.idle": "2022-05-21T18:40:20.316596Z",
     "shell.execute_reply": "2022-05-21T18:40:20.316043Z",
     "shell.execute_reply.started": "2022-05-21T18:17:45.376872Z"
    },
    "papermill": {
     "duration": 0.186545,
     "end_time": "2022-05-21T18:40:20.316801",
     "exception": false,
     "start_time": "2022-05-21T18:40:20.130256",
     "status": "completed"
    },
    "tags": []
   },
   "outputs": [],
   "source": [
    "data_root = '/kaggle/input/birdclef-2022'\n",
    "train_meta = pd.read_csv('../input/birdclef-data-with-wav-durations/train_metadata_extended.csv')\n",
    "ebird_taxonomy = pd.read_csv(os.path.join(data_root, 'eBird_Taxonomy_v2021.csv'))"
   ]
  },
  {
   "cell_type": "code",
   "execution_count": 3,
   "id": "43b6184d",
   "metadata": {
    "execution": {
     "iopub.execute_input": "2022-05-21T18:40:20.401005Z",
     "iopub.status.busy": "2022-05-21T18:40:20.361336Z",
     "iopub.status.idle": "2022-05-21T18:40:20.441335Z",
     "shell.execute_reply": "2022-05-21T18:40:20.440355Z",
     "shell.execute_reply.started": "2022-05-21T18:17:45.679391Z"
    },
    "papermill": {
     "duration": 0.103895,
     "end_time": "2022-05-21T18:40:20.441593",
     "exception": false,
     "start_time": "2022-05-21T18:40:20.337698",
     "status": "completed"
    },
    "tags": []
   },
   "outputs": [],
   "source": [
    "train_meta.loc[:, 'secondary_labels'] = train_meta.secondary_labels.apply(eval)\n",
    "train_meta['target_raw'] = train_meta.secondary_labels + train_meta.primary_label.apply(lambda x: [x])"
   ]
  },
  {
   "cell_type": "code",
   "execution_count": 4,
   "id": "cc1989b7",
   "metadata": {
    "execution": {
     "iopub.execute_input": "2022-05-21T18:40:20.905664Z",
     "iopub.status.busy": "2022-05-21T18:40:20.895571Z",
     "iopub.status.idle": "2022-05-21T18:40:21.286281Z",
     "shell.execute_reply": "2022-05-21T18:40:21.285220Z",
     "shell.execute_reply.started": "2022-05-21T18:17:45.968473Z"
    },
    "papermill": {
     "duration": 0.823888,
     "end_time": "2022-05-21T18:40:21.286442",
     "exception": false,
     "start_time": "2022-05-21T18:40:20.462554",
     "status": "completed"
    },
    "tags": []
   },
   "outputs": [],
   "source": [
    "all_species = sorted(set(train_meta.target_raw.sum()))\n",
    "species2id = {s: i for i, s in enumerate(all_species)}\n",
    "id2species = {i: s for i, s in enumerate(all_species)}\n",
    "\n",
    "train_meta['target'] = train_meta.target_raw.apply(lambda species: [int(s in species) for s in all_species])"
   ]
  },
  {
   "cell_type": "code",
   "execution_count": 5,
   "id": "ce05c0cc",
   "metadata": {
    "execution": {
     "iopub.execute_input": "2022-05-21T18:40:21.341732Z",
     "iopub.status.busy": "2022-05-21T18:40:21.339901Z",
     "iopub.status.idle": "2022-05-21T18:40:21.342353Z",
     "shell.execute_reply": "2022-05-21T18:40:21.342808Z",
     "shell.execute_reply.started": "2022-05-21T18:17:46.727100Z"
    },
    "papermill": {
     "duration": 0.032267,
     "end_time": "2022-05-21T18:40:21.342989",
     "exception": false,
     "start_time": "2022-05-21T18:40:21.310722",
     "status": "completed"
    },
    "tags": []
   },
   "outputs": [],
   "source": [
    "def load_wav(fname, offset, duration):\n",
    "#     fname = 'afrsil1/XC125458.ogg'\n",
    "    fpath = os.path.join(data_root, 'train_audio', fname)\n",
    "    wav, sr = librosa.load(fpath, sr=None, duration=duration)\n",
    "    assert sr <= 32000, sr\n",
    "    return wav, sr"
   ]
  },
  {
   "cell_type": "markdown",
   "id": "8ec9029b",
   "metadata": {
    "papermill": {
     "duration": 0.020565,
     "end_time": "2022-05-21T18:40:21.385752",
     "exception": false,
     "start_time": "2022-05-21T18:40:21.365187",
     "status": "completed"
    },
    "tags": []
   },
   "source": [
    "### No call"
   ]
  },
  {
   "cell_type": "code",
   "execution_count": 6,
   "id": "2600a037",
   "metadata": {
    "execution": {
     "iopub.execute_input": "2022-05-21T18:40:21.459343Z",
     "iopub.status.busy": "2022-05-21T18:40:21.457678Z",
     "iopub.status.idle": "2022-05-21T18:40:21.459966Z",
     "shell.execute_reply": "2022-05-21T18:40:21.460370Z",
     "shell.execute_reply.started": "2022-05-21T18:38:24.062996Z"
    },
    "papermill": {
     "duration": 0.053548,
     "end_time": "2022-05-21T18:40:21.460558",
     "exception": false,
     "start_time": "2022-05-21T18:40:21.407010",
     "status": "completed"
    },
    "tags": []
   },
   "outputs": [],
   "source": [
    "class MelSpecComputer:\n",
    "    def __init__(self, sr, n_mels, fmin, fmax, **kwargs):\n",
    "        self.sr = sr\n",
    "        self.n_mels = n_mels\n",
    "        self.fmin = fmin\n",
    "        self.fmax = fmax\n",
    "        kwargs[\"n_fft\"] = kwargs.get(\"n_fft\", self.sr//10)\n",
    "        kwargs[\"hop_length\"] = kwargs.get(\"hop_length\", self.sr//(10*4))\n",
    "        self.kwargs = kwargs\n",
    "\n",
    "    def __call__(self, y):\n",
    "\n",
    "        melspec = librosa.feature.melspectrogram(\n",
    "            y=y, sr=self.sr, n_mels=self.n_mels, fmin=self.fmin, fmax=self.fmax, **self.kwargs,\n",
    "        )\n",
    "\n",
    "        melspec = librosa.power_to_db(melspec).astype(np.float32)\n",
    "        return melspec\n",
    "    \n",
    "    \n",
    "def mono_to_color(X, eps=1e-6, mean=None, std=None):\n",
    "    mean = mean or X.mean()\n",
    "    std = std or X.std()\n",
    "    X = (X - mean) / (std + eps)\n",
    "    \n",
    "    _min, _max = X.min(), X.max()\n",
    "\n",
    "    if (_max - _min) > eps:\n",
    "        V = np.clip(X, _min, _max)\n",
    "        V = 255 * (V - _min) / (_max - _min)\n",
    "        V = V.astype(np.uint8)\n",
    "    else:\n",
    "        V = np.zeros_like(X, dtype=np.uint8)\n",
    "\n",
    "    return V\n",
    "\n",
    "def crop_or_pad(y, length):\n",
    "    if len(y) < length:\n",
    "        y = np.concatenate([y, np.zeros(length - len(y))])        \n",
    "    elif len(y) > length:\n",
    "        y = y[:length]\n",
    "    return y\n",
    "\n",
    "\n",
    "class NoCallDataset(Dataset):\n",
    "    def __init__(self, test_folder):\n",
    "        super().__init__()\n",
    "        self.test_folder = test_folder\n",
    "        self.fnames = [f for f in os.listdir(test_folder) if f.endswith('.ogg')]\n",
    "        self.mel_spectrogram = MelSpecComputer(\n",
    "            sr=32000,\n",
    "            n_mels=128,\n",
    "            fmin=0,\n",
    "            fmax=16000\n",
    "        )\n",
    "        self.augmentations = A.Compose([\n",
    "            A.Resize(128, 281),\n",
    "            A.Normalize(\n",
    "                mean=[0.485, 0.456, 0.406],\n",
    "                std=[0.229, 0.224, 0.225],\n",
    "            ),\n",
    "            ToTensorV2(),\n",
    "        ])\n",
    "        \n",
    "    def audio2image(self, wav):\n",
    "        melspec = self.mel_spectrogram(wav) \n",
    "        image = mono_to_color(melspec)\n",
    "        image = np.stack((image,)*3, -1)\n",
    "        image = self.augmentations(image=image)['image']\n",
    "        return image\n",
    "        \n",
    "    def __len__(self):\n",
    "        return len(self.fnames)\n",
    "    \n",
    "    def __getitem__(self, idx):\n",
    "        fpath = os.path.join(self.test_folder, self.fnames[idx])\n",
    "        wav, sr = load_wav(fpath, 0, None)\n",
    "        wav = wav[:sr * 60]\n",
    "        spectrograms = []\n",
    "        crop_size = 5 * sr\n",
    "        model_crop_size = 10 * sr\n",
    "        for left in range(0, 60, 5):\n",
    "            left = left * sr\n",
    "            right = left + crop_size\n",
    "            left = max(left - crop_size, 0)\n",
    "            crop = wav[left:right]\n",
    "#             print(crop.shape)\n",
    "            crop = crop_or_pad(crop, model_crop_size)\n",
    "            spectrograms.append(self.audio2image(crop))\n",
    "        spectrograms = torch.stack(spectrograms) \n",
    "        return spectrograms\n",
    "    \n",
    "    \n",
    "class CustomResNext(nn.Module):\n",
    "    def __init__(self, model_name='resnext50_32x4d'):\n",
    "        super().__init__()\n",
    "        self.model = timm.create_model(model_name, pretrained=False)\n",
    "        n_features = self.model.fc.in_features\n",
    "        self.model.fc = nn.Linear(n_features, 2)\n",
    "\n",
    "    def forward(self, x):\n",
    "        x = self.model(x)\n",
    "        return x\n",
    "    \n"
   ]
  },
  {
   "cell_type": "code",
   "execution_count": 7,
   "id": "72d6932e",
   "metadata": {
    "execution": {
     "iopub.execute_input": "2022-05-21T18:40:21.559374Z",
     "iopub.status.busy": "2022-05-21T18:40:21.558653Z",
     "iopub.status.idle": "2022-05-21T18:40:25.841745Z",
     "shell.execute_reply": "2022-05-21T18:40:25.841187Z",
     "shell.execute_reply.started": "2022-05-21T18:38:24.512627Z"
    },
    "papermill": {
     "duration": 4.360809,
     "end_time": "2022-05-21T18:40:25.841886",
     "exception": false,
     "start_time": "2022-05-21T18:40:21.481077",
     "status": "completed"
    },
    "tags": []
   },
   "outputs": [],
   "source": [
    "device = torch.device('cuda' if torch.cuda.is_available() else 'cpu')\n",
    "\n",
    "nocall_model = CustomResNext()\n",
    "nocall_model.to(device)\n",
    "\n",
    "state_dict = torch.load('../input/nocall-classifier/resnext50_32x4d_best.pth', map_location=device)\n",
    "nocall_model.load_state_dict(state_dict['model'])\n",
    "\n",
    "nocall_dataset = NoCallDataset(os.path.join(data_root, 'test_soundscapes'))\n",
    "nocall_dataloader = DataLoader(\n",
    "    nocall_dataset,\n",
    "    batch_size=1,\n",
    "    shuffle=False,\n",
    "    num_workers=2,\n",
    "    drop_last=False,   \n",
    ")"
   ]
  },
  {
   "cell_type": "code",
   "execution_count": 8,
   "id": "77f14a5f",
   "metadata": {
    "execution": {
     "iopub.execute_input": "2022-05-21T18:40:25.892259Z",
     "iopub.status.busy": "2022-05-21T18:40:25.891692Z",
     "iopub.status.idle": "2022-05-21T18:40:32.432765Z",
     "shell.execute_reply": "2022-05-21T18:40:32.433303Z",
     "shell.execute_reply.started": "2022-05-21T18:38:25.421194Z"
    },
    "papermill": {
     "duration": 6.570667,
     "end_time": "2022-05-21T18:40:32.433520",
     "exception": false,
     "start_time": "2022-05-21T18:40:25.862853",
     "status": "completed"
    },
    "tags": []
   },
   "outputs": [
    {
     "name": "stderr",
     "output_type": "stream",
     "text": [
      "1it [00:06,  6.48s/it]\n"
     ]
    }
   ],
   "source": [
    "nocall_list = []\n",
    "part_count = 12\n",
    "nocall_model.eval()\n",
    "\n",
    "with torch.no_grad():\n",
    "    for i, batch in tqdm(enumerate(nocall_dataloader)):\n",
    "        batch = batch[0]\n",
    "        pred = nocall_model(batch.to(device))\n",
    "        pred = torch.softmax(pred, dim=1)\n",
    "        pred = pred.cpu().numpy()[:, 0] < 0.9\n",
    "        \n",
    "        for j, chunk_pred in enumerate(pred):\n",
    "            fname = nocall_dataset.fnames[i]\n",
    "            prefix = fname.split('.')[0]\n",
    "            \n",
    "            nocall_list.append({\n",
    "                'fname': fname,\n",
    "                'r_sec': 5 * (j + 1),\n",
    "                'iscall': chunk_pred\n",
    "            })\n",
    "nocall_pd = pd.DataFrame(nocall_list)"
   ]
  },
  {
   "cell_type": "markdown",
   "id": "b3780992",
   "metadata": {
    "papermill": {
     "duration": 0.02321,
     "end_time": "2022-05-21T18:40:32.479799",
     "exception": false,
     "start_time": "2022-05-21T18:40:32.456589",
     "status": "completed"
    },
    "tags": []
   },
   "source": [
    "### Model load"
   ]
  },
  {
   "cell_type": "code",
   "execution_count": 9,
   "id": "dfdf2110",
   "metadata": {
    "execution": {
     "iopub.execute_input": "2022-05-21T18:40:32.540765Z",
     "iopub.status.busy": "2022-05-21T18:40:32.539593Z",
     "iopub.status.idle": "2022-05-21T18:40:32.543100Z",
     "shell.execute_reply": "2022-05-21T18:40:32.543584Z",
     "shell.execute_reply.started": "2022-05-21T16:18:48.674192Z"
    },
    "papermill": {
     "duration": 0.038897,
     "end_time": "2022-05-21T18:40:32.543751",
     "exception": false,
     "start_time": "2022-05-21T18:40:32.504854",
     "status": "completed"
    },
    "tags": []
   },
   "outputs": [],
   "source": [
    "device = torch.device('cuda' if torch.cuda.is_available() else 'cpu')\n",
    "\n",
    "def init_model(config_fname, model_fname, model_root):\n",
    "    config_path = os.path.join(model_root, config_fname)\n",
    "    model_path = os.path.join(model_root, model_fname)\n",
    "    \n",
    "    with open(config_path) as fin:\n",
    "        config = yaml.safe_load(fin)\n",
    "\n",
    "    model_config = config['model']\n",
    "    if 'backbone_config' in model_config['params']:\n",
    "        model_config['params']['backbone_config']['pretrained'] = False\n",
    "    else:\n",
    "        model_config['params']['backbone_config'] = {'pretrained': False}\n",
    "    if 'model_name' in model_config['params']['backbone_config']:\n",
    "        model_config['params']['backbone_config'].pop('model_name')\n",
    "        \n",
    "    data_config = config['data']\n",
    "    model_class = NN_CATALOG[model_config['name']]\n",
    "\n",
    "    model = model_class(len(all_species), int(data_config['crop_len'] // data_config['test_wav_len']),\n",
    "                        **model_config['params'])\n",
    "    model.to(device)\n",
    "\n",
    "    state_dict = torch.load(model_path, map_location=device)\n",
    "    model.load_state_dict(state_dict)\n",
    "    return model\n"
   ]
  },
  {
   "cell_type": "code",
   "execution_count": 10,
   "id": "1f5afbbb",
   "metadata": {
    "execution": {
     "iopub.execute_input": "2022-05-21T18:40:32.600910Z",
     "iopub.status.busy": "2022-05-21T18:40:32.600294Z",
     "iopub.status.idle": "2022-05-21T18:40:34.625746Z",
     "shell.execute_reply": "2022-05-21T18:40:34.625183Z",
     "shell.execute_reply.started": "2022-05-21T16:18:57.279388Z"
    },
    "papermill": {
     "duration": 2.056909,
     "end_time": "2022-05-21T18:40:34.625882",
     "exception": false,
     "start_time": "2022-05-21T18:40:32.568973",
     "status": "completed"
    },
    "tags": []
   },
   "outputs": [],
   "source": [
    "from neural_network import NN_CATALOG\n",
    "\n",
    "\n",
    "ckpt_root = '../input/birdclefsubmit'\n",
    "eff_path = ('eff/baseline_config.yaml', 'eff/final-model.pt')\n",
    "baseline_path = ('baseline/baseline_config.yaml', 'baseline/final-model.pt')\n",
    "eff_bt_path = [('eff_crop/baseline_config.yaml', f'eff_crop/main_stage-{i}-model.pt') for i in range(9, 11)]\n",
    "path_list = [\n",
    "    eff_path,\n",
    "    baseline_path,\n",
    "    *eff_bt_path,\n",
    "]\n",
    "\n",
    "models = [init_model(*p, ckpt_root) for p in path_list]\n",
    "weights = None\n"
   ]
  },
  {
   "cell_type": "code",
   "execution_count": 11,
   "id": "9bf13ff9",
   "metadata": {
    "execution": {
     "iopub.execute_input": "2022-05-21T18:40:34.677574Z",
     "iopub.status.busy": "2022-05-21T18:40:34.676661Z",
     "iopub.status.idle": "2022-05-21T18:40:34.678405Z",
     "shell.execute_reply": "2022-05-21T18:40:34.679269Z",
     "shell.execute_reply.started": "2022-05-21T16:19:04.706501Z"
    },
    "papermill": {
     "duration": 0.031152,
     "end_time": "2022-05-21T18:40:34.679417",
     "exception": false,
     "start_time": "2022-05-21T18:40:34.648265",
     "status": "completed"
    },
    "tags": []
   },
   "outputs": [],
   "source": [
    "class Blending(nn.Module):\n",
    "    def __init__(self, models, weights):\n",
    "        super().__init__()\n",
    "        for m in models:\n",
    "            m.eval()\n",
    "        self.models = models\n",
    "        self.weights = weights or [1 / len(models) for _ in models]\n",
    "        \n",
    "    def forward(self, wav_tensor):\n",
    "        pred = [m(wav_tensor)['logits'] for m in self.models]\n",
    "        pred = sum(p * w for p, w in zip(pred, self.weights))\n",
    "        return pred"
   ]
  },
  {
   "cell_type": "code",
   "execution_count": 12,
   "id": "1533aafb",
   "metadata": {
    "execution": {
     "iopub.execute_input": "2022-05-21T18:40:34.733103Z",
     "iopub.status.busy": "2022-05-21T18:40:34.731387Z",
     "iopub.status.idle": "2022-05-21T18:40:34.733725Z",
     "shell.execute_reply": "2022-05-21T18:40:34.734145Z",
     "shell.execute_reply.started": "2022-05-21T16:19:05.099113Z"
    },
    "papermill": {
     "duration": 0.032676,
     "end_time": "2022-05-21T18:40:34.734289",
     "exception": false,
     "start_time": "2022-05-21T18:40:34.701613",
     "status": "completed"
    },
    "tags": []
   },
   "outputs": [],
   "source": [
    "model = Blending(models, weights)"
   ]
  },
  {
   "cell_type": "markdown",
   "id": "02020fae",
   "metadata": {
    "papermill": {
     "duration": 0.021805,
     "end_time": "2022-05-21T18:40:34.778318",
     "exception": false,
     "start_time": "2022-05-21T18:40:34.756513",
     "status": "completed"
    },
    "tags": []
   },
   "source": [
    "### Torch Dataset"
   ]
  },
  {
   "cell_type": "code",
   "execution_count": 13,
   "id": "d95033b9",
   "metadata": {
    "execution": {
     "iopub.execute_input": "2022-05-21T18:40:34.828002Z",
     "iopub.status.busy": "2022-05-21T18:40:34.827402Z",
     "iopub.status.idle": "2022-05-21T18:40:34.832185Z",
     "shell.execute_reply": "2022-05-21T18:40:34.831758Z",
     "shell.execute_reply.started": "2022-05-21T16:19:09.081332Z"
    },
    "papermill": {
     "duration": 0.031255,
     "end_time": "2022-05-21T18:40:34.832304",
     "exception": false,
     "start_time": "2022-05-21T18:40:34.801049",
     "status": "completed"
    },
    "tags": []
   },
   "outputs": [],
   "source": [
    "with open(os.path.join(data_root, 'scored_birds.json')) as fin:\n",
    "    test_birds = json.load(fin)"
   ]
  },
  {
   "cell_type": "code",
   "execution_count": 14,
   "id": "37c11536",
   "metadata": {
    "execution": {
     "iopub.execute_input": "2022-05-21T18:40:34.887190Z",
     "iopub.status.busy": "2022-05-21T18:40:34.886633Z",
     "iopub.status.idle": "2022-05-21T18:40:34.890603Z",
     "shell.execute_reply": "2022-05-21T18:40:34.890143Z",
     "shell.execute_reply.started": "2022-05-21T16:19:11.428665Z"
    },
    "papermill": {
     "duration": 0.036171,
     "end_time": "2022-05-21T18:40:34.890736",
     "exception": false,
     "start_time": "2022-05-21T18:40:34.854565",
     "status": "completed"
    },
    "tags": []
   },
   "outputs": [],
   "source": [
    "class Compose:\n",
    "    def __init__(self, transforms: list):\n",
    "        self.transforms = transforms\n",
    "\n",
    "    def __call__(self, y: np.ndarray, sr):\n",
    "        for trns in self.transforms:\n",
    "            y = trns(y, sr)\n",
    "        return y\n",
    "    \n",
    "    \n",
    "class AudioTransform:\n",
    "    def __init__(self, always_apply=False, p=0.5):\n",
    "        self.always_apply = always_apply\n",
    "        self.p = p\n",
    "\n",
    "    def __call__(self, y: np.ndarray, sr):\n",
    "        if self.always_apply:\n",
    "            return self.apply(y, sr=sr)\n",
    "        else:\n",
    "            if np.random.rand() < self.p:\n",
    "                return self.apply(y, sr=sr)\n",
    "            else:\n",
    "                return y\n",
    "\n",
    "    def apply(self, y: np.ndarray, **params):\n",
    "        raise NotImplementedError\n",
    "        \n",
    "        \n",
    "class Normalize(AudioTransform):\n",
    "    def __init__(self, always_apply=False, p=1):\n",
    "        super().__init__(always_apply, p)\n",
    "\n",
    "    def apply(self, y: np.ndarray, **params):\n",
    "        max_vol = np.abs(y).max()\n",
    "        y_vol = y / max_vol\n",
    "        assert not np.isnan(y_vol).any(), f'{max_vol}'\n",
    "        return y_vol"
   ]
  },
  {
   "cell_type": "code",
   "execution_count": 15,
   "id": "18adf16c",
   "metadata": {
    "execution": {
     "iopub.execute_input": "2022-05-21T18:40:34.943308Z",
     "iopub.status.busy": "2022-05-21T18:40:34.937471Z",
     "iopub.status.idle": "2022-05-21T18:40:34.945424Z",
     "shell.execute_reply": "2022-05-21T18:40:34.945849Z",
     "shell.execute_reply.started": "2022-05-21T16:19:16.691983Z"
    },
    "papermill": {
     "duration": 0.033369,
     "end_time": "2022-05-21T18:40:34.946002",
     "exception": false,
     "start_time": "2022-05-21T18:40:34.912633",
     "status": "completed"
    },
    "tags": []
   },
   "outputs": [],
   "source": [
    "class TestDataset(Dataset):\n",
    "    def __init__(self, test_folder, augmentations=None):\n",
    "        super().__init__()\n",
    "        self.test_folder = test_folder\n",
    "        self.fnames = [f for f in os.listdir(test_folder) if f.endswith('.ogg')]\n",
    "        self.augmentations = augmentations\n",
    "        \n",
    "    def __len__(self):\n",
    "        return len(self.fnames)\n",
    "    \n",
    "    def __getitem__(self, idx):\n",
    "        fpath = os.path.join(self.test_folder, self.fnames[idx])\n",
    "        wav, sr = load_wav(fpath, 0, None)\n",
    "        if self.augmentations:\n",
    "            wav = self.augmentations(wav, None)\n",
    "        wav = torch.tensor(wav)\n",
    "        assert (13 * 5 * sr) > len(wav) \n",
    "        wav = wav[:len(wav) // 12 * 12].reshape((12, len(wav) // 12))\n",
    "        return wav"
   ]
  },
  {
   "cell_type": "code",
   "execution_count": 16,
   "id": "3cb9f39d",
   "metadata": {
    "execution": {
     "iopub.execute_input": "2022-05-21T18:40:34.997186Z",
     "iopub.status.busy": "2022-05-21T18:40:34.996230Z",
     "iopub.status.idle": "2022-05-21T18:40:34.998683Z",
     "shell.execute_reply": "2022-05-21T18:40:34.999127Z",
     "shell.execute_reply.started": "2022-05-21T16:19:16.714722Z"
    },
    "papermill": {
     "duration": 0.031243,
     "end_time": "2022-05-21T18:40:34.999278",
     "exception": false,
     "start_time": "2022-05-21T18:40:34.968035",
     "status": "completed"
    },
    "tags": []
   },
   "outputs": [],
   "source": [
    "test_dataset = TestDataset(\n",
    "    os.path.join(data_root, 'test_soundscapes'),\n",
    "    Compose([Normalize(p=1)])\n",
    ")\n",
    "test_dataloader = DataLoader(\n",
    "    test_dataset,\n",
    "    batch_size=1,\n",
    "    shuffle=False,\n",
    "    num_workers=2,\n",
    "    drop_last=False,   \n",
    ")"
   ]
  },
  {
   "cell_type": "code",
   "execution_count": 17,
   "id": "47f2d534",
   "metadata": {
    "execution": {
     "iopub.execute_input": "2022-05-21T18:40:35.053276Z",
     "iopub.status.busy": "2022-05-21T18:40:35.051667Z",
     "iopub.status.idle": "2022-05-21T18:40:35.053877Z",
     "shell.execute_reply": "2022-05-21T18:40:35.054274Z",
     "shell.execute_reply.started": "2022-05-21T16:19:16.729213Z"
    },
    "papermill": {
     "duration": 0.031177,
     "end_time": "2022-05-21T18:40:35.054412",
     "exception": false,
     "start_time": "2022-05-21T18:40:35.023235",
     "status": "completed"
    },
    "tags": []
   },
   "outputs": [],
   "source": [
    "def find_topk(pred_proba, max_birds=5):\n",
    "    pred_proba = pred_proba[:, [species2id[b] for b in test_birds]]\n",
    "    mean_proba = pred_proba.mean(axis=0)\n",
    "    topk_birds = [i for i, _ in sorted(enumerate(mean_proba),\n",
    "                                       key=lambda x: x[1],\n",
    "                                       reverse=True)][:max_birds]\n",
    "    return topk_birds"
   ]
  },
  {
   "cell_type": "code",
   "execution_count": 18,
   "id": "b9eb7999",
   "metadata": {
    "execution": {
     "iopub.execute_input": "2022-05-21T18:40:35.104975Z",
     "iopub.status.busy": "2022-05-21T18:40:35.104142Z",
     "iopub.status.idle": "2022-05-21T18:40:35.106021Z",
     "shell.execute_reply": "2022-05-21T18:40:35.106413Z",
     "shell.execute_reply.started": "2022-05-21T16:19:16.743015Z"
    },
    "papermill": {
     "duration": 0.030272,
     "end_time": "2022-05-21T18:40:35.106592",
     "exception": false,
     "start_time": "2022-05-21T18:40:35.076320",
     "status": "completed"
    },
    "tags": []
   },
   "outputs": [],
   "source": [
    "treshold_dict = {'akiapo': 0.05,\n",
    " 'aniani': 0.05,\n",
    " 'apapan': 0.05,\n",
    " 'barpet': 0.05,\n",
    " 'crehon': 0.05,\n",
    " 'elepai': 0.05,\n",
    " 'ercfra': 0.05,\n",
    " 'hawama': 0.05,\n",
    " 'hawcre': 0.05,\n",
    " 'hawgoo': 0.15,\n",
    " 'hawhaw': 0.05,\n",
    " 'hawpet1': 0.05,\n",
    " 'houfin': 0.15,\n",
    " 'iiwi': 0.15,\n",
    " 'jabwar': 0.05,\n",
    " 'maupar': 0.05,\n",
    " 'omao': 0.05,\n",
    " 'puaioh': 0.05,\n",
    " 'skylar': 0.1,\n",
    " 'warwhe1': 0.05,\n",
    " 'yefcan': 0.15}"
   ]
  },
  {
   "cell_type": "code",
   "execution_count": 19,
   "id": "47efde31",
   "metadata": {
    "execution": {
     "iopub.execute_input": "2022-05-21T18:40:35.157462Z",
     "iopub.status.busy": "2022-05-21T18:40:35.156681Z",
     "iopub.status.idle": "2022-05-21T18:40:35.169771Z",
     "shell.execute_reply": "2022-05-21T18:40:35.170240Z",
     "shell.execute_reply.started": "2022-05-21T16:19:35.487083Z"
    },
    "papermill": {
     "duration": 0.042012,
     "end_time": "2022-05-21T18:40:35.170393",
     "exception": false,
     "start_time": "2022-05-21T18:40:35.128381",
     "status": "completed"
    },
    "tags": []
   },
   "outputs": [
    {
     "data": {
      "text/html": [
       "<div>\n",
       "<style scoped>\n",
       "    .dataframe tbody tr th:only-of-type {\n",
       "        vertical-align: middle;\n",
       "    }\n",
       "\n",
       "    .dataframe tbody tr th {\n",
       "        vertical-align: top;\n",
       "    }\n",
       "\n",
       "    .dataframe thead th {\n",
       "        text-align: right;\n",
       "    }\n",
       "</style>\n",
       "<table border=\"1\" class=\"dataframe\">\n",
       "  <thead>\n",
       "    <tr style=\"text-align: right;\">\n",
       "      <th></th>\n",
       "      <th>fname</th>\n",
       "      <th>r_sec</th>\n",
       "      <th>iscall</th>\n",
       "    </tr>\n",
       "  </thead>\n",
       "  <tbody>\n",
       "    <tr>\n",
       "      <th>0</th>\n",
       "      <td>soundscape_453028782.ogg</td>\n",
       "      <td>5</td>\n",
       "      <td>False</td>\n",
       "    </tr>\n",
       "    <tr>\n",
       "      <th>1</th>\n",
       "      <td>soundscape_453028782.ogg</td>\n",
       "      <td>10</td>\n",
       "      <td>True</td>\n",
       "    </tr>\n",
       "    <tr>\n",
       "      <th>2</th>\n",
       "      <td>soundscape_453028782.ogg</td>\n",
       "      <td>15</td>\n",
       "      <td>True</td>\n",
       "    </tr>\n",
       "    <tr>\n",
       "      <th>3</th>\n",
       "      <td>soundscape_453028782.ogg</td>\n",
       "      <td>20</td>\n",
       "      <td>True</td>\n",
       "    </tr>\n",
       "    <tr>\n",
       "      <th>4</th>\n",
       "      <td>soundscape_453028782.ogg</td>\n",
       "      <td>25</td>\n",
       "      <td>True</td>\n",
       "    </tr>\n",
       "    <tr>\n",
       "      <th>5</th>\n",
       "      <td>soundscape_453028782.ogg</td>\n",
       "      <td>30</td>\n",
       "      <td>False</td>\n",
       "    </tr>\n",
       "    <tr>\n",
       "      <th>6</th>\n",
       "      <td>soundscape_453028782.ogg</td>\n",
       "      <td>35</td>\n",
       "      <td>True</td>\n",
       "    </tr>\n",
       "    <tr>\n",
       "      <th>7</th>\n",
       "      <td>soundscape_453028782.ogg</td>\n",
       "      <td>40</td>\n",
       "      <td>True</td>\n",
       "    </tr>\n",
       "    <tr>\n",
       "      <th>8</th>\n",
       "      <td>soundscape_453028782.ogg</td>\n",
       "      <td>45</td>\n",
       "      <td>True</td>\n",
       "    </tr>\n",
       "    <tr>\n",
       "      <th>9</th>\n",
       "      <td>soundscape_453028782.ogg</td>\n",
       "      <td>50</td>\n",
       "      <td>True</td>\n",
       "    </tr>\n",
       "    <tr>\n",
       "      <th>10</th>\n",
       "      <td>soundscape_453028782.ogg</td>\n",
       "      <td>55</td>\n",
       "      <td>False</td>\n",
       "    </tr>\n",
       "    <tr>\n",
       "      <th>11</th>\n",
       "      <td>soundscape_453028782.ogg</td>\n",
       "      <td>60</td>\n",
       "      <td>False</td>\n",
       "    </tr>\n",
       "  </tbody>\n",
       "</table>\n",
       "</div>"
      ],
      "text/plain": [
       "                       fname  r_sec  iscall\n",
       "0   soundscape_453028782.ogg      5   False\n",
       "1   soundscape_453028782.ogg     10    True\n",
       "2   soundscape_453028782.ogg     15    True\n",
       "3   soundscape_453028782.ogg     20    True\n",
       "4   soundscape_453028782.ogg     25    True\n",
       "5   soundscape_453028782.ogg     30   False\n",
       "6   soundscape_453028782.ogg     35    True\n",
       "7   soundscape_453028782.ogg     40    True\n",
       "8   soundscape_453028782.ogg     45    True\n",
       "9   soundscape_453028782.ogg     50    True\n",
       "10  soundscape_453028782.ogg     55   False\n",
       "11  soundscape_453028782.ogg     60   False"
      ]
     },
     "execution_count": 19,
     "metadata": {},
     "output_type": "execute_result"
    }
   ],
   "source": [
    "nocall_pd"
   ]
  },
  {
   "cell_type": "code",
   "execution_count": 20,
   "id": "4bccd5b4",
   "metadata": {
    "execution": {
     "iopub.execute_input": "2022-05-21T18:40:35.225246Z",
     "iopub.status.busy": "2022-05-21T18:40:35.224345Z",
     "iopub.status.idle": "2022-05-21T18:40:35.933813Z",
     "shell.execute_reply": "2022-05-21T18:40:35.934246Z",
     "shell.execute_reply.started": "2022-05-21T16:21:36.245311Z"
    },
    "papermill": {
     "duration": 0.741429,
     "end_time": "2022-05-21T18:40:35.934408",
     "exception": false,
     "start_time": "2022-05-21T18:40:35.192979",
     "status": "completed"
    },
    "tags": []
   },
   "outputs": [
    {
     "name": "stderr",
     "output_type": "stream",
     "text": [
      "1it [00:00,  1.54it/s]\n"
     ]
    }
   ],
   "source": [
    "pred_list = []\n",
    "treshold = 0.1\n",
    "with torch.no_grad():\n",
    "    for i, batch in tqdm(enumerate(test_dataloader)):\n",
    "        batch_size, part_count, part_size = batch.shape\n",
    "        batch = batch.reshape(batch_size * part_count, part_size)\n",
    "        pred = model(batch.to(device))\n",
    "        pred = pred.cpu().numpy()\n",
    "#         topk_birds = find_topk(pred_proba, max_birds=10)\n",
    "        \n",
    "        for j, chunk_pred in enumerate(pred):\n",
    "            inbatch_number = j // part_count\n",
    "            chunk_number = j % part_count + 1\n",
    "            f_idx = i * batch_size + inbatch_number\n",
    "            fname = test_dataset.fnames[f_idx]\n",
    "            prefix = fname.split('.')[0]\n",
    "            sufix = f'{5 * chunk_number}'\n",
    "            nocall = nocall_pd[(nocall_pd.fname == fname) & (nocall_pd.r_sec == 5 * chunk_number)]['iscall'].values[0]\n",
    "            \n",
    "            pred_list.extend([{\n",
    "                'row_id': '_'.join([prefix, b, sufix]),\n",
    "                'target': (chunk_pred[species2id[b]] > treshold_dict[b]) and nocall # if species2id[b] in topk_birds else False\n",
    "            } for b in test_birds])\n",
    "pred_pd = pd.DataFrame(pred_list)"
   ]
  },
  {
   "cell_type": "code",
   "execution_count": 21,
   "id": "1a05bbd4",
   "metadata": {
    "execution": {
     "iopub.execute_input": "2022-05-21T18:40:35.989263Z",
     "iopub.status.busy": "2022-05-21T18:40:35.987238Z",
     "iopub.status.idle": "2022-05-21T18:40:36.002446Z",
     "shell.execute_reply": "2022-05-21T18:40:36.002908Z",
     "shell.execute_reply.started": "2022-05-21T16:22:01.425401Z"
    },
    "papermill": {
     "duration": 0.043736,
     "end_time": "2022-05-21T18:40:36.003048",
     "exception": false,
     "start_time": "2022-05-21T18:40:35.959312",
     "status": "completed"
    },
    "tags": []
   },
   "outputs": [
    {
     "data": {
      "text/html": [
       "<div>\n",
       "<style scoped>\n",
       "    .dataframe tbody tr th:only-of-type {\n",
       "        vertical-align: middle;\n",
       "    }\n",
       "\n",
       "    .dataframe tbody tr th {\n",
       "        vertical-align: top;\n",
       "    }\n",
       "\n",
       "    .dataframe thead th {\n",
       "        text-align: right;\n",
       "    }\n",
       "</style>\n",
       "<table border=\"1\" class=\"dataframe\">\n",
       "  <thead>\n",
       "    <tr style=\"text-align: right;\">\n",
       "      <th></th>\n",
       "      <th>row_id</th>\n",
       "      <th>target</th>\n",
       "    </tr>\n",
       "  </thead>\n",
       "  <tbody>\n",
       "    <tr>\n",
       "      <th>0</th>\n",
       "      <td>soundscape_453028782_akiapo_5</td>\n",
       "      <td>False</td>\n",
       "    </tr>\n",
       "    <tr>\n",
       "      <th>1</th>\n",
       "      <td>soundscape_453028782_aniani_5</td>\n",
       "      <td>False</td>\n",
       "    </tr>\n",
       "    <tr>\n",
       "      <th>2</th>\n",
       "      <td>soundscape_453028782_apapan_5</td>\n",
       "      <td>False</td>\n",
       "    </tr>\n",
       "    <tr>\n",
       "      <th>3</th>\n",
       "      <td>soundscape_453028782_barpet_5</td>\n",
       "      <td>False</td>\n",
       "    </tr>\n",
       "    <tr>\n",
       "      <th>4</th>\n",
       "      <td>soundscape_453028782_crehon_5</td>\n",
       "      <td>False</td>\n",
       "    </tr>\n",
       "    <tr>\n",
       "      <th>...</th>\n",
       "      <td>...</td>\n",
       "      <td>...</td>\n",
       "    </tr>\n",
       "    <tr>\n",
       "      <th>247</th>\n",
       "      <td>soundscape_453028782_omao_60</td>\n",
       "      <td>False</td>\n",
       "    </tr>\n",
       "    <tr>\n",
       "      <th>248</th>\n",
       "      <td>soundscape_453028782_puaioh_60</td>\n",
       "      <td>False</td>\n",
       "    </tr>\n",
       "    <tr>\n",
       "      <th>249</th>\n",
       "      <td>soundscape_453028782_skylar_60</td>\n",
       "      <td>False</td>\n",
       "    </tr>\n",
       "    <tr>\n",
       "      <th>250</th>\n",
       "      <td>soundscape_453028782_warwhe1_60</td>\n",
       "      <td>False</td>\n",
       "    </tr>\n",
       "    <tr>\n",
       "      <th>251</th>\n",
       "      <td>soundscape_453028782_yefcan_60</td>\n",
       "      <td>False</td>\n",
       "    </tr>\n",
       "  </tbody>\n",
       "</table>\n",
       "<p>252 rows × 2 columns</p>\n",
       "</div>"
      ],
      "text/plain": [
       "                              row_id  target\n",
       "0      soundscape_453028782_akiapo_5   False\n",
       "1      soundscape_453028782_aniani_5   False\n",
       "2      soundscape_453028782_apapan_5   False\n",
       "3      soundscape_453028782_barpet_5   False\n",
       "4      soundscape_453028782_crehon_5   False\n",
       "..                               ...     ...\n",
       "247     soundscape_453028782_omao_60   False\n",
       "248   soundscape_453028782_puaioh_60   False\n",
       "249   soundscape_453028782_skylar_60   False\n",
       "250  soundscape_453028782_warwhe1_60   False\n",
       "251   soundscape_453028782_yefcan_60   False\n",
       "\n",
       "[252 rows x 2 columns]"
      ]
     },
     "execution_count": 21,
     "metadata": {},
     "output_type": "execute_result"
    }
   ],
   "source": [
    "pred_pd.to_csv(\"submission.csv\", index=False)\n",
    "pred_pd"
   ]
  },
  {
   "cell_type": "code",
   "execution_count": null,
   "id": "8704c455",
   "metadata": {
    "papermill": {
     "duration": 0.02658,
     "end_time": "2022-05-21T18:40:36.056198",
     "exception": false,
     "start_time": "2022-05-21T18:40:36.029618",
     "status": "completed"
    },
    "tags": []
   },
   "outputs": [],
   "source": []
  }
 ],
 "metadata": {
  "kernelspec": {
   "display_name": "Python 3",
   "language": "python",
   "name": "python3"
  },
  "language_info": {
   "codemirror_mode": {
    "name": "ipython",
    "version": 3
   },
   "file_extension": ".py",
   "mimetype": "text/x-python",
   "name": "python",
   "nbconvert_exporter": "python",
   "pygments_lexer": "ipython3",
   "version": "3.7.12"
  },
  "papermill": {
   "default_parameters": {},
   "duration": 33.494918,
   "end_time": "2022-05-21T18:40:38.413391",
   "environment_variables": {},
   "exception": null,
   "input_path": "__notebook__.ipynb",
   "output_path": "__notebook__.ipynb",
   "parameters": {},
   "start_time": "2022-05-21T18:40:04.918473",
   "version": "2.3.3"
  }
 },
 "nbformat": 4,
 "nbformat_minor": 5
}
