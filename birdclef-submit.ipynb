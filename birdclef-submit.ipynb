{
 "cells": [
  {
   "cell_type": "code",
   "execution_count": 1,
   "id": "216aa376",
   "metadata": {
    "_cell_guid": "b1076dfc-b9ad-4769-8c92-a6c4dae69d19",
    "_uuid": "8f2839f25d086af736a60e9eeb907d3b93b6e0e5",
    "execution": {
     "iopub.execute_input": "2022-05-11T19:19:01.961221Z",
     "iopub.status.busy": "2022-05-11T19:19:01.960387Z",
     "iopub.status.idle": "2022-05-11T19:19:07.711020Z",
     "shell.execute_reply": "2022-05-11T19:19:07.710376Z",
     "shell.execute_reply.started": "2022-05-11T19:12:38.438111Z"
    },
    "papermill": {
     "duration": 5.777805,
     "end_time": "2022-05-11T19:19:07.711170",
     "exception": false,
     "start_time": "2022-05-11T19:19:01.933365",
     "status": "completed"
    },
    "tags": []
   },
   "outputs": [],
   "source": [
    "# This Python 3 environment comes with many helpful analytics libraries installed\n",
    "# It is defined by the kaggle/python Docker image: https://github.com/kaggle/docker-python\n",
    "# For example, here's several helpful packages to load\n",
    "import sys\n",
    "sys.path.append('../input/timm-pytorch-image-models/pytorch-image-models-master')\n",
    "\n",
    "import numpy as np # linear algebra\n",
    "import pandas as pd # data processing, CSV file I/O (e.g. pd.read_csv)\n",
    "from matplotlib import pyplot as plt\n",
    "import json\n",
    "import random\n",
    "\n",
    "import librosa\n",
    "\n",
    "import torch\n",
    "import torchaudio as ta\n",
    "import timm\n",
    "from torch.utils.data import Dataset, DataLoader\n",
    "\n",
    "\n",
    "from tqdm import tqdm\n",
    "\n",
    "# Input data files are available in the read-only \"../input/\" directory\n",
    "# For example, running this (by clicking run or pressing Shift+Enter) will list all files under the input directory\n",
    "\n",
    "import os\n",
    "# for dirname, _, filenames in os.walk('/kaggle/input'):\n",
    "#     for filename in filenames:\n",
    "#         print(os.path.join(dirname, filename))\n",
    "\n",
    "# You can write up to 20GB to the current directory (/kaggle/working/) that gets preserved as output when you create a version using \"Save & Run All\" \n",
    "# You can also write temporary files to /kaggle/temp/, but they won't be saved outside of the current session"
   ]
  },
  {
   "cell_type": "code",
   "execution_count": 2,
   "id": "7449c55b",
   "metadata": {
    "execution": {
     "iopub.execute_input": "2022-05-11T19:19:07.747951Z",
     "iopub.status.busy": "2022-05-11T19:19:07.747406Z",
     "iopub.status.idle": "2022-05-11T19:19:08.067688Z",
     "shell.execute_reply": "2022-05-11T19:19:08.067203Z",
     "shell.execute_reply.started": "2022-05-11T19:13:12.908680Z"
    },
    "papermill": {
     "duration": 0.34093,
     "end_time": "2022-05-11T19:19:08.067828",
     "exception": false,
     "start_time": "2022-05-11T19:19:07.726898",
     "status": "completed"
    },
    "tags": []
   },
   "outputs": [],
   "source": [
    "data_root = '/kaggle/input/birdclef-2022'\n",
    "train_meta = pd.read_csv('../input/birdclef-data-with-wav-durations/train_metadata_extended.csv')\n",
    "ebird_taxonomy = pd.read_csv(os.path.join(data_root, 'eBird_Taxonomy_v2021.csv'))"
   ]
  },
  {
   "cell_type": "code",
   "execution_count": 3,
   "id": "72992a69",
   "metadata": {
    "execution": {
     "iopub.execute_input": "2022-05-11T19:19:08.131755Z",
     "iopub.status.busy": "2022-05-11T19:19:08.121566Z",
     "iopub.status.idle": "2022-05-11T19:19:08.177273Z",
     "shell.execute_reply": "2022-05-11T19:19:08.176564Z",
     "shell.execute_reply.started": "2022-05-11T19:13:13.346812Z"
    },
    "papermill": {
     "duration": 0.094561,
     "end_time": "2022-05-11T19:19:08.177383",
     "exception": false,
     "start_time": "2022-05-11T19:19:08.082822",
     "status": "completed"
    },
    "tags": []
   },
   "outputs": [],
   "source": [
    "train_meta.loc[:, 'secondary_labels'] = train_meta.secondary_labels.apply(eval)\n",
    "train_meta['target_raw'] = train_meta.secondary_labels + train_meta.primary_label.apply(lambda x: [x])"
   ]
  },
  {
   "cell_type": "code",
   "execution_count": 4,
   "id": "501f0b49",
   "metadata": {
    "execution": {
     "iopub.execute_input": "2022-05-11T19:19:08.605202Z",
     "iopub.status.busy": "2022-05-11T19:19:08.604190Z",
     "iopub.status.idle": "2022-05-11T19:19:08.980226Z",
     "shell.execute_reply": "2022-05-11T19:19:08.980688Z",
     "shell.execute_reply.started": "2022-05-11T19:13:14.866089Z"
    },
    "papermill": {
     "duration": 0.788447,
     "end_time": "2022-05-11T19:19:08.980845",
     "exception": false,
     "start_time": "2022-05-11T19:19:08.192398",
     "status": "completed"
    },
    "tags": []
   },
   "outputs": [],
   "source": [
    "all_species = sorted(set(train_meta.target_raw.sum()))\n",
    "species2id = {s: i for i, s in enumerate(all_species)}\n",
    "id2species = {i: s for i, s in enumerate(all_species)}\n",
    "\n",
    "train_meta['target'] = train_meta.target_raw.apply(lambda species: [int(s in species) for s in all_species])"
   ]
  },
  {
   "cell_type": "code",
   "execution_count": 5,
   "id": "b958c833",
   "metadata": {
    "execution": {
     "iopub.execute_input": "2022-05-11T19:19:09.017242Z",
     "iopub.status.busy": "2022-05-11T19:19:09.015666Z",
     "iopub.status.idle": "2022-05-11T19:19:09.017872Z",
     "shell.execute_reply": "2022-05-11T19:19:09.018262Z",
     "shell.execute_reply.started": "2022-05-11T19:13:15.643239Z"
    },
    "papermill": {
     "duration": 0.022394,
     "end_time": "2022-05-11T19:19:09.018382",
     "exception": false,
     "start_time": "2022-05-11T19:19:08.995988",
     "status": "completed"
    },
    "tags": []
   },
   "outputs": [],
   "source": [
    "def load_wav(fname, offset, duration):\n",
    "#     fname = 'afrsil1/XC125458.ogg'\n",
    "    fpath = os.path.join(data_root, 'train_audio', fname)\n",
    "    wav, sr = librosa.load(fpath, sr=None, duration=duration)\n",
    "    assert sr <= 32000, sr\n",
    "    return wav, sr"
   ]
  },
  {
   "cell_type": "markdown",
   "id": "20a46a72",
   "metadata": {
    "papermill": {
     "duration": 0.014679,
     "end_time": "2022-05-11T19:19:09.047755",
     "exception": false,
     "start_time": "2022-05-11T19:19:09.033076",
     "status": "completed"
    },
    "tags": []
   },
   "source": [
    "### Torch Dataset"
   ]
  },
  {
   "cell_type": "code",
   "execution_count": 6,
   "id": "c227a30c",
   "metadata": {
    "execution": {
     "iopub.execute_input": "2022-05-11T19:19:09.083459Z",
     "iopub.status.busy": "2022-05-11T19:19:09.081836Z",
     "iopub.status.idle": "2022-05-11T19:19:09.084032Z",
     "shell.execute_reply": "2022-05-11T19:19:09.084416Z",
     "shell.execute_reply.started": "2022-05-11T19:13:17.178607Z"
    },
    "papermill": {
     "duration": 0.021888,
     "end_time": "2022-05-11T19:19:09.084588",
     "exception": false,
     "start_time": "2022-05-11T19:19:09.062700",
     "status": "completed"
    },
    "tags": []
   },
   "outputs": [],
   "source": [
    "TEST_SIZE = 5 \n",
    "CONFIG = {\n",
    "    'crop_len': 30,\n",
    "    'sample_rate': 32000,    \n",
    "}\n"
   ]
  },
  {
   "cell_type": "markdown",
   "id": "5fd49dcc",
   "metadata": {
    "execution": {
     "iopub.execute_input": "2022-04-21T09:17:01.036366Z",
     "iopub.status.busy": "2022-04-21T09:17:01.036048Z",
     "iopub.status.idle": "2022-04-21T09:17:01.05202Z",
     "shell.execute_reply": "2022-04-21T09:17:01.050779Z",
     "shell.execute_reply.started": "2022-04-21T09:17:01.036334Z"
    },
    "papermill": {
     "duration": 0.014679,
     "end_time": "2022-05-11T19:19:09.114316",
     "exception": false,
     "start_time": "2022-05-11T19:19:09.099637",
     "status": "completed"
    },
    "tags": []
   },
   "source": [
    "### Model"
   ]
  },
  {
   "cell_type": "code",
   "execution_count": 7,
   "id": "3a1c15c3",
   "metadata": {
    "execution": {
     "iopub.execute_input": "2022-05-11T19:19:09.174677Z",
     "iopub.status.busy": "2022-05-11T19:19:09.173896Z",
     "iopub.status.idle": "2022-05-11T19:19:09.176458Z",
     "shell.execute_reply": "2022-05-11T19:19:09.176866Z",
     "shell.execute_reply.started": "2022-05-11T19:13:22.850440Z"
    },
    "papermill": {
     "duration": 0.047835,
     "end_time": "2022-05-11T19:19:09.177015",
     "exception": false,
     "start_time": "2022-05-11T19:19:09.129180",
     "status": "completed"
    },
    "tags": []
   },
   "outputs": [],
   "source": [
    "from torch.distributions import Beta\n",
    "from torch import nn\n",
    "\n",
    "\n",
    "class Net(torch.nn.Module):\n",
    "    def __init__(self, backbone_path=None):\n",
    "        super().__init__()\n",
    "        self.audio2image = self._init_audio2image()\n",
    "        self.backbone = self._init_backbone()\n",
    "        self.load_backbone(backbone_path)\n",
    "        self.head = self._init_head(self.backbone.feature_info[-1]['num_chs'])      \n",
    "        self.loss = torch.nn.BCEWithLogitsLoss()\n",
    "        self.mixup = Mixup()\n",
    "        \n",
    "    def forward(self, wav_tensor, y=None):\n",
    "        # wav_tensor: b, t\n",
    "        if self.training:\n",
    "            wav_tensor = self.batch_crop(wav_tensor) # b, t\n",
    "            \n",
    "        spectrogram = self.audio2image(wav_tensor) # b, m, t\n",
    "        spectrogram = spectrogram.permute(0, 2, 1) # b, t, m\n",
    "        spectrogram = spectrogram[:, None, :, :] # b, c, t, m\n",
    "        \n",
    "        if self.training:\n",
    "            spectrogram = spectrogram.permute(0, 2, 1, 3) # b, t, c, m\n",
    "            spectrogram = self.batch_uncrop(spectrogram)\n",
    "            \n",
    "            spectrogram, y = self.mixup(spectrogram, y)\n",
    "            \n",
    "            spectrogram = self.batch_crop(spectrogram)\n",
    "            spectrogram = spectrogram.permute(0, 2, 1, 3) # b, c, t, m\n",
    "                \n",
    "        x = self.backbone(spectrogram) # b, c, t, m\n",
    "        if self.training:\n",
    "            x = x.permute(0, 2, 1, 3) # b, t, c, m\n",
    "            x = self.batch_uncrop(x)\n",
    "            x = x.permute(0, 2, 1, 3) # b, c, t, m\n",
    "        \n",
    "        # average mel axis\n",
    "        x = torch.mean(x, axis=-1)\n",
    "                \n",
    "        logits = self.head(x) # b, n_out\n",
    "        \n",
    "        if y is not None:\n",
    "            loss = self.loss(logits, y)\n",
    "        else:\n",
    "            loss = None\n",
    "\n",
    "        return {'loss': loss, 'logits': logits.sigmoid()}\n",
    "    \n",
    "    def batch_crop(self, tensor):\n",
    "        factor = int(CONFIG['crop_len'] // TEST_SIZE)\n",
    "        b, t = tensor.shape[:2]\n",
    "        tensor = tensor.reshape(b * factor, t // factor, *tensor.shape[2:])\n",
    "        return tensor\n",
    "    \n",
    "    def batch_uncrop(self, tensor):\n",
    "        factor = int(CONFIG['crop_len'] // TEST_SIZE)\n",
    "        b, t = tensor.shape[:2]\n",
    "        tensor = tensor.reshape(b // factor, t * factor, *tensor.shape[2:])\n",
    "        return tensor\n",
    "    \n",
    "    @staticmethod\n",
    "    def _init_audio2image():\n",
    "        mel = ta.transforms.MelSpectrogram(\n",
    "            sample_rate=32000,\n",
    "            n_fft=2048,\n",
    "            win_length=2048,\n",
    "            hop_length=512,\n",
    "            f_min=16,\n",
    "            f_max=16386,\n",
    "            pad=0,\n",
    "            n_mels=256,\n",
    "            power=2,\n",
    "            normalized=False,\n",
    "        )\n",
    "        db_scale = ta.transforms.AmplitudeToDB(top_db=80.0)\n",
    "        audio2image = torch.nn.Sequential(mel, db_scale)\n",
    "        return audio2image\n",
    "    \n",
    "    @staticmethod\n",
    "    def _init_backbone():\n",
    "        backbone = \"resnet18\"\n",
    "        pretrained = False\n",
    "        pretrained_weights = None\n",
    "        train = True\n",
    "        val = False\n",
    "        in_chans = 1\n",
    "\n",
    "        backbone = timm.create_model(\n",
    "            backbone,\n",
    "            pretrained=pretrained,\n",
    "            num_classes=0,\n",
    "            global_pool=\"\",\n",
    "            in_chans=in_chans,\n",
    "        )\n",
    "        return backbone\n",
    "    \n",
    "    @staticmethod\n",
    "    def _init_head(num_chs):\n",
    "        head = Attention(num_chs, len(all_species), activation='linear')\n",
    "        return head\n",
    "    \n",
    "    def load_backbone(self, weights_path=None):\n",
    "        if weights_path:\n",
    "            state_dict=torch.load(weights_path)\n",
    "            conv1_weight = state_dict['conv1.weight']\n",
    "            state_dict['conv1.weight'] = conv1_weight.sum(dim=1, keepdim=True)\n",
    "            state_dict.pop('fc.bias')\n",
    "            state_dict.pop('fc.weight')\n",
    "            self.backbone.load_state_dict(state_dict)\n",
    "\n",
    "\n",
    "class Mixup(nn.Module):\n",
    "    def __init__(self, mix_beta=1):\n",
    "        super(Mixup, self).__init__()\n",
    "        self.beta_distribution = Beta(mix_beta, mix_beta)\n",
    "\n",
    "    def forward(self, X, Y, sample_weight=None):\n",
    "\n",
    "        bs = X.shape[0]\n",
    "        n_dims = len(X.shape)\n",
    "        perm = torch.randperm(bs)\n",
    "        mixup_weight = self.beta_distribution.rsample(torch.Size((bs,))).to(X.device)\n",
    "\n",
    "        if n_dims == 2:\n",
    "            X = mixup_weight.view(-1, 1) * X + (1 - mixup_weight.view(-1, 1)) * X[perm]\n",
    "        elif n_dims == 3:\n",
    "            X = mixup_weight.view(-1, 1, 1) * X + (1 - mixup_weight.view(-1, 1, 1)) * X[perm]\n",
    "        else:\n",
    "            X = mixup_weight.view(-1, 1, 1, 1) * X + (1 - mixup_weight.view(-1, 1, 1, 1)) * X[perm]\n",
    "\n",
    "        Y = mixup_weight.view(-1, 1) * Y + (1 - mixup_weight.view(-1, 1)) * Y[perm]\n",
    "\n",
    "        if sample_weight is None:\n",
    "            return X, Y\n",
    "        else:\n",
    "            sample_weight = mixup_weight.view(-1) * sample_weight + (1 - mixup_weight.view(-1)) * sample_weight[perm]\n",
    "            return X, Y, sample_weight\n",
    "\n",
    "        \n",
    "class Attention(nn.Module):\n",
    "    def __init__(self, in_channels, out_channels, activation='linear'):\n",
    "        super().__init__()\n",
    "        self.activation = activation\n",
    "        self.attn = nn.Conv1d(in_channels, out_channels, kernel_size=1)\n",
    "        self.cla = nn.Conv1d(in_channels, out_channels, kernel_size=1)\n",
    "        \n",
    "    def forward(self, x):\n",
    "        # x: b, c, t\n",
    "        attn = torch.softmax(torch.tanh(self.attn(x)), dim=-1) # b, c, t\n",
    "        x = self.cla(x) # b, c, t\n",
    "        x = torch.sum(x * attn, dim=-1) #b, c\n",
    "        return x"
   ]
  },
  {
   "cell_type": "markdown",
   "id": "8777c200",
   "metadata": {
    "papermill": {
     "duration": 0.015011,
     "end_time": "2022-05-11T19:19:09.207344",
     "exception": false,
     "start_time": "2022-05-11T19:19:09.192333",
     "status": "completed"
    },
    "tags": []
   },
   "source": [
    "### Model load"
   ]
  },
  {
   "cell_type": "code",
   "execution_count": 8,
   "id": "b3c9c529",
   "metadata": {
    "execution": {
     "iopub.execute_input": "2022-05-11T19:19:09.309129Z",
     "iopub.status.busy": "2022-05-11T19:19:09.308459Z",
     "iopub.status.idle": "2022-05-11T19:19:13.262943Z",
     "shell.execute_reply": "2022-05-11T19:19:13.262279Z",
     "shell.execute_reply.started": "2022-05-11T19:13:27.749598Z"
    },
    "papermill": {
     "duration": 4.040689,
     "end_time": "2022-05-11T19:19:13.263091",
     "exception": false,
     "start_time": "2022-05-11T19:19:09.222402",
     "status": "completed"
    },
    "tags": []
   },
   "outputs": [],
   "source": [
    "model_path = '../input/birdclefsubmit/8_model.pt'\n",
    "device = torch.device('cuda' if torch.cuda.is_available() else 'cpu')\n",
    "model = torch.load(model_path, map_location=device)\n",
    "\n",
    "# state_dict = torch.load(model_path, map_location=device)\n",
    "# model = Net(len(all_species), int(CONFIG['crop_len'] // TEST_SIZE),\n",
    "#             backbone_config=dict(model_name='resnet18', pretrained=False))\n",
    "# model.load_state_dict(state_dict)\n",
    "# model.to(device)"
   ]
  },
  {
   "cell_type": "markdown",
   "id": "93b3ddc4",
   "metadata": {
    "papermill": {
     "duration": 0.015592,
     "end_time": "2022-05-11T19:19:13.294252",
     "exception": false,
     "start_time": "2022-05-11T19:19:13.278660",
     "status": "completed"
    },
    "tags": []
   },
   "source": [
    "### Submit"
   ]
  },
  {
   "cell_type": "code",
   "execution_count": 9,
   "id": "5de996e0",
   "metadata": {
    "execution": {
     "iopub.execute_input": "2022-05-11T19:19:13.329665Z",
     "iopub.status.busy": "2022-05-11T19:19:13.329087Z",
     "iopub.status.idle": "2022-05-11T19:19:13.334038Z",
     "shell.execute_reply": "2022-05-11T19:19:13.333614Z",
     "shell.execute_reply.started": "2022-05-11T19:13:34.820291Z"
    },
    "papermill": {
     "duration": 0.025104,
     "end_time": "2022-05-11T19:19:13.334153",
     "exception": false,
     "start_time": "2022-05-11T19:19:13.309049",
     "status": "completed"
    },
    "tags": []
   },
   "outputs": [],
   "source": [
    "with open(os.path.join(data_root, 'scored_birds.json')) as fin:\n",
    "    test_birds = json.load(fin)"
   ]
  },
  {
   "cell_type": "code",
   "execution_count": 10,
   "id": "e3000dc8",
   "metadata": {
    "execution": {
     "iopub.execute_input": "2022-05-11T19:19:13.374987Z",
     "iopub.status.busy": "2022-05-11T19:19:13.373373Z",
     "iopub.status.idle": "2022-05-11T19:19:13.375613Z",
     "shell.execute_reply": "2022-05-11T19:19:13.376016Z",
     "shell.execute_reply.started": "2022-05-11T19:13:37.595004Z"
    },
    "papermill": {
     "duration": 0.027119,
     "end_time": "2022-05-11T19:19:13.376145",
     "exception": false,
     "start_time": "2022-05-11T19:19:13.349026",
     "status": "completed"
    },
    "tags": []
   },
   "outputs": [],
   "source": [
    "class Compose:\n",
    "    def __init__(self, transforms: list):\n",
    "        self.transforms = transforms\n",
    "\n",
    "    def __call__(self, y: np.ndarray, sr):\n",
    "        for trns in self.transforms:\n",
    "            y = trns(y, sr)\n",
    "        return y\n",
    "    \n",
    "    \n",
    "class AudioTransform:\n",
    "    def __init__(self, always_apply=False, p=0.5):\n",
    "        self.always_apply = always_apply\n",
    "        self.p = p\n",
    "\n",
    "    def __call__(self, y: np.ndarray, sr):\n",
    "        if self.always_apply:\n",
    "            return self.apply(y, sr=sr)\n",
    "        else:\n",
    "            if np.random.rand() < self.p:\n",
    "                return self.apply(y, sr=sr)\n",
    "            else:\n",
    "                return y\n",
    "\n",
    "    def apply(self, y: np.ndarray, **params):\n",
    "        raise NotImplementedError\n",
    "        \n",
    "        \n",
    "class Normalize(AudioTransform):\n",
    "    def __init__(self, always_apply=False, p=1):\n",
    "        super().__init__(always_apply, p)\n",
    "\n",
    "    def apply(self, y: np.ndarray, **params):\n",
    "        max_vol = np.abs(y).max()\n",
    "        y_vol = y / max_vol\n",
    "        assert not np.isnan(y_vol).any(), f'{max_vol}'\n",
    "        return y_vol"
   ]
  },
  {
   "cell_type": "code",
   "execution_count": 11,
   "id": "fbe040d4",
   "metadata": {
    "execution": {
     "iopub.execute_input": "2022-05-11T19:19:13.415389Z",
     "iopub.status.busy": "2022-05-11T19:19:13.413826Z",
     "iopub.status.idle": "2022-05-11T19:19:13.415983Z",
     "shell.execute_reply": "2022-05-11T19:19:13.416367Z",
     "shell.execute_reply.started": "2022-05-11T19:14:21.027342Z"
    },
    "papermill": {
     "duration": 0.025472,
     "end_time": "2022-05-11T19:19:13.416550",
     "exception": false,
     "start_time": "2022-05-11T19:19:13.391078",
     "status": "completed"
    },
    "tags": []
   },
   "outputs": [],
   "source": [
    "class TestDataset(Dataset):\n",
    "    def __init__(self, test_folder, augmentations=None):\n",
    "        super().__init__()\n",
    "        self.test_folder = test_folder\n",
    "        self.fnames = [f for f in os.listdir(test_folder) if f.endswith('.ogg')]\n",
    "        self.augmentations = augmentations\n",
    "        \n",
    "    def __len__(self):\n",
    "        return len(self.fnames)\n",
    "    \n",
    "    def __getitem__(self, idx):\n",
    "        fpath = os.path.join(self.test_folder, self.fnames[idx])\n",
    "        wav, sr = load_wav(fpath, 0, None)\n",
    "        if self.augmentations:\n",
    "            wav = self.augmentations(wav, None)\n",
    "        wav = torch.tensor(wav)\n",
    "        assert (13 * 5 * sr) > len(wav) \n",
    "        wav = wav[:len(wav) // 12 * 12].reshape((12, len(wav) // 12))\n",
    "        return wav"
   ]
  },
  {
   "cell_type": "code",
   "execution_count": 12,
   "id": "cb9edad8",
   "metadata": {
    "execution": {
     "iopub.execute_input": "2022-05-11T19:19:13.451406Z",
     "iopub.status.busy": "2022-05-11T19:19:13.450819Z",
     "iopub.status.idle": "2022-05-11T19:19:13.456250Z",
     "shell.execute_reply": "2022-05-11T19:19:13.455823Z",
     "shell.execute_reply.started": "2022-05-11T19:14:23.244046Z"
    },
    "papermill": {
     "duration": 0.024388,
     "end_time": "2022-05-11T19:19:13.456366",
     "exception": false,
     "start_time": "2022-05-11T19:19:13.431978",
     "status": "completed"
    },
    "tags": []
   },
   "outputs": [],
   "source": [
    "test_dataset = TestDataset(\n",
    "    os.path.join(data_root, 'test_soundscapes'),\n",
    "    Compose([Normalize(p=1)])\n",
    ")\n",
    "test_dataloader = DataLoader(\n",
    "    test_dataset,\n",
    "    batch_size=1,\n",
    "    shuffle=False,\n",
    "    num_workers=2,\n",
    "    drop_last=False,   \n",
    ")"
   ]
  },
  {
   "cell_type": "code",
   "execution_count": 13,
   "id": "01869753",
   "metadata": {
    "execution": {
     "iopub.execute_input": "2022-05-11T19:19:13.496601Z",
     "iopub.status.busy": "2022-05-11T19:19:13.495211Z",
     "iopub.status.idle": "2022-05-11T19:19:20.454859Z",
     "shell.execute_reply": "2022-05-11T19:19:20.455357Z",
     "shell.execute_reply.started": "2022-05-11T19:17:12.312208Z"
    },
    "papermill": {
     "duration": 6.984518,
     "end_time": "2022-05-11T19:19:20.455570",
     "exception": false,
     "start_time": "2022-05-11T19:19:13.471052",
     "status": "completed"
    },
    "tags": []
   },
   "outputs": [
    {
     "name": "stderr",
     "output_type": "stream",
     "text": [
      "1it [00:06,  6.89s/it]\n"
     ]
    }
   ],
   "source": [
    "pred_list = []\n",
    "treshold = 0.1\n",
    "model.eval()\n",
    "with torch.no_grad():\n",
    "    for i, batch in tqdm(enumerate(test_dataloader)):\n",
    "        batch_size, part_count, part_size = batch.shape\n",
    "        batch = batch.reshape(batch_size * part_count, part_size)\n",
    "        pred = model(batch.to(device))['logits']\n",
    "        pred = pred.cpu().numpy()\n",
    "        pred = pred > treshold\n",
    "        \n",
    "        for j, chunk_pred in enumerate(pred):\n",
    "            inbatch_number = j // part_count\n",
    "            chunk_number = j % part_count + 1\n",
    "            f_idx = i * batch_size + inbatch_number\n",
    "            fname = test_dataset.fnames[f_idx]\n",
    "            prefix = fname.split('.')[0]\n",
    "            sufix = f'{5 * chunk_number}'\n",
    "            \n",
    "            pred_list.extend([{\n",
    "                'row_id': '_'.join([prefix, b, sufix]),\n",
    "                'target': chunk_pred[species2id[b]]\n",
    "            } for b in test_birds])\n",
    "pred_pd = pd.DataFrame(pred_list)"
   ]
  },
  {
   "cell_type": "code",
   "execution_count": 14,
   "id": "93fbe8cb",
   "metadata": {
    "execution": {
     "iopub.execute_input": "2022-05-11T19:19:20.492636Z",
     "iopub.status.busy": "2022-05-11T19:19:20.491860Z",
     "iopub.status.idle": "2022-05-11T19:19:20.510149Z",
     "shell.execute_reply": "2022-05-11T19:19:20.510587Z",
     "shell.execute_reply.started": "2022-05-11T19:17:21.349259Z"
    },
    "papermill": {
     "duration": 0.038781,
     "end_time": "2022-05-11T19:19:20.510716",
     "exception": false,
     "start_time": "2022-05-11T19:19:20.471935",
     "status": "completed"
    },
    "tags": []
   },
   "outputs": [
    {
     "data": {
      "text/html": [
       "<div>\n",
       "<style scoped>\n",
       "    .dataframe tbody tr th:only-of-type {\n",
       "        vertical-align: middle;\n",
       "    }\n",
       "\n",
       "    .dataframe tbody tr th {\n",
       "        vertical-align: top;\n",
       "    }\n",
       "\n",
       "    .dataframe thead th {\n",
       "        text-align: right;\n",
       "    }\n",
       "</style>\n",
       "<table border=\"1\" class=\"dataframe\">\n",
       "  <thead>\n",
       "    <tr style=\"text-align: right;\">\n",
       "      <th></th>\n",
       "      <th>row_id</th>\n",
       "      <th>target</th>\n",
       "    </tr>\n",
       "  </thead>\n",
       "  <tbody>\n",
       "    <tr>\n",
       "      <th>0</th>\n",
       "      <td>soundscape_453028782_akiapo_5</td>\n",
       "      <td>False</td>\n",
       "    </tr>\n",
       "    <tr>\n",
       "      <th>1</th>\n",
       "      <td>soundscape_453028782_aniani_5</td>\n",
       "      <td>False</td>\n",
       "    </tr>\n",
       "    <tr>\n",
       "      <th>2</th>\n",
       "      <td>soundscape_453028782_apapan_5</td>\n",
       "      <td>False</td>\n",
       "    </tr>\n",
       "    <tr>\n",
       "      <th>3</th>\n",
       "      <td>soundscape_453028782_barpet_5</td>\n",
       "      <td>False</td>\n",
       "    </tr>\n",
       "    <tr>\n",
       "      <th>4</th>\n",
       "      <td>soundscape_453028782_crehon_5</td>\n",
       "      <td>False</td>\n",
       "    </tr>\n",
       "    <tr>\n",
       "      <th>...</th>\n",
       "      <td>...</td>\n",
       "      <td>...</td>\n",
       "    </tr>\n",
       "    <tr>\n",
       "      <th>247</th>\n",
       "      <td>soundscape_453028782_omao_60</td>\n",
       "      <td>False</td>\n",
       "    </tr>\n",
       "    <tr>\n",
       "      <th>248</th>\n",
       "      <td>soundscape_453028782_puaioh_60</td>\n",
       "      <td>False</td>\n",
       "    </tr>\n",
       "    <tr>\n",
       "      <th>249</th>\n",
       "      <td>soundscape_453028782_skylar_60</td>\n",
       "      <td>False</td>\n",
       "    </tr>\n",
       "    <tr>\n",
       "      <th>250</th>\n",
       "      <td>soundscape_453028782_warwhe1_60</td>\n",
       "      <td>False</td>\n",
       "    </tr>\n",
       "    <tr>\n",
       "      <th>251</th>\n",
       "      <td>soundscape_453028782_yefcan_60</td>\n",
       "      <td>False</td>\n",
       "    </tr>\n",
       "  </tbody>\n",
       "</table>\n",
       "<p>252 rows × 2 columns</p>\n",
       "</div>"
      ],
      "text/plain": [
       "                              row_id  target\n",
       "0      soundscape_453028782_akiapo_5   False\n",
       "1      soundscape_453028782_aniani_5   False\n",
       "2      soundscape_453028782_apapan_5   False\n",
       "3      soundscape_453028782_barpet_5   False\n",
       "4      soundscape_453028782_crehon_5   False\n",
       "..                               ...     ...\n",
       "247     soundscape_453028782_omao_60   False\n",
       "248   soundscape_453028782_puaioh_60   False\n",
       "249   soundscape_453028782_skylar_60   False\n",
       "250  soundscape_453028782_warwhe1_60   False\n",
       "251   soundscape_453028782_yefcan_60   False\n",
       "\n",
       "[252 rows x 2 columns]"
      ]
     },
     "execution_count": 14,
     "metadata": {},
     "output_type": "execute_result"
    }
   ],
   "source": [
    "pred_pd.to_csv(\"submission.csv\", index=False)\n",
    "pred_pd"
   ]
  }
 ],
 "metadata": {
  "kernelspec": {
   "display_name": "Python 3",
   "language": "python",
   "name": "python3"
  },
  "language_info": {
   "codemirror_mode": {
    "name": "ipython",
    "version": 3
   },
   "file_extension": ".py",
   "mimetype": "text/x-python",
   "name": "python",
   "nbconvert_exporter": "python",
   "pygments_lexer": "ipython3",
   "version": "3.7.12"
  },
  "papermill": {
   "default_parameters": {},
   "duration": 29.198091,
   "end_time": "2022-05-11T19:19:22.540053",
   "environment_variables": {},
   "exception": null,
   "input_path": "__notebook__.ipynb",
   "output_path": "__notebook__.ipynb",
   "parameters": {},
   "start_time": "2022-05-11T19:18:53.341962",
   "version": "2.3.3"
  }
 },
 "nbformat": 4,
 "nbformat_minor": 5
}
