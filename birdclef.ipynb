{
 "cells": [
  {
   "cell_type": "code",
   "execution_count": 1,
   "id": "aa36edcb",
   "metadata": {
    "_cell_guid": "b1076dfc-b9ad-4769-8c92-a6c4dae69d19",
    "_uuid": "8f2839f25d086af736a60e9eeb907d3b93b6e0e5",
    "execution": {
     "iopub.execute_input": "2022-04-26T21:11:35.832679Z",
     "iopub.status.busy": "2022-04-26T21:11:35.831927Z",
     "iopub.status.idle": "2022-04-26T21:11:40.882570Z",
     "shell.execute_reply": "2022-04-26T21:11:40.883121Z",
     "shell.execute_reply.started": "2022-04-26T19:52:17.133474Z"
    },
    "papermill": {
     "duration": 5.08505,
     "end_time": "2022-04-26T21:11:40.883387",
     "exception": false,
     "start_time": "2022-04-26T21:11:35.798337",
     "status": "completed"
    },
    "tags": []
   },
   "outputs": [],
   "source": [
    "# This Python 3 environment comes with many helpful analytics libraries installed\n",
    "# It is defined by the kaggle/python Docker image: https://github.com/kaggle/docker-python\n",
    "# For example, here's several helpful packages to load\n",
    "import sys\n",
    "sys.path.append('../input/timm-pytorch-image-models/pytorch-image-models-master')\n",
    "\n",
    "import numpy as np # linear algebra\n",
    "import pandas as pd # data processing, CSV file I/O (e.g. pd.read_csv)\n",
    "from matplotlib import pyplot as plt\n",
    "import json\n",
    "\n",
    "import librosa\n",
    "\n",
    "import torch\n",
    "import torchaudio as ta\n",
    "import timm\n",
    "\n",
    "from tqdm import tqdm\n",
    "\n",
    "# Input data files are available in the read-only \"../input/\" directory\n",
    "# For example, running this (by clicking run or pressing Shift+Enter) will list all files under the input directory\n",
    "\n",
    "import os\n",
    "# for dirname, _, filenames in os.walk('/kaggle/input'):\n",
    "#     for filename in filenames:\n",
    "#         print(os.path.join(dirname, filename))\n",
    "\n",
    "# You can write up to 20GB to the current directory (/kaggle/working/) that gets preserved as output when you create a version using \"Save & Run All\" \n",
    "# You can also write temporary files to /kaggle/temp/, but they won't be saved outside of the current session"
   ]
  },
  {
   "cell_type": "code",
   "execution_count": 2,
   "id": "a36eb4cd",
   "metadata": {
    "execution": {
     "iopub.execute_input": "2022-04-26T21:11:40.940945Z",
     "iopub.status.busy": "2022-04-26T21:11:40.940101Z",
     "iopub.status.idle": "2022-04-26T21:11:41.269592Z",
     "shell.execute_reply": "2022-04-26T21:11:41.270106Z",
     "shell.execute_reply.started": "2022-04-26T19:52:17.391523Z"
    },
    "papermill": {
     "duration": 0.35939,
     "end_time": "2022-04-26T21:11:41.270287",
     "exception": false,
     "start_time": "2022-04-26T21:11:40.910897",
     "status": "completed"
    },
    "tags": []
   },
   "outputs": [],
   "source": [
    "data_root = '/kaggle/input/birdclef-2022'\n",
    "train_meta = pd.read_csv(os.path.join(data_root, 'train_metadata.csv'))\n",
    "ebird_taxonomy = pd.read_csv(os.path.join(data_root, 'eBird_Taxonomy_v2021.csv'))"
   ]
  },
  {
   "cell_type": "code",
   "execution_count": 3,
   "id": "d58dcec4",
   "metadata": {
    "execution": {
     "iopub.execute_input": "2022-04-26T21:11:41.371793Z",
     "iopub.status.busy": "2022-04-26T21:11:41.335897Z",
     "iopub.status.idle": "2022-04-26T21:11:41.405454Z",
     "shell.execute_reply": "2022-04-26T21:11:41.404921Z",
     "shell.execute_reply.started": "2022-04-26T19:52:17.911847Z"
    },
    "papermill": {
     "duration": 0.111333,
     "end_time": "2022-04-26T21:11:41.405593",
     "exception": false,
     "start_time": "2022-04-26T21:11:41.294260",
     "status": "completed"
    },
    "tags": []
   },
   "outputs": [],
   "source": [
    "train_meta.loc[:, 'secondary_labels'] = train_meta.secondary_labels.apply(eval)\n",
    "train_meta['target_raw'] = train_meta.secondary_labels + train_meta.primary_label.apply(lambda x: [x])"
   ]
  },
  {
   "cell_type": "code",
   "execution_count": 4,
   "id": "6b8839e6",
   "metadata": {
    "execution": {
     "iopub.execute_input": "2022-04-26T21:11:41.851254Z",
     "iopub.status.busy": "2022-04-26T21:11:41.850529Z",
     "iopub.status.idle": "2022-04-26T21:11:42.250728Z",
     "shell.execute_reply": "2022-04-26T21:11:42.250214Z",
     "shell.execute_reply.started": "2022-04-26T19:52:18.331607Z"
    },
    "papermill": {
     "duration": 0.822035,
     "end_time": "2022-04-26T21:11:42.250867",
     "exception": false,
     "start_time": "2022-04-26T21:11:41.428832",
     "status": "completed"
    },
    "tags": []
   },
   "outputs": [],
   "source": [
    "all_species = sorted(set(train_meta.target_raw.sum()))\n",
    "species2id = {s: i for i, s in enumerate(all_species)}\n",
    "id2species = {i: s for i, s in enumerate(all_species)}\n",
    "\n",
    "train_meta['target'] = train_meta.target_raw.apply(lambda species: [int(s in species) for s in all_species])"
   ]
  },
  {
   "cell_type": "code",
   "execution_count": 5,
   "id": "73fd30ea",
   "metadata": {
    "execution": {
     "iopub.execute_input": "2022-04-26T21:11:42.297819Z",
     "iopub.status.busy": "2022-04-26T21:11:42.297248Z",
     "iopub.status.idle": "2022-04-26T21:11:42.299891Z",
     "shell.execute_reply": "2022-04-26T21:11:42.300293Z",
     "shell.execute_reply.started": "2022-04-26T19:52:19.074618Z"
    },
    "papermill": {
     "duration": 0.028373,
     "end_time": "2022-04-26T21:11:42.300410",
     "exception": false,
     "start_time": "2022-04-26T21:11:42.272037",
     "status": "completed"
    },
    "tags": []
   },
   "outputs": [],
   "source": [
    "def load_wav(fname, offset, duration):\n",
    "#     fname = 'afrsil1/XC125458.ogg'\n",
    "    fpath = os.path.join(data_root, 'train_audio', fname)\n",
    "    wav, sr = librosa.load(fpath, sr=None, duration=duration)\n",
    "    assert sr <= 32000, sr\n",
    "    return wav, sr"
   ]
  },
  {
   "cell_type": "code",
   "execution_count": 6,
   "id": "3475a0f0",
   "metadata": {
    "execution": {
     "iopub.execute_input": "2022-04-26T21:11:42.345028Z",
     "iopub.status.busy": "2022-04-26T21:11:42.344405Z",
     "iopub.status.idle": "2022-04-26T21:11:42.347038Z",
     "shell.execute_reply": "2022-04-26T21:11:42.346622Z",
     "shell.execute_reply.started": "2022-04-26T19:52:19.346369Z"
    },
    "papermill": {
     "duration": 0.026091,
     "end_time": "2022-04-26T21:11:42.347136",
     "exception": false,
     "start_time": "2022-04-26T21:11:42.321045",
     "status": "completed"
    },
    "tags": []
   },
   "outputs": [],
   "source": [
    "# %%time\n",
    "# duration = 30\n",
    "# sample_rate = 32000\n",
    "\n",
    "# wav, sr = load_wav('afrsil1/XC125458.ogg', 5, duration)\n",
    "# to_pad = duration * sample_rate - wav.shape[0]\n",
    "\n",
    "# if to_pad > 0:\n",
    "#     wav = np.pad(wav, (0, to_pad))\n",
    "\n"
   ]
  },
  {
   "cell_type": "markdown",
   "id": "e0bc7a85",
   "metadata": {
    "papermill": {
     "duration": 0.02061,
     "end_time": "2022-04-26T21:11:42.388357",
     "exception": false,
     "start_time": "2022-04-26T21:11:42.367747",
     "status": "completed"
    },
    "tags": []
   },
   "source": [
    "### Torch Dataset"
   ]
  },
  {
   "cell_type": "code",
   "execution_count": 7,
   "id": "f562213b",
   "metadata": {
    "execution": {
     "iopub.execute_input": "2022-04-26T21:11:42.439813Z",
     "iopub.status.busy": "2022-04-26T21:11:42.438174Z",
     "iopub.status.idle": "2022-04-26T21:11:42.440370Z",
     "shell.execute_reply": "2022-04-26T21:11:42.440796Z",
     "shell.execute_reply.started": "2022-04-26T19:52:20.442816Z"
    },
    "papermill": {
     "duration": 0.0315,
     "end_time": "2022-04-26T21:11:42.440918",
     "exception": false,
     "start_time": "2022-04-26T21:11:42.409418",
     "status": "completed"
    },
    "tags": []
   },
   "outputs": [],
   "source": [
    "from torch.utils.data import Dataset, DataLoader\n",
    "\n",
    "class BirdDataset(Dataset):\n",
    "    def __init__(self, df):\n",
    "        super().__init__()\n",
    "        self.df = df\n",
    "        \n",
    "    def __getitem__(self, idx):\n",
    "        duration = 30\n",
    "        sample_rate = 32000\n",
    "        \n",
    "        fname = self.df.iloc[idx]['filename']\n",
    "        # TODO: add random offset\n",
    "        wav, sr = load_wav(fname, 0, duration)\n",
    "        to_pad = duration * sample_rate - wav.shape[0]\n",
    "        if to_pad > 0:\n",
    "            wav = np.pad(wav, (0, to_pad))\n",
    "            \n",
    "        target = self.df.iloc[idx]['target']\n",
    "        \n",
    "        # TODO: add weighting\n",
    "            \n",
    "        wav = torch.tensor(wav)\n",
    "        target = torch.tensor(target, dtype=float)\n",
    "        return {\n",
    "            'wav': wav,\n",
    "            'target': target,\n",
    "        }\n",
    "\n",
    "    def __len__(self):\n",
    "        return len(self.df)"
   ]
  },
  {
   "cell_type": "markdown",
   "id": "af91b10b",
   "metadata": {
    "execution": {
     "iopub.execute_input": "2022-04-21T09:17:01.036366Z",
     "iopub.status.busy": "2022-04-21T09:17:01.036048Z",
     "iopub.status.idle": "2022-04-21T09:17:01.05202Z",
     "shell.execute_reply": "2022-04-21T09:17:01.050779Z",
     "shell.execute_reply.started": "2022-04-21T09:17:01.036334Z"
    },
    "papermill": {
     "duration": 0.020528,
     "end_time": "2022-04-26T21:11:42.483699",
     "exception": false,
     "start_time": "2022-04-26T21:11:42.463171",
     "status": "completed"
    },
    "tags": []
   },
   "source": [
    "### Model"
   ]
  },
  {
   "cell_type": "code",
   "execution_count": 8,
   "id": "b9d603f9",
   "metadata": {
    "execution": {
     "iopub.execute_input": "2022-04-26T21:11:42.538801Z",
     "iopub.status.busy": "2022-04-26T21:11:42.537885Z",
     "iopub.status.idle": "2022-04-26T21:11:42.541319Z",
     "shell.execute_reply": "2022-04-26T21:11:42.540899Z",
     "shell.execute_reply.started": "2022-04-26T19:52:21.185112Z"
    },
    "papermill": {
     "duration": 0.037166,
     "end_time": "2022-04-26T21:11:42.541421",
     "exception": false,
     "start_time": "2022-04-26T21:11:42.504255",
     "status": "completed"
    },
    "tags": []
   },
   "outputs": [],
   "source": [
    "class Net(torch.nn.Module):\n",
    "    def __init__(self, backbone_path=None):\n",
    "        super().__init__()\n",
    "        self.audio2image = self._init_audio2image()\n",
    "        self.backbone = self._init_backbone()\n",
    "        self.load_backbone(backbone_path)\n",
    "        self.head = self._init_head(self.backbone.feature_info[-1]['num_chs'])      \n",
    "        self.loss = torch.nn.BCEWithLogitsLoss()\n",
    "        \n",
    "    def forward(self, wav_tensor, y=None):\n",
    "        spectrogram = self.audio2image(wav_tensor)\n",
    "        spectrogram = spectrogram.permute(0, 2, 1)\n",
    "        spectrogram = spectrogram[:, None, :, :]\n",
    "        x = self.backbone(spectrogram)\n",
    "        logits = self.head(x)\n",
    "        \n",
    "        if y is not None:\n",
    "            loss = self.loss(logits, y)\n",
    "        else:\n",
    "            loss = None\n",
    "\n",
    "        return {'loss': loss, 'logits': logits.sigmoid()}\n",
    "\n",
    "    \n",
    "    @staticmethod\n",
    "    def _init_audio2image():\n",
    "        mel = ta.transforms.MelSpectrogram(\n",
    "            sample_rate=32000,\n",
    "            n_fft=2048,\n",
    "            win_length=2048,\n",
    "            hop_length=512,\n",
    "            f_min=16,\n",
    "            f_max=16386,\n",
    "            pad=0,\n",
    "            n_mels=256,\n",
    "            power=2,\n",
    "            normalized=False,\n",
    "        )\n",
    "        db_scale = ta.transforms.AmplitudeToDB(top_db=80.0)\n",
    "        audio2image = torch.nn.Sequential(mel, db_scale)\n",
    "        return audio2image\n",
    "    \n",
    "    @staticmethod\n",
    "    def _init_backbone():\n",
    "        backbone = \"resnet18\"\n",
    "        pretrained = False\n",
    "        pretrained_weights = None\n",
    "        train = True\n",
    "        val = False\n",
    "        in_chans = 1\n",
    "\n",
    "        backbone = timm.create_model(\n",
    "            backbone,\n",
    "            pretrained=pretrained,\n",
    "            num_classes=0,\n",
    "            global_pool=\"\",\n",
    "            in_chans=in_chans,\n",
    "        )\n",
    "        return backbone\n",
    "    \n",
    "    @staticmethod\n",
    "    def _init_head(num_chs):\n",
    "        head = torch.nn.Sequential(\n",
    "            torch.nn.AdaptiveAvgPool2d(output_size=1),\n",
    "            torch.nn.Flatten(),\n",
    "            torch.nn.Linear(num_chs, len(all_species))\n",
    "        )\n",
    "        return head\n",
    "    \n",
    "    def load_backbone(self, weights_path=None):\n",
    "        if weights_path:\n",
    "            state_dict=torch.load(weights_path)\n",
    "            conv1_weight = state_dict['conv1.weight']\n",
    "            state_dict['conv1.weight'] = conv1_weight.sum(dim=1, keepdim=True)\n",
    "            state_dict.pop('fc.bias')\n",
    "            state_dict.pop('fc.weight')\n",
    "            self.backbone.load_state_dict(state_dict)\n",
    "        "
   ]
  },
  {
   "cell_type": "markdown",
   "id": "ee736fe3",
   "metadata": {
    "papermill": {
     "duration": 0.020724,
     "end_time": "2022-04-26T21:11:42.582889",
     "exception": false,
     "start_time": "2022-04-26T21:11:42.562165",
     "status": "completed"
    },
    "tags": []
   },
   "source": [
    "### Train loop"
   ]
  },
  {
   "cell_type": "code",
   "execution_count": 9,
   "id": "2e53721d",
   "metadata": {
    "execution": {
     "iopub.execute_input": "2022-04-26T21:11:42.629058Z",
     "iopub.status.busy": "2022-04-26T21:11:42.628547Z",
     "iopub.status.idle": "2022-04-26T21:11:42.635096Z",
     "shell.execute_reply": "2022-04-26T21:11:42.635630Z",
     "shell.execute_reply.started": "2022-04-26T19:52:22.041768Z"
    },
    "papermill": {
     "duration": 0.032053,
     "end_time": "2022-04-26T21:11:42.635759",
     "exception": false,
     "start_time": "2022-04-26T21:11:42.603706",
     "status": "completed"
    },
    "tags": []
   },
   "outputs": [],
   "source": [
    "with open('../input/timm-pretrained-resnet/index.json') as fin:\n",
    "    timm_index = json.load(fin)\n",
    "resnet_path = os.path.join('../input/timm-pretrained-resnet/resnet', timm_index['resnet']['resnet18'])"
   ]
  },
  {
   "cell_type": "code",
   "execution_count": 10,
   "id": "3681bc9a",
   "metadata": {
    "execution": {
     "iopub.execute_input": "2022-04-26T21:11:42.681036Z",
     "iopub.status.busy": "2022-04-26T21:11:42.678969Z",
     "iopub.status.idle": "2022-04-26T21:11:42.683726Z",
     "shell.execute_reply": "2022-04-26T21:11:42.684094Z",
     "shell.execute_reply.started": "2022-04-26T19:52:22.401590Z"
    },
    "papermill": {
     "duration": 0.027718,
     "end_time": "2022-04-26T21:11:42.684208",
     "exception": false,
     "start_time": "2022-04-26T21:11:42.656490",
     "status": "completed"
    },
    "tags": []
   },
   "outputs": [],
   "source": [
    "from sklearn.model_selection import train_test_split\n",
    "from sklearn.metrics import f1_score"
   ]
  },
  {
   "cell_type": "code",
   "execution_count": 11,
   "id": "d05b93d7",
   "metadata": {
    "execution": {
     "iopub.execute_input": "2022-04-26T21:11:42.734196Z",
     "iopub.status.busy": "2022-04-26T21:11:42.733331Z",
     "iopub.status.idle": "2022-04-26T21:11:42.742848Z",
     "shell.execute_reply": "2022-04-26T21:11:42.742417Z",
     "shell.execute_reply.started": "2022-04-26T19:52:22.991908Z"
    },
    "papermill": {
     "duration": 0.037636,
     "end_time": "2022-04-26T21:11:42.742957",
     "exception": false,
     "start_time": "2022-04-26T21:11:42.705321",
     "status": "completed"
    },
    "tags": []
   },
   "outputs": [],
   "source": [
    "train_meta, val_meta = train_test_split(train_meta, test_size=0.2)"
   ]
  },
  {
   "cell_type": "code",
   "execution_count": 12,
   "id": "a4ef7f73",
   "metadata": {
    "execution": {
     "iopub.execute_input": "2022-04-26T21:11:42.791982Z",
     "iopub.status.busy": "2022-04-26T21:11:42.791330Z",
     "iopub.status.idle": "2022-04-26T21:11:46.372336Z",
     "shell.execute_reply": "2022-04-26T21:11:46.371836Z",
     "shell.execute_reply.started": "2022-04-26T19:52:28.511588Z"
    },
    "papermill": {
     "duration": 3.608705,
     "end_time": "2022-04-26T21:11:46.372517",
     "exception": false,
     "start_time": "2022-04-26T21:11:42.763812",
     "status": "completed"
    },
    "tags": []
   },
   "outputs": [],
   "source": [
    "model = Net(resnet_path)\n",
    "train_dataset = BirdDataset(train_meta)\n",
    "train_dataloader = DataLoader(\n",
    "    train_dataset,\n",
    "    batch_size=64,\n",
    "    shuffle=True,\n",
    "    num_workers=2,\n",
    "    pin_memory=False,\n",
    "    drop_last=True,\n",
    ")\n",
    "\n",
    "val_dataset = BirdDataset(val_meta)\n",
    "val_dataloader = DataLoader(\n",
    "    val_dataset,\n",
    "    batch_size=64,\n",
    "    shuffle=False,\n",
    "    num_workers=2,\n",
    "    pin_memory=False,\n",
    "    drop_last=False,\n",
    ")\n",
    "\n",
    "device = torch.device('cuda' if torch.cuda.is_available() else 'cpu')\n",
    "model.to(device)\n",
    "optimizer = torch.optim.Adam(model.parameters())"
   ]
  },
  {
   "cell_type": "code",
   "execution_count": 13,
   "id": "7764169f",
   "metadata": {
    "execution": {
     "iopub.execute_input": "2022-04-26T21:11:46.432011Z",
     "iopub.status.busy": "2022-04-26T21:11:46.430862Z",
     "iopub.status.idle": "2022-04-26T21:11:46.433012Z",
     "shell.execute_reply": "2022-04-26T21:11:46.433443Z",
     "shell.execute_reply.started": "2022-04-26T19:55:03.814221Z"
    },
    "papermill": {
     "duration": 0.036414,
     "end_time": "2022-04-26T21:11:46.433613",
     "exception": false,
     "start_time": "2022-04-26T21:11:46.397199",
     "status": "completed"
    },
    "tags": []
   },
   "outputs": [],
   "source": [
    "def train_epoch(model, optimizer, dataloader, device):\n",
    "    tqdm_dataloader = tqdm(dataloader)\n",
    "    loss_list = []\n",
    "    model.train()\n",
    "    for batch in tqdm_dataloader:\n",
    "        loss = model(batch['wav'].to(device), batch['target'].to(device))['loss']\n",
    "        optimizer.zero_grad()\n",
    "        loss.backward()\n",
    "        optimizer.step()\n",
    "        loss_list.append(loss.item())\n",
    "    return loss_list\n",
    "    \n",
    "\n",
    "def val_epoch(model, dataloader, device):\n",
    "    tqdm_dataloader = tqdm(dataloader)\n",
    "    loss_list = []\n",
    "    model.eval()\n",
    "    y_true = None\n",
    "    y_pred = None\n",
    "    \n",
    "    for batch in tqdm_dataloader:\n",
    "        logits = model(batch['wav'].to(device))['logits']\n",
    "        batch_target = batch['target'].cpu().numpy()\n",
    "        batch_pred = logits.cpu().numpy()\n",
    "        \n",
    "        if y_true is None:\n",
    "            y_true = batch_target\n",
    "            y_pred = batch_pred\n",
    "        else:\n",
    "            y_true = np.vstack((y_true, batch_target))\n",
    "            y_pred = np.vstack((y_pred, batch_pred))\n",
    "        \n",
    "    return y_true, y_pred\n",
    "    "
   ]
  },
  {
   "cell_type": "code",
   "execution_count": 14,
   "id": "55acfc81",
   "metadata": {
    "execution": {
     "iopub.execute_input": "2022-04-26T21:11:46.484568Z",
     "iopub.status.busy": "2022-04-26T21:11:46.483687Z",
     "iopub.status.idle": "2022-04-26T21:11:46.485613Z",
     "shell.execute_reply": "2022-04-26T21:11:46.486034Z",
     "shell.execute_reply.started": "2022-04-26T19:59:13.640632Z"
    },
    "papermill": {
     "duration": 0.029297,
     "end_time": "2022-04-26T21:11:46.486181",
     "exception": false,
     "start_time": "2022-04-26T21:11:46.456884",
     "status": "completed"
    },
    "tags": []
   },
   "outputs": [],
   "source": [
    "def score_pred(y_true, y_pred, trsh):\n",
    "    score_dict = {f'{t}-f1': f1_score(y_true, y_pred > t, average='macro') for t in trsh}\n",
    "    return score_dict"
   ]
  },
  {
   "cell_type": "code",
   "execution_count": 15,
   "id": "cc9cd987",
   "metadata": {
    "execution": {
     "iopub.execute_input": "2022-04-26T21:11:46.535154Z",
     "iopub.status.busy": "2022-04-26T21:11:46.532263Z",
     "iopub.status.idle": "2022-04-26T21:40:46.816073Z",
     "shell.execute_reply": "2022-04-26T21:40:46.816438Z",
     "shell.execute_reply.started": "2022-04-26T20:10:51.327099Z"
    },
    "papermill": {
     "duration": 1740.308803,
     "end_time": "2022-04-26T21:40:46.816687",
     "exception": false,
     "start_time": "2022-04-26T21:11:46.507884",
     "status": "completed"
    },
    "tags": []
   },
   "outputs": [
    {
     "name": "stderr",
     "output_type": "stream",
     "text": [
      "100%|██████████| 185/185 [08:15<00:00,  2.68s/it]\n"
     ]
    },
    {
     "name": "stdout",
     "output_type": "stream",
     "text": [
      "0 train loss:\t0.046\n"
     ]
    },
    {
     "name": "stderr",
     "output_type": "stream",
     "text": [
      "100%|██████████| 47/47 [01:52<00:00,  2.40s/it]\n",
      "/opt/conda/lib/python3.7/site-packages/sklearn/metrics/_classification.py:1570: UndefinedMetricWarning: F-score is ill-defined and being set to 0.0 in labels with no true nor predicted samples. Use `zero_division` parameter to control this behavior.\n",
      "  _warn_prf(average, \"true nor predicted\", \"F-score is\", len(true_sum))\n",
      "/opt/conda/lib/python3.7/site-packages/sklearn/metrics/_classification.py:1570: UndefinedMetricWarning: F-score is ill-defined and being set to 0.0 in labels with no true nor predicted samples. Use `zero_division` parameter to control this behavior.\n",
      "  _warn_prf(average, \"true nor predicted\", \"F-score is\", len(true_sum))\n",
      "/opt/conda/lib/python3.7/site-packages/sklearn/metrics/_classification.py:1570: UndefinedMetricWarning: F-score is ill-defined and being set to 0.0 in labels with no true nor predicted samples. Use `zero_division` parameter to control this behavior.\n",
      "  _warn_prf(average, \"true nor predicted\", \"F-score is\", len(true_sum))\n",
      "/opt/conda/lib/python3.7/site-packages/sklearn/metrics/_classification.py:1570: UndefinedMetricWarning: F-score is ill-defined and being set to 0.0 in labels with no true nor predicted samples. Use `zero_division` parameter to control this behavior.\n",
      "  _warn_prf(average, \"true nor predicted\", \"F-score is\", len(true_sum))\n"
     ]
    },
    {
     "name": "stdout",
     "output_type": "stream",
     "text": [
      "0 val scores:\n",
      "\t0.3-f1: 0.04870736547273653\n",
      "\t0.4-f1: 0.04036887051702809\n",
      "\t0.6-f1: 0.03024010811455637\n",
      "\t0.5-f1: 0.034113672746808134\n"
     ]
    },
    {
     "name": "stderr",
     "output_type": "stream",
     "text": [
      "100%|██████████| 185/185 [07:32<00:00,  2.44s/it]\n"
     ]
    },
    {
     "name": "stdout",
     "output_type": "stream",
     "text": [
      "1 train loss:\t0.025\n"
     ]
    },
    {
     "name": "stderr",
     "output_type": "stream",
     "text": [
      "100%|██████████| 47/47 [01:43<00:00,  2.21s/it]\n",
      "/opt/conda/lib/python3.7/site-packages/sklearn/metrics/_classification.py:1570: UndefinedMetricWarning: F-score is ill-defined and being set to 0.0 in labels with no true nor predicted samples. Use `zero_division` parameter to control this behavior.\n",
      "  _warn_prf(average, \"true nor predicted\", \"F-score is\", len(true_sum))\n",
      "/opt/conda/lib/python3.7/site-packages/sklearn/metrics/_classification.py:1570: UndefinedMetricWarning: F-score is ill-defined and being set to 0.0 in labels with no true nor predicted samples. Use `zero_division` parameter to control this behavior.\n",
      "  _warn_prf(average, \"true nor predicted\", \"F-score is\", len(true_sum))\n",
      "/opt/conda/lib/python3.7/site-packages/sklearn/metrics/_classification.py:1570: UndefinedMetricWarning: F-score is ill-defined and being set to 0.0 in labels with no true nor predicted samples. Use `zero_division` parameter to control this behavior.\n",
      "  _warn_prf(average, \"true nor predicted\", \"F-score is\", len(true_sum))\n",
      "/opt/conda/lib/python3.7/site-packages/sklearn/metrics/_classification.py:1570: UndefinedMetricWarning: F-score is ill-defined and being set to 0.0 in labels with no true nor predicted samples. Use `zero_division` parameter to control this behavior.\n",
      "  _warn_prf(average, \"true nor predicted\", \"F-score is\", len(true_sum))\n"
     ]
    },
    {
     "name": "stdout",
     "output_type": "stream",
     "text": [
      "1 val scores:\n",
      "\t0.3-f1: 0.12137975558044549\n",
      "\t0.4-f1: 0.10521398707178908\n",
      "\t0.6-f1: 0.07712005314810362\n",
      "\t0.5-f1: 0.09012824593045905\n"
     ]
    },
    {
     "name": "stderr",
     "output_type": "stream",
     "text": [
      "100%|██████████| 185/185 [07:47<00:00,  2.53s/it]\n"
     ]
    },
    {
     "name": "stdout",
     "output_type": "stream",
     "text": [
      "2 train loss:\t0.020\n"
     ]
    },
    {
     "name": "stderr",
     "output_type": "stream",
     "text": [
      "100%|██████████| 47/47 [01:47<00:00,  2.29s/it]\n",
      "/opt/conda/lib/python3.7/site-packages/sklearn/metrics/_classification.py:1570: UndefinedMetricWarning: F-score is ill-defined and being set to 0.0 in labels with no true nor predicted samples. Use `zero_division` parameter to control this behavior.\n",
      "  _warn_prf(average, \"true nor predicted\", \"F-score is\", len(true_sum))\n",
      "/opt/conda/lib/python3.7/site-packages/sklearn/metrics/_classification.py:1570: UndefinedMetricWarning: F-score is ill-defined and being set to 0.0 in labels with no true nor predicted samples. Use `zero_division` parameter to control this behavior.\n",
      "  _warn_prf(average, \"true nor predicted\", \"F-score is\", len(true_sum))\n",
      "/opt/conda/lib/python3.7/site-packages/sklearn/metrics/_classification.py:1570: UndefinedMetricWarning: F-score is ill-defined and being set to 0.0 in labels with no true nor predicted samples. Use `zero_division` parameter to control this behavior.\n",
      "  _warn_prf(average, \"true nor predicted\", \"F-score is\", len(true_sum))\n"
     ]
    },
    {
     "name": "stdout",
     "output_type": "stream",
     "text": [
      "2 val scores:\n",
      "\t0.3-f1: 0.17185787736889\n",
      "\t0.4-f1: 0.1514687263012919\n",
      "\t0.6-f1: 0.12393036699056363\n",
      "\t0.5-f1: 0.13934165056512846\n"
     ]
    },
    {
     "name": "stderr",
     "output_type": "stream",
     "text": [
      "/opt/conda/lib/python3.7/site-packages/sklearn/metrics/_classification.py:1570: UndefinedMetricWarning: F-score is ill-defined and being set to 0.0 in labels with no true nor predicted samples. Use `zero_division` parameter to control this behavior.\n",
      "  _warn_prf(average, \"true nor predicted\", \"F-score is\", len(true_sum))\n"
     ]
    }
   ],
   "source": [
    "\n",
    "epochs = 3\n",
    "model.to(device)\n",
    "for e in range(epochs):\n",
    "    epoch_loss = train_epoch(model, optimizer, train_dataloader, device)\n",
    "    print(f'{e} train loss:', f'{np.mean(epoch_loss):.3f}', sep='\\t')\n",
    "    with torch.no_grad():\n",
    "        y_true, y_pred = val_epoch(model, val_dataloader, device)\n",
    "    score_dict = score_pred(y_true, y_pred, trsh={0.3, 0.4, 0.5, 0.6})\n",
    "    print(f'{e} val scores:')\n",
    "    print(*[f'\\t{case}: {case_score}' for case, case_score in score_dict.items()], sep='\\n')\n"
   ]
  },
  {
   "cell_type": "markdown",
   "id": "d76a8c09",
   "metadata": {
    "papermill": {
     "duration": 0.259221,
     "end_time": "2022-04-26T21:40:47.327957",
     "exception": false,
     "start_time": "2022-04-26T21:40:47.068736",
     "status": "completed"
    },
    "tags": []
   },
   "source": [
    "### Submit"
   ]
  },
  {
   "cell_type": "code",
   "execution_count": 16,
   "id": "8af8ad0b",
   "metadata": {
    "execution": {
     "iopub.execute_input": "2022-04-26T21:40:47.842343Z",
     "iopub.status.busy": "2022-04-26T21:40:47.841625Z",
     "iopub.status.idle": "2022-04-26T21:40:47.847613Z",
     "shell.execute_reply": "2022-04-26T21:40:47.847093Z",
     "shell.execute_reply.started": "2022-04-26T21:09:02.513736Z"
    },
    "papermill": {
     "duration": 0.26513,
     "end_time": "2022-04-26T21:40:47.847736",
     "exception": false,
     "start_time": "2022-04-26T21:40:47.582606",
     "status": "completed"
    },
    "tags": []
   },
   "outputs": [],
   "source": [
    "with open(os.path.join(data_root, 'scored_birds.json')) as fin:\n",
    "    test_birds = json.load(fin)"
   ]
  },
  {
   "cell_type": "code",
   "execution_count": 17,
   "id": "4c70c180",
   "metadata": {
    "execution": {
     "iopub.execute_input": "2022-04-26T21:40:48.352810Z",
     "iopub.status.busy": "2022-04-26T21:40:48.352151Z",
     "iopub.status.idle": "2022-04-26T21:40:48.355730Z",
     "shell.execute_reply": "2022-04-26T21:40:48.355247Z",
     "shell.execute_reply.started": "2022-04-26T21:09:04.323676Z"
    },
    "papermill": {
     "duration": 0.249683,
     "end_time": "2022-04-26T21:40:48.355842",
     "exception": false,
     "start_time": "2022-04-26T21:40:48.106159",
     "status": "completed"
    },
    "tags": []
   },
   "outputs": [],
   "source": [
    "class TestDataset(Dataset):\n",
    "    def __init__(self, test_folder):\n",
    "        super().__init__()\n",
    "        self.test_folder = test_folder\n",
    "        self.fnames = [f for f in os.listdir(test_folder) if f.endswith('.ogg')]\n",
    "        \n",
    "    def __len__(self):\n",
    "        return len(self.fnames)\n",
    "    \n",
    "    def __getitem__(self, idx):\n",
    "        fpath = os.path.join(self.test_folder, self.fnames[idx])\n",
    "        wav, sr = load_wav(fpath, 0, None)\n",
    "        wav = torch.tensor(wav)\n",
    "        assert (13 * 5 * sr) > len(wav) \n",
    "        wav = wav[:len(wav) // 12 * 12].reshape((12, len(wav) // 12))\n",
    "        return wav"
   ]
  },
  {
   "cell_type": "code",
   "execution_count": 18,
   "id": "60a0e394",
   "metadata": {
    "execution": {
     "iopub.execute_input": "2022-04-26T21:40:48.840887Z",
     "iopub.status.busy": "2022-04-26T21:40:48.840281Z",
     "iopub.status.idle": "2022-04-26T21:40:48.845774Z",
     "shell.execute_reply": "2022-04-26T21:40:48.845294Z",
     "shell.execute_reply.started": "2022-04-26T21:09:06.035080Z"
    },
    "papermill": {
     "duration": 0.250618,
     "end_time": "2022-04-26T21:40:48.845890",
     "exception": false,
     "start_time": "2022-04-26T21:40:48.595272",
     "status": "completed"
    },
    "tags": []
   },
   "outputs": [],
   "source": [
    "test_dataset = TestDataset(os.path.join(data_root, 'test_soundscapes'))\n",
    "test_dataloader = DataLoader(\n",
    "    test_dataset,\n",
    "    batch_size=1,\n",
    "    shuffle=False,\n",
    "    num_workers=2,\n",
    "    drop_last=False,   \n",
    ")"
   ]
  },
  {
   "cell_type": "code",
   "execution_count": 19,
   "id": "eb85c821",
   "metadata": {
    "execution": {
     "iopub.execute_input": "2022-04-26T21:40:49.624022Z",
     "iopub.status.busy": "2022-04-26T21:40:49.623160Z",
     "iopub.status.idle": "2022-04-26T21:40:49.856213Z",
     "shell.execute_reply": "2022-04-26T21:40:49.856669Z",
     "shell.execute_reply.started": "2022-04-26T21:09:22.267799Z"
    },
    "papermill": {
     "duration": 0.716493,
     "end_time": "2022-04-26T21:40:49.856813",
     "exception": false,
     "start_time": "2022-04-26T21:40:49.140320",
     "status": "completed"
    },
    "tags": []
   },
   "outputs": [
    {
     "name": "stderr",
     "output_type": "stream",
     "text": [
      "1it [00:00,  6.59it/s]\n"
     ]
    }
   ],
   "source": [
    "pred_list = []\n",
    "treshold = 0.1\n",
    "model.eval()\n",
    "with torch.no_grad():\n",
    "    for i, batch in tqdm(enumerate(test_dataloader)):\n",
    "        batch_size, part_count, part_size = batch.shape\n",
    "        batch = batch.reshape(batch_size * part_count, part_size)\n",
    "        pred = model(batch.to(device))['logits']\n",
    "        pred = pred.cpu().numpy()\n",
    "        pred = pred > treshold\n",
    "        \n",
    "        for j, chunk_pred in enumerate(pred):\n",
    "            inbatch_number = j // part_count\n",
    "            chunk_number = j % part_count + 1\n",
    "            f_idx = i * batch_size + inbatch_number\n",
    "            fname = test_dataset.fnames[f_idx]\n",
    "            prefix = fname.split('.')[0]\n",
    "            sufix = f'{5 * chunk_number}'\n",
    "            \n",
    "            pred_list.extend([{\n",
    "                'row_id': '_'.join([prefix, b, sufix]),\n",
    "                'target': chunk_pred[species2id[b]]\n",
    "            } for b in test_birds])\n",
    "pred_pd = pd.DataFrame(pred_list)"
   ]
  },
  {
   "cell_type": "code",
   "execution_count": 20,
   "id": "b9df0b55",
   "metadata": {
    "execution": {
     "iopub.execute_input": "2022-04-26T21:40:50.344521Z",
     "iopub.status.busy": "2022-04-26T21:40:50.343716Z",
     "iopub.status.idle": "2022-04-26T21:40:50.363120Z",
     "shell.execute_reply": "2022-04-26T21:40:50.363554Z",
     "shell.execute_reply.started": "2022-04-26T21:09:23.725397Z"
    },
    "papermill": {
     "duration": 0.264301,
     "end_time": "2022-04-26T21:40:50.363721",
     "exception": false,
     "start_time": "2022-04-26T21:40:50.099420",
     "status": "completed"
    },
    "tags": []
   },
   "outputs": [
    {
     "data": {
      "text/html": [
       "<div>\n",
       "<style scoped>\n",
       "    .dataframe tbody tr th:only-of-type {\n",
       "        vertical-align: middle;\n",
       "    }\n",
       "\n",
       "    .dataframe tbody tr th {\n",
       "        vertical-align: top;\n",
       "    }\n",
       "\n",
       "    .dataframe thead th {\n",
       "        text-align: right;\n",
       "    }\n",
       "</style>\n",
       "<table border=\"1\" class=\"dataframe\">\n",
       "  <thead>\n",
       "    <tr style=\"text-align: right;\">\n",
       "      <th></th>\n",
       "      <th>row_id</th>\n",
       "      <th>target</th>\n",
       "    </tr>\n",
       "  </thead>\n",
       "  <tbody>\n",
       "    <tr>\n",
       "      <th>0</th>\n",
       "      <td>soundscape_453028782_akiapo_5</td>\n",
       "      <td>False</td>\n",
       "    </tr>\n",
       "    <tr>\n",
       "      <th>1</th>\n",
       "      <td>soundscape_453028782_aniani_5</td>\n",
       "      <td>False</td>\n",
       "    </tr>\n",
       "    <tr>\n",
       "      <th>2</th>\n",
       "      <td>soundscape_453028782_apapan_5</td>\n",
       "      <td>False</td>\n",
       "    </tr>\n",
       "    <tr>\n",
       "      <th>3</th>\n",
       "      <td>soundscape_453028782_barpet_5</td>\n",
       "      <td>False</td>\n",
       "    </tr>\n",
       "    <tr>\n",
       "      <th>4</th>\n",
       "      <td>soundscape_453028782_crehon_5</td>\n",
       "      <td>False</td>\n",
       "    </tr>\n",
       "    <tr>\n",
       "      <th>...</th>\n",
       "      <td>...</td>\n",
       "      <td>...</td>\n",
       "    </tr>\n",
       "    <tr>\n",
       "      <th>247</th>\n",
       "      <td>soundscape_453028782_omao_60</td>\n",
       "      <td>False</td>\n",
       "    </tr>\n",
       "    <tr>\n",
       "      <th>248</th>\n",
       "      <td>soundscape_453028782_puaioh_60</td>\n",
       "      <td>False</td>\n",
       "    </tr>\n",
       "    <tr>\n",
       "      <th>249</th>\n",
       "      <td>soundscape_453028782_skylar_60</td>\n",
       "      <td>False</td>\n",
       "    </tr>\n",
       "    <tr>\n",
       "      <th>250</th>\n",
       "      <td>soundscape_453028782_warwhe1_60</td>\n",
       "      <td>False</td>\n",
       "    </tr>\n",
       "    <tr>\n",
       "      <th>251</th>\n",
       "      <td>soundscape_453028782_yefcan_60</td>\n",
       "      <td>False</td>\n",
       "    </tr>\n",
       "  </tbody>\n",
       "</table>\n",
       "<p>252 rows × 2 columns</p>\n",
       "</div>"
      ],
      "text/plain": [
       "                              row_id  target\n",
       "0      soundscape_453028782_akiapo_5   False\n",
       "1      soundscape_453028782_aniani_5   False\n",
       "2      soundscape_453028782_apapan_5   False\n",
       "3      soundscape_453028782_barpet_5   False\n",
       "4      soundscape_453028782_crehon_5   False\n",
       "..                               ...     ...\n",
       "247     soundscape_453028782_omao_60   False\n",
       "248   soundscape_453028782_puaioh_60   False\n",
       "249   soundscape_453028782_skylar_60   False\n",
       "250  soundscape_453028782_warwhe1_60   False\n",
       "251   soundscape_453028782_yefcan_60   False\n",
       "\n",
       "[252 rows x 2 columns]"
      ]
     },
     "execution_count": 20,
     "metadata": {},
     "output_type": "execute_result"
    }
   ],
   "source": [
    "pred_pd.to_csv(\"submission.csv\", index=False)\n",
    "pred_pd"
   ]
  },
  {
   "cell_type": "code",
   "execution_count": 21,
   "id": "1cd7cfdf",
   "metadata": {
    "execution": {
     "iopub.execute_input": "2022-04-26T21:40:50.849977Z",
     "iopub.status.busy": "2022-04-26T21:40:50.848807Z",
     "iopub.status.idle": "2022-04-26T21:40:50.851462Z",
     "shell.execute_reply": "2022-04-26T21:40:50.851995Z",
     "shell.execute_reply.started": "2022-04-23T15:00:22.026291Z"
    },
    "papermill": {
     "duration": 0.249257,
     "end_time": "2022-04-26T21:40:50.852141",
     "exception": false,
     "start_time": "2022-04-26T21:40:50.602884",
     "status": "completed"
    },
    "tags": []
   },
   "outputs": [],
   "source": [
    "# def chunk_wav(wav, sr, window_size):\n",
    "#     chunks_count = len(wav) // (window_size * sr)\n",
    "#     chunk_size = window_size * sr\n",
    "#     chunks = []\n",
    "#     for chunk_idx in range(chunks_count):\n",
    "#         left = chunk_idx * sr\n",
    "#         right = min(left + chunk_size, len(wav))\n",
    "#         chunks.append(wav[left:right])\n",
    "#     chunk_tensor = torch.tensor(chunks)\n",
    "#     return chunk_tensor\n",
    "\n",
    "# file_list = os.listdir(os.path.join(data_root, 'test_soundscapes'))\n",
    "\n",
    "# # This is where we will store our results\n",
    "# treshold = 0.5\n",
    "# pred = {'row_id': [], 'target': []}\n",
    "# model.eval()\n",
    "# with torch.no_grad():\n",
    "#     # Process audio files and make predictions\n",
    "#     for fname in file_list:\n",
    "#         prefix = fname.split('.')[0]\n",
    "#         # Complete file path\n",
    "#         fpath = os.path.join(data_root, 'test_soundscapes', fname)\n",
    "#         wav, sr = load_wav(fpath, 0, None)\n",
    "#         chunk_tensor = chunk_wav(wav, sr, window_size=5)\n",
    "\n",
    "#         # Open file with librosa and split signal into 5-second chunks\n",
    "#         # sig, rate = librosa.load(path)\n",
    "#         # ...\n",
    "\n",
    "#         # Let's assume we have a list of 12 audio chunks (1min / 5s == 12 segments)\n",
    "#         chunk_score = model(chunk_tensor.to(device))['logits'].cpu().numpy()\n",
    "\n",
    "#         # Make prediction for each chunk\n",
    "#         # Each scored bird gets a random value in our case\n",
    "#         # since we don't actually have a model\n",
    "#         for i, all_score in enumerate(chunk_score):        \n",
    "#             chunk_end_time = (i + 1) * 5\n",
    "#             for bird in test_birds:\n",
    "\n",
    "#                 # This is our random prediction score for this bird\n",
    "#                 bird_score = all_score[species2id[bird]]\n",
    "\n",
    "#                 # Assemble the row_id which we need to do for each scored bird\n",
    "#                 row_id = prefix + '_' + bird + '_' + str(chunk_end_time)\n",
    "\n",
    "#                 # Put the result into our prediction dict and\n",
    "#                 # apply a \"confidence\" threshold of 0.5\n",
    "#                 pred['row_id'].append(row_id)\n",
    "#                 pred['target'].append(True if bird_score > treshold else False)\n",
    "\n",
    "\n",
    "# # Make a new data frame and look at some results        \n",
    "# results = pd.DataFrame(pred, columns = ['row_id', 'target'])\n",
    "\n",
    "# # Quick sanity check\n",
    "# print(results.head()) \n",
    "    \n",
    "# # Convert our results to csv\n",
    "# results.to_csv(\"submission.csv\", index=False)    "
   ]
  },
  {
   "cell_type": "code",
   "execution_count": 22,
   "id": "536dea44",
   "metadata": {
    "execution": {
     "iopub.execute_input": "2022-04-26T21:40:51.345403Z",
     "iopub.status.busy": "2022-04-26T21:40:51.344539Z",
     "iopub.status.idle": "2022-04-26T21:40:51.346918Z",
     "shell.execute_reply": "2022-04-26T21:40:51.346366Z"
    },
    "papermill": {
     "duration": 0.248917,
     "end_time": "2022-04-26T21:40:51.347031",
     "exception": false,
     "start_time": "2022-04-26T21:40:51.098114",
     "status": "completed"
    },
    "tags": []
   },
   "outputs": [],
   "source": [
    "# test_fnames = [f for f in os.listdir(f'{data_root}/test_soundscapes') if f.endswith('.ogg')]\n",
    "# test_pd = []\n",
    "# for fname in test_fnames:\n",
    "#     fpath = os.path.join(data_root, 'test_soundscapes', fname)\n",
    "#     wav, sr = librosa.load(fpath, sr=None)\n",
    "#     prefix = fname.split('.')[0]\n",
    "#     window_size = 5 * sr\n",
    "#     for i, chunk in enumerate(wav[::window_size]):\n",
    "#         end_time = (i + 1) * 5\n",
    "#         samples = [{\n",
    "#             'row_id': f'{prefix}_{b}_{end_time}',\n",
    "#             'file_id': fname,\n",
    "#             'bird': b,\n",
    "#             'end_time': end_time\n",
    "#         } for b in test_birds]\n",
    "#         test_pd.extend(samples)\n",
    "        \n",
    "# test_pd = pd.DataFrame(test_pd)\n",
    "# test_pd"
   ]
  }
 ],
 "metadata": {
  "kernelspec": {
   "display_name": "Python 3",
   "language": "python",
   "name": "python3"
  },
  "language_info": {
   "codemirror_mode": {
    "name": "ipython",
    "version": 3
   },
   "file_extension": ".py",
   "mimetype": "text/x-python",
   "name": "python",
   "nbconvert_exporter": "python",
   "pygments_lexer": "ipython3",
   "version": "3.7.12"
  },
  "papermill": {
   "default_parameters": {},
   "duration": 1766.216557,
   "end_time": "2022-04-26T21:40:54.051235",
   "environment_variables": {},
   "exception": null,
   "input_path": "__notebook__.ipynb",
   "output_path": "__notebook__.ipynb",
   "parameters": {},
   "start_time": "2022-04-26T21:11:27.834678",
   "version": "2.3.3"
  }
 },
 "nbformat": 4,
 "nbformat_minor": 5
}
