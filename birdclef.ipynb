{
 "cells": [
  {
   "cell_type": "code",
   "execution_count": 1,
   "id": "c5565268",
   "metadata": {
    "execution": {
     "iopub.execute_input": "2022-04-22T19:02:37.905651Z",
     "iopub.status.busy": "2022-04-22T19:02:37.904786Z",
     "iopub.status.idle": "2022-04-22T19:02:47.501287Z",
     "shell.execute_reply": "2022-04-22T19:02:47.500629Z",
     "shell.execute_reply.started": "2022-04-21T10:22:46.143712Z"
    },
    "papermill": {
     "duration": 9.620146,
     "end_time": "2022-04-22T19:02:47.501454",
     "exception": false,
     "start_time": "2022-04-22T19:02:37.881308",
     "status": "completed"
    },
    "tags": []
   },
   "outputs": [
    {
     "name": "stdout",
     "output_type": "stream",
     "text": [
      "Collecting timm\r\n",
      "  Downloading timm-0.5.4-py3-none-any.whl (431 kB)\r\n",
      "     |████████████████████████████████| 431 kB 929 kB/s            \r\n",
      "\u001b[?25hRequirement already satisfied: torch>=1.4 in /opt/conda/lib/python3.7/site-packages (from timm) (1.9.1)\r\n",
      "Requirement already satisfied: torchvision in /opt/conda/lib/python3.7/site-packages (from timm) (0.10.1)\r\n",
      "Requirement already satisfied: typing-extensions in /opt/conda/lib/python3.7/site-packages (from torch>=1.4->timm) (4.1.1)\r\n",
      "Requirement already satisfied: pillow>=5.3.0 in /opt/conda/lib/python3.7/site-packages (from torchvision->timm) (8.2.0)\r\n",
      "Requirement already satisfied: numpy in /opt/conda/lib/python3.7/site-packages (from torchvision->timm) (1.20.3)\r\n",
      "Installing collected packages: timm\r\n",
      "Successfully installed timm-0.5.4\r\n",
      "\u001b[33mWARNING: Running pip as the 'root' user can result in broken permissions and conflicting behaviour with the system package manager. It is recommended to use a virtual environment instead: https://pip.pypa.io/warnings/venv\u001b[0m\r\n"
     ]
    }
   ],
   "source": [
    "!pip install timm"
   ]
  },
  {
   "cell_type": "code",
   "execution_count": 2,
   "id": "14c71324",
   "metadata": {
    "_cell_guid": "b1076dfc-b9ad-4769-8c92-a6c4dae69d19",
    "_uuid": "8f2839f25d086af736a60e9eeb907d3b93b6e0e5",
    "execution": {
     "iopub.execute_input": "2022-04-22T19:02:47.541111Z",
     "iopub.status.busy": "2022-04-22T19:02:47.540308Z",
     "iopub.status.idle": "2022-04-22T19:02:52.061791Z",
     "shell.execute_reply": "2022-04-22T19:02:52.061204Z",
     "shell.execute_reply.started": "2022-04-21T10:23:05.225626Z"
    },
    "papermill": {
     "duration": 4.542328,
     "end_time": "2022-04-22T19:02:52.061943",
     "exception": false,
     "start_time": "2022-04-22T19:02:47.519615",
     "status": "completed"
    },
    "tags": []
   },
   "outputs": [],
   "source": [
    "# This Python 3 environment comes with many helpful analytics libraries installed\n",
    "# It is defined by the kaggle/python Docker image: https://github.com/kaggle/docker-python\n",
    "# For example, here's several helpful packages to load\n",
    "\n",
    "import numpy as np # linear algebra\n",
    "import pandas as pd # data processing, CSV file I/O (e.g. pd.read_csv)\n",
    "from matplotlib import pyplot as plt\n",
    "\n",
    "import librosa\n",
    "\n",
    "import torch\n",
    "import torchaudio as ta\n",
    "import timm\n",
    "\n",
    "from tqdm import tqdm\n",
    "\n",
    "# Input data files are available in the read-only \"../input/\" directory\n",
    "# For example, running this (by clicking run or pressing Shift+Enter) will list all files under the input directory\n",
    "\n",
    "import os\n",
    "# for dirname, _, filenames in os.walk('/kaggle/input'):\n",
    "#     for filename in filenames:\n",
    "#         print(os.path.join(dirname, filename))\n",
    "\n",
    "# You can write up to 20GB to the current directory (/kaggle/working/) that gets preserved as output when you create a version using \"Save & Run All\" \n",
    "# You can also write temporary files to /kaggle/temp/, but they won't be saved outside of the current session"
   ]
  },
  {
   "cell_type": "code",
   "execution_count": 3,
   "id": "74d68cc5",
   "metadata": {
    "execution": {
     "iopub.execute_input": "2022-04-22T19:02:52.104546Z",
     "iopub.status.busy": "2022-04-22T19:02:52.103887Z",
     "iopub.status.idle": "2022-04-22T19:02:52.276910Z",
     "shell.execute_reply": "2022-04-22T19:02:52.277348Z",
     "shell.execute_reply.started": "2022-04-21T10:23:09.574915Z"
    },
    "papermill": {
     "duration": 0.196874,
     "end_time": "2022-04-22T19:02:52.277522",
     "exception": false,
     "start_time": "2022-04-22T19:02:52.080648",
     "status": "completed"
    },
    "tags": []
   },
   "outputs": [],
   "source": [
    "data_root = '/kaggle/input/birdclef-2022'\n",
    "train_meta = pd.read_csv(os.path.join(data_root, 'train_metadata.csv'))\n",
    "ebird_taxonomy = pd.read_csv(os.path.join(data_root, 'eBird_Taxonomy_v2021.csv'))"
   ]
  },
  {
   "cell_type": "code",
   "execution_count": 4,
   "id": "8713b04e",
   "metadata": {
    "execution": {
     "iopub.execute_input": "2022-04-22T19:02:52.348675Z",
     "iopub.status.busy": "2022-04-22T19:02:52.333241Z",
     "iopub.status.idle": "2022-04-22T19:02:52.385650Z",
     "shell.execute_reply": "2022-04-22T19:02:52.384883Z",
     "shell.execute_reply.started": "2022-04-21T10:23:09.734924Z"
    },
    "papermill": {
     "duration": 0.091049,
     "end_time": "2022-04-22T19:02:52.385765",
     "exception": false,
     "start_time": "2022-04-22T19:02:52.294716",
     "status": "completed"
    },
    "tags": []
   },
   "outputs": [],
   "source": [
    "train_meta.loc[:, 'secondary_labels'] = train_meta.secondary_labels.apply(eval)\n",
    "train_meta['target_raw'] = train_meta.secondary_labels + train_meta.primary_label.apply(lambda x: [x])"
   ]
  },
  {
   "cell_type": "code",
   "execution_count": 5,
   "id": "2f3d78b9",
   "metadata": {
    "execution": {
     "iopub.execute_input": "2022-04-22T19:02:52.854201Z",
     "iopub.status.busy": "2022-04-22T19:02:52.839055Z",
     "iopub.status.idle": "2022-04-22T19:02:53.158704Z",
     "shell.execute_reply": "2022-04-22T19:02:53.159109Z",
     "shell.execute_reply.started": "2022-04-21T10:23:13.659978Z"
    },
    "papermill": {
     "duration": 0.757795,
     "end_time": "2022-04-22T19:02:53.159262",
     "exception": false,
     "start_time": "2022-04-22T19:02:52.401467",
     "status": "completed"
    },
    "tags": []
   },
   "outputs": [],
   "source": [
    "all_species = sorted(set(train_meta.target_raw.sum()))\n",
    "species2id = {s: i for i, s in enumerate(all_species)}\n",
    "id2species = {i: s for i, s in enumerate(all_species)}\n",
    "\n",
    "train_meta['target'] = train_meta.target_raw.apply(lambda species: [int(s in species) for s in all_species])"
   ]
  },
  {
   "cell_type": "code",
   "execution_count": 6,
   "id": "7d0a13c2",
   "metadata": {
    "execution": {
     "iopub.execute_input": "2022-04-22T19:02:53.195581Z",
     "iopub.status.busy": "2022-04-22T19:02:53.194984Z",
     "iopub.status.idle": "2022-04-22T19:02:53.198348Z",
     "shell.execute_reply": "2022-04-22T19:02:53.197936Z",
     "shell.execute_reply.started": "2022-04-21T10:27:50.290975Z"
    },
    "papermill": {
     "duration": 0.023268,
     "end_time": "2022-04-22T19:02:53.198475",
     "exception": false,
     "start_time": "2022-04-22T19:02:53.175207",
     "status": "completed"
    },
    "tags": []
   },
   "outputs": [],
   "source": [
    "def load_wav(fname, offset, duration):\n",
    "#     fname = 'afrsil1/XC125458.ogg'\n",
    "    fpath = os.path.join(data_root, 'train_audio', fname)\n",
    "    wav, sr = librosa.load(fpath, duration=duration)\n",
    "    assert sr <= 32000, sr\n",
    "    return wav, sr"
   ]
  },
  {
   "cell_type": "code",
   "execution_count": 7,
   "id": "a20968bf",
   "metadata": {
    "execution": {
     "iopub.execute_input": "2022-04-22T19:02:53.232587Z",
     "iopub.status.busy": "2022-04-22T19:02:53.232026Z",
     "iopub.status.idle": "2022-04-22T19:02:53.235574Z",
     "shell.execute_reply": "2022-04-22T19:02:53.235131Z",
     "shell.execute_reply.started": "2022-04-21T10:27:53.634534Z"
    },
    "papermill": {
     "duration": 0.021859,
     "end_time": "2022-04-22T19:02:53.235675",
     "exception": false,
     "start_time": "2022-04-22T19:02:53.213816",
     "status": "completed"
    },
    "tags": []
   },
   "outputs": [],
   "source": [
    "# duration = 30\n",
    "# sample_rate = 32000\n",
    "\n",
    "# wav, sr = load_wav('afrsil1/XC125458.ogg', 0, duration)\n",
    "# to_pad = duration * sample_rate - wav.shape[0]\n",
    "\n",
    "# if to_pad > 0:\n",
    "#     wav = np.pad(wav, (0, to_pad))\n",
    "\n"
   ]
  },
  {
   "cell_type": "markdown",
   "id": "0d630c32",
   "metadata": {
    "papermill": {
     "duration": 0.015409,
     "end_time": "2022-04-22T19:02:53.266819",
     "exception": false,
     "start_time": "2022-04-22T19:02:53.251410",
     "status": "completed"
    },
    "tags": []
   },
   "source": [
    "### Torch Dataset"
   ]
  },
  {
   "cell_type": "code",
   "execution_count": 8,
   "id": "00bc5dd3",
   "metadata": {
    "execution": {
     "iopub.execute_input": "2022-04-22T19:02:53.307333Z",
     "iopub.status.busy": "2022-04-22T19:02:53.305809Z",
     "iopub.status.idle": "2022-04-22T19:02:53.307935Z",
     "shell.execute_reply": "2022-04-22T19:02:53.308320Z",
     "shell.execute_reply.started": "2022-04-21T10:27:54.665941Z"
    },
    "papermill": {
     "duration": 0.025493,
     "end_time": "2022-04-22T19:02:53.308456",
     "exception": false,
     "start_time": "2022-04-22T19:02:53.282963",
     "status": "completed"
    },
    "tags": []
   },
   "outputs": [],
   "source": [
    "from torch.utils.data import Dataset, DataLoader\n",
    "\n",
    "class BirdDataset(Dataset):\n",
    "    def __init__(self, df):\n",
    "        super().__init__()\n",
    "        self.df = df\n",
    "        \n",
    "    def __getitem__(self, idx):\n",
    "        duration = 30\n",
    "        sample_rate = 32000\n",
    "        \n",
    "        fname = self.df.iloc[idx]['filename']\n",
    "        # TODO: add random offset\n",
    "        wav, sr = load_wav(fname, 0, duration)\n",
    "        to_pad = duration * sample_rate - wav.shape[0]\n",
    "        if to_pad > 0:\n",
    "            wav = np.pad(wav, (0, to_pad))\n",
    "            \n",
    "        target = self.df.iloc[idx]['target']\n",
    "        \n",
    "        # TODO: add weighting\n",
    "            \n",
    "        wav = torch.tensor(wav)\n",
    "        target = torch.tensor(target, dtype=float)\n",
    "        return {\n",
    "            'wav': wav,\n",
    "            'target': target,\n",
    "        }\n",
    "\n",
    "    def __len__(self):\n",
    "        return len(self.df)"
   ]
  },
  {
   "cell_type": "markdown",
   "id": "d72d0c83",
   "metadata": {
    "execution": {
     "iopub.execute_input": "2022-04-21T09:17:01.036366Z",
     "iopub.status.busy": "2022-04-21T09:17:01.036048Z",
     "iopub.status.idle": "2022-04-21T09:17:01.05202Z",
     "shell.execute_reply": "2022-04-21T09:17:01.050779Z",
     "shell.execute_reply.started": "2022-04-21T09:17:01.036334Z"
    },
    "papermill": {
     "duration": 0.015254,
     "end_time": "2022-04-22T19:02:53.339072",
     "exception": false,
     "start_time": "2022-04-22T19:02:53.323818",
     "status": "completed"
    },
    "tags": []
   },
   "source": [
    "### Model"
   ]
  },
  {
   "cell_type": "code",
   "execution_count": 9,
   "id": "9cb2ed3a",
   "metadata": {
    "execution": {
     "iopub.execute_input": "2022-04-22T19:02:53.382346Z",
     "iopub.status.busy": "2022-04-22T19:02:53.380823Z",
     "iopub.status.idle": "2022-04-22T19:02:53.382947Z",
     "shell.execute_reply": "2022-04-22T19:02:53.383332Z",
     "shell.execute_reply.started": "2022-04-21T10:31:25.014181Z"
    },
    "papermill": {
     "duration": 0.029078,
     "end_time": "2022-04-22T19:02:53.383468",
     "exception": false,
     "start_time": "2022-04-22T19:02:53.354390",
     "status": "completed"
    },
    "tags": []
   },
   "outputs": [],
   "source": [
    "class Net(torch.nn.Module):\n",
    "    def __init__(self):\n",
    "        super().__init__()\n",
    "        self.audio2image = self._init_audio2image()\n",
    "        self.backbone = self._init_backbone()\n",
    "        self.head = self._init_head(self.backbone.feature_info[-1]['num_chs'])      \n",
    "        self.loss = torch.nn.BCEWithLogitsLoss()\n",
    "        \n",
    "    def forward(self, wav_tensor, y):\n",
    "        spectrogram = self.audio2image(wav_tensor)\n",
    "        spectrogram = spectrogram.permute(0, 2, 1)\n",
    "        spectrogram = spectrogram[:, None, :, :]\n",
    "        x = self.backbone(spectrogram)\n",
    "        logits = self.head(x)\n",
    "        loss = self.loss(logits, y)\n",
    "        return {'loss': loss, 'logits': logits.sigmoid()}\n",
    "\n",
    "    \n",
    "    @staticmethod\n",
    "    def _init_audio2image():\n",
    "        mel = ta.transforms.MelSpectrogram(\n",
    "            sample_rate=32000,\n",
    "            n_fft=2048,\n",
    "            win_length=2048,\n",
    "            hop_length=512,\n",
    "            f_min=16,\n",
    "            f_max=16386,\n",
    "            pad=0,\n",
    "            n_mels=256,\n",
    "            power=2,\n",
    "            normalized=False,\n",
    "        )\n",
    "        db_scale = ta.transforms.AmplitudeToDB(top_db=80.0)\n",
    "        audio2image = torch.nn.Sequential(mel, db_scale)\n",
    "        return audio2image\n",
    "    \n",
    "    @staticmethod\n",
    "    def _init_backbone():\n",
    "        backbone = \"resnet18\"\n",
    "        pretrained = True\n",
    "        pretrained_weights = None\n",
    "        train = True\n",
    "        val = False\n",
    "        in_chans = 1\n",
    "\n",
    "        backbone = timm.create_model(\n",
    "            backbone,\n",
    "            pretrained=pretrained,\n",
    "            num_classes=0,\n",
    "            global_pool=\"\",\n",
    "            in_chans=in_chans,\n",
    "        )\n",
    "        return backbone\n",
    "    \n",
    "    @staticmethod\n",
    "    def _init_head(num_chs):\n",
    "        head = torch.nn.Sequential(\n",
    "            torch.nn.AdaptiveAvgPool2d(output_size=1),\n",
    "            torch.nn.Flatten(),\n",
    "            torch.nn.Linear(num_chs, len(all_species))\n",
    "        )\n",
    "        return head\n",
    "        "
   ]
  },
  {
   "cell_type": "markdown",
   "id": "5d177f6c",
   "metadata": {
    "papermill": {
     "duration": 0.015111,
     "end_time": "2022-04-22T19:02:53.413843",
     "exception": false,
     "start_time": "2022-04-22T19:02:53.398732",
     "status": "completed"
    },
    "tags": []
   },
   "source": [
    "### Train loop"
   ]
  },
  {
   "cell_type": "code",
   "execution_count": 10,
   "id": "37bd7aba",
   "metadata": {
    "execution": {
     "iopub.execute_input": "2022-04-22T19:02:53.450280Z",
     "iopub.status.busy": "2022-04-22T19:02:53.449749Z",
     "iopub.status.idle": "2022-04-22T19:02:55.317432Z",
     "shell.execute_reply": "2022-04-22T19:02:55.318371Z",
     "shell.execute_reply.started": "2022-04-21T10:31:30.406133Z"
    },
    "papermill": {
     "duration": 1.889422,
     "end_time": "2022-04-22T19:02:55.318593",
     "exception": false,
     "start_time": "2022-04-22T19:02:53.429171",
     "status": "completed"
    },
    "tags": []
   },
   "outputs": [
    {
     "name": "stderr",
     "output_type": "stream",
     "text": [
      "Downloading: \"https://download.pytorch.org/models/resnet18-5c106cde.pth\" to /root/.cache/torch/hub/checkpoints/resnet18-5c106cde.pth\n"
     ]
    }
   ],
   "source": [
    "model = Net()\n",
    "train_dataset = BirdDataset(train_meta)\n",
    "train_dataloader = DataLoader(\n",
    "    train_dataset,\n",
    "    batch_size=16,\n",
    "    shuffle=True,\n",
    "    num_workers=2,\n",
    "    pin_memory=True,\n",
    "    drop_last=True,\n",
    ")\n",
    "device = torch.device('cuda' if torch.cuda.is_available() else 'cpu')\n",
    "optimizer = torch.optim.Adam(model.parameters())"
   ]
  },
  {
   "cell_type": "code",
   "execution_count": 11,
   "id": "e36fc7b2",
   "metadata": {
    "execution": {
     "iopub.execute_input": "2022-04-22T19:02:55.357757Z",
     "iopub.status.busy": "2022-04-22T19:02:55.356980Z",
     "iopub.status.idle": "2022-04-22T19:02:55.358952Z",
     "shell.execute_reply": "2022-04-22T19:02:55.359316Z",
     "shell.execute_reply.started": "2022-04-21T10:32:34.63916Z"
    },
    "papermill": {
     "duration": 0.023338,
     "end_time": "2022-04-22T19:02:55.359469",
     "exception": false,
     "start_time": "2022-04-22T19:02:55.336131",
     "status": "completed"
    },
    "tags": []
   },
   "outputs": [],
   "source": [
    "def train_epoch(model, optimizer, dataloader, device):\n",
    "    tqdm_dataloader = tqdm(dataloader)\n",
    "    loss_list = []\n",
    "    for batch in tqdm_dataloader:\n",
    "        loss = model(batch['wav'].to(device), batch['target'].to(device))['loss']\n",
    "        optimizer.zero_grad()\n",
    "        loss.backward()\n",
    "        optimizer.step()\n",
    "        loss_list.append(loss.item())\n",
    "    return loss_list\n",
    "    "
   ]
  },
  {
   "cell_type": "code",
   "execution_count": 12,
   "id": "34a53cce",
   "metadata": {
    "execution": {
     "iopub.execute_input": "2022-04-22T19:02:55.395509Z",
     "iopub.status.busy": "2022-04-22T19:02:55.394724Z",
     "iopub.status.idle": "2022-04-22T19:02:55.396723Z",
     "shell.execute_reply": "2022-04-22T19:02:55.397103Z",
     "shell.execute_reply.started": "2022-04-21T10:32:37.097791Z"
    },
    "papermill": {
     "duration": 0.022067,
     "end_time": "2022-04-22T19:02:55.397223",
     "exception": false,
     "start_time": "2022-04-22T19:02:55.375156",
     "status": "completed"
    },
    "tags": []
   },
   "outputs": [],
   "source": [
    "if False:\n",
    "    epochs = 2\n",
    "    model.to(device)\n",
    "    for e in range(epochs):\n",
    "        epoch_loss = train_epoch(model, optimizer, train_dataloader, device)\n",
    "        print(f'{e} train loss:', f'{epoch_loss:.3f}', sep='\\t')"
   ]
  }
 ],
 "metadata": {
  "kernelspec": {
   "display_name": "Python 3",
   "language": "python",
   "name": "python3"
  },
  "language_info": {
   "codemirror_mode": {
    "name": "ipython",
    "version": 3
   },
   "file_extension": ".py",
   "mimetype": "text/x-python",
   "name": "python",
   "nbconvert_exporter": "python",
   "pygments_lexer": "ipython3",
   "version": "3.7.12"
  },
  "papermill": {
   "default_parameters": {},
   "duration": 27.170257,
   "end_time": "2022-04-22T19:02:56.622935",
   "environment_variables": {},
   "exception": null,
   "input_path": "__notebook__.ipynb",
   "output_path": "__notebook__.ipynb",
   "parameters": {},
   "start_time": "2022-04-22T19:02:29.452678",
   "version": "2.3.3"
  }
 },
 "nbformat": 4,
 "nbformat_minor": 5
}
