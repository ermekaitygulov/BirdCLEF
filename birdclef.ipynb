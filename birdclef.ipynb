{
 "cells": [
  {
   "cell_type": "code",
   "execution_count": 1,
   "id": "90f805e2",
   "metadata": {
    "_cell_guid": "b1076dfc-b9ad-4769-8c92-a6c4dae69d19",
    "_uuid": "8f2839f25d086af736a60e9eeb907d3b93b6e0e5",
    "execution": {
     "iopub.execute_input": "2022-04-23T13:06:36.218184Z",
     "iopub.status.busy": "2022-04-23T13:06:36.217336Z",
     "iopub.status.idle": "2022-04-23T13:06:49.709756Z",
     "shell.execute_reply": "2022-04-23T13:06:49.708568Z"
    },
    "papermill": {
     "duration": 13.515863,
     "end_time": "2022-04-23T13:06:49.712357",
     "exception": false,
     "start_time": "2022-04-23T13:06:36.196494",
     "status": "completed"
    },
    "tags": []
   },
   "outputs": [],
   "source": [
    "# This Python 3 environment comes with many helpful analytics libraries installed\n",
    "# It is defined by the kaggle/python Docker image: https://github.com/kaggle/docker-python\n",
    "# For example, here's several helpful packages to load\n",
    "import sys\n",
    "sys.path.append('../input/timm-pytorch-image-models/pytorch-image-models-master')\n",
    "\n",
    "import numpy as np # linear algebra\n",
    "import pandas as pd # data processing, CSV file I/O (e.g. pd.read_csv)\n",
    "from matplotlib import pyplot as plt\n",
    "import json\n",
    "\n",
    "import librosa\n",
    "\n",
    "import torch\n",
    "import torchaudio as ta\n",
    "import timm\n",
    "\n",
    "from tqdm import tqdm\n",
    "\n",
    "# Input data files are available in the read-only \"../input/\" directory\n",
    "# For example, running this (by clicking run or pressing Shift+Enter) will list all files under the input directory\n",
    "\n",
    "import os\n",
    "# for dirname, _, filenames in os.walk('/kaggle/input'):\n",
    "#     for filename in filenames:\n",
    "#         print(os.path.join(dirname, filename))\n",
    "\n",
    "# You can write up to 20GB to the current directory (/kaggle/working/) that gets preserved as output when you create a version using \"Save & Run All\" \n",
    "# You can also write temporary files to /kaggle/temp/, but they won't be saved outside of the current session"
   ]
  },
  {
   "cell_type": "code",
   "execution_count": 2,
   "id": "23df3528",
   "metadata": {
    "execution": {
     "iopub.execute_input": "2022-04-23T13:06:49.748996Z",
     "iopub.status.busy": "2022-04-23T13:06:49.748389Z",
     "iopub.status.idle": "2022-04-23T13:06:50.022465Z",
     "shell.execute_reply": "2022-04-23T13:06:50.021307Z"
    },
    "papermill": {
     "duration": 0.295681,
     "end_time": "2022-04-23T13:06:50.025150",
     "exception": false,
     "start_time": "2022-04-23T13:06:49.729469",
     "status": "completed"
    },
    "tags": []
   },
   "outputs": [],
   "source": [
    "data_root = '/kaggle/input/birdclef-2022'\n",
    "train_meta = pd.read_csv(os.path.join(data_root, 'train_metadata.csv'))\n",
    "ebird_taxonomy = pd.read_csv(os.path.join(data_root, 'eBird_Taxonomy_v2021.csv'))"
   ]
  },
  {
   "cell_type": "code",
   "execution_count": 3,
   "id": "839afa24",
   "metadata": {
    "execution": {
     "iopub.execute_input": "2022-04-23T13:06:50.061373Z",
     "iopub.status.busy": "2022-04-23T13:06:50.060789Z",
     "iopub.status.idle": "2022-04-23T13:06:50.144823Z",
     "shell.execute_reply": "2022-04-23T13:06:50.144012Z"
    },
    "papermill": {
     "duration": 0.104372,
     "end_time": "2022-04-23T13:06:50.147195",
     "exception": false,
     "start_time": "2022-04-23T13:06:50.042823",
     "status": "completed"
    },
    "tags": []
   },
   "outputs": [],
   "source": [
    "train_meta.loc[:, 'secondary_labels'] = train_meta.secondary_labels.apply(eval)\n",
    "train_meta['target_raw'] = train_meta.secondary_labels + train_meta.primary_label.apply(lambda x: [x])"
   ]
  },
  {
   "cell_type": "code",
   "execution_count": 4,
   "id": "5729e529",
   "metadata": {
    "execution": {
     "iopub.execute_input": "2022-04-23T13:06:50.184176Z",
     "iopub.status.busy": "2022-04-23T13:06:50.183885Z",
     "iopub.status.idle": "2022-04-23T13:06:51.032221Z",
     "shell.execute_reply": "2022-04-23T13:06:51.031394Z"
    },
    "papermill": {
     "duration": 0.869325,
     "end_time": "2022-04-23T13:06:51.034489",
     "exception": false,
     "start_time": "2022-04-23T13:06:50.165164",
     "status": "completed"
    },
    "tags": []
   },
   "outputs": [],
   "source": [
    "all_species = sorted(set(train_meta.target_raw.sum()))\n",
    "species2id = {s: i for i, s in enumerate(all_species)}\n",
    "id2species = {i: s for i, s in enumerate(all_species)}\n",
    "\n",
    "train_meta['target'] = train_meta.target_raw.apply(lambda species: [int(s in species) for s in all_species])"
   ]
  },
  {
   "cell_type": "code",
   "execution_count": 5,
   "id": "544a3564",
   "metadata": {
    "execution": {
     "iopub.execute_input": "2022-04-23T13:06:51.071098Z",
     "iopub.status.busy": "2022-04-23T13:06:51.070785Z",
     "iopub.status.idle": "2022-04-23T13:06:51.076362Z",
     "shell.execute_reply": "2022-04-23T13:06:51.075488Z"
    },
    "papermill": {
     "duration": 0.025868,
     "end_time": "2022-04-23T13:06:51.078342",
     "exception": false,
     "start_time": "2022-04-23T13:06:51.052474",
     "status": "completed"
    },
    "tags": []
   },
   "outputs": [],
   "source": [
    "def load_wav(fname, offset, duration):\n",
    "#     fname = 'afrsil1/XC125458.ogg'\n",
    "    fpath = os.path.join(data_root, 'train_audio', fname)\n",
    "    wav, sr = librosa.load(fpath, sr=None, duration=duration)\n",
    "    assert sr <= 32000, sr\n",
    "    return wav, sr"
   ]
  },
  {
   "cell_type": "code",
   "execution_count": 6,
   "id": "b267c0ff",
   "metadata": {
    "execution": {
     "iopub.execute_input": "2022-04-23T13:06:51.116396Z",
     "iopub.status.busy": "2022-04-23T13:06:51.115746Z",
     "iopub.status.idle": "2022-04-23T13:06:51.153584Z",
     "shell.execute_reply": "2022-04-23T13:06:51.152630Z"
    },
    "papermill": {
     "duration": 0.060333,
     "end_time": "2022-04-23T13:06:51.156277",
     "exception": false,
     "start_time": "2022-04-23T13:06:51.095944",
     "status": "completed"
    },
    "tags": []
   },
   "outputs": [
    {
     "name": "stdout",
     "output_type": "stream",
     "text": [
      "CPU times: user 17.1 ms, sys: 2.81 ms, total: 19.9 ms\n",
      "Wall time: 30.6 ms\n"
     ]
    }
   ],
   "source": [
    "%%time\n",
    "duration = 30\n",
    "sample_rate = 32000\n",
    "\n",
    "wav, sr = load_wav('afrsil1/XC125458.ogg', 5, duration)\n",
    "to_pad = duration * sample_rate - wav.shape[0]\n",
    "\n",
    "if to_pad > 0:\n",
    "    wav = np.pad(wav, (0, to_pad))\n",
    "\n"
   ]
  },
  {
   "cell_type": "markdown",
   "id": "ab081b93",
   "metadata": {
    "papermill": {
     "duration": 0.016991,
     "end_time": "2022-04-23T13:06:51.191042",
     "exception": false,
     "start_time": "2022-04-23T13:06:51.174051",
     "status": "completed"
    },
    "tags": []
   },
   "source": [
    "### Torch Dataset"
   ]
  },
  {
   "cell_type": "code",
   "execution_count": 7,
   "id": "4f70cc0d",
   "metadata": {
    "execution": {
     "iopub.execute_input": "2022-04-23T13:06:51.227455Z",
     "iopub.status.busy": "2022-04-23T13:06:51.227195Z",
     "iopub.status.idle": "2022-04-23T13:06:51.235109Z",
     "shell.execute_reply": "2022-04-23T13:06:51.234227Z"
    },
    "papermill": {
     "duration": 0.028468,
     "end_time": "2022-04-23T13:06:51.236817",
     "exception": false,
     "start_time": "2022-04-23T13:06:51.208349",
     "status": "completed"
    },
    "tags": []
   },
   "outputs": [],
   "source": [
    "from torch.utils.data import Dataset, DataLoader\n",
    "\n",
    "class BirdDataset(Dataset):\n",
    "    def __init__(self, df):\n",
    "        super().__init__()\n",
    "        self.df = df\n",
    "        \n",
    "    def __getitem__(self, idx):\n",
    "        duration = 30\n",
    "        sample_rate = 32000\n",
    "        \n",
    "        fname = self.df.iloc[idx]['filename']\n",
    "        # TODO: add random offset\n",
    "        wav, sr = load_wav(fname, 0, duration)\n",
    "        to_pad = duration * sample_rate - wav.shape[0]\n",
    "        if to_pad > 0:\n",
    "            wav = np.pad(wav, (0, to_pad))\n",
    "            \n",
    "        target = self.df.iloc[idx]['target']\n",
    "        \n",
    "        # TODO: add weighting\n",
    "            \n",
    "        wav = torch.tensor(wav)\n",
    "        target = torch.tensor(target, dtype=float)\n",
    "        return {\n",
    "            'wav': wav,\n",
    "            'target': target,\n",
    "        }\n",
    "\n",
    "    def __len__(self):\n",
    "        return len(self.df)"
   ]
  },
  {
   "cell_type": "markdown",
   "id": "4a0417b4",
   "metadata": {
    "execution": {
     "iopub.execute_input": "2022-04-21T09:17:01.036366Z",
     "iopub.status.busy": "2022-04-21T09:17:01.036048Z",
     "iopub.status.idle": "2022-04-21T09:17:01.05202Z",
     "shell.execute_reply": "2022-04-21T09:17:01.050779Z",
     "shell.execute_reply.started": "2022-04-21T09:17:01.036334Z"
    },
    "papermill": {
     "duration": 0.016978,
     "end_time": "2022-04-23T13:06:51.272937",
     "exception": false,
     "start_time": "2022-04-23T13:06:51.255959",
     "status": "completed"
    },
    "tags": []
   },
   "source": [
    "### Model"
   ]
  },
  {
   "cell_type": "code",
   "execution_count": 8,
   "id": "969c3e81",
   "metadata": {
    "execution": {
     "iopub.execute_input": "2022-04-23T13:06:51.309189Z",
     "iopub.status.busy": "2022-04-23T13:06:51.308649Z",
     "iopub.status.idle": "2022-04-23T13:06:51.321218Z",
     "shell.execute_reply": "2022-04-23T13:06:51.320550Z"
    },
    "papermill": {
     "duration": 0.033167,
     "end_time": "2022-04-23T13:06:51.323246",
     "exception": false,
     "start_time": "2022-04-23T13:06:51.290079",
     "status": "completed"
    },
    "tags": []
   },
   "outputs": [],
   "source": [
    "class Net(torch.nn.Module):\n",
    "    def __init__(self, backbone_path=None):\n",
    "        super().__init__()\n",
    "        self.audio2image = self._init_audio2image()\n",
    "        self.backbone = self._init_backbone()\n",
    "        self.load_backbone(backbone_path)\n",
    "        self.head = self._init_head(self.backbone.feature_info[-1]['num_chs'])      \n",
    "        self.loss = torch.nn.BCEWithLogitsLoss()\n",
    "        \n",
    "    def forward(self, wav_tensor, y=None):\n",
    "        spectrogram = self.audio2image(wav_tensor)\n",
    "        spectrogram = spectrogram.permute(0, 2, 1)\n",
    "        spectrogram = spectrogram[:, None, :, :]\n",
    "        x = self.backbone(spectrogram)\n",
    "        logits = self.head(x)\n",
    "        \n",
    "        if y:\n",
    "            loss = self.loss(logits, y)\n",
    "        else:\n",
    "            loss = None\n",
    "\n",
    "        return {'loss': loss, 'logits': logits.sigmoid()}\n",
    "\n",
    "    \n",
    "    @staticmethod\n",
    "    def _init_audio2image():\n",
    "        mel = ta.transforms.MelSpectrogram(\n",
    "            sample_rate=32000,\n",
    "            n_fft=2048,\n",
    "            win_length=2048,\n",
    "            hop_length=512,\n",
    "            f_min=16,\n",
    "            f_max=16386,\n",
    "            pad=0,\n",
    "            n_mels=256,\n",
    "            power=2,\n",
    "            normalized=False,\n",
    "        )\n",
    "        db_scale = ta.transforms.AmplitudeToDB(top_db=80.0)\n",
    "        audio2image = torch.nn.Sequential(mel, db_scale)\n",
    "        return audio2image\n",
    "    \n",
    "    @staticmethod\n",
    "    def _init_backbone():\n",
    "        backbone = \"resnet18\"\n",
    "        pretrained = False\n",
    "        pretrained_weights = None\n",
    "        train = True\n",
    "        val = False\n",
    "        in_chans = 1\n",
    "\n",
    "        backbone = timm.create_model(\n",
    "            backbone,\n",
    "            pretrained=pretrained,\n",
    "            num_classes=0,\n",
    "            global_pool=\"\",\n",
    "            in_chans=in_chans,\n",
    "        )\n",
    "        return backbone\n",
    "    \n",
    "    @staticmethod\n",
    "    def _init_head(num_chs):\n",
    "        head = torch.nn.Sequential(\n",
    "            torch.nn.AdaptiveAvgPool2d(output_size=1),\n",
    "            torch.nn.Flatten(),\n",
    "            torch.nn.Linear(num_chs, len(all_species))\n",
    "        )\n",
    "        return head\n",
    "    \n",
    "    def load_backbone(self, weights_path=None):\n",
    "        if weights_path:\n",
    "            state_dict=torch.load(weights_path)\n",
    "            conv1_weight = state_dict['conv1.weight']\n",
    "            state_dict['conv1.weight'] = conv1_weight.sum(dim=1, keepdim=True)\n",
    "            state_dict.pop('fc.bias')\n",
    "            state_dict.pop('fc.weight')\n",
    "            self.backbone.load_state_dict(state_dict)\n",
    "        "
   ]
  },
  {
   "cell_type": "markdown",
   "id": "d09c4437",
   "metadata": {
    "papermill": {
     "duration": 0.017024,
     "end_time": "2022-04-23T13:06:51.357456",
     "exception": false,
     "start_time": "2022-04-23T13:06:51.340432",
     "status": "completed"
    },
    "tags": []
   },
   "source": [
    "### Train loop"
   ]
  },
  {
   "cell_type": "code",
   "execution_count": 9,
   "id": "3968be24",
   "metadata": {
    "execution": {
     "iopub.execute_input": "2022-04-23T13:06:51.393934Z",
     "iopub.status.busy": "2022-04-23T13:06:51.393276Z",
     "iopub.status.idle": "2022-04-23T13:06:51.402265Z",
     "shell.execute_reply": "2022-04-23T13:06:51.401626Z"
    },
    "papermill": {
     "duration": 0.029852,
     "end_time": "2022-04-23T13:06:51.404514",
     "exception": false,
     "start_time": "2022-04-23T13:06:51.374662",
     "status": "completed"
    },
    "tags": []
   },
   "outputs": [],
   "source": [
    "with open('../input/timm-pretrained-resnet/index.json') as fin:\n",
    "    timm_index = json.load(fin)\n",
    "resnet_path = os.path.join('../input/timm-pretrained-resnet/resnet', timm_index['resnet']['resnet18'])"
   ]
  },
  {
   "cell_type": "code",
   "execution_count": 10,
   "id": "5cbdc66c",
   "metadata": {
    "execution": {
     "iopub.execute_input": "2022-04-23T13:06:51.442463Z",
     "iopub.status.busy": "2022-04-23T13:06:51.441580Z",
     "iopub.status.idle": "2022-04-23T13:06:52.416864Z",
     "shell.execute_reply": "2022-04-23T13:06:52.415939Z"
    },
    "papermill": {
     "duration": 0.996773,
     "end_time": "2022-04-23T13:06:52.419411",
     "exception": false,
     "start_time": "2022-04-23T13:06:51.422638",
     "status": "completed"
    },
    "tags": []
   },
   "outputs": [],
   "source": [
    "model = Net(resnet_path)\n",
    "train_dataset = BirdDataset(train_meta)\n",
    "train_dataloader = DataLoader(\n",
    "    train_dataset,\n",
    "    batch_size=64,\n",
    "    shuffle=True,\n",
    "    num_workers=2,\n",
    "    pin_memory=False,\n",
    "    drop_last=True,\n",
    ")\n",
    "device = torch.device('cuda' if torch.cuda.is_available() else 'cpu')\n",
    "optimizer = torch.optim.Adam(model.parameters())"
   ]
  },
  {
   "cell_type": "code",
   "execution_count": 11,
   "id": "7aa8a844",
   "metadata": {
    "execution": {
     "iopub.execute_input": "2022-04-23T13:06:52.456123Z",
     "iopub.status.busy": "2022-04-23T13:06:52.455794Z",
     "iopub.status.idle": "2022-04-23T13:06:52.461642Z",
     "shell.execute_reply": "2022-04-23T13:06:52.460565Z"
    },
    "papermill": {
     "duration": 0.026903,
     "end_time": "2022-04-23T13:06:52.463662",
     "exception": false,
     "start_time": "2022-04-23T13:06:52.436759",
     "status": "completed"
    },
    "tags": []
   },
   "outputs": [],
   "source": [
    "def train_epoch(model, optimizer, dataloader, device):\n",
    "    tqdm_dataloader = tqdm(dataloader)\n",
    "    loss_list = []\n",
    "    for batch in tqdm_dataloader:\n",
    "        loss = model(batch['wav'].to(device), batch['target'].to(device))['loss']\n",
    "        optimizer.zero_grad()\n",
    "        loss.backward()\n",
    "        optimizer.step()\n",
    "        loss_list.append(loss.item())\n",
    "    return loss_list\n",
    "    "
   ]
  },
  {
   "cell_type": "code",
   "execution_count": 12,
   "id": "47405927",
   "metadata": {
    "execution": {
     "iopub.execute_input": "2022-04-23T13:06:52.500476Z",
     "iopub.status.busy": "2022-04-23T13:06:52.499794Z",
     "iopub.status.idle": "2022-04-23T13:06:52.505410Z",
     "shell.execute_reply": "2022-04-23T13:06:52.504846Z"
    },
    "papermill": {
     "duration": 0.026088,
     "end_time": "2022-04-23T13:06:52.507317",
     "exception": false,
     "start_time": "2022-04-23T13:06:52.481229",
     "status": "completed"
    },
    "tags": []
   },
   "outputs": [],
   "source": [
    "if False:\n",
    "    epochs = 2\n",
    "    model.train()\n",
    "    model.to(device)\n",
    "    for e in range(epochs):\n",
    "        epoch_loss = train_epoch(model, optimizer, train_dataloader, device)\n",
    "        print(f'{e} train loss:', f'{epoch_loss:.3f}', sep='\\t')"
   ]
  },
  {
   "cell_type": "markdown",
   "id": "fc8d7214",
   "metadata": {
    "papermill": {
     "duration": 0.016898,
     "end_time": "2022-04-23T13:06:52.542220",
     "exception": false,
     "start_time": "2022-04-23T13:06:52.525322",
     "status": "completed"
    },
    "tags": []
   },
   "source": [
    "### Submit"
   ]
  },
  {
   "cell_type": "code",
   "execution_count": 13,
   "id": "20ca8895",
   "metadata": {
    "execution": {
     "iopub.execute_input": "2022-04-23T13:06:52.578449Z",
     "iopub.status.busy": "2022-04-23T13:06:52.577891Z",
     "iopub.status.idle": "2022-04-23T13:06:52.591822Z",
     "shell.execute_reply": "2022-04-23T13:06:52.590943Z"
    },
    "papermill": {
     "duration": 0.034807,
     "end_time": "2022-04-23T13:06:52.594223",
     "exception": false,
     "start_time": "2022-04-23T13:06:52.559416",
     "status": "completed"
    },
    "tags": []
   },
   "outputs": [],
   "source": [
    "with open(os.path.join(data_root, 'scored_birds.json')) as fin:\n",
    "    test_birds = json.load(fin)"
   ]
  },
  {
   "cell_type": "code",
   "execution_count": 14,
   "id": "9724cc3c",
   "metadata": {
    "execution": {
     "iopub.execute_input": "2022-04-23T13:06:52.631649Z",
     "iopub.status.busy": "2022-04-23T13:06:52.631040Z",
     "iopub.status.idle": "2022-04-23T13:06:52.635589Z",
     "shell.execute_reply": "2022-04-23T13:06:52.634648Z"
    },
    "papermill": {
     "duration": 0.026102,
     "end_time": "2022-04-23T13:06:52.637983",
     "exception": false,
     "start_time": "2022-04-23T13:06:52.611881",
     "status": "completed"
    },
    "tags": []
   },
   "outputs": [],
   "source": [
    "# test_fnames = [f for f in os.listdir(f'{data_root}/test_soundscapes') if f.endswith('.ogg')]\n",
    "# test_pd = []\n",
    "# for fname in test_fnames:\n",
    "#     fpath = os.path.join(data_root, 'test_soundscapes', fname)\n",
    "#     wav, sr = librosa.load(fpath, sr=None)\n",
    "#     prefix = fname.split('.')[0]\n",
    "#     window_size = 5 * sr\n",
    "#     for i, chunk in enumerate(wav[::window_size]):\n",
    "#         end_time = (i + 1) * 5\n",
    "#         samples = [{\n",
    "#             'row_id': f'{prefix}_{b}_{end_time}',\n",
    "#             'file_id': fname,\n",
    "#             'bird': b,\n",
    "#             'end_time': end_time\n",
    "#         } for b in test_birds]\n",
    "#         test_pd.extend(samples)\n",
    "        \n",
    "# test_pd = pd.DataFrame(test_pd)\n",
    "# test_pd"
   ]
  },
  {
   "cell_type": "code",
   "execution_count": 15,
   "id": "59e166e2",
   "metadata": {
    "execution": {
     "iopub.execute_input": "2022-04-23T13:06:52.676631Z",
     "iopub.status.busy": "2022-04-23T13:06:52.675774Z",
     "iopub.status.idle": "2022-04-23T13:06:52.683109Z",
     "shell.execute_reply": "2022-04-23T13:06:52.682184Z"
    },
    "papermill": {
     "duration": 0.028826,
     "end_time": "2022-04-23T13:06:52.685249",
     "exception": false,
     "start_time": "2022-04-23T13:06:52.656423",
     "status": "completed"
    },
    "tags": []
   },
   "outputs": [],
   "source": [
    "class TestDataset(Dataset):\n",
    "    def __init__(self, test_folder):\n",
    "        super().__init__()\n",
    "        self.test_folder = test_folder\n",
    "        self.fnames = [f for f in os.listdir(test_folder) if f.endswith('.ogg')]\n",
    "        \n",
    "    def __len__(self):\n",
    "        return len(self.fnames)\n",
    "    \n",
    "    def __getitem__(self, idx):\n",
    "        fpath = os.path.join(self.test_folder, self.fnames[idx])\n",
    "        wav, sr = load_wav(fpath, 0, None)\n",
    "        wav = torch.tensor(wav)\n",
    "        assert (13 * 5 * sr) > len(wav) \n",
    "        wav = wav[:len(wav) // 12 * 12].reshape((12, len(wav) // 12))\n",
    "        return wav"
   ]
  },
  {
   "cell_type": "code",
   "execution_count": 16,
   "id": "01efb80c",
   "metadata": {
    "execution": {
     "iopub.execute_input": "2022-04-23T13:06:52.721197Z",
     "iopub.status.busy": "2022-04-23T13:06:52.720708Z",
     "iopub.status.idle": "2022-04-23T13:06:52.728190Z",
     "shell.execute_reply": "2022-04-23T13:06:52.727528Z"
    },
    "papermill": {
     "duration": 0.027861,
     "end_time": "2022-04-23T13:06:52.730236",
     "exception": false,
     "start_time": "2022-04-23T13:06:52.702375",
     "status": "completed"
    },
    "tags": []
   },
   "outputs": [],
   "source": [
    "test_dataset = TestDataset(os.path.join(data_root, 'test_soundscapes'))\n",
    "test_dataloader = DataLoader(\n",
    "    test_dataset,\n",
    "    batch_size=64,\n",
    "    shuffle=False,\n",
    "    num_workers=2,\n",
    "    drop_last=False,   \n",
    ")"
   ]
  },
  {
   "cell_type": "code",
   "execution_count": 17,
   "id": "aff2fb94",
   "metadata": {
    "execution": {
     "iopub.execute_input": "2022-04-23T13:06:52.766116Z",
     "iopub.status.busy": "2022-04-23T13:06:52.765604Z",
     "iopub.status.idle": "2022-04-23T13:06:54.020352Z",
     "shell.execute_reply": "2022-04-23T13:06:54.019494Z"
    },
    "papermill": {
     "duration": 1.275275,
     "end_time": "2022-04-23T13:06:54.022566",
     "exception": false,
     "start_time": "2022-04-23T13:06:52.747291",
     "status": "completed"
    },
    "tags": []
   },
   "outputs": [],
   "source": [
    "pred_list = []\n",
    "treshold = 0.5\n",
    "model.eval()\n",
    "with torch.no_grad():\n",
    "    for i, batch in enumerate(test_dataloader):\n",
    "        batch_size, part_count, part_size = batch.shape\n",
    "        batch = batch.reshape(batch_size * part_count, part_size)\n",
    "        pred = model(batch.to(device))['logits']\n",
    "        pred = pred.cpu().numpy()\n",
    "        pred = pred > treshold\n",
    "        \n",
    "        for j, chunk_pred in enumerate(pred):\n",
    "            inbatch_number = j // part_count\n",
    "            chunk_number = j % part_count + 1\n",
    "            f_idx = i * batch_size + inbatch_number\n",
    "            fname = test_dataset.fnames[f_idx]\n",
    "            prefix = fname.split('.')[0]\n",
    "            sufix = f'{5 * chunk_number}'\n",
    "            \n",
    "            pred_list.extend([{\n",
    "                'row_id': '_'.join([prefix, b, sufix]),\n",
    "                'target': chunk_pred[species2id[b]]\n",
    "            } for b in test_birds])\n",
    "pred_pd = pd.DataFrame(pred_list)"
   ]
  },
  {
   "cell_type": "code",
   "execution_count": 18,
   "id": "7f80a1c7",
   "metadata": {
    "execution": {
     "iopub.execute_input": "2022-04-23T13:06:54.060340Z",
     "iopub.status.busy": "2022-04-23T13:06:54.059682Z",
     "iopub.status.idle": "2022-04-23T13:06:54.069157Z",
     "shell.execute_reply": "2022-04-23T13:06:54.068228Z"
    },
    "papermill": {
     "duration": 0.031471,
     "end_time": "2022-04-23T13:06:54.071466",
     "exception": false,
     "start_time": "2022-04-23T13:06:54.039995",
     "status": "completed"
    },
    "tags": []
   },
   "outputs": [],
   "source": [
    "pred_pd.to_csv(\"submission.csv\", index=False)"
   ]
  },
  {
   "cell_type": "code",
   "execution_count": null,
   "id": "41c30b1f",
   "metadata": {
    "papermill": {
     "duration": 0.016627,
     "end_time": "2022-04-23T13:06:54.105297",
     "exception": false,
     "start_time": "2022-04-23T13:06:54.088670",
     "status": "completed"
    },
    "tags": []
   },
   "outputs": [],
   "source": []
  }
 ],
 "metadata": {
  "kernelspec": {
   "display_name": "Python 3",
   "language": "python",
   "name": "python3"
  },
  "language_info": {
   "codemirror_mode": {
    "name": "ipython",
    "version": 3
   },
   "file_extension": ".py",
   "mimetype": "text/x-python",
   "name": "python",
   "nbconvert_exporter": "python",
   "pygments_lexer": "ipython3",
   "version": "3.7.12"
  },
  "papermill": {
   "default_parameters": {},
   "duration": 30.659357,
   "end_time": "2022-04-23T13:06:57.630976",
   "environment_variables": {},
   "exception": null,
   "input_path": "__notebook__.ipynb",
   "output_path": "__notebook__.ipynb",
   "parameters": {},
   "start_time": "2022-04-23T13:06:26.971619",
   "version": "2.3.4"
  }
 },
 "nbformat": 4,
 "nbformat_minor": 5
}
